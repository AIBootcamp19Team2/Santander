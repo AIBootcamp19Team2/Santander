{
  "nbformat": 4,
  "nbformat_minor": 0,
  "metadata": {
    "colab": {
      "name": "AI19_2조.ipynb",
      "provenance": [],
      "collapsed_sections": [
        "O19BC8fjaHvq",
        "T_WoE0wsbrT7"
      ]
    },
    "kernelspec": {
      "name": "python3",
      "display_name": "Python 3"
    },
    "language_info": {
      "name": "python"
    }
  },
  "cells": [
    {
      "cell_type": "markdown",
      "source": [
        "# Santander Customer Satisfaction\n",
        "![image.png](data:image/png;base64,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)"
      ],
      "metadata": {
        "id": "04P1Bq9za_4r"
      }
    },
    {
      "cell_type": "markdown",
      "source": [
        "# 1. 파일 불러오기  & 기본 환경설정"
      ],
      "metadata": {
        "id": "mUH5joSHZeSq"
      }
    },
    {
      "cell_type": "code",
      "execution_count": null,
      "metadata": {
        "id": "5cKhH-s2ZdK_"
      },
      "outputs": [],
      "source": [
        "import numpy as np # 넘파이\n",
        "import pandas as pd # 판다스\n",
        "import sklearn #사이킷런\n",
        "import matplotlib.pyplot as plt #그래프1\n",
        "import seaborn as sns  # 그래프2\n",
        "from sklearn.ensemble import RandomForestClassifier # 모델1\n",
        "from sklearn.linear_model import LogisticRegression  # 모델2\n",
        "from sklearn.metrics import roc_auc_score #성능평가\n",
        "from sklearn.model_selection import train_test_split, cross_validate #데이터분리, 교차검증\n",
        "from sklearn.pipeline import Pipeline #파이프라인\n",
        "from sklearn.preprocessing import StandardScaler #스케일링"
      ]
    },
    {
      "cell_type": "code",
      "source": [
        "!pip install feature-engine # 특성 추출 모듈 "
      ],
      "metadata": {
        "colab": {
          "base_uri": "https://localhost:8080/"
        },
        "id": "xYVXGq4UacZR",
        "outputId": "066f1688-3ee5-4f2a-96b1-d4b9b8c721e3"
      },
      "execution_count": null,
      "outputs": [
        {
          "output_type": "stream",
          "name": "stdout",
          "text": [
            "Collecting feature-engine\n",
            "  Downloading feature_engine-1.2.0-py2.py3-none-any.whl (205 kB)\n",
            "\u001b[K     |████████████████████████████████| 205 kB 6.8 MB/s \n",
            "\u001b[?25hRequirement already satisfied: scikit-learn>=0.22.2 in /usr/local/lib/python3.7/dist-packages (from feature-engine) (1.0.2)\n",
            "Requirement already satisfied: pandas>=1.0.3 in /usr/local/lib/python3.7/dist-packages (from feature-engine) (1.3.5)\n",
            "Requirement already satisfied: numpy>=1.18.2 in /usr/local/lib/python3.7/dist-packages (from feature-engine) (1.21.6)\n",
            "Requirement already satisfied: scipy>=1.4.1 in /usr/local/lib/python3.7/dist-packages (from feature-engine) (1.4.1)\n",
            "Collecting statsmodels>=0.11.1\n",
            "  Downloading statsmodels-0.13.2-cp37-cp37m-manylinux_2_17_x86_64.manylinux2014_x86_64.whl (9.8 MB)\n",
            "\u001b[K     |████████████████████████████████| 9.8 MB 41.9 MB/s \n",
            "\u001b[?25hRequirement already satisfied: pytz>=2017.3 in /usr/local/lib/python3.7/dist-packages (from pandas>=1.0.3->feature-engine) (2022.1)\n",
            "Requirement already satisfied: python-dateutil>=2.7.3 in /usr/local/lib/python3.7/dist-packages (from pandas>=1.0.3->feature-engine) (2.8.2)\n",
            "Requirement already satisfied: six>=1.5 in /usr/local/lib/python3.7/dist-packages (from python-dateutil>=2.7.3->pandas>=1.0.3->feature-engine) (1.15.0)\n",
            "Requirement already satisfied: joblib>=0.11 in /usr/local/lib/python3.7/dist-packages (from scikit-learn>=0.22.2->feature-engine) (1.1.0)\n",
            "Requirement already satisfied: threadpoolctl>=2.0.0 in /usr/local/lib/python3.7/dist-packages (from scikit-learn>=0.22.2->feature-engine) (3.1.0)\n",
            "Requirement already satisfied: patsy>=0.5.2 in /usr/local/lib/python3.7/dist-packages (from statsmodels>=0.11.1->feature-engine) (0.5.2)\n",
            "Requirement already satisfied: packaging>=21.3 in /usr/local/lib/python3.7/dist-packages (from statsmodels>=0.11.1->feature-engine) (21.3)\n",
            "Requirement already satisfied: pyparsing!=3.0.5,>=2.0.2 in /usr/local/lib/python3.7/dist-packages (from packaging>=21.3->statsmodels>=0.11.1->feature-engine) (3.0.8)\n",
            "Installing collected packages: statsmodels, feature-engine\n",
            "  Attempting uninstall: statsmodels\n",
            "    Found existing installation: statsmodels 0.10.2\n",
            "    Uninstalling statsmodels-0.10.2:\n",
            "      Successfully uninstalled statsmodels-0.10.2\n",
            "Successfully installed feature-engine-1.2.0 statsmodels-0.13.2\n"
          ]
        }
      ]
    },
    {
      "cell_type": "code",
      "source": [
        "from feature_engine.selection import (\n",
        "    DropDuplicateFeatures,\n",
        "    DropConstantFeatures,\n",
        "    DropDuplicateFeatures,\n",
        "    DropCorrelatedFeatures,\n",
        "    SmartCorrelatedSelection,\n",
        "    SelectByShuffling,\n",
        "    SelectBySingleFeaturePerformance,\n",
        "    RecursiveFeatureElimination,\n",
        ")"
      ],
      "metadata": {
        "id": "bzO1x2ZSaf1d"
      },
      "execution_count": null,
      "outputs": []
    },
    {
      "cell_type": "code",
      "source": [
        ""
      ],
      "metadata": {
        "id": "-5p_OPDpajMM"
      },
      "execution_count": null,
      "outputs": []
    },
    {
      "cell_type": "code",
      "source": [
        "train_df = pd.read_csv('/content/drive/MyDrive/DATA/Santander Customer Satisfaction_train.csv')\n",
        "test_df = pd.read_csv('/content/drive/MyDrive/DATA/Santander Customer Satisfaction_test.csv') "
      ],
      "metadata": {
        "id": "mUztuurTTB__"
      },
      "execution_count": null,
      "outputs": []
    },
    {
      "cell_type": "markdown",
      "source": [
        ""
      ],
      "metadata": {
        "id": "khrPjdY_lBDJ"
      }
    },
    {
      "cell_type": "markdown",
      "source": [
        "# 2. 데이터 훑어보기\n",
        "- 76020개의 자료와 370개의 특성(TARGET 제외)\n",
        "- 컬럼명으로는 알 수 없는 특성들(은행자료로 암호화)"
      ],
      "metadata": {
        "id": "0-FRKi8DaYbc"
      }
    },
    {
      "cell_type": "code",
      "source": [
        "train_df.shape, test_df.shape"
      ],
      "metadata": {
        "colab": {
          "base_uri": "https://localhost:8080/"
        },
        "id": "KbDvS8TkUoaE",
        "outputId": "37f8679d-6292-4d99-899b-c994358097b9"
      },
      "execution_count": null,
      "outputs": [
        {
          "output_type": "execute_result",
          "data": {
            "text/plain": [
              "((76020, 370), (75818, 369))"
            ]
          },
          "metadata": {},
          "execution_count": 62
        }
      ]
    },
    {
      "cell_type": "code",
      "source": [
        "train_df"
      ],
      "metadata": {
        "colab": {
          "base_uri": "https://localhost:8080/",
          "height": 487
        },
        "id": "F6L0T9oNaaUT",
        "outputId": "67fb4703-c203-4fe5-effc-432d3962d425"
      },
      "execution_count": null,
      "outputs": [
        {
          "output_type": "execute_result",
          "data": {
            "text/plain": [
              "       var3  var15  imp_ent_var16_ult1  imp_op_var39_comer_ult1  \\\n",
              "0         2     23                 0.0                      0.0   \n",
              "1         2     34                 0.0                      0.0   \n",
              "2         2     23                 0.0                      0.0   \n",
              "3         2     37                 0.0                    195.0   \n",
              "4         2     39                 0.0                      0.0   \n",
              "...     ...    ...                 ...                      ...   \n",
              "76015     2     48                 0.0                      0.0   \n",
              "76016     2     39                 0.0                      0.0   \n",
              "76017     2     23                 0.0                      0.0   \n",
              "76018     2     25                 0.0                      0.0   \n",
              "76019     2     46                 0.0                      0.0   \n",
              "\n",
              "       imp_op_var39_comer_ult3  imp_op_var40_comer_ult1  \\\n",
              "0                          0.0                      0.0   \n",
              "1                          0.0                      0.0   \n",
              "2                          0.0                      0.0   \n",
              "3                        195.0                      0.0   \n",
              "4                          0.0                      0.0   \n",
              "...                        ...                      ...   \n",
              "76015                      0.0                      0.0   \n",
              "76016                      0.0                      0.0   \n",
              "76017                      0.0                      0.0   \n",
              "76018                      0.0                      0.0   \n",
              "76019                      0.0                      0.0   \n",
              "\n",
              "       imp_op_var40_comer_ult3  imp_op_var40_efect_ult1  \\\n",
              "0                          0.0                      0.0   \n",
              "1                          0.0                      0.0   \n",
              "2                          0.0                      0.0   \n",
              "3                          0.0                      0.0   \n",
              "4                          0.0                      0.0   \n",
              "...                        ...                      ...   \n",
              "76015                      0.0                      0.0   \n",
              "76016                      0.0                      0.0   \n",
              "76017                      0.0                      0.0   \n",
              "76018                      0.0                      0.0   \n",
              "76019                      0.0                      0.0   \n",
              "\n",
              "       imp_op_var40_efect_ult3  imp_op_var40_ult1  ...  \\\n",
              "0                          0.0                0.0  ...   \n",
              "1                          0.0                0.0  ...   \n",
              "2                          0.0                0.0  ...   \n",
              "3                          0.0                0.0  ...   \n",
              "4                          0.0                0.0  ...   \n",
              "...                        ...                ...  ...   \n",
              "76015                      0.0                0.0  ...   \n",
              "76016                      0.0                0.0  ...   \n",
              "76017                      0.0                0.0  ...   \n",
              "76018                      0.0                0.0  ...   \n",
              "76019                      0.0                0.0  ...   \n",
              "\n",
              "       saldo_medio_var33_hace2  saldo_medio_var33_hace3  \\\n",
              "0                          0.0                      0.0   \n",
              "1                          0.0                      0.0   \n",
              "2                          0.0                      0.0   \n",
              "3                          0.0                      0.0   \n",
              "4                          0.0                      0.0   \n",
              "...                        ...                      ...   \n",
              "76015                      0.0                      0.0   \n",
              "76016                      0.0                      0.0   \n",
              "76017                      0.0                      0.0   \n",
              "76018                      0.0                      0.0   \n",
              "76019                      0.0                      0.0   \n",
              "\n",
              "       saldo_medio_var33_ult1  saldo_medio_var33_ult3  \\\n",
              "0                         0.0                     0.0   \n",
              "1                         0.0                     0.0   \n",
              "2                         0.0                     0.0   \n",
              "3                         0.0                     0.0   \n",
              "4                         0.0                     0.0   \n",
              "...                       ...                     ...   \n",
              "76015                     0.0                     0.0   \n",
              "76016                     0.0                     0.0   \n",
              "76017                     0.0                     0.0   \n",
              "76018                     0.0                     0.0   \n",
              "76019                     0.0                     0.0   \n",
              "\n",
              "       saldo_medio_var44_hace2  saldo_medio_var44_hace3  \\\n",
              "0                          0.0                      0.0   \n",
              "1                          0.0                      0.0   \n",
              "2                          0.0                      0.0   \n",
              "3                          0.0                      0.0   \n",
              "4                          0.0                      0.0   \n",
              "...                        ...                      ...   \n",
              "76015                      0.0                      0.0   \n",
              "76016                      0.0                      0.0   \n",
              "76017                      0.0                      0.0   \n",
              "76018                      0.0                      0.0   \n",
              "76019                      0.0                      0.0   \n",
              "\n",
              "       saldo_medio_var44_ult1  saldo_medio_var44_ult3          var38  TARGET  \n",
              "0                         0.0                     0.0   39205.170000       0  \n",
              "1                         0.0                     0.0   49278.030000       0  \n",
              "2                         0.0                     0.0   67333.770000       0  \n",
              "3                         0.0                     0.0   64007.970000       0  \n",
              "4                         0.0                     0.0  117310.979016       0  \n",
              "...                       ...                     ...            ...     ...  \n",
              "76015                     0.0                     0.0   60926.490000       0  \n",
              "76016                     0.0                     0.0  118634.520000       0  \n",
              "76017                     0.0                     0.0   74028.150000       0  \n",
              "76018                     0.0                     0.0   84278.160000       0  \n",
              "76019                     0.0                     0.0  117310.979016       0  \n",
              "\n",
              "[76020 rows x 370 columns]"
            ],
            "text/html": [
              "\n",
              "  <div id=\"df-813fc135-7cf6-4903-937b-bca9a99e4e3b\">\n",
              "    <div class=\"colab-df-container\">\n",
              "      <div>\n",
              "<style scoped>\n",
              "    .dataframe tbody tr th:only-of-type {\n",
              "        vertical-align: middle;\n",
              "    }\n",
              "\n",
              "    .dataframe tbody tr th {\n",
              "        vertical-align: top;\n",
              "    }\n",
              "\n",
              "    .dataframe thead th {\n",
              "        text-align: right;\n",
              "    }\n",
              "</style>\n",
              "<table border=\"1\" class=\"dataframe\">\n",
              "  <thead>\n",
              "    <tr style=\"text-align: right;\">\n",
              "      <th></th>\n",
              "      <th>var3</th>\n",
              "      <th>var15</th>\n",
              "      <th>imp_ent_var16_ult1</th>\n",
              "      <th>imp_op_var39_comer_ult1</th>\n",
              "      <th>imp_op_var39_comer_ult3</th>\n",
              "      <th>imp_op_var40_comer_ult1</th>\n",
              "      <th>imp_op_var40_comer_ult3</th>\n",
              "      <th>imp_op_var40_efect_ult1</th>\n",
              "      <th>imp_op_var40_efect_ult3</th>\n",
              "      <th>imp_op_var40_ult1</th>\n",
              "      <th>...</th>\n",
              "      <th>saldo_medio_var33_hace2</th>\n",
              "      <th>saldo_medio_var33_hace3</th>\n",
              "      <th>saldo_medio_var33_ult1</th>\n",
              "      <th>saldo_medio_var33_ult3</th>\n",
              "      <th>saldo_medio_var44_hace2</th>\n",
              "      <th>saldo_medio_var44_hace3</th>\n",
              "      <th>saldo_medio_var44_ult1</th>\n",
              "      <th>saldo_medio_var44_ult3</th>\n",
              "      <th>var38</th>\n",
              "      <th>TARGET</th>\n",
              "    </tr>\n",
              "  </thead>\n",
              "  <tbody>\n",
              "    <tr>\n",
              "      <th>0</th>\n",
              "      <td>2</td>\n",
              "      <td>23</td>\n",
              "      <td>0.0</td>\n",
              "      <td>0.0</td>\n",
              "      <td>0.0</td>\n",
              "      <td>0.0</td>\n",
              "      <td>0.0</td>\n",
              "      <td>0.0</td>\n",
              "      <td>0.0</td>\n",
              "      <td>0.0</td>\n",
              "      <td>...</td>\n",
              "      <td>0.0</td>\n",
              "      <td>0.0</td>\n",
              "      <td>0.0</td>\n",
              "      <td>0.0</td>\n",
              "      <td>0.0</td>\n",
              "      <td>0.0</td>\n",
              "      <td>0.0</td>\n",
              "      <td>0.0</td>\n",
              "      <td>39205.170000</td>\n",
              "      <td>0</td>\n",
              "    </tr>\n",
              "    <tr>\n",
              "      <th>1</th>\n",
              "      <td>2</td>\n",
              "      <td>34</td>\n",
              "      <td>0.0</td>\n",
              "      <td>0.0</td>\n",
              "      <td>0.0</td>\n",
              "      <td>0.0</td>\n",
              "      <td>0.0</td>\n",
              "      <td>0.0</td>\n",
              "      <td>0.0</td>\n",
              "      <td>0.0</td>\n",
              "      <td>...</td>\n",
              "      <td>0.0</td>\n",
              "      <td>0.0</td>\n",
              "      <td>0.0</td>\n",
              "      <td>0.0</td>\n",
              "      <td>0.0</td>\n",
              "      <td>0.0</td>\n",
              "      <td>0.0</td>\n",
              "      <td>0.0</td>\n",
              "      <td>49278.030000</td>\n",
              "      <td>0</td>\n",
              "    </tr>\n",
              "    <tr>\n",
              "      <th>2</th>\n",
              "      <td>2</td>\n",
              "      <td>23</td>\n",
              "      <td>0.0</td>\n",
              "      <td>0.0</td>\n",
              "      <td>0.0</td>\n",
              "      <td>0.0</td>\n",
              "      <td>0.0</td>\n",
              "      <td>0.0</td>\n",
              "      <td>0.0</td>\n",
              "      <td>0.0</td>\n",
              "      <td>...</td>\n",
              "      <td>0.0</td>\n",
              "      <td>0.0</td>\n",
              "      <td>0.0</td>\n",
              "      <td>0.0</td>\n",
              "      <td>0.0</td>\n",
              "      <td>0.0</td>\n",
              "      <td>0.0</td>\n",
              "      <td>0.0</td>\n",
              "      <td>67333.770000</td>\n",
              "      <td>0</td>\n",
              "    </tr>\n",
              "    <tr>\n",
              "      <th>3</th>\n",
              "      <td>2</td>\n",
              "      <td>37</td>\n",
              "      <td>0.0</td>\n",
              "      <td>195.0</td>\n",
              "      <td>195.0</td>\n",
              "      <td>0.0</td>\n",
              "      <td>0.0</td>\n",
              "      <td>0.0</td>\n",
              "      <td>0.0</td>\n",
              "      <td>0.0</td>\n",
              "      <td>...</td>\n",
              "      <td>0.0</td>\n",
              "      <td>0.0</td>\n",
              "      <td>0.0</td>\n",
              "      <td>0.0</td>\n",
              "      <td>0.0</td>\n",
              "      <td>0.0</td>\n",
              "      <td>0.0</td>\n",
              "      <td>0.0</td>\n",
              "      <td>64007.970000</td>\n",
              "      <td>0</td>\n",
              "    </tr>\n",
              "    <tr>\n",
              "      <th>4</th>\n",
              "      <td>2</td>\n",
              "      <td>39</td>\n",
              "      <td>0.0</td>\n",
              "      <td>0.0</td>\n",
              "      <td>0.0</td>\n",
              "      <td>0.0</td>\n",
              "      <td>0.0</td>\n",
              "      <td>0.0</td>\n",
              "      <td>0.0</td>\n",
              "      <td>0.0</td>\n",
              "      <td>...</td>\n",
              "      <td>0.0</td>\n",
              "      <td>0.0</td>\n",
              "      <td>0.0</td>\n",
              "      <td>0.0</td>\n",
              "      <td>0.0</td>\n",
              "      <td>0.0</td>\n",
              "      <td>0.0</td>\n",
              "      <td>0.0</td>\n",
              "      <td>117310.979016</td>\n",
              "      <td>0</td>\n",
              "    </tr>\n",
              "    <tr>\n",
              "      <th>...</th>\n",
              "      <td>...</td>\n",
              "      <td>...</td>\n",
              "      <td>...</td>\n",
              "      <td>...</td>\n",
              "      <td>...</td>\n",
              "      <td>...</td>\n",
              "      <td>...</td>\n",
              "      <td>...</td>\n",
              "      <td>...</td>\n",
              "      <td>...</td>\n",
              "      <td>...</td>\n",
              "      <td>...</td>\n",
              "      <td>...</td>\n",
              "      <td>...</td>\n",
              "      <td>...</td>\n",
              "      <td>...</td>\n",
              "      <td>...</td>\n",
              "      <td>...</td>\n",
              "      <td>...</td>\n",
              "      <td>...</td>\n",
              "      <td>...</td>\n",
              "    </tr>\n",
              "    <tr>\n",
              "      <th>76015</th>\n",
              "      <td>2</td>\n",
              "      <td>48</td>\n",
              "      <td>0.0</td>\n",
              "      <td>0.0</td>\n",
              "      <td>0.0</td>\n",
              "      <td>0.0</td>\n",
              "      <td>0.0</td>\n",
              "      <td>0.0</td>\n",
              "      <td>0.0</td>\n",
              "      <td>0.0</td>\n",
              "      <td>...</td>\n",
              "      <td>0.0</td>\n",
              "      <td>0.0</td>\n",
              "      <td>0.0</td>\n",
              "      <td>0.0</td>\n",
              "      <td>0.0</td>\n",
              "      <td>0.0</td>\n",
              "      <td>0.0</td>\n",
              "      <td>0.0</td>\n",
              "      <td>60926.490000</td>\n",
              "      <td>0</td>\n",
              "    </tr>\n",
              "    <tr>\n",
              "      <th>76016</th>\n",
              "      <td>2</td>\n",
              "      <td>39</td>\n",
              "      <td>0.0</td>\n",
              "      <td>0.0</td>\n",
              "      <td>0.0</td>\n",
              "      <td>0.0</td>\n",
              "      <td>0.0</td>\n",
              "      <td>0.0</td>\n",
              "      <td>0.0</td>\n",
              "      <td>0.0</td>\n",
              "      <td>...</td>\n",
              "      <td>0.0</td>\n",
              "      <td>0.0</td>\n",
              "      <td>0.0</td>\n",
              "      <td>0.0</td>\n",
              "      <td>0.0</td>\n",
              "      <td>0.0</td>\n",
              "      <td>0.0</td>\n",
              "      <td>0.0</td>\n",
              "      <td>118634.520000</td>\n",
              "      <td>0</td>\n",
              "    </tr>\n",
              "    <tr>\n",
              "      <th>76017</th>\n",
              "      <td>2</td>\n",
              "      <td>23</td>\n",
              "      <td>0.0</td>\n",
              "      <td>0.0</td>\n",
              "      <td>0.0</td>\n",
              "      <td>0.0</td>\n",
              "      <td>0.0</td>\n",
              "      <td>0.0</td>\n",
              "      <td>0.0</td>\n",
              "      <td>0.0</td>\n",
              "      <td>...</td>\n",
              "      <td>0.0</td>\n",
              "      <td>0.0</td>\n",
              "      <td>0.0</td>\n",
              "      <td>0.0</td>\n",
              "      <td>0.0</td>\n",
              "      <td>0.0</td>\n",
              "      <td>0.0</td>\n",
              "      <td>0.0</td>\n",
              "      <td>74028.150000</td>\n",
              "      <td>0</td>\n",
              "    </tr>\n",
              "    <tr>\n",
              "      <th>76018</th>\n",
              "      <td>2</td>\n",
              "      <td>25</td>\n",
              "      <td>0.0</td>\n",
              "      <td>0.0</td>\n",
              "      <td>0.0</td>\n",
              "      <td>0.0</td>\n",
              "      <td>0.0</td>\n",
              "      <td>0.0</td>\n",
              "      <td>0.0</td>\n",
              "      <td>0.0</td>\n",
              "      <td>...</td>\n",
              "      <td>0.0</td>\n",
              "      <td>0.0</td>\n",
              "      <td>0.0</td>\n",
              "      <td>0.0</td>\n",
              "      <td>0.0</td>\n",
              "      <td>0.0</td>\n",
              "      <td>0.0</td>\n",
              "      <td>0.0</td>\n",
              "      <td>84278.160000</td>\n",
              "      <td>0</td>\n",
              "    </tr>\n",
              "    <tr>\n",
              "      <th>76019</th>\n",
              "      <td>2</td>\n",
              "      <td>46</td>\n",
              "      <td>0.0</td>\n",
              "      <td>0.0</td>\n",
              "      <td>0.0</td>\n",
              "      <td>0.0</td>\n",
              "      <td>0.0</td>\n",
              "      <td>0.0</td>\n",
              "      <td>0.0</td>\n",
              "      <td>0.0</td>\n",
              "      <td>...</td>\n",
              "      <td>0.0</td>\n",
              "      <td>0.0</td>\n",
              "      <td>0.0</td>\n",
              "      <td>0.0</td>\n",
              "      <td>0.0</td>\n",
              "      <td>0.0</td>\n",
              "      <td>0.0</td>\n",
              "      <td>0.0</td>\n",
              "      <td>117310.979016</td>\n",
              "      <td>0</td>\n",
              "    </tr>\n",
              "  </tbody>\n",
              "</table>\n",
              "<p>76020 rows × 370 columns</p>\n",
              "</div>\n",
              "      <button class=\"colab-df-convert\" onclick=\"convertToInteractive('df-813fc135-7cf6-4903-937b-bca9a99e4e3b')\"\n",
              "              title=\"Convert this dataframe to an interactive table.\"\n",
              "              style=\"display:none;\">\n",
              "        \n",
              "  <svg xmlns=\"http://www.w3.org/2000/svg\" height=\"24px\"viewBox=\"0 0 24 24\"\n",
              "       width=\"24px\">\n",
              "    <path d=\"M0 0h24v24H0V0z\" fill=\"none\"/>\n",
              "    <path d=\"M18.56 5.44l.94 2.06.94-2.06 2.06-.94-2.06-.94-.94-2.06-.94 2.06-2.06.94zm-11 1L8.5 8.5l.94-2.06 2.06-.94-2.06-.94L8.5 2.5l-.94 2.06-2.06.94zm10 10l.94 2.06.94-2.06 2.06-.94-2.06-.94-.94-2.06-.94 2.06-2.06.94z\"/><path d=\"M17.41 7.96l-1.37-1.37c-.4-.4-.92-.59-1.43-.59-.52 0-1.04.2-1.43.59L10.3 9.45l-7.72 7.72c-.78.78-.78 2.05 0 2.83L4 21.41c.39.39.9.59 1.41.59.51 0 1.02-.2 1.41-.59l7.78-7.78 2.81-2.81c.8-.78.8-2.07 0-2.86zM5.41 20L4 18.59l7.72-7.72 1.47 1.35L5.41 20z\"/>\n",
              "  </svg>\n",
              "      </button>\n",
              "      \n",
              "  <style>\n",
              "    .colab-df-container {\n",
              "      display:flex;\n",
              "      flex-wrap:wrap;\n",
              "      gap: 12px;\n",
              "    }\n",
              "\n",
              "    .colab-df-convert {\n",
              "      background-color: #E8F0FE;\n",
              "      border: none;\n",
              "      border-radius: 50%;\n",
              "      cursor: pointer;\n",
              "      display: none;\n",
              "      fill: #1967D2;\n",
              "      height: 32px;\n",
              "      padding: 0 0 0 0;\n",
              "      width: 32px;\n",
              "    }\n",
              "\n",
              "    .colab-df-convert:hover {\n",
              "      background-color: #E2EBFA;\n",
              "      box-shadow: 0px 1px 2px rgba(60, 64, 67, 0.3), 0px 1px 3px 1px rgba(60, 64, 67, 0.15);\n",
              "      fill: #174EA6;\n",
              "    }\n",
              "\n",
              "    [theme=dark] .colab-df-convert {\n",
              "      background-color: #3B4455;\n",
              "      fill: #D2E3FC;\n",
              "    }\n",
              "\n",
              "    [theme=dark] .colab-df-convert:hover {\n",
              "      background-color: #434B5C;\n",
              "      box-shadow: 0px 1px 3px 1px rgba(0, 0, 0, 0.15);\n",
              "      filter: drop-shadow(0px 1px 2px rgba(0, 0, 0, 0.3));\n",
              "      fill: #FFFFFF;\n",
              "    }\n",
              "  </style>\n",
              "\n",
              "      <script>\n",
              "        const buttonEl =\n",
              "          document.querySelector('#df-813fc135-7cf6-4903-937b-bca9a99e4e3b button.colab-df-convert');\n",
              "        buttonEl.style.display =\n",
              "          google.colab.kernel.accessAllowed ? 'block' : 'none';\n",
              "\n",
              "        async function convertToInteractive(key) {\n",
              "          const element = document.querySelector('#df-813fc135-7cf6-4903-937b-bca9a99e4e3b');\n",
              "          const dataTable =\n",
              "            await google.colab.kernel.invokeFunction('convertToInteractive',\n",
              "                                                     [key], {});\n",
              "          if (!dataTable) return;\n",
              "\n",
              "          const docLinkHtml = 'Like what you see? Visit the ' +\n",
              "            '<a target=\"_blank\" href=https://colab.research.google.com/notebooks/data_table.ipynb>data table notebook</a>'\n",
              "            + ' to learn more about interactive tables.';\n",
              "          element.innerHTML = '';\n",
              "          dataTable['output_type'] = 'display_data';\n",
              "          await google.colab.output.renderOutput(dataTable, element);\n",
              "          const docLink = document.createElement('div');\n",
              "          docLink.innerHTML = docLinkHtml;\n",
              "          element.appendChild(docLink);\n",
              "        }\n",
              "      </script>\n",
              "    </div>\n",
              "  </div>\n",
              "  "
            ]
          },
          "metadata": {},
          "execution_count": 11
        }
      ]
    },
    {
      "cell_type": "code",
      "source": [
        "train_df.isnull().sum().sum()"
      ],
      "metadata": {
        "id": "nfYWxaBLjzlj"
      },
      "execution_count": null,
      "outputs": []
    },
    {
      "cell_type": "code",
      "source": [
        "print(train_df['TARGET'].value_counts())"
      ],
      "metadata": {
        "id": "yIpKcwNtkinx"
      },
      "execution_count": null,
      "outputs": []
    },
    {
      "cell_type": "code",
      "source": [
        "zero= train_df['TARGET'].value_counts()[0]\n",
        "one= train_df['TARGET'].value_counts()[1]\n",
        "my_labels=[0,1]\n",
        "plt.rcParams[\"figure.figsize\"] = (8,8)\n",
        "\n",
        "plt.pie([zero,one], labels= my_labels, autopct='%1.3f%%')\n",
        "plt.show()\n",
        "\n",
        "print(\"Number of Positive data points are: {}  ({:.3f}{})\".format(one, one/(one+zero)*100, \"%\"))\n",
        "print(\"Number of Negative data points are: {} ({:.3f}{})\".format(zero, zero/(one+zero)*100, \"%\"))"
      ],
      "metadata": {
        "colab": {
          "base_uri": "https://localhost:8080/",
          "height": 502
        },
        "id": "PrXoqCwxPMU7",
        "outputId": "77336f6b-4734-449f-c70f-9c8092ad8c54"
      },
      "execution_count": null,
      "outputs": [
        {
          "output_type": "display_data",
          "data": {
            "text/plain": [
              "<Figure size 576x576 with 1 Axes>"
            ],
            "image/png": "[encoded data removed]"
          },
          "metadata": {}
        },
        {
          "output_type": "stream",
          "name": "stdout",
          "text": [
            "Number of Positive data points are: 3008  (3.957%)\n",
            "Number of Negative data points are: 73012 (96.043%)\n"
          ]
        }
      ]
    },
    {
      "cell_type": "markdown",
      "source": [
        "# 3. 베이스라인 모델"
      ],
      "metadata": {
        "id": "FFWhDaQHq_Z-"
      }
    },
    {
      "cell_type": "code",
      "source": [
        "import pandas as pd\n",
        "train = pd.read_csv('train.csv')"
      ],
      "metadata": {
        "id": "LwKCSvNTv-PQ"
      },
      "execution_count": null,
      "outputs": []
    },
    {
      "cell_type": "code",
      "source": [
        "train.describe()"
      ],
      "metadata": {
        "id": "w2ECh5lzlSlY",
        "colab": {
          "base_uri": "https://localhost:8080/",
          "height": 394
        },
        "outputId": "bff352b8-3d8c-44d5-ffac-238857f36443"
      },
      "execution_count": null,
      "outputs": [
        {
          "output_type": "execute_result",
          "data": {
            "text/plain": [
              "                  ID           var3         var15  imp_ent_var16_ult1  \\\n",
              "count   76020.000000   76020.000000  76020.000000        76020.000000   \n",
              "mean    75964.050723   -1523.199277     33.212865           86.208265   \n",
              "std     43781.947379   39033.462364     12.956486         1614.757313   \n",
              "min         1.000000 -999999.000000      5.000000            0.000000   \n",
              "25%     38104.750000       2.000000     23.000000            0.000000   \n",
              "50%     76043.000000       2.000000     28.000000            0.000000   \n",
              "75%    113748.750000       2.000000     40.000000            0.000000   \n",
              "max    151838.000000     238.000000    105.000000       210000.000000   \n",
              "\n",
              "       imp_op_var39_comer_ult1  imp_op_var39_comer_ult3  \\\n",
              "count             76020.000000             76020.000000   \n",
              "mean                 72.363067               119.529632   \n",
              "std                 339.315831               546.266294   \n",
              "min                   0.000000                 0.000000   \n",
              "25%                   0.000000                 0.000000   \n",
              "50%                   0.000000                 0.000000   \n",
              "75%                   0.000000                 0.000000   \n",
              "max               12888.030000             21024.810000   \n",
              "\n",
              "       imp_op_var40_comer_ult1  imp_op_var40_comer_ult3  \\\n",
              "count             76020.000000             76020.000000   \n",
              "mean                  3.559130                 6.472698   \n",
              "std                  93.155749               153.737066   \n",
              "min                   0.000000                 0.000000   \n",
              "25%                   0.000000                 0.000000   \n",
              "50%                   0.000000                 0.000000   \n",
              "75%                   0.000000                 0.000000   \n",
              "max                8237.820000             11073.570000   \n",
              "\n",
              "       imp_op_var40_efect_ult1  imp_op_var40_efect_ult3  ...  \\\n",
              "count             76020.000000             76020.000000  ...   \n",
              "mean                  0.412946                 0.567352  ...   \n",
              "std                  30.604864                36.513513  ...   \n",
              "min                   0.000000                 0.000000  ...   \n",
              "25%                   0.000000                 0.000000  ...   \n",
              "50%                   0.000000                 0.000000  ...   \n",
              "75%                   0.000000                 0.000000  ...   \n",
              "max                6600.000000              6600.000000  ...   \n",
              "\n",
              "       saldo_medio_var33_hace2  saldo_medio_var33_hace3  \\\n",
              "count             76020.000000             76020.000000   \n",
              "mean                  7.935824                 1.365146   \n",
              "std                 455.887218               113.959637   \n",
              "min                   0.000000                 0.000000   \n",
              "25%                   0.000000                 0.000000   \n",
              "50%                   0.000000                 0.000000   \n",
              "75%                   0.000000                 0.000000   \n",
              "max               50003.880000             20385.720000   \n",
              "\n",
              "       saldo_medio_var33_ult1  saldo_medio_var33_ult3  \\\n",
              "count            76020.000000            76020.000000   \n",
              "mean                12.215580                8.784074   \n",
              "std                783.207399              538.439211   \n",
              "min                  0.000000                0.000000   \n",
              "25%                  0.000000                0.000000   \n",
              "50%                  0.000000                0.000000   \n",
              "75%                  0.000000                0.000000   \n",
              "max             138831.630000            91778.730000   \n",
              "\n",
              "       saldo_medio_var44_hace2  saldo_medio_var44_hace3  \\\n",
              "count             76020.000000             76020.000000   \n",
              "mean                 31.505324                 1.858575   \n",
              "std                2013.125393               147.786584   \n",
              "min                   0.000000                 0.000000   \n",
              "25%                   0.000000                 0.000000   \n",
              "50%                   0.000000                 0.000000   \n",
              "75%                   0.000000                 0.000000   \n",
              "max              438329.220000             24650.010000   \n",
              "\n",
              "       saldo_medio_var44_ult1  saldo_medio_var44_ult3         var38  \\\n",
              "count            76020.000000            76020.000000  7.602000e+04   \n",
              "mean                76.026165               56.614351  1.172358e+05   \n",
              "std               4040.337842             2852.579397  1.826646e+05   \n",
              "min                  0.000000                0.000000  5.163750e+03   \n",
              "25%                  0.000000                0.000000  6.787061e+04   \n",
              "50%                  0.000000                0.000000  1.064092e+05   \n",
              "75%                  0.000000                0.000000  1.187563e+05   \n",
              "max             681462.900000           397884.300000  2.203474e+07   \n",
              "\n",
              "             TARGET  \n",
              "count  76020.000000  \n",
              "mean       0.039569  \n",
              "std        0.194945  \n",
              "min        0.000000  \n",
              "25%        0.000000  \n",
              "50%        0.000000  \n",
              "75%        0.000000  \n",
              "max        1.000000  \n",
              "\n",
              "[8 rows x 371 columns]"
            ],
            "text/html": [
              "\n",
              "  <div id=\"df-b5eef4ac-eb0a-4b31-bff6-674f27e89d5b\">\n",
              "    <div class=\"colab-df-container\">\n",
              "      <div>\n",
              "<style scoped>\n",
              "    .dataframe tbody tr th:only-of-type {\n",
              "        vertical-align: middle;\n",
              "    }\n",
              "\n",
              "    .dataframe tbody tr th {\n",
              "        vertical-align: top;\n",
              "    }\n",
              "\n",
              "    .dataframe thead th {\n",
              "        text-align: right;\n",
              "    }\n",
              "</style>\n",
              "<table border=\"1\" class=\"dataframe\">\n",
              "  <thead>\n",
              "    <tr style=\"text-align: right;\">\n",
              "      <th></th>\n",
              "      <th>ID</th>\n",
              "      <th>var3</th>\n",
              "      <th>var15</th>\n",
              "      <th>imp_ent_var16_ult1</th>\n",
              "      <th>imp_op_var39_comer_ult1</th>\n",
              "      <th>imp_op_var39_comer_ult3</th>\n",
              "      <th>imp_op_var40_comer_ult1</th>\n",
              "      <th>imp_op_var40_comer_ult3</th>\n",
              "      <th>imp_op_var40_efect_ult1</th>\n",
              "      <th>imp_op_var40_efect_ult3</th>\n",
              "      <th>...</th>\n",
              "      <th>saldo_medio_var33_hace2</th>\n",
              "      <th>saldo_medio_var33_hace3</th>\n",
              "      <th>saldo_medio_var33_ult1</th>\n",
              "      <th>saldo_medio_var33_ult3</th>\n",
              "      <th>saldo_medio_var44_hace2</th>\n",
              "      <th>saldo_medio_var44_hace3</th>\n",
              "      <th>saldo_medio_var44_ult1</th>\n",
              "      <th>saldo_medio_var44_ult3</th>\n",
              "      <th>var38</th>\n",
              "      <th>TARGET</th>\n",
              "    </tr>\n",
              "  </thead>\n",
              "  <tbody>\n",
              "    <tr>\n",
              "      <th>count</th>\n",
              "      <td>76020.000000</td>\n",
              "      <td>76020.000000</td>\n",
              "      <td>76020.000000</td>\n",
              "      <td>76020.000000</td>\n",
              "      <td>76020.000000</td>\n",
              "      <td>76020.000000</td>\n",
              "      <td>76020.000000</td>\n",
              "      <td>76020.000000</td>\n",
              "      <td>76020.000000</td>\n",
              "      <td>76020.000000</td>\n",
              "      <td>...</td>\n",
              "      <td>76020.000000</td>\n",
              "      <td>76020.000000</td>\n",
              "      <td>76020.000000</td>\n",
              "      <td>76020.000000</td>\n",
              "      <td>76020.000000</td>\n",
              "      <td>76020.000000</td>\n",
              "      <td>76020.000000</td>\n",
              "      <td>76020.000000</td>\n",
              "      <td>7.602000e+04</td>\n",
              "      <td>76020.000000</td>\n",
              "    </tr>\n",
              "    <tr>\n",
              "      <th>mean</th>\n",
              "      <td>75964.050723</td>\n",
              "      <td>-1523.199277</td>\n",
              "      <td>33.212865</td>\n",
              "      <td>86.208265</td>\n",
              "      <td>72.363067</td>\n",
              "      <td>119.529632</td>\n",
              "      <td>3.559130</td>\n",
              "      <td>6.472698</td>\n",
              "      <td>0.412946</td>\n",
              "      <td>0.567352</td>\n",
              "      <td>...</td>\n",
              "      <td>7.935824</td>\n",
              "      <td>1.365146</td>\n",
              "      <td>12.215580</td>\n",
              "      <td>8.784074</td>\n",
              "      <td>31.505324</td>\n",
              "      <td>1.858575</td>\n",
              "      <td>76.026165</td>\n",
              "      <td>56.614351</td>\n",
              "      <td>1.172358e+05</td>\n",
              "      <td>0.039569</td>\n",
              "    </tr>\n",
              "    <tr>\n",
              "      <th>std</th>\n",
              "      <td>43781.947379</td>\n",
              "      <td>39033.462364</td>\n",
              "      <td>12.956486</td>\n",
              "      <td>1614.757313</td>\n",
              "      <td>339.315831</td>\n",
              "      <td>546.266294</td>\n",
              "      <td>93.155749</td>\n",
              "      <td>153.737066</td>\n",
              "      <td>30.604864</td>\n",
              "      <td>36.513513</td>\n",
              "      <td>...</td>\n",
              "      <td>455.887218</td>\n",
              "      <td>113.959637</td>\n",
              "      <td>783.207399</td>\n",
              "      <td>538.439211</td>\n",
              "      <td>2013.125393</td>\n",
              "      <td>147.786584</td>\n",
              "      <td>4040.337842</td>\n",
              "      <td>2852.579397</td>\n",
              "      <td>1.826646e+05</td>\n",
              "      <td>0.194945</td>\n",
              "    </tr>\n",
              "    <tr>\n",
              "      <th>min</th>\n",
              "      <td>1.000000</td>\n",
              "      <td>-999999.000000</td>\n",
              "      <td>5.000000</td>\n",
              "      <td>0.000000</td>\n",
              "      <td>0.000000</td>\n",
              "      <td>0.000000</td>\n",
              "      <td>0.000000</td>\n",
              "      <td>0.000000</td>\n",
              "      <td>0.000000</td>\n",
              "      <td>0.000000</td>\n",
              "      <td>...</td>\n",
              "      <td>0.000000</td>\n",
              "      <td>0.000000</td>\n",
              "      <td>0.000000</td>\n",
              "      <td>0.000000</td>\n",
              "      <td>0.000000</td>\n",
              "      <td>0.000000</td>\n",
              "      <td>0.000000</td>\n",
              "      <td>0.000000</td>\n",
              "      <td>5.163750e+03</td>\n",
              "      <td>0.000000</td>\n",
              "    </tr>\n",
              "    <tr>\n",
              "      <th>25%</th>\n",
              "      <td>38104.750000</td>\n",
              "      <td>2.000000</td>\n",
              "      <td>23.000000</td>\n",
              "      <td>0.000000</td>\n",
              "      <td>0.000000</td>\n",
              "      <td>0.000000</td>\n",
              "      <td>0.000000</td>\n",
              "      <td>0.000000</td>\n",
              "      <td>0.000000</td>\n",
              "      <td>0.000000</td>\n",
              "      <td>...</td>\n",
              "      <td>0.000000</td>\n",
              "      <td>0.000000</td>\n",
              "      <td>0.000000</td>\n",
              "      <td>0.000000</td>\n",
              "      <td>0.000000</td>\n",
              "      <td>0.000000</td>\n",
              "      <td>0.000000</td>\n",
              "      <td>0.000000</td>\n",
              "      <td>6.787061e+04</td>\n",
              "      <td>0.000000</td>\n",
              "    </tr>\n",
              "    <tr>\n",
              "      <th>50%</th>\n",
              "      <td>76043.000000</td>\n",
              "      <td>2.000000</td>\n",
              "      <td>28.000000</td>\n",
              "      <td>0.000000</td>\n",
              "      <td>0.000000</td>\n",
              "      <td>0.000000</td>\n",
              "      <td>0.000000</td>\n",
              "      <td>0.000000</td>\n",
              "      <td>0.000000</td>\n",
              "      <td>0.000000</td>\n",
              "      <td>...</td>\n",
              "      <td>0.000000</td>\n",
              "      <td>0.000000</td>\n",
              "      <td>0.000000</td>\n",
              "      <td>0.000000</td>\n",
              "      <td>0.000000</td>\n",
              "      <td>0.000000</td>\n",
              "      <td>0.000000</td>\n",
              "      <td>0.000000</td>\n",
              "      <td>1.064092e+05</td>\n",
              "      <td>0.000000</td>\n",
              "    </tr>\n",
              "    <tr>\n",
              "      <th>75%</th>\n",
              "      <td>113748.750000</td>\n",
              "      <td>2.000000</td>\n",
              "      <td>40.000000</td>\n",
              "      <td>0.000000</td>\n",
              "      <td>0.000000</td>\n",
              "      <td>0.000000</td>\n",
              "      <td>0.000000</td>\n",
              "      <td>0.000000</td>\n",
              "      <td>0.000000</td>\n",
              "      <td>0.000000</td>\n",
              "      <td>...</td>\n",
              "      <td>0.000000</td>\n",
              "      <td>0.000000</td>\n",
              "      <td>0.000000</td>\n",
              "      <td>0.000000</td>\n",
              "      <td>0.000000</td>\n",
              "      <td>0.000000</td>\n",
              "      <td>0.000000</td>\n",
              "      <td>0.000000</td>\n",
              "      <td>1.187563e+05</td>\n",
              "      <td>0.000000</td>\n",
              "    </tr>\n",
              "    <tr>\n",
              "      <th>max</th>\n",
              "      <td>151838.000000</td>\n",
              "      <td>238.000000</td>\n",
              "      <td>105.000000</td>\n",
              "      <td>210000.000000</td>\n",
              "      <td>12888.030000</td>\n",
              "      <td>21024.810000</td>\n",
              "      <td>8237.820000</td>\n",
              "      <td>11073.570000</td>\n",
              "      <td>6600.000000</td>\n",
              "      <td>6600.000000</td>\n",
              "      <td>...</td>\n",
              "      <td>50003.880000</td>\n",
              "      <td>20385.720000</td>\n",
              "      <td>138831.630000</td>\n",
              "      <td>91778.730000</td>\n",
              "      <td>438329.220000</td>\n",
              "      <td>24650.010000</td>\n",
              "      <td>681462.900000</td>\n",
              "      <td>397884.300000</td>\n",
              "      <td>2.203474e+07</td>\n",
              "      <td>1.000000</td>\n",
              "    </tr>\n",
              "  </tbody>\n",
              "</table>\n",
              "<p>8 rows × 371 columns</p>\n",
              "</div>\n",
              "      <button class=\"colab-df-convert\" onclick=\"convertToInteractive('df-b5eef4ac-eb0a-4b31-bff6-674f27e89d5b')\"\n",
              "              title=\"Convert this dataframe to an interactive table.\"\n",
              "              style=\"display:none;\">\n",
              "        \n",
              "  <svg xmlns=\"http://www.w3.org/2000/svg\" height=\"24px\"viewBox=\"0 0 24 24\"\n",
              "       width=\"24px\">\n",
              "    <path d=\"M0 0h24v24H0V0z\" fill=\"none\"/>\n",
              "    <path d=\"M18.56 5.44l.94 2.06.94-2.06 2.06-.94-2.06-.94-.94-2.06-.94 2.06-2.06.94zm-11 1L8.5 8.5l.94-2.06 2.06-.94-2.06-.94L8.5 2.5l-.94 2.06-2.06.94zm10 10l.94 2.06.94-2.06 2.06-.94-2.06-.94-.94-2.06-.94 2.06-2.06.94z\"/><path d=\"M17.41 7.96l-1.37-1.37c-.4-.4-.92-.59-1.43-.59-.52 0-1.04.2-1.43.59L10.3 9.45l-7.72 7.72c-.78.78-.78 2.05 0 2.83L4 21.41c.39.39.9.59 1.41.59.51 0 1.02-.2 1.41-.59l7.78-7.78 2.81-2.81c.8-.78.8-2.07 0-2.86zM5.41 20L4 18.59l7.72-7.72 1.47 1.35L5.41 20z\"/>\n",
              "  </svg>\n",
              "      </button>\n",
              "      \n",
              "  <style>\n",
              "    .colab-df-container {\n",
              "      display:flex;\n",
              "      flex-wrap:wrap;\n",
              "      gap: 12px;\n",
              "    }\n",
              "\n",
              "    .colab-df-convert {\n",
              "      background-color: #E8F0FE;\n",
              "      border: none;\n",
              "      border-radius: 50%;\n",
              "      cursor: pointer;\n",
              "      display: none;\n",
              "      fill: #1967D2;\n",
              "      height: 32px;\n",
              "      padding: 0 0 0 0;\n",
              "      width: 32px;\n",
              "    }\n",
              "\n",
              "    .colab-df-convert:hover {\n",
              "      background-color: #E2EBFA;\n",
              "      box-shadow: 0px 1px 2px rgba(60, 64, 67, 0.3), 0px 1px 3px 1px rgba(60, 64, 67, 0.15);\n",
              "      fill: #174EA6;\n",
              "    }\n",
              "\n",
              "    [theme=dark] .colab-df-convert {\n",
              "      background-color: #3B4455;\n",
              "      fill: #D2E3FC;\n",
              "    }\n",
              "\n",
              "    [theme=dark] .colab-df-convert:hover {\n",
              "      background-color: #434B5C;\n",
              "      box-shadow: 0px 1px 3px 1px rgba(0, 0, 0, 0.15);\n",
              "      filter: drop-shadow(0px 1px 2px rgba(0, 0, 0, 0.3));\n",
              "      fill: #FFFFFF;\n",
              "    }\n",
              "  </style>\n",
              "\n",
              "      <script>\n",
              "        const buttonEl =\n",
              "          document.querySelector('#df-b5eef4ac-eb0a-4b31-bff6-674f27e89d5b button.colab-df-convert');\n",
              "        buttonEl.style.display =\n",
              "          google.colab.kernel.accessAllowed ? 'block' : 'none';\n",
              "\n",
              "        async function convertToInteractive(key) {\n",
              "          const element = document.querySelector('#df-b5eef4ac-eb0a-4b31-bff6-674f27e89d5b');\n",
              "          const dataTable =\n",
              "            await google.colab.kernel.invokeFunction('convertToInteractive',\n",
              "                                                     [key], {});\n",
              "          if (!dataTable) return;\n",
              "\n",
              "          const docLinkHtml = 'Like what you see? Visit the ' +\n",
              "            '<a target=\"_blank\" href=https://colab.research.google.com/notebooks/data_table.ipynb>data table notebook</a>'\n",
              "            + ' to learn more about interactive tables.';\n",
              "          element.innerHTML = '';\n",
              "          dataTable['output_type'] = 'display_data';\n",
              "          await google.colab.output.renderOutput(dataTable, element);\n",
              "          const docLink = document.createElement('div');\n",
              "          docLink.innerHTML = docLinkHtml;\n",
              "          element.appendChild(docLink);\n",
              "        }\n",
              "      </script>\n",
              "    </div>\n",
              "  </div>\n",
              "  "
            ]
          },
          "metadata": {},
          "execution_count": 7
        }
      ]
    },
    {
      "cell_type": "code",
      "source": [
        "train['var3'].value_counts(ascending=False)"
      ],
      "metadata": {
        "id": "Cppol3AIlW35",
        "colab": {
          "base_uri": "https://localhost:8080/"
        },
        "outputId": "b2bea08a-90a8-4a68-c054-d3a2405238a9"
      },
      "execution_count": null,
      "outputs": [
        {
          "output_type": "execute_result",
          "data": {
            "text/plain": [
              " 2         74165\n",
              " 8           138\n",
              "-999999      116\n",
              " 9           110\n",
              " 3           108\n",
              "           ...  \n",
              " 231           1\n",
              " 188           1\n",
              " 168           1\n",
              " 135           1\n",
              " 87            1\n",
              "Name: var3, Length: 208, dtype: int64"
            ]
          },
          "metadata": {},
          "execution_count": 9
        }
      ]
    },
    {
      "cell_type": "code",
      "source": [
        "train['var3'].replace(-999999,2, inplace=True) #-99999를 제일 많고 낮은값으로 교체\n",
        "train.drop('ID',axis=1 , inplace=True) #만족 불만족을 따지는거라 고객이름은 불필요하기에 필요없는 ID컬럼 삭제"
      ],
      "metadata": {
        "id": "q0FjFLvmlaiq"
      },
      "execution_count": null,
      "outputs": []
    },
    {
      "cell_type": "code",
      "source": [
        "X_features = train.iloc[:, :-1] #target 값을 제외한 행\n",
        "y_labels = train.iloc[:, -1] #target값\n",
        "\n",
        "from sklearn.model_selection import train_test_split\n",
        "\n",
        "X_train, X_test, y_train, y_test = train_test_split(X_features, y_labels,\n",
        "                                                    test_size=0.2, random_state=0) #train을 X_feature 와 y_labels 8:2로 다시분류, 동일한 결과를위해 random_state 지정\n",
        "train_cnt = y_train.count() #트레인값만 카운트\n",
        "test_cnt = y_test.count() #테스트값만 카운트\n",
        "print('학습 세트 Shape:{0}, 테스트 세트 Shape:{1}'.format(X_train.shape , X_test.shape)) #학습,테스트 shape\n",
        "\n",
        "#잘나뉘었나 확인\n",
        "print(' 학습 세트 레이블 값 분포 비율')\n",
        "print(y_train.value_counts()/train_cnt) #만족,불만족 비율표시\n",
        "print('\\n 테스트 세트 레이블 값 분포 비율')\n",
        "print(y_test.value_counts()/test_cnt) "
      ],
      "metadata": {
        "id": "NIDrILdnbQsI",
        "outputId": "51ad8cf9-d38c-4e28-a218-790774a1b86e",
        "colab": {
          "base_uri": "https://localhost:8080/"
        }
      },
      "execution_count": null,
      "outputs": [
        {
          "output_type": "stream",
          "name": "stdout",
          "text": [
            "학습 세트 Shape:(60816, 369), 테스트 세트 Shape:(15204, 369)\n",
            " 학습 세트 레이블 값 분포 비율\n",
            "0    0.960964\n",
            "1    0.039036\n",
            "Name: TARGET, dtype: float64\n",
            "\n",
            " 테스트 세트 레이블 값 분포 비율\n",
            "0    0.9583\n",
            "1    0.0417\n",
            "Name: TARGET, dtype: float64\n"
          ]
        }
      ]
    },
    {
      "cell_type": "code",
      "source": [
        "#XGBoost #이전 gridcv로 나온 최적 파라미터{'colsample_bytree': 0.5, 'max_depth': 5, 'min_child_weigth': 1} 였으니 이것으로 바꿔줌\n",
        "#과적합방지를위해 n_estimators는 1000으로 증가시키고, 학습스탭크기를 0.02로 작게, L1 규제(Lasso)를 0.03으로 추가함\n",
        "xgb_clf = XGBClassifier(n_estimators=1000, random_state=156, learning_rate=0.02, max_depth=7,\\\n",
        "                        min_child_weight=1, colsample_bytree=0.75, reg_alpha=0.03)\n",
        "\n",
        "xgb_clf.fit(X_train, y_train, early_stopping_rounds=200, \n",
        "            eval_metric=\"auc\",eval_set=[(X_train, y_train), (X_test, y_test)])\n",
        "\n",
        "xgb_roc_score = roc_auc_score(y_test, xgb_clf.predict_proba(X_test)[:,1],average='macro')\n",
        "print('ROC AUC: {0:.4f}'.format(xgb_roc_score))\n",
        "\n",
        "ROC AUC: 0.8456"
      ],
      "metadata": {
        "id": "7ZG6k7Qubc8y"
      },
      "execution_count": null,
      "outputs": []
    },
    {
      "cell_type": "code",
      "source": [
        "#gridcv를 이용한 최적 파라미터: {'max_depth': 128, 'min_child_samples': 100, 'num_leaves': 32, 'subsample': 0.8}를 적용해서 다시\n",
        "lgbm_clf = LGBMClassifier(n_estimators=1000, num_leaves=32, sumbsample=0.8, min_child_samples=100,\n",
        "                          max_depth=128)\n",
        "\n",
        "evals = [(X_test, y_test)]\n",
        "lgbm_clf.fit(X_train, y_train, early_stopping_rounds=100, eval_metric=\"auc\", eval_set=evals, #eval_set=evals는 학습은 학습 데이터로 하되, 예측 오류값 평가는 eval_set로 지정된 검증 세트로 평가하는 방식, 학습 데이터로만 예측 오류값을 줄이게 되면 오버 피팅 우려가 높아서 별도의 검증 세트(evals) 를 지정하여 수행\n",
        "                verbose=True) #verbose=True 수행중 발생하는정보를 출력해줌\n",
        "\n",
        "lgbm_roc_score = roc_auc_score(y_test, lgbm_clf.predict_proba(X_test)[:,1],average='macro')\n",
        "print('ROC AUC: {0:.4f}'.format(lgbm_roc_score))\n",
        "\n",
        "ROC AUC: 0.8442"
      ],
      "metadata": {
        "id": "YUAvaGX1op31"
      },
      "execution_count": null,
      "outputs": []
    },
    {
      "cell_type": "markdown",
      "source": [
        "# 3. 탐색적 데이터 분석 (EDA)"
      ],
      "metadata": {
        "id": "N7Mcwzs-bF1T"
      }
    },
    {
      "cell_type": "markdown",
      "source": [
        "### 1) 특성 유추"
      ],
      "metadata": {
        "id": "LHOpiIiS6Phe"
      }
    },
    {
      "cell_type": "markdown",
      "source": [
        "- 1)  var15는 연령일 가능성이 높다\n",
        "  - 5~105 사이의 고유한 값을 가진다.\n",
        "  - 그렇다면 주고객은 30세 미만이고 23세 미만 고객은 결코 불만족을 누르지 않는다.\n",
        "  - 23세 미만 여부에 따라 새로운 특성을 넣을 수 있다. \n",
        "- 2)  num_var4는 고객이 은행에서 가지고 있는 은행 상품 수일 가능성이 높다.\n",
        "  - 불만족한 고객은 은행 상품을 구매하지 않았고 2개 이상 상품을 구매한 고객은 거의 모두 만족을 골랐다. \n",
        "  - 'num_var4'이  6 이상인 고객은 모두 만족했다"
      ],
      "metadata": {
        "id": "cKFy-KKuMqK2"
      }
    },
    {
      "cell_type": "code",
      "source": [
        "np.sort(pd.unique(train_df['var15'])) # 5~105 사이의 고유한 값을 가진다."
      ],
      "metadata": {
        "colab": {
          "base_uri": "https://localhost:8080/"
        },
        "id": "cR9Qv2_ykrvz",
        "outputId": "7fd6a06d-0109-403c-8370-e3aa57ca5805"
      },
      "execution_count": null,
      "outputs": [
        {
          "output_type": "execute_result",
          "data": {
            "text/plain": [
              "array([  5,   6,   7,   8,   9,  10,  11,  12,  13,  14,  15,  16,  17,\n",
              "        18,  19,  20,  21,  22,  23,  24,  25,  26,  27,  28,  29,  30,\n",
              "        31,  32,  33,  34,  35,  36,  37,  38,  39,  40,  41,  42,  43,\n",
              "        44,  45,  46,  47,  48,  49,  50,  51,  52,  53,  54,  55,  56,\n",
              "        57,  58,  59,  60,  61,  62,  63,  64,  65,  66,  67,  68,  69,\n",
              "        70,  71,  72,  73,  74,  75,  76,  77,  78,  79,  80,  81,  82,\n",
              "        83,  84,  85,  86,  87,  88,  89,  90,  91,  92,  93,  94,  95,\n",
              "        96,  97,  98,  99, 100, 101, 102, 104, 105])"
            ]
          },
          "metadata": {},
          "execution_count": 78
        }
      ]
    },
    {
      "cell_type": "code",
      "source": [
        "#1) var15\n",
        "counts, bins = np.histogram(train_df)\n",
        "g = sns.FacetGrid(train_df, hue='TARGET', palette=\"husl\", height=9, aspect=2.5).map(plt.hist, 'var15').add_legend()\n",
        "g.set(xticks=train_df.var15)\n",
        "\n",
        "plt.title('Age of customers')\n",
        "plt.show()"
      ],
      "metadata": {
        "colab": {
          "base_uri": "https://localhost:8080/",
          "height": 600
        },
        "id": "WkaGtSmzMNWD",
        "outputId": "24d25376-6da8-4c3e-ee83-addb31250487"
      },
      "execution_count": null,
      "outputs": [
        {
          "output_type": "display_data",
          "data": {
            "text/plain": [
              "<Figure size 1667x648 with 1 Axes>"
            ],
            "image/png": "[encoded data removed]"
          },
          "metadata": {
            "needs_background": "light"
          }
        }
      ]
    },
    {
      "cell_type": "code",
      "source": [
        "for age in [79,80]:\n",
        "  cnt= 0\n",
        "  for i in train_df['var15']:\n",
        "    if (i > age) and (train_df['TARGET'][i]==1):\n",
        "      cnt +=1\n",
        "  print(\"Number of unsatisfied customers of more than {} age: {}\".format(age, cnt))"
      ],
      "metadata": {
        "colab": {
          "base_uri": "https://localhost:8080/"
        },
        "id": "TvAoU1Kwla4H",
        "outputId": "16833491-3992-49e3-a777-de142d0d21c7"
      },
      "execution_count": null,
      "outputs": [
        {
          "output_type": "stream",
          "name": "stdout",
          "text": [
            "Number of unsatisfied customers of more than 79 age: 57\n",
            "Number of unsatisfied customers of more than 80 age: 0\n"
          ]
        }
      ]
    },
    {
      "cell_type": "code",
      "source": [
        ""
      ],
      "metadata": {
        "id": "W0paAIcJqLRc"
      },
      "execution_count": null,
      "outputs": []
    },
    {
      "cell_type": "code",
      "source": [
        "g = sns.FacetGrid(train_df, hue='TARGET', palette=\"husl\", height=8, aspect=1).map(plt.hist, 'num_var4').add_legend()\n",
        "g.set(xticks=train_df.num_var4)\n",
        "\n",
        "plt.title('Number of banking product')\n",
        "plt.show()"
      ],
      "metadata": {
        "colab": {
          "base_uri": "https://localhost:8080/",
          "height": 601
        },
        "id": "DkAAjae5POjQ",
        "outputId": "3d957e20-932c-46d8-b676-29346ae3064f"
      },
      "execution_count": null,
      "outputs": [
        {
          "output_type": "display_data",
          "data": {
            "text/plain": [
              "<Figure size 623x576 with 1 Axes>"
            ],
            "image/png": "[encoded data removed]"
          },
          "metadata": {
            "needs_background": "light"
          }
        }
      ]
    },
    {
      "cell_type": "code",
      "source": [
        "train_df['num_var4'].value_counts()"
      ],
      "metadata": {
        "colab": {
          "base_uri": "https://localhost:8080/"
        },
        "id": "Uh9-MnUKlk30",
        "outputId": "8317d200-ebaf-4f1c-ea67-84490981a0b0"
      },
      "execution_count": null,
      "outputs": [
        {
          "output_type": "execute_result",
          "data": {
            "text/plain": [
              "1    38147\n",
              "0    19528\n",
              "2    12692\n",
              "3     4377\n",
              "4     1031\n",
              "5      203\n",
              "6       36\n",
              "7        6\n",
              "Name: num_var4, dtype: int64"
            ]
          },
          "metadata": {},
          "execution_count": 80
        }
      ]
    },
    {
      "cell_type": "code",
      "source": [
        "train_df.loc[train_df['TARGET']==1]['num_var4'].value_counts()"
      ],
      "metadata": {
        "colab": {
          "base_uri": "https://localhost:8080/"
        },
        "id": "ZWefGxwRlkyQ",
        "outputId": "c2f50a56-d2a6-488f-8844-6a3b68ae8c7a"
      },
      "execution_count": null,
      "outputs": [
        {
          "output_type": "execute_result",
          "data": {
            "text/plain": [
              "0    1737\n",
              "1     692\n",
              "2     333\n",
              "3     182\n",
              "4      58\n",
              "5       6\n",
              "Name: num_var4, dtype: int64"
            ]
          },
          "metadata": {},
          "execution_count": 81
        }
      ]
    },
    {
      "cell_type": "markdown",
      "source": [
        "## 2) 특성 중요도 "
      ],
      "metadata": {
        "id": "Cv1CAn4alsx_"
      }
    },
    {
      "cell_type": "code",
      "source": [
        "# decissiontree for feature importance:\n",
        "from sklearn.tree import DecisionTreeRegressor\n",
        "from sklearn.tree import DecisionTreeClassifier\n",
        "\n",
        "model = DecisionTreeClassifier()\n",
        "model.fit(X_train, y_train)\n",
        "\n",
        "# get importance\n",
        "importance_dt = model.feature_importances_\n",
        "\n",
        "# before feat engg\n",
        "sorted_idx = importance_dt.argsort()[-15:]\n",
        "plt.barh(X_train.columns[sorted_idx], importance_dt[sorted_idx])\n",
        "plt.xlabel(\"Random Forest Feature Importance\")"
      ],
      "metadata": {
        "colab": {
          "base_uri": "https://localhost:8080/",
          "height": 515
        },
        "id": "x6UDoX7BQLRu",
        "outputId": "22d17da1-987c-445b-c34c-0410d0b6e28e"
      },
      "execution_count": null,
      "outputs": [
        {
          "output_type": "execute_result",
          "data": {
            "text/plain": [
              "Text(0.5, 0, 'Random Forest Feature Importance')"
            ]
          },
          "metadata": {},
          "execution_count": 61
        },
        {
          "output_type": "display_data",
          "data": {
            "text/plain": [
              "<Figure size 576x576 with 1 Axes>"
            ],
            "image/png": "[encoded data removed]"
          },
          "metadata": {
            "needs_background": "light"
          }
        }
      ]
    },
    {
      "cell_type": "code",
      "source": [
        "from xgboost import plot_importance\n",
        "import matplotlib.pyplot as plt\n",
        "\n",
        "fig, ax = plt.subplots(1,1,figsize=(10,8))\n",
        "plot_importance(clf_xgb, ax=ax, max_num_features=20, height=0.4)\n",
        "plt.show()"
      ],
      "metadata": {
        "colab": {
          "base_uri": "https://localhost:8080/",
          "height": 513
        },
        "id": "8JR_0jThT9Dc",
        "outputId": "4659fdcc-39fa-4d4a-9b47-fcbf69306024"
      },
      "execution_count": null,
      "outputs": [
        {
          "output_type": "display_data",
          "data": {
            "text/plain": [
              "<Figure size 720x576 with 1 Axes>"
            ],
            "image/png": "[encoded data removed]"
          },
          "metadata": {
            "needs_background": "light"
          }
        }
      ]
    },
    {
      "cell_type": "code",
      "source": [
        "y_train= train_df['TARGET']\n",
        "X_train= train_df.drop('TARGET', axis=1)\n",
        "X_test = test_df"
      ],
      "metadata": {
        "id": "pUuqtRz5SUFr"
      },
      "execution_count": null,
      "outputs": []
    },
    {
      "cell_type": "code",
      "source": [
        "print(train_df['TARGET'].value_counts())\n",
        "unsatisfied_cnt = train_df[train_df['TARGET'] == 1].TARGET.count()\n",
        "total_cnt = train_df.TARGET.count()\n",
        "print('비율은 {0:.2f}'.format((unsatisfied_cnt / total_cnt)))"
      ],
      "metadata": {
        "id": "-ivSISWxktlQ"
      },
      "execution_count": null,
      "outputs": []
    },
    {
      "cell_type": "markdown",
      "source": [
        "# 4. 특성 골라내기(Feature preprocessing)"
      ],
      "metadata": {
        "id": "_g0-cOPBbRCH"
      }
    },
    {
      "cell_type": "markdown",
      "source": [
        "## 일정한 데이터로된 컬럼 거르기\n",
        "- 38개"
      ],
      "metadata": {
        "id": "faEKaKieWsba"
      }
    },
    {
      "cell_type": "code",
      "source": [
        "# with tol=1 we tell the transformer to remove constant features\n",
        "constant = DropConstantFeatures(tol=1)\n",
        "\n",
        "# finds the constant features on the train set\n",
        "constant.fit(X_train)"
      ],
      "metadata": {
        "colab": {
          "base_uri": "https://localhost:8080/"
        },
        "id": "lPHXtil5WqTA",
        "outputId": "8c4a6b25-a20f-4e4c-d9d3-560714ed78f2"
      },
      "execution_count": null,
      "outputs": [
        {
          "output_type": "execute_result",
          "data": {
            "text/plain": [
              "DropConstantFeatures()"
            ]
          },
          "metadata": {},
          "execution_count": 22
        }
      ]
    },
    {
      "cell_type": "code",
      "source": [
        "len(constant.features_to_drop_)"
      ],
      "metadata": {
        "colab": {
          "base_uri": "https://localhost:8080/"
        },
        "id": "AuRC1F3RW1Bx",
        "outputId": "51d77b4f-bb03-4318-bdd0-6bff56d5344e"
      },
      "execution_count": null,
      "outputs": [
        {
          "output_type": "execute_result",
          "data": {
            "text/plain": [
              "38"
            ]
          },
          "metadata": {},
          "execution_count": 148
        }
      ]
    },
    {
      "cell_type": "code",
      "source": [
        "print('Number of variables before removing constant: ', X_train.shape[1])"
      ],
      "metadata": {
        "colab": {
          "base_uri": "https://localhost:8080/"
        },
        "id": "B7friX6ZXD-e",
        "outputId": "295cd4ed-ef27-4554-fa8f-c68ce7305c8b"
      },
      "execution_count": null,
      "outputs": [
        {
          "output_type": "stream",
          "name": "stdout",
          "text": [
            "Number of variables before removing constant:  369\n"
          ]
        }
      ]
    },
    {
      "cell_type": "code",
      "source": [
        "# remove constant features - transform method\n",
        "X_train = constant.transform(X_train)\n",
        "X_test = constant.transform(X_test)\n",
        "\n",
        "print('Number of variables after removing constant: ', X_train.shape[1])"
      ],
      "metadata": {
        "colab": {
          "base_uri": "https://localhost:8080/"
        },
        "id": "cJqaZwPVXBen",
        "outputId": "52d03b05-3506-48c3-cc45-ddb8b6de9f7e"
      },
      "execution_count": null,
      "outputs": [
        {
          "output_type": "stream",
          "name": "stdout",
          "text": [
            "Number of variables after removing constant:  335\n"
          ]
        }
      ]
    },
    {
      "cell_type": "code",
      "source": [
        "X_train.shape, X_test.shape"
      ],
      "metadata": {
        "colab": {
          "base_uri": "https://localhost:8080/"
        },
        "id": "wB2EFgmMZ5gW",
        "outputId": "bcdc457d-45e5-4aee-f6ba-d7a3aadb192b"
      },
      "execution_count": null,
      "outputs": [
        {
          "output_type": "execute_result",
          "data": {
            "text/plain": [
              "(76020, 335)"
            ]
          },
          "metadata": {},
          "execution_count": 17
        }
      ]
    },
    {
      "cell_type": "markdown",
      "source": [
        "## 거의 일정한 데이터 삭제 \n",
        "- 139개"
      ],
      "metadata": {
        "id": "ytl1E2tsXOCA"
      }
    },
    {
      "cell_type": "code",
      "source": [
        "quasi_constant = DropConstantFeatures(tol=0.9995)\n",
        "# find quasi-constant features in the train set\n",
        "quasi_constant.fit(X_train)"
      ],
      "metadata": {
        "colab": {
          "base_uri": "https://localhost:8080/"
        },
        "id": "QIHwESoXXZ1w",
        "outputId": "fd5e0cc0-e609-417a-ee8d-3f77db16426c"
      },
      "execution_count": null,
      "outputs": [
        {
          "output_type": "execute_result",
          "data": {
            "text/plain": [
              "DropConstantFeatures(tol=0.9995)"
            ]
          },
          "metadata": {},
          "execution_count": 25
        }
      ]
    },
    {
      "cell_type": "code",
      "source": [
        "print('Number of variables before removing quasi-constant: ', X_train.shape[1])"
      ],
      "metadata": {
        "colab": {
          "base_uri": "https://localhost:8080/"
        },
        "id": "G-RN5OZZXgMv",
        "outputId": "1cdd9ef3-105d-4a52-ce65-bd621e849e16"
      },
      "execution_count": null,
      "outputs": [
        {
          "output_type": "stream",
          "name": "stdout",
          "text": [
            "Number of variables before removing quasi-constant:  331\n"
          ]
        }
      ]
    },
    {
      "cell_type": "code",
      "source": [
        "# remove quasi-constant features - transform method\n",
        "X_train = quasi_constant.transform(X_train)\n",
        "X_test = quasi_constant.transform(X_test)\n",
        "\n",
        "print('Number of variables after removing quasi-constant: ', X_train.shape[1])"
      ],
      "metadata": {
        "colab": {
          "base_uri": "https://localhost:8080/"
        },
        "id": "Dt0-0vTIXfHv",
        "outputId": "481eb776-e2ed-4a3c-f30e-b553c88edffa"
      },
      "execution_count": null,
      "outputs": [
        {
          "output_type": "stream",
          "name": "stdout",
          "text": [
            "Number of variables after removing quasi-constant:  242\n"
          ]
        }
      ]
    },
    {
      "cell_type": "code",
      "source": [
        "X_train.shape, X_test.shape"
      ],
      "metadata": {
        "colab": {
          "base_uri": "https://localhost:8080/"
        },
        "id": "mwSYLWyIaBex",
        "outputId": "c2de8f36-3382-41db-f6cf-abd256e7134e"
      },
      "execution_count": null,
      "outputs": [
        {
          "output_type": "execute_result",
          "data": {
            "text/plain": [
              "((76020, 242), (75818, 242))"
            ]
          },
          "metadata": {},
          "execution_count": 27
        }
      ]
    },
    {
      "cell_type": "markdown",
      "source": [
        "## 중복값 삭제"
      ],
      "metadata": {
        "id": "zxcP8aDdXtNF"
      }
    },
    {
      "cell_type": "code",
      "source": [
        "duplicates = DropDuplicateFeatures()\n",
        "\n",
        "# find duplicated features in the train set\n",
        "duplicates.fit(X_train)"
      ],
      "metadata": {
        "colab": {
          "base_uri": "https://localhost:8080/"
        },
        "id": "-A9q_k50XwSl",
        "outputId": "6658043d-05bc-4f9f-c158-b7ed01891aa4"
      },
      "execution_count": null,
      "outputs": [
        {
          "output_type": "execute_result",
          "data": {
            "text/plain": [
              "DropDuplicateFeatures()"
            ]
          },
          "metadata": {},
          "execution_count": 28
        }
      ]
    },
    {
      "cell_type": "code",
      "source": [
        "duplicates.duplicated_feature_sets_ #중복값 특성들 나열"
      ],
      "metadata": {
        "colab": {
          "base_uri": "https://localhost:8080/"
        },
        "id": "Sm4I5VD_X2cV",
        "outputId": "162f581f-9368-4f30-d240-6cca5cbc8cb7"
      },
      "execution_count": null,
      "outputs": [
        {
          "output_type": "execute_result",
          "data": {
            "text/plain": [
              "[{'ind_var26', 'ind_var26_0'},\n",
              " {'ind_var25', 'ind_var25_0'},\n",
              " {'ind_var32', 'ind_var32_0'},\n",
              " {'ind_var37', 'ind_var37_0'},\n",
              " {'ind_var39', 'ind_var40'},\n",
              " {'num_var26', 'num_var26_0'},\n",
              " {'num_var25', 'num_var25_0'},\n",
              " {'num_var32', 'num_var32_0'},\n",
              " {'num_var37', 'num_var37_0'},\n",
              " {'num_var39', 'num_var40'}]"
            ]
          },
          "metadata": {},
          "execution_count": 29
        }
      ]
    },
    {
      "cell_type": "code",
      "source": [
        "X_train['ind_var26'].equals(X_train['ind_var26_0']) # 100프로 중복 "
      ],
      "metadata": {
        "colab": {
          "base_uri": "https://localhost:8080/"
        },
        "id": "wbXXFyhoX5XD",
        "outputId": "67c65ddd-f22e-467f-bdc8-209b173ac7ee"
      },
      "execution_count": null,
      "outputs": [
        {
          "output_type": "execute_result",
          "data": {
            "text/plain": [
              "True"
            ]
          },
          "metadata": {},
          "execution_count": 30
        }
      ]
    },
    {
      "cell_type": "code",
      "source": [
        "duplicates.features_to_drop_"
      ],
      "metadata": {
        "colab": {
          "base_uri": "https://localhost:8080/"
        },
        "id": "i772a9obYB-z",
        "outputId": "8388cfe9-bd74-473a-b414-b6b2930dae1a"
      },
      "execution_count": null,
      "outputs": [
        {
          "output_type": "execute_result",
          "data": {
            "text/plain": [
              "{'ind_var25',\n",
              " 'ind_var26',\n",
              " 'ind_var32',\n",
              " 'ind_var37',\n",
              " 'ind_var39',\n",
              " 'num_var25',\n",
              " 'num_var26',\n",
              " 'num_var32',\n",
              " 'num_var37',\n",
              " 'num_var39'}"
            ]
          },
          "metadata": {},
          "execution_count": 31
        }
      ]
    },
    {
      "cell_type": "code",
      "source": [
        "print('Number of variables before removing duplicates: ', X_train.shape[1])"
      ],
      "metadata": {
        "colab": {
          "base_uri": "https://localhost:8080/"
        },
        "id": "XEV6iO_FYPih",
        "outputId": "85c7cf21-734e-459f-f623-b16d5ea9e1c0"
      },
      "execution_count": null,
      "outputs": [
        {
          "output_type": "stream",
          "name": "stdout",
          "text": [
            "Number of variables before removing duplicates:  242\n"
          ]
        }
      ]
    },
    {
      "cell_type": "code",
      "source": [
        "X_train = duplicates.transform(X_train)\n",
        "X_test = duplicates.transform(X_test)\n",
        "\n",
        "print('Number of variables after removing duplicates: ', X_train.shape[1])"
      ],
      "metadata": {
        "colab": {
          "base_uri": "https://localhost:8080/"
        },
        "id": "JBUdYbNOYNlE",
        "outputId": "32ff46f8-4f63-4e1c-d900-a68585abf025"
      },
      "execution_count": null,
      "outputs": [
        {
          "output_type": "stream",
          "name": "stdout",
          "text": [
            "Number of variables after removing duplicates:  232\n"
          ]
        }
      ]
    },
    {
      "cell_type": "code",
      "source": [
        "X_train.shape, X_test.shape"
      ],
      "metadata": {
        "colab": {
          "base_uri": "https://localhost:8080/"
        },
        "id": "U_SbW0xPzF3B",
        "outputId": "000fcb32-aae0-4978-e2e3-3ca7fc4d0046"
      },
      "execution_count": null,
      "outputs": [
        {
          "output_type": "execute_result",
          "data": {
            "text/plain": [
              "((76020, 232), (75818, 232))"
            ]
          },
          "metadata": {},
          "execution_count": 33
        }
      ]
    },
    {
      "cell_type": "markdown",
      "source": [
        "## 상관관계 \n",
        "- 103개"
      ],
      "metadata": {
        "id": "cBvBa6H8YnJY"
      }
    },
    {
      "cell_type": "code",
      "source": [
        "correlated = DropCorrelatedFeatures(variables=None, method='pearson', threshold=0.98)\n",
        "\n",
        "# find correlated variables in the train set\n",
        "correlated.fit(X_train)"
      ],
      "metadata": {
        "colab": {
          "base_uri": "https://localhost:8080/"
        },
        "id": "NAYROOKJYmDO",
        "outputId": "2cba845f-5f0e-4395-9d70-2f650dfa8cb6"
      },
      "execution_count": null,
      "outputs": [
        {
          "output_type": "execute_result",
          "data": {
            "text/plain": [
              "DropCorrelatedFeatures(threshold=0.98)"
            ]
          },
          "metadata": {},
          "execution_count": 34
        }
      ]
    },
    {
      "cell_type": "code",
      "source": [
        "correlated.correlated_feature_sets_"
      ],
      "metadata": {
        "colab": {
          "base_uri": "https://localhost:8080/"
        },
        "id": "bfkQwZKiYxx2",
        "outputId": "606fc80e-0d72-4d91-a891-7b66d33ef2fb"
      },
      "execution_count": null,
      "outputs": [
        {
          "output_type": "execute_result",
          "data": {
            "text/plain": [
              "[{'imp_op_var39_efect_ult1', 'imp_op_var41_efect_ult1'},\n",
              " {'imp_op_var39_efect_ult3', 'imp_op_var41_efect_ult3'},\n",
              " {'imp_op_var39_ult1', 'imp_op_var41_ult1'},\n",
              " {'ind_var1_0', 'ind_var40_0', 'num_var1_0', 'num_var40_0'},\n",
              " {'ind_var1', 'ind_var40', 'num_var1', 'num_var40'},\n",
              " {'ind_var5', 'num_var5'},\n",
              " {'ind_var8_0', 'num_var8_0'},\n",
              " {'ind_var8', 'num_var8'},\n",
              " {'ind_var12', 'num_var12'},\n",
              " {'ind_var13', 'ind_var13_0'},\n",
              " {'ind_var13_corto',\n",
              "  'ind_var13_corto_0',\n",
              "  'num_var13_corto',\n",
              "  'num_var13_corto_0'},\n",
              " {'ind_var13_largo', 'ind_var13_largo_0'},\n",
              " {'ind_var14', 'num_var14'},\n",
              " {'ind_var20_0', 'num_var20_0'},\n",
              " {'ind_var20', 'num_var20'},\n",
              " {'ind_var24_0', 'num_var24_0'},\n",
              " {'ind_var24', 'num_var24'},\n",
              " {'ind_var39_0', 'ind_var41_0'},\n",
              " {'ind_var44_0', 'num_var44_0'},\n",
              " {'ind_var44', 'num_var44'},\n",
              " {'num_var35', 'num_var4'},\n",
              " {'num_op_var39_hace2', 'num_op_var41_hace2'},\n",
              " {'num_op_var39_hace3', 'num_op_var41_hace3'},\n",
              " {'num_op_var39_ult1', 'num_op_var41_ult1'},\n",
              " {'num_op_var39_ult3', 'num_op_var41_ult3'},\n",
              " {'saldo_medio_var12_ult1', 'saldo_var12', 'saldo_var24'},\n",
              " {'saldo_medio_var13_corto_ult1',\n",
              "  'saldo_medio_var13_corto_ult3',\n",
              "  'saldo_var13_corto'},\n",
              " {'saldo_medio_var17_hace2',\n",
              "  'saldo_medio_var17_ult1',\n",
              "  'saldo_medio_var17_ult3',\n",
              "  'saldo_var17'},\n",
              " {'saldo_var25', 'saldo_var26'},\n",
              " {'saldo_medio_var33_ult1', 'saldo_medio_var33_ult3', 'saldo_var33'},\n",
              " {'delta_imp_aport_var13_1y3', 'delta_num_aport_var13_1y3'},\n",
              " {'delta_imp_aport_var17_1y3', 'delta_num_aport_var17_1y3'},\n",
              " {'delta_imp_compra_var44_1y3', 'delta_num_compra_var44_1y3'},\n",
              " {'delta_imp_venta_var44_1y3', 'delta_num_venta_var44_1y3'},\n",
              " {'num_med_var45_ult3', 'num_var45_ult3'},\n",
              " {'num_op_var39_efect_ult1', 'num_op_var41_efect_ult1'},\n",
              " {'num_op_var39_efect_ult3', 'num_op_var41_efect_ult3'},\n",
              " {'saldo_medio_var13_largo_ult1', 'saldo_medio_var13_largo_ult3'}]"
            ]
          },
          "metadata": {},
          "execution_count": 38
        }
      ]
    },
    {
      "cell_type": "code",
      "source": [
        "corrmat = X_train[[\n",
        "    'imp_op_var39_comer_ult1',\n",
        "    'imp_op_var39_comer_ult3',\n",
        "    'imp_op_var41_comer_ult1',\n",
        "    'imp_op_var41_comer_ult3']].corr(method='pearson')"
      ],
      "metadata": {
        "id": "2aYCWT50Za-E"
      },
      "execution_count": null,
      "outputs": []
    },
    {
      "cell_type": "code",
      "source": [
        "plt.figure(figsize=(10,8))\n",
        "plt.title('Correlation Heatmap of Santander Customer Satisfaction')\n",
        "a = sns.heatmap(corrmat, square=True, annot=True, fmt='.2f', linecolor='black')\n",
        "a.set_xticklabels(a.get_xticklabels(), rotation=30)\n",
        "a.set_yticklabels(a.get_yticklabels(), rotation=30)           \n",
        "plt.show()    # 0.8 이상의 상관성을 알 수 있다."
      ],
      "metadata": {
        "colab": {
          "base_uri": "https://localhost:8080/",
          "height": 564
        },
        "id": "gEfdTHazZGBc",
        "outputId": "d2e564e9-6fa4-4e17-afc7-a1282cce4a9f"
      },
      "execution_count": null,
      "outputs": [
        {
          "output_type": "display_data",
          "data": {
            "text/plain": [
              "<Figure size 720x576 with 2 Axes>"
            ],
            "image/png": "[encoded data removed]"
          },
          "metadata": {
            "needs_background": "light"
          }
        }
      ]
    },
    {
      "cell_type": "code",
      "source": [
        "len(correlated.features_to_drop_)"
      ],
      "metadata": {
        "colab": {
          "base_uri": "https://localhost:8080/"
        },
        "id": "UzoqS3nvZtda",
        "outputId": "6dba5d44-8831-44bc-f2c0-1ccad6a890d4"
      },
      "execution_count": null,
      "outputs": [
        {
          "output_type": "execute_result",
          "data": {
            "text/plain": [
              "49"
            ]
          },
          "metadata": {},
          "execution_count": 43
        }
      ]
    },
    {
      "cell_type": "code",
      "source": [
        "print('Number of variables before removing correlated: ', X_train.shape[1])"
      ],
      "metadata": {
        "colab": {
          "base_uri": "https://localhost:8080/"
        },
        "id": "MLSkzGCfZ2vo",
        "outputId": "533069ab-2a52-44c3-b47f-2f2ced3bf4b4"
      },
      "execution_count": null,
      "outputs": [
        {
          "output_type": "stream",
          "name": "stdout",
          "text": [
            "Number of variables before removing correlated:  183\n"
          ]
        }
      ]
    },
    {
      "cell_type": "code",
      "source": [
        "# remove correlated variables\n",
        "X_train = correlated.transform(X_train)\n",
        "X_test = correlated.transform(X_test)\n",
        "\n",
        "print('Number of variables after removing correlated: ', X_train.shape[1])"
      ],
      "metadata": {
        "id": "KCZNdsR4Z1Ni"
      },
      "execution_count": null,
      "outputs": []
    },
    {
      "cell_type": "code",
      "source": [
        "X_train.shape, X_test.shape"
      ],
      "metadata": {
        "colab": {
          "base_uri": "https://localhost:8080/"
        },
        "id": "5ddVIdrgzMcy",
        "outputId": "27db2093-1792-4d14-ac45-a628b8c36b85"
      },
      "execution_count": null,
      "outputs": [
        {
          "output_type": "execute_result",
          "data": {
            "text/plain": [
              "((76020, 183), (75818, 183))"
            ]
          },
          "metadata": {},
          "execution_count": 47
        }
      ]
    },
    {
      "cell_type": "markdown",
      "source": [
        "## 모듈을 이용해 한번더 상관성 파악 후 drop\n",
        "- 17개"
      ],
      "metadata": {
        "id": "O19BC8fjaHvq"
      }
    },
    {
      "cell_type": "code",
      "source": [
        "X_train.shape, X_test.shape"
      ],
      "metadata": {
        "id": "8hgB_9D2VJxJ"
      },
      "execution_count": null,
      "outputs": []
    },
    {
      "cell_type": "code",
      "source": [
        "smart_corr = SmartCorrelatedSelection(\n",
        "    variables=None, # examines all variables\n",
        "    method=\"pearson\", # the correlation method\n",
        "    threshold=0.98, # the correlation coefficient threshold\n",
        "    missing_values=\"ignore\",\n",
        "    selection_method=\"model_performance\", # how to select the features\n",
        "    estimator=RandomForestClassifier(n_estimators=10, random_state=1), # the model from which to derive the importance\n",
        ")\n",
        "\n",
        "# find correlated features and select the best from each group\n",
        "\n",
        "# the method builds a random forest using each single feature from the correlated feature group\n",
        "# and retains the feature from the group with the best performance\n",
        "\n",
        "smart_corr.fit(X_train, X_test)"
      ],
      "metadata": {
        "colab": {
          "base_uri": "https://localhost:8080/"
        },
        "id": "jvYrW1vyab1j",
        "outputId": "61cc515b-dd61-4488-bcfe-f4684a08ea2e"
      },
      "execution_count": null,
      "outputs": [
        {
          "output_type": "execute_result",
          "data": {
            "text/plain": [
              "SmartCorrelatedSelection(estimator=RandomForestClassifier(n_estimators=10,\n",
              "                                                          random_state=1),\n",
              "                         selection_method='model_performance', threshold=0.98)"
            ]
          },
          "metadata": {},
          "execution_count": 65
        }
      ]
    },
    {
      "cell_type": "code",
      "source": [
        "# the correlated feature groups\n",
        "\n",
        "smart_corr.correlated_feature_sets_"
      ],
      "metadata": {
        "colab": {
          "base_uri": "https://localhost:8080/"
        },
        "id": "zdEqpoWfahKE",
        "outputId": "6af2d390-b037-4254-bab0-8972a12e6c34"
      },
      "execution_count": null,
      "outputs": [
        {
          "output_type": "execute_result",
          "data": {
            "text/plain": [
              "[]"
            ]
          },
          "metadata": {},
          "execution_count": 66
        }
      ]
    },
    {
      "cell_type": "code",
      "source": [
        "# lets examine the performace of a random forest based on\n",
        "# each feature from the fifth group from above, to understand\n",
        "# what the transformer is doing\n",
        "\n",
        "# select fifth group of correlated features\n",
        "group = smart_corr.correlated_feature_sets_[4]\n",
        "\n",
        "# build random forest with cross validation for\n",
        "# each feature\n",
        "\n",
        "for f in group:\n",
        "    model = cross_validate(\n",
        "        RandomForestClassifier(n_estimators=10, random_state=1),\n",
        "        X_train[f].to_frame(),\n",
        "        y_train,\n",
        "        cv=3,\n",
        "        return_estimator=False,\n",
        "        scoring='roc_auc',\n",
        "    )\n",
        "\n",
        "    print(f, model[\"test_score\"].mean())"
      ],
      "metadata": {
        "colab": {
          "base_uri": "https://localhost:8080/",
          "height": 245
        },
        "id": "PTMwNGW2apIZ",
        "outputId": "0f19cd5b-92c7-4703-881e-449026d41043"
      },
      "execution_count": null,
      "outputs": [
        {
          "output_type": "error",
          "ename": "IndexError",
          "evalue": "ignored",
          "traceback": [
            "\u001b[0;31m---------------------------------------------------------------------------\u001b[0m",
            "\u001b[0;31mIndexError\u001b[0m                                Traceback (most recent call last)",
            "\u001b[0;32m<ipython-input-67-bd13b1766c99>\u001b[0m in \u001b[0;36m<module>\u001b[0;34m()\u001b[0m\n\u001b[1;32m      4\u001b[0m \u001b[0;34m\u001b[0m\u001b[0m\n\u001b[1;32m      5\u001b[0m \u001b[0;31m# select fifth group of correlated features\u001b[0m\u001b[0;34m\u001b[0m\u001b[0;34m\u001b[0m\u001b[0;34m\u001b[0m\u001b[0m\n\u001b[0;32m----> 6\u001b[0;31m \u001b[0mgroup\u001b[0m \u001b[0;34m=\u001b[0m \u001b[0msmart_corr\u001b[0m\u001b[0;34m.\u001b[0m\u001b[0mcorrelated_feature_sets_\u001b[0m\u001b[0;34m[\u001b[0m\u001b[0;36m4\u001b[0m\u001b[0;34m]\u001b[0m\u001b[0;34m\u001b[0m\u001b[0;34m\u001b[0m\u001b[0m\n\u001b[0m\u001b[1;32m      7\u001b[0m \u001b[0;34m\u001b[0m\u001b[0m\n\u001b[1;32m      8\u001b[0m \u001b[0;31m# build random forest with cross validation for\u001b[0m\u001b[0;34m\u001b[0m\u001b[0;34m\u001b[0m\u001b[0;34m\u001b[0m\u001b[0m\n",
            "\u001b[0;31mIndexError\u001b[0m: list index out of range"
          ]
        }
      ]
    },
    {
      "cell_type": "code",
      "source": [
        "# this variable will be dropped, and thus it is in the features_to_drop_ attribute\n",
        "for i in group:\n",
        "  print(i, i in smart_corr.features_to_drop_)"
      ],
      "metadata": {
        "colab": {
          "base_uri": "https://localhost:8080/",
          "height": 208
        },
        "id": "KcMTo5BqbGjW",
        "outputId": "650d5a02-bc02-4f8a-c5d0-791f587e5a42"
      },
      "execution_count": null,
      "outputs": [
        {
          "output_type": "error",
          "ename": "NameError",
          "evalue": "ignored",
          "traceback": [
            "\u001b[0;31m---------------------------------------------------------------------------\u001b[0m",
            "\u001b[0;31mNameError\u001b[0m                                 Traceback (most recent call last)",
            "\u001b[0;32m<ipython-input-53-bde821bad96c>\u001b[0m in \u001b[0;36m<module>\u001b[0;34m()\u001b[0m\n\u001b[1;32m      1\u001b[0m \u001b[0;31m# this variable will be dropped, and thus it is in the features_to_drop_ attribute\u001b[0m\u001b[0;34m\u001b[0m\u001b[0;34m\u001b[0m\u001b[0;34m\u001b[0m\u001b[0m\n\u001b[0;32m----> 2\u001b[0;31m \u001b[0;32mfor\u001b[0m \u001b[0mi\u001b[0m \u001b[0;32min\u001b[0m \u001b[0mgroup\u001b[0m\u001b[0;34m:\u001b[0m\u001b[0;34m\u001b[0m\u001b[0;34m\u001b[0m\u001b[0m\n\u001b[0m\u001b[1;32m      3\u001b[0m   \u001b[0mprint\u001b[0m\u001b[0;34m(\u001b[0m\u001b[0mi\u001b[0m\u001b[0;34m,\u001b[0m \u001b[0mi\u001b[0m \u001b[0;32min\u001b[0m \u001b[0msmart_corr\u001b[0m\u001b[0;34m.\u001b[0m\u001b[0mfeatures_to_drop_\u001b[0m\u001b[0;34m)\u001b[0m\u001b[0;34m\u001b[0m\u001b[0;34m\u001b[0m\u001b[0m\n",
            "\u001b[0;31mNameError\u001b[0m: name 'group' is not defined"
          ]
        }
      ]
    },
    {
      "cell_type": "code",
      "source": [
        "print('Number of variables before removing correlated: ', X_train.shape[1])"
      ],
      "metadata": {
        "colab": {
          "base_uri": "https://localhost:8080/"
        },
        "id": "-DaMGRCjbau5",
        "outputId": "24b40946-cbf5-44c7-eab4-7fde0fb3c074"
      },
      "execution_count": null,
      "outputs": [
        {
          "output_type": "stream",
          "name": "stdout",
          "text": [
            "Number of variables before removing correlated:  183\n"
          ]
        }
      ]
    },
    {
      "cell_type": "code",
      "source": [
        "# remove correlated variables\n",
        "X_train = smart_corr.transform(X_train)\n",
        "X_test = smart_corr.transform(X_test)\n",
        "print('Number of variables after removing correlated: ', X_train.shape[1])"
      ],
      "metadata": {
        "colab": {
          "base_uri": "https://localhost:8080/"
        },
        "id": "JMbYMFolbZqE",
        "outputId": "17cd9214-b55c-4629-e0e5-10d7288a9329"
      },
      "execution_count": null,
      "outputs": [
        {
          "output_type": "stream",
          "name": "stdout",
          "text": [
            "Number of variables after removing correlated:  183\n"
          ]
        }
      ]
    },
    {
      "cell_type": "code",
      "source": [
        "X_train.shape, X_test.shape"
      ],
      "metadata": {
        "colab": {
          "base_uri": "https://localhost:8080/"
        },
        "id": "iEUyJ9M_zRwe",
        "outputId": "6f441e64-de90-41c1-cbc3-ceadf03a2684"
      },
      "execution_count": null,
      "outputs": [
        {
          "output_type": "execute_result",
          "data": {
            "text/plain": [
              "((76020, 183), (75818, 183))"
            ]
          },
          "metadata": {},
          "execution_count": 63
        }
      ]
    },
    {
      "cell_type": "code",
      "source": [
        "X_train1 = X_train\n",
        "X_test1 = X_test"
      ],
      "metadata": {
        "id": "NLzNXs_K362Y"
      },
      "execution_count": null,
      "outputs": []
    },
    {
      "cell_type": "code",
      "source": [
        "X_train = X_train1\n",
        "X_test = X_test1"
      ],
      "metadata": {
        "id": "sACEKG5m4WAp"
      },
      "execution_count": null,
      "outputs": []
    },
    {
      "cell_type": "markdown",
      "source": [
        "## 1) 파이프라인으로 특성 고르기"
      ],
      "metadata": {
        "id": "T_WoE0wsbrT7"
      }
    },
    {
      "cell_type": "code",
      "source": [
        "pipe = Pipeline([\n",
        "    ('constant', DropConstantFeatures(tol=0.9995)), # 일정한 값인 특성들 drop\n",
        "    ('duplicated', DropDuplicateFeatures()), # 중복값 drop\n",
        "    ('correlation', SmartCorrelatedSelection( # 특성들 간의 상관성 높은 게 drop\n",
        "        threshold=0.98,\n",
        "        selection_method=\"model_performance\",\n",
        "        estimator=RandomForestClassifier(n_estimators=10, random_state=1),\n",
        "    )),\n",
        "])\n",
        "# find features to remove\n",
        "\n",
        "pipe.fit(X_train, y_train)"
      ],
      "metadata": {
        "colab": {
          "base_uri": "https://localhost:8080/"
        },
        "id": "7QpoSBTQcA2Z",
        "outputId": "0a891d43-80c2-432c-bf4e-652d9290a46e"
      },
      "execution_count": null,
      "outputs": [
        {
          "output_type": "execute_result",
          "data": {
            "text/plain": [
              "Pipeline(steps=[('constant', DropConstantFeatures(tol=0.9995)),\n",
              "                ('duplicated', DropDuplicateFeatures()),\n",
              "                ('correlation',\n",
              "                 SmartCorrelatedSelection(estimator=RandomForestClassifier(n_estimators=10,\n",
              "                                                                           random_state=1),\n",
              "                                          selection_method='model_performance',\n",
              "                                          threshold=0.98))])"
            ]
          },
          "metadata": {},
          "execution_count": 198
        }
      ]
    },
    {
      "cell_type": "code",
      "source": [
        "print('Number of original variables: ', X_train.shape[1]) # drop 전 컬럼 수 \n",
        "print('Number of original variables: ', X_train.shape[1]) # drop 전 컬럼 수 "
      ],
      "metadata": {
        "colab": {
          "base_uri": "https://localhost:8080/"
        },
        "id": "X8JIEnSscId2",
        "outputId": "d8b2b380-ccbe-4cdd-e306-20839ae93b87"
      },
      "execution_count": null,
      "outputs": [
        {
          "output_type": "stream",
          "name": "stdout",
          "text": [
            "Number of original variables:  369\n"
          ]
        }
      ]
    },
    {
      "cell_type": "code",
      "source": [
        "# remove variables\n",
        "X_train = pipe.transform(X_train)\n",
        "X_test = pipe.transform(X_test)\n",
        "\n",
        "print('Number of variables after selection: ', X_train.shape[1])"
      ],
      "metadata": {
        "colab": {
          "base_uri": "https://localhost:8080/"
        },
        "id": "WbVuGTilcGzy",
        "outputId": "35a3fd08-d42f-45aa-ada0-2a03b64f9d5e"
      },
      "execution_count": null,
      "outputs": [
        {
          "output_type": "stream",
          "name": "stdout",
          "text": [
            "Number of variables after selection:  182\n"
          ]
        }
      ]
    },
    {
      "cell_type": "code",
      "source": [
        "X_test.shape, X_train.shape"
      ],
      "metadata": {
        "colab": {
          "base_uri": "https://localhost:8080/"
        },
        "id": "-TXuHEvCzcsk",
        "outputId": "40d84059-14bc-4fd5-a3cf-86d9f5ac6998"
      },
      "execution_count": null,
      "outputs": [
        {
          "output_type": "execute_result",
          "data": {
            "text/plain": [
              "((22806, 182), (53214, 182), (75818, 182))"
            ]
          },
          "metadata": {},
          "execution_count": 208
        }
      ]
    },
    {
      "cell_type": "markdown",
      "source": [
        "## 2) 재귀적으로 기능 선택\n",
        "- 이 방법은 모든 기능을 갖춘 모델을 구축하는 것으로 시작합니다.\n",
        "- 그런 다음 모델에서 파생된 중요도에 따라 가장 중요한 것부터 가장 덜 중요한 것순으로 기능의 순위를 지정합니다.\n",
        "- 그런 다음 가장 중요하지 않은 기능을 제거합니다.\n",
        "- 새 모델을 학습하고 성능을 결정합니다.\n",
        "- 성능 저하가 크면 기능을 유지하고 그렇지 않으면 제거합니다.\n",
        "- 모든 기능이 검사될 때까지 3-5단계를 반복합니다."
      ],
      "metadata": {
        "id": "Ie-Hid_HfIv2"
      }
    },
    {
      "cell_type": "code",
      "source": [
        "# let's remove constant, quasi-constant and duplicates to speed things up\n",
        "\n",
        "pipe = Pipeline([\n",
        "    ('constant', DropConstantFeatures(tol=0.998)), # drops constand and quasi-constant altogether\n",
        "    ('duplicated', DropDuplicateFeatures()),\n",
        "])\n",
        "\n",
        "# find features to remove\n",
        "pipe.fit(X_train, y_train)\n",
        "\n",
        "# remove variables\n",
        "\n",
        "X_train = pipe.transform(X_train)\n",
        "X_test = pipe.transform(X_test)"
      ],
      "metadata": {
        "id": "rnC6ct7SfR9N"
      },
      "execution_count": null,
      "outputs": []
    },
    {
      "cell_type": "code",
      "source": [
        "rfe = RecursiveFeatureElimination(\n",
        "    estimator = RandomForestClassifier(n_estimators=10,, max_depth=3,colsample_bytree=0.5, min_child_weight=3), # the model\n",
        "    scoring=\"roc_auc\", # the metric to determine model performance\n",
        "    cv=3, # the cross-validation fold\n",
        "    threshold = 0.04, \n",
        ")\n",
        "\n",
        "rfe.fit(X_train, y_train)"
      ],
      "metadata": {
        "id": "NkjHOgfofZOf"
      },
      "execution_count": null,
      "outputs": []
    },
    {
      "cell_type": "code",
      "source": [
        "rfe.feature_importances_"
      ],
      "metadata": {
        "id": "YfEc2HokfdR5"
      },
      "execution_count": null,
      "outputs": []
    },
    {
      "cell_type": "code",
      "source": [
        "# plot of feature importance, derived from the Random Forests\n",
        "pd.Series(rfe.feature_importances_).plot.bar(figsize=(20,5))\n",
        "plt.ylabel('Feature importance derived from the random forests')\n",
        "plt.show()"
      ],
      "metadata": {
        "id": "wF4FhOSdfpl6"
      },
      "execution_count": null,
      "outputs": []
    },
    {
      "cell_type": "code",
      "source": [
        "# the number of features that will be dropped\n",
        "len(rfe.features_to_drop_)"
      ],
      "metadata": {
        "id": "xsiNnMOrf8Nw"
      },
      "execution_count": null,
      "outputs": []
    },
    {
      "cell_type": "code",
      "source": [
        "X_train = rfe.transform(X_train)\n",
        "X_test = rfe.transform(X_test)\n",
        "\n",
        "print('Number of variables after removing non important: ', X_train.shape[1])"
      ],
      "metadata": {
        "id": "BA_kipbSf924"
      },
      "execution_count": null,
      "outputs": []
    },
    {
      "cell_type": "markdown",
      "metadata": {
        "id": "sbD1MaUGVGIj"
      },
      "source": [
        "## 기능 전처리"
      ]
    },
    {
      "cell_type": "markdown",
      "metadata": {
        "id": "oXvIfi91Gxkn"
      },
      "source": [
        "### 불변 특성 제거"
      ]
    },
    {
      "cell_type": "code",
      "execution_count": null,
      "metadata": {
        "id": "dwlcnKlyVKUA"
      },
      "outputs": [],
      "source": [
        "def remove_const_feature(train=train_df,  test=test_df, threshold=0):\n",
        "    from sklearn.feature_selection import VarianceThreshold\n",
        "\n",
        "    vt = VarianceThreshold(threshold=threshold)\n",
        "    vt.fit(train_df)\n",
        "    const_feat = [x for x in train_df.columns if (x !='TARGET') and (x not in train_df.columns[vt.get_support()])]\n",
        "\n",
        "    print(\"Number of columns before: {} \".format(train_df.shape[1]))\n",
        "    train_df.drop(const_feat, axis=1, inplace=True)\n",
        "    test_df.drop(const_feat, axis=1, inplace=True)\n",
        "\n",
        "    print(\"{} features with 0 variance have been removed\".format(len(const_feat)))\n",
        "    print(\"Number of columns in train dataset after: {}\".format(train_df.shape[1]))\n",
        "    print(\"Number of columns in test dataset after: {}\".format(test_df.shape[1]))"
      ]
    },
    {
      "cell_type": "markdown",
      "metadata": {
        "id": "MtDqup79VKRc"
      },
      "source": [
        "### 준상수 특징 제거"
      ]
    },
    {
      "cell_type": "code",
      "execution_count": null,
      "metadata": {
        "id": "a-U3uZs4VKOm"
      },
      "outputs": [],
      "source": [
        "def remove_quasso_const_feat(train=train_df, test=test_df, threshold=0.0004):\n",
        "    from sklearn.feature_selection import VarianceThreshold\n",
        "\n",
        "    vt = VarianceThreshold(threshold=threshold)\n",
        "    vt.fit(train_df)\n",
        "    quasi_const_feat = [x for x in train_df.columns if (x !='TARGET') and (x not in train_df.columns[vt.get_support()])]\n",
        "    print(\"Number of columns before: {} \".format(train_df.shape[1]))\n",
        "    train_df.drop(quasi_const_feat, axis=1, inplace=True)\n",
        "    test_df.drop(quasi_const_feat, axis=1, inplace=True)\n",
        "    print(\"{} features with very little variance have been removed\".format(len(quasi_const_feat)))\n",
        "    print(\"Number of columns in train dataset after: {}\".format(train_df.shape[1]))\n",
        "    print(\"Number of columns in test dataset after: {}\".format(test_df.shape[1]))"
      ]
    },
    {
      "cell_type": "markdown",
      "metadata": {
        "id": "wn8inOYYb8lL"
      },
      "source": [
        "### 상관관계가 높은 기능 제거"
      ]
    },
    {
      "cell_type": "code",
      "execution_count": null,
      "metadata": {
        "id": "ZgNYZ6RCVKKo"
      },
      "outputs": [],
      "source": [
        "def del_correlated_feats(train=train_df, test=test_df, threshold=0.975):\n",
        "\n",
        "    correlated_columns=[]\n",
        "    correlations=train_df.corr()\n",
        "    for i in range(len(train_df.columns)):\n",
        "        for j in range(i):\n",
        "            if (correlations.iloc[i,j]>= threshold) and (correlations.columns[j] not in correlated_columns):\n",
        "                correlated_columns.append(correlations.columns[i])\n",
        "    \n",
        "    print(\"Number of columns before: {}\".format(train_df.shape[1]))\n",
        "    print(\"Number of columns before: {}\".format(test_df.shape[1]))\n",
        "\n",
        "    print(\"Number of correlated features being removed: {}\".format(len(correlated_columns)))\n",
        "    \n",
        "    train_df.drop(set(correlated_columns), axis=1, inplace=True)\n",
        "    test_df.drop(set(correlated_columns), axis=1, inplace=True)\n",
        "    print(\"Number of columns in train dataset after: {}\".format(train_df.shape[1]))\n",
        "    print(\"Number of columns in test dataset after: {}\".format(test_df.shape[1]))"
      ]
    },
    {
      "cell_type": "markdown",
      "metadata": {
        "id": "-GxXTuMsZ4o1"
      },
      "source": [
        "### 희소 특징 제거"
      ]
    },
    {
      "cell_type": "code",
      "execution_count": null,
      "metadata": {
        "id": "4EvzebmlZ4mn"
      },
      "outputs": [],
      "source": [
        "def remove_sparse_feats(train=train_df, test=test_df, threshold=0.996):\n",
        "    zeros=(train_df==0).astype(int).sum()\n",
        "    not_zeros=(train_df != 0).astype(int).sum()\n",
        "\n",
        "    sparse_columns=[]\n",
        "\n",
        "    for i in range(len(train_df.columns)):\n",
        "        if (zeros[i]/(zeros[i]+not_zeros[i])) > threshold:\n",
        "            sparse_columns.append(train_df.columns[i])\n",
        "\n",
        "    print(\"Number of columns before: {}\".format(train_df.shape[1]))\n",
        "    print(\"Number of columns before: {}\".format(test_df.shape[1]))\n",
        "\n",
        "    train_df.drop(sparse_columns, axis=1, inplace=True)\n",
        "    test_df.drop(sparse_columns, axis=1, inplace=True)\n",
        "\n",
        "    print(\"Number of columns in train dataset after: {}\".format(train_df.shape[1]))\n",
        "    print(\"Number of columns in test dataset after: {}\".format(test_df.shape[1]))"
      ]
    },
    {
      "cell_type": "code",
      "execution_count": null,
      "metadata": {
        "colab": {
          "base_uri": "https://localhost:8080/"
        },
        "id": "ucxT0i-sZ4aN",
        "outputId": "81c7c2ba-481b-4bd2-a67b-3c3375c4b109"
      },
      "outputs": [
        {
          "output_type": "stream",
          "name": "stdout",
          "text": [
            "Number of columns before: 369 \n",
            "34 features with 0 variance have been removed\n",
            "Number of columns in train dataset after: 335\n",
            "Number of columns in test dataset after: 335\n"
          ]
        }
      ],
      "source": [
        "remove_const_feature(train_df, test_df)"
      ]
    },
    {
      "cell_type": "code",
      "execution_count": null,
      "metadata": {
        "colab": {
          "base_uri": "https://localhost:8080/"
        },
        "id": "piOpSM5_b2jU",
        "outputId": "fcbf3f37-ddda-4fb5-f163-3691c357d06c"
      },
      "outputs": [
        {
          "output_type": "stream",
          "name": "stdout",
          "text": [
            "Number of columns before: 335 \n",
            "25 features with very little variance have been removed\n",
            "Number of columns in train dataset after: 310\n",
            "Number of columns in test dataset after: 310\n"
          ]
        }
      ],
      "source": [
        "remove_quasso_const_feat(train_df, test_df)"
      ]
    },
    {
      "cell_type": "code",
      "execution_count": null,
      "metadata": {
        "colab": {
          "base_uri": "https://localhost:8080/"
        },
        "id": "JRxInewJbwJ2",
        "outputId": "fdf72bde-6b40-4f68-aa87-219cc5b80b52"
      },
      "outputs": [
        {
          "output_type": "stream",
          "name": "stdout",
          "text": [
            "Number of columns before: 310\n",
            "Number of columns before: 310\n",
            "Number of correlated features being removed: 88\n",
            "Number of columns in train dataset after: 222\n",
            "Number of columns in test dataset after: 222\n"
          ]
        }
      ],
      "source": [
        "del_correlated_feats(train_df, test_df)"
      ]
    },
    {
      "cell_type": "code",
      "execution_count": null,
      "metadata": {
        "colab": {
          "base_uri": "https://localhost:8080/"
        },
        "id": "-sqf7qW4bwBt",
        "outputId": "110f7af6-1a19-4797-ceee-cd5d79e79b92"
      },
      "outputs": [
        {
          "output_type": "stream",
          "name": "stdout",
          "text": [
            "Number of columns before: 222\n",
            "Number of columns before: 222\n",
            "Number of columns in train dataset after: 122\n",
            "Number of columns in test dataset after: 122\n"
          ]
        }
      ],
      "source": [
        "remove_sparse_feats(train_df, test_df)"
      ]
    },
    {
      "cell_type": "code",
      "source": [
        "train_df.shape, test_df.shape, y_train.shape"
      ],
      "metadata": {
        "colab": {
          "base_uri": "https://localhost:8080/"
        },
        "id": "TpFxJyS3o4hq",
        "outputId": "b60a40ae-d665-40fb-decd-154928a596c6"
      },
      "execution_count": null,
      "outputs": [
        {
          "output_type": "execute_result",
          "data": {
            "text/plain": [
              "((76020, 122), (75818, 122), (76020,))"
            ]
          },
          "metadata": {},
          "execution_count": 232
        }
      ]
    },
    {
      "cell_type": "markdown",
      "source": [
        "# 5. 특성 공학(Feature Engineering)"
      ],
      "metadata": {
        "id": "a876PTZobnwe"
      }
    },
    {
      "cell_type": "markdown",
      "source": [
        "## JYP"
      ],
      "metadata": {
        "id": "dDGdd7R3ifDI"
      }
    },
    {
      "cell_type": "markdown",
      "source": [
        "#### Preprocess"
      ],
      "metadata": {
        "id": "jJinAcG0iwx6"
      }
    },
    {
      "cell_type": "code",
      "source": [
        "import pandas as pd\n",
        "import numpy as np\n",
        "from sklearn.decomposition import PCA\n",
        "from sklearn.preprocessing import normalize\n",
        "\n",
        "\n",
        "INPUT_PATH = '/Users/jyp/Desktop/ml_basics/team_project/data/'\n",
        "OUTPUT_PATH = '/Users/jyp/Desktop/ml_basics/team_project/data/'\n",
        "\n",
        "def process_base(train, test):\n",
        "    train.loc[(train['var38']>117310.979) & (train['var38']<117310.98), 'var38'] = -999.0\n",
        "    test.loc[(test['var38']>117310.979) & (test['var38']<117310.98), 'var38'] = -999.0\n",
        "\n",
        "    train.loc[train['var3']==-999999, 'var3'] = -999.0\n",
        "    test.loc[test['var3']==-999999, 'var3'] = -999.0\n",
        "\n",
        "    for f in ['imp_op_var40_comer_ult1', 'imp_op_var40_efect_ult3', 'imp_op_var41_comer_ult3', 'imp_sal_var16_ult1']:\n",
        "        train.loc[train[f]==0.0, f] = -999.0\n",
        "        test.loc[test[f]==0.0, f] = -999.0\n",
        "\n",
        "    return train, test\n",
        "\n",
        "def drop_sparse(train, test):\n",
        "    flist = [x for x in train.columns if not x in ['ID','TARGET']]\n",
        "    for f in flist:\n",
        "        if len(np.unique(train[f]))<2:\n",
        "            train.drop(f, axis=1, inplace=True)\n",
        "            test.drop(f, axis=1, inplace=True)\n",
        "    return train, test\n",
        "\n",
        "def drop_duplicated(train, test):\n",
        "    # drop var6 variable (it is similar to var29)\n",
        "    flist = [x for x in train.columns if not x in ['ID','TARGET']]            \n",
        "    train.drop([x for x in flist if 'var6' in x], axis=1, inplace=True)\n",
        "    test.drop([x for x in flist if 'var6' in x], axis=1, inplace=True)\n",
        "\n",
        "    # remove repeated columns with _0 in the name\n",
        "    flist = [x for x in train.columns if not x in ['ID','TARGET']]        \n",
        "    flist_remove = []\n",
        "    for i in range(len(flist)-1):\n",
        "        v = train[flist[i]].values\n",
        "        for j in range(i+1, len(flist)):\n",
        "            if np.array_equal(v, train[flist[j]].values):\n",
        "                if '_0' in flist[j]:\n",
        "                    flist_remove.append(flist[j])\n",
        "                elif  '_0' in flist[i]:\n",
        "                    flist_remove.append(flist[i])\n",
        "    train.drop(flist_remove, axis=1, inplace=True)\n",
        "    test.drop(flist_remove, axis=1, inplace=True)\n",
        "\n",
        "    flist_remove = ['saldo_medio_var13_medio_ult1', 'delta_imp_reemb_var13_1y3', 'delta_imp_reemb_var17_1y3', \n",
        "                   'delta_imp_reemb_var33_1y3', 'delta_imp_trasp_var17_in_1y3', 'delta_imp_trasp_var17_out_1y3',\n",
        "                   'delta_imp_trasp_var33_in_1y3', 'delta_imp_trasp_var33_out_1y3']\n",
        "    train.drop(flist_remove, axis=1, inplace=True)\n",
        "    test.drop(flist_remove, axis=1, inplace=True)\n",
        "\n",
        "    return train, test\n",
        "\n",
        "\n",
        "def add_features(train, test, features):\n",
        "    flist = [x for x in train.columns if not x in ['ID','TARGET']]\n",
        "    if 'SumZeros' in features:\n",
        "        train.insert(1, 'SumZeros', (train[flist] == 0).astype(int).sum(axis=1))\n",
        "        test.insert(1, 'SumZeros', (test[flist] == 0).astype(int).sum(axis=1))\n",
        "\n",
        "    flist = [x for x in train.columns if not x in ['ID','TARGET']]\n",
        "\n",
        "    if 'tsne' in features:\n",
        "        tsne_feats = pd.read_csv(OUTPUT_PATH + 'features/tsne_feats.csv')\n",
        "        train = pd.merge(train, tsne_feats, on='ID', how='left')\n",
        "        test = pd.merge(test, tsne_feats, on='ID', how='left')\n",
        "\n",
        "    if 'pca' in features:\n",
        "        pca_feats = pd.read_csv(OUTPUT_PATH + 'features/pca_feats.csv')\n",
        "        train = pd.merge(train, pca_feats, on='ID', how='left')\n",
        "        test = pd.merge(test, pca_feats, on='ID', how='left')\n",
        "    return train, test\n",
        "\n",
        "def normalize_features(train, test):\n",
        "    flist = [x for x in train.columns if not x in ['ID','TARGET']]\n",
        "    for f in flist:\n",
        "        if train[f].max() == 9999999999.0:\n",
        "            fmax = train.loc[train[f]<9999999999.0, f].max()\n",
        "            train.loc[train[f]==9999999999.0, f] = fmax + 1\n",
        "\n",
        "        if len(train.loc[train[f]<0, f].value_counts()) == 1:\n",
        "            train.loc[train[f]<0, f] = -1.0\n",
        "            test.loc[test[f]<0, f] = -1.0\n",
        "            fmax = max(np.max(train[f]), np.max(test[f]))\n",
        "            if fmax > 0:\n",
        "                train.loc[train[f]>0, f] = 1.0*train.loc[train[f]>0, f]/fmax\n",
        "                test.loc[test[f]>0, f] = 1.0*test.loc[test[f]>0, f]/fmax\n",
        "\n",
        "        if len(train.loc[train[f]<0, f]) == 0:\n",
        "            fmax = max(np.max(train[f]), np.max(test[f]))\n",
        "            if fmax > 0:\n",
        "                train.loc[train[f]>0, f] = 1.0*train.loc[train[f]>0, f]/fmax\n",
        "                test.loc[test[f]>0, f] = 1.0*test.loc[test[f]>0, f]/fmax\n",
        "\n",
        "        if len(train.loc[train[f]<0, f].value_counts()) > 1:\n",
        "            fmax = max(np.max(train[f]), np.max(test[f]))\n",
        "            if fmax > 0:\n",
        "                train[f] = 1.0*train[f]/fmax\n",
        "                test[f] = 1.0*test[f]/fmax\n",
        "\n",
        "    return train, test"
      ],
      "metadata": {
        "id": "UCv6yLB5ize_"
      },
      "execution_count": null,
      "outputs": []
    },
    {
      "cell_type": "markdown",
      "source": [
        "#### PCA\n"
      ],
      "metadata": {
        "id": "YduLqLgcinAI"
      }
    },
    {
      "cell_type": "code",
      "source": [
        "import numpy as np\n",
        "import pandas as pd\n",
        "\n",
        "from scipy.stats import pearsonr\n",
        "from sklearn.decomposition import PCA,TruncatedSVD\n",
        "from sklearn.preprocessing import normalize,StandardScaler\n",
        "\n",
        "\n",
        "\n",
        "from preprocess import *\n",
        "\n",
        "np.random.seed(981004)\n",
        "\n",
        "INPUT_PATH = '/Users/jyp/Desktop/ml_basics/team_project/data/'\n",
        "OUTPUT_PATH = '/Users/jyp/Desktop/ml_basics/team_project/data/features/'\n",
        "\n",
        "train = pd.read_csv(INPUT_PATH + 'Santander Customer Satisfaction_train.csv')\n",
        "test = pd.read_csv(INPUT_PATH + 'Santander Customer Satisfaction_test.csv')\n",
        "\n",
        "train, test = process_base(train, test)\n",
        "train, test = drop_sparse(train, test)\n",
        "train, test = drop_duplicated(train, test)\n",
        "train, test = add_features(train, test, ['SumZeros'])\n",
        "\n",
        "flist = [x for x in train.columns if not x in ['ID','TARGET']]\n",
        "\n",
        "pca = PCA(n_components=2)\n",
        "x_train_projected = pca.fit_transform(normalize(train[flist], axis=0))\n",
        "x_test_projected = pca.transform(normalize(test[flist], axis=0))\n",
        "train.insert(1, 'PCAOne', x_train_projected[:, 0])\n",
        "train.insert(1, 'PCATwo', x_train_projected[:, 1])\n",
        "test.insert(1, 'PCAOne', x_test_projected[:, 0])\n",
        "test.insert(1, 'PCATwo', x_test_projected[:, 1])\n",
        "pca_feats = train[['ID', 'PCAOne', 'PCATwo']].append(test[['ID', 'PCAOne', 'PCATwo']], ignore_index=True)\n",
        "pca_feats.to_csv(OUTPUT_PATH + 'pca_feats.csv')"
      ],
      "metadata": {
        "id": "d9vWOi4GiiAE"
      },
      "execution_count": null,
      "outputs": []
    },
    {
      "cell_type": "markdown",
      "source": [
        "#### TSNE\n"
      ],
      "metadata": {
        "id": "jSVBjH-iirD3"
      }
    },
    {
      "cell_type": "code",
      "source": [
        "import numpy as np\n",
        "import pandas as pd\n",
        "\n",
        "from scipy.stats import pearsonr\n",
        "\n",
        "from sklearn.decomposition import PCA\n",
        "from sklearn.preprocessing import normalize,StandardScaler\n",
        "from sklearn.decomposition import TruncatedSVD\n",
        "from sklearn.manifold import TSNE\n",
        "\n",
        "from preprocess import *\n",
        "\n",
        "np.random.seed(981004)\n",
        "\n",
        "\n",
        "INPUT_PATH = '/Users/jyp/Desktop/ml_basics/team_project/data/'\n",
        "OUTPUT_PATH = '/Users/jyp/Desktop/ml_basics/team_project/data/features/'\n",
        "\n",
        "train = pd.read_csv(INPUT_PATH + 'Santander Customer Satisfaction_train.csv')\n",
        "test = pd.read_csv(INPUT_PATH + 'Santander Customer Satisfaction_test.csv')\n",
        "\n",
        "train, test = process_base(train, test)\n",
        "train, test = drop_sparse(train, test)\n",
        "train, test = drop_duplicated(train, test)\n",
        "train, test = add_features(train, test, ['SumZeros'])\n",
        "\n",
        "flist = [x for x in train.columns if not x in ['ID','TARGET']]\n",
        "\n",
        "### add TSNE features\n",
        "X = train[flist].append(test[flist], ignore_index=True).values.astype('float64')\n",
        "svd = TruncatedSVD(n_components=30)\n",
        "X_svd = svd.fit_transform(X)\n",
        "X_scaled = StandardScaler().fit_transform(X_svd)\n",
        "\n",
        "model = TSNE(n_components=2)\n",
        "feats_tsne = model.fit_transform(X_scaled)\n",
        "\n",
        "feats_tsne = pd.DataFrame(feats_tsne, columns=['tsne1', 'tsne2'])\n",
        "feats_tsne['ID'] = train[['ID']].append(test[['ID']], ignore_index=True)['ID'].values\n",
        "train = pd.merge(train, feats_tsne, on='ID', how='left')\n",
        "test = pd.merge(test, feats_tsne, on='ID', how='left')\n",
        "\n",
        "feat = train[['ID', 'tsne1', 'tsne2']].append(test[['ID', 'tsne1', 'tsne2']], ignore_index=True)\n",
        "feat.to_csv(OUTPUT_PATH + 'tsne_feats.csv', index=False)"
      ],
      "metadata": {
        "id": "2ph4cYCFih3i"
      },
      "execution_count": null,
      "outputs": []
    },
    {
      "cell_type": "code",
      "source": [
        ""
      ],
      "metadata": {
        "id": "6kFe4X8jihrD"
      },
      "execution_count": null,
      "outputs": []
    },
    {
      "cell_type": "markdown",
      "source": [
        "# 6. 모델링 (MODELING)"
      ],
      "metadata": {
        "id": "b6jwHTjxbnvS"
      }
    },
    {
      "cell_type": "markdown",
      "source": [
        "#### XGBOOST 사용"
      ],
      "metadata": {
        "id": "an33BzmxbxT3"
      }
    },
    {
      "cell_type": "code",
      "source": [
        "#dataframe manipulation\n",
        "df_train,df_test= process_base(df_train,df_test)\n",
        "df_train,df_test= drop_sparse(df_train,df_test)\n",
        "df_train,df_test= drop_duplicated(df_train,df_test)\n",
        "df_train,df_test= normalize_features(df_train,df_test)\n",
        "\n",
        "#for xgboost\n",
        "df_train, df_test = add_features(df_train, df_test, 'SumZeros')\n",
        "df_train, df_test = add_features(df_train, df_test, 'pca')\n",
        "df_train.pop('Unnamed: 0')\n",
        "df_test.pop('Unnamed: 0')"
      ],
      "metadata": {
        "id": "iFTw2YgMjJSf"
      },
      "execution_count": null,
      "outputs": []
    },
    {
      "cell_type": "code",
      "source": [
        "from sklearn.model_selection import train_test_split\n",
        "y_labels = df_train.pop('TARGET')\n",
        "X_features = df_train\n",
        "\n",
        "\n",
        "x_train, x_test, y_train, y_test = train_test_split(X_features, y_labels,\n",
        "                                                    test_size=0.3, random_state=0)\n",
        "train_cnt = y_train.count()\n",
        "test_cnt = y_test.count()\n",
        "print('학습 세트 Shape:{0}, 테스트 세트 Shape:{1}'.format(x_train.shape , x_test.shape))\n",
        "\n",
        "print(' 학습 세트 레이블 값 분포 비율')\n",
        "print(y_train.value_counts()/train_cnt)\n",
        "print('\\n 테스트 세트 레이블 값 분포 비율')\n",
        "print(y_test.value_counts()/test_cnt)"
      ],
      "metadata": {
        "id": "BV5SeHTniASx"
      },
      "execution_count": null,
      "outputs": []
    },
    {
      "cell_type": "markdown",
      "source": [
        "#### Classifier적용후 CalibratedClassifier(확률 조정 값)"
      ],
      "metadata": {
        "id": "KjP-iyNaiLNF"
      }
    },
    {
      "cell_type": "code",
      "source": [
        "from sklearn.calibration import CalibratedClassifierCV\n",
        "from xgboost import XGBClassifier\n",
        "xgb_classifier = XGBClassifier(missing=np.nan, max_depth=6, \n",
        "n_estimators=350, learning_rate=0.025, nthread=4, subsample=0.95,\n",
        "colsample_bytree=0.85, seed=4242)\n",
        "\n",
        "xgb_mdl = CalibratedClassifierCV(xgb_classifier, method='isotonic', cv=10)\n",
        "xgb_mdl.fit(x_train,y_train)"
      ],
      "metadata": {
        "id": "z9FATcWLcHnn"
      },
      "execution_count": null,
      "outputs": []
    },
    {
      "cell_type": "code",
      "source": [
        "probs_xgb = xgb_mdl.predict_proba(df_test)"
      ],
      "metadata": {
        "id": "NMTCHobOiEfK"
      },
      "execution_count": null,
      "outputs": []
    },
    {
      "cell_type": "markdown",
      "source": [
        "# 7. 내보내기(output)"
      ],
      "metadata": {
        "id": "WqscuMOPcCXr"
      }
    },
    {
      "cell_type": "code",
      "source": [
        "submission1 = pd.DataFrame({\"ID\":df_test.ID, \"TARGET\": probs_xgb[:, 1]})\n",
        "submission1.to_csv(\"submission_xgb.csv\", index = False)"
      ],
      "metadata": {
        "id": "MXIgTjJbcH5l"
      },
      "execution_count": null,
      "outputs": []
    },
    {
      "cell_type": "markdown",
      "source": [
        "### 8. 캐글 업로그 결과"
      ],
      "metadata": {
        "id": "n6xh4hkIp796"
      }
    },
    {
      "cell_type": "markdown",
      "source": [
        "#### 1\n",
        "![image.png](data:image/png;base64,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)"
      ],
      "metadata": {
        "id": "-v3KvIftqANN"
      }
    },
    {
      "cell_type": "markdown",
      "source": [
        "2![스크린샷 2022-04-26 오후 3.55.31.png](data:image/png;base64,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)"
      ],
      "metadata": {
        "id": "n9X1-O7qr9qU"
      }
    },
    {
      "cell_type": "markdown",
      "source": [
        "![캡처.PNG](data:image/png;base64,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)"
      ],
      "metadata": {
        "id": "3Tg4-ANjsFgG"
      }
    },
    {
      "cell_type": "markdown",
      "source": [
        "## 캐글 순위"
      ],
      "metadata": {
        "id": "YiIyjkO0uuks"
      }
    },
    {
      "cell_type": "markdown",
      "source": [
        "![image.png](data:image/png;base64,iVBORw0KGgoAAAANSUhEUgAABEIAAAKnCAYAAACCm+hyAAAAAXNSR0IArs4c6QAAAARnQU1BAACxjwv8YQUAAAAJcEhZcwAAFiUAABYlAUlSJPAAAP+lSURBVHhe7N0HYBRFGwbgN703AoTee+8dKQqIoOivWCgKKNgp9oIVRKUXBbsoVqqCioAKKL333ntNSCf1/vnmdsMlXJJLSCDh3keX3O3t7W2dnfl2ZtbFooCIiIiIiIiIyAm4Gn+JiIiIiIiIiG56DIQQERERERERkdNgIISIiIiIiIiInAYDIURERERERETkNBgIISIiIiIiIiKnwUAIERERERERETkNBkKIiIiIiIiIyGkwEEJEREREREREToOBECIiIiIiIiJyGgyEEBEREREREZHTYCCEiIiIiIiIiJwGAyFERERERERE5DQYCCEiIiIiIiIip+FiUYzXeWLap19g7fqNxrsrXF1dERpaBLd2aIfbOraHu7u78Un24uMvY/ykj/Tr54Y8Ax8fb/06I3O6IiHBePLxxxz+3o304egx+OSTz4x3V3h5eaFevbro26c37rijK9zc3IxPrhYfH49XX31dv37//ffUevro13nlwoULmDV7Dh568EEEBwcZY4mIiIiIiIgKn3ypESKF9np166B1qxZpQ9PGDZGQkIifZ83FvF8XII/jL4Wan5+fDngMHvxM2tC//yOIiorGc8+/iB9+/OmGbq9/li7D4sVL1DKkGmOIiIiIiIiICqd8qRGybccuvDDsWVSuVNEYaxUdE4OxE6YgWhXwX35xGMKKFzM+yVpua4QUBlIjZMGC3zH96y9RpUplY6xVdHQ0XnjxZZw+fQaff/YJwsKKG59cXzNnzcaPP/6Er778HCEhIcZYIiIiIiIiosLnuvYREuDvj/p16yD+8mXExMTowMV7H4zVwRNbmY2XmM2qNWsx+LmX0X/gU3jtjXewfeeuTGtLmPORQV6b9uzdh3dGfoABg57Wg7yWcQVNQEAAOrRvh/DwcB0UkSYwQ4c+h5EjR+Gjj6eiRs066N37YRw+fFiPl0Gm+XjqNHTrfhfOnDlrzMlK5nPvfffr78o2S0lJwYIFv+lxVavVRMVKVdH1ju6YO3ee/kxIoObll1/Fli1b0ahxM/3edOzYcQweMkwvhwxPPfUMdu3abXxKREREREREVPBc10CIFL4jIyPh6uKSZZ8XmTl8+AhmzZ6HVi2aok+vB/S4SVOmYcOmzfq1I9asW69rpUizk57/u1sP8vqjaZ/h8JGjxlQFg2yvCxcvwl1tKze3K7tKmsps3rwFH02ZhF69HkSRIkWMT6zat2uHs2fPYdfu9EGJ/fsP4ODBQ2jTurV+/9133+PFl15B06ZN8OUXn2HK5Im6xsfLr7yGRYsW62nuubsHBg58DBUrVsTUqR/p92Lt2nW4r+cDiI2JwaSJ4/WQkJCAXr37YuWqVXoaIiIiIiIiooLmugVCEhOT8Nc/y7By9VqUKlUSYcVz3szD3cMdQ559Eg/ef5/udPXVl59H6dKlsHjJP+lqfGQmLi4eixb/rb/z9puvouvtnfTw4nOD4e3tjQ0bHQ+o5LekpCT8+ecifPHFV2jQoD5KlChhfAKUK1cOI0e8g9tuuxXdut0BT09P4xOrihUroGmTxvj33//SanZIUEXeN2vWFFWrVtE1TCSY8fjjA/HiC8/jllvaonv3bpgwfhxq1qyJ7Tt26O9Vq1ZNN9kJCgpEi+bN9Pu4uDhMn/6N7sR12rSP0aVLZz189tkn+N//7sZ3M77X0xAREREREREVNPkSCJHmGSNGjUa/x55MGwY9NRjf/zgTgYEB6PVgz1w9waVSxYrp+h0xm9qcOnUaZ8+dM8Zm7tz58zh37jwaNainv2sqUSIMYz8YiZ733m2Mub5OnjyJTp1v101TzKFa9Vp46ulnUaFCeQwe/Gy6J8HUqF4NwcHBxrur+fr6olXrVli/fj3On7+gx0VERGDN2rVo27aN7pw1MDBQ1/AYNnRIuto5sn8qVaygA0tmECWjE2p5t27bjhC1DOvXb8DKlav0sGbNWri7e2D7jp16nxAREREREREVNPkSCLH31JhOt3bQHZ1+MPIdVFSF+9wIDPC/qvZDubJlcDkhQTdvyU54RATi4uNRulQpY0zBYO+pMa+//irmzZ2NWTN/QqUMnc46omWLFoiMjEprHiPNYqTTVakpYkuCHadPn9aBjE8//RyPPjYIv/+xEJfUtkpMTDSmSi8iPEJ/Z+KkyejT95F0w+eff4GzZ8/i0qUIY2oiIiIiIiKigiNfAiESrOhx5x0YOOCRtKH3Q/ejXt3a6jMPY6q8I/1neHhkP9/UlNRMO1a9kaR2x8MP99W1M8zhsUcH6CYxjqyXPeXKlUXrVi2xetVqHeyQZjH169XVzWqEbIfffvsdLVu1RavWt2DYcy9g+b//6v5CGjZsoKfJzk8/fo/Dh/ZfNezftxtNmjQxpiIiIiIiIiIqOK5bHyFZiYmN032ImBISE3DpUqTx7oqM04ljx0/Ay8sLAf5+xpjMFS0aCj9fX5w8dcoYYyU1Sj4cOwHTPvsSycnJxtjCTYJRbdq0xtp167Fnz17dLKZDxw662Yw4dvw4xk+YhO7d78C2rZuwbu0q/PD9DAwa+FiWzW6Ev78/QkND+YQYIiIiIiIiKnRuaCBEmtBIgf3ixYuIi7/SueauXXt0M5aMDh0+gqPHjhnvoPu/kIJ+mdKlUbx4MWNs5ooXK6an27RlG6JjYoyxwPHjJ3Dk6HGUKlkC7u7uxtjCr0GDBki4fBm/zl+AqKgoNG/ezPgEOHP6jH7s7q23dtSP6TUdPHgQ27ZtM97ZZ3bG+scfC/XTaUxS82TMmHHo2fNB3XSGiIiIiIiIqKC5oYEQaSZTv14dnD13HlM/+QL/rliF6d9+j9lzf0VwcJAxVXrymNs58+Zj4Z9L8MGYCYiNi8O999ylAyrZ8fX1QZfOt+LkyVN4/8Nx+Hvpcvz2x5+YOGUaggID0KZ1S2PKm4N0AtuocSPdb0ejhg1R0ubJMyVKlkC1qlXx+utvYt68X3TTmQ9Hj8FjA5/QT9exJR3LSh8js+fMxb59+3Stkj59e2P/gQN44MFe+vvyuN0XXngJX0//Bvc/0DPdU26IiIiIiIiICoob3jSmY/tb8L+778Kp06fx9TffYZ8qcD/a/2FUsdNBaN06tdDt9i5YuvxfzJwzD/4B/nh+6LOoUrmSMUX2WjRriheGPaub08hTbH6Z/zuqV6uCV158DqFFihhT3Rykf5FOnW7Tr9u3b5cuWFS+XDmMHTda9yXy0suvYvCQYTh18hS+mzFdP1JXat+YHdDKI3c7duyA0aPH4tPPvkBCQgJat2qlm9LUqlkDr742HM88O0Q3t5n68RTc+7974OLior9LREREREREVJC4WApi76FERERERERERPmgQHSWSkRERERERER0PTAQQkREREREREROg4EQIiIiIiIiInIaDIQQERERERERkdNgIISIiIiIiIiInAYDIURERERERETkNBgIISIiIiIiIiKnwUAIERERERERETkNBkKIiIiIiIiIyGkwEEJEREREREREToOBECIiIiIiIiJyGgyEEBEREREREZHTYCCEiIiIiIiIiJwGAyFERERERERE5DQYCCEiIiIiIiIip8FACBERERERERE5DQZCCoCUlBTjVeF3M60LERERERER3XxcLIrxmq6zdevWY8mSv7Bx0yZs3rzFGFu4NWzYAI0bNUKnTrehWbOmxlgiIiIiIiKigoGBkBvomWeH4Pff/zDe3Vy6dbsDH02ZZLwjIiIiIiIiKhgYCLmBKlaqary6OR0+tN94RURERERERFQwsI8QIiIiIiIiInIamdYI2X/wqPGKiIiIiIiIiKhgqFq5vPEqd9g0hoiIiIiIiIicBpvGEBEREREREZHTYCCEiIiIiIiIiJwGAyFERERERERE5DQYCCEiIiIiIiIip8FACBERERERERE5DQZCiIiIiIiIiMhpMBBCRERERERERE6DgRAiIiIiIiIichoMhBARERERERGR02AghIiIiIiIiIicBgMhREREREREROQ0GAghIiIiIiIiIqfBQAgREREREREROQ0GQoiIiIiIiIjIaTAQQkREREREREROg4EQIiIiIiIiInIaDIQQERERERERkdNgIISIiIiIiIiInAYDIURERERERETkNBgIISIiIiIiIiKnwUAIERERERERETkNBkKIiIiIiIiIyGkwEEJEREREREREToOBECIiIiIiIiJyGgyEEBEREREREZHTYCCEiIiIiIiIiJwGAyFERERERERE5DQYCCEiIiIiIiIip8FACBERERERERE5DQZCiIiIbpDY2FhcuhSJ1NRUYwwRERER5Te3txXjdTqLFi3Ggt9+w5o1a+0Ou3ftQbVqVXHixEnMm/erfu3p6Wl8+8aLjo7Gs4OHYtPmzWjdqhXc3NyMTwqODRs2YNWqNahatcp1Wb68/D05PrZs2Xrdlj0nDh06nOUxefLkSfTp2w9x8XFo1LChMfb6kwLQd9/9gKCgIISEhBhjr1126389JCUl6WWIi4tFqVKljLHXxtFzuiCs/422ZMlf6PtwPzRr3hRhxYsbYwuWvDr+d+zYie9/+PGqa1RUZBSqVKlsTAVYLBbs3LkL48ZNwGeffYFz586iUqVK8PX1NaYAUlJS8Msvv+LNN9/BiZMnUKNGDfj4eBufAlu3bsPy5ct1uufu7m6MzZ3ExERMmDAJAwc9gZkzZ6FNm9YoXryY8WnW8ivtKOicdb2JiIgo7zlUIyQ+/jJ+/nkmTp06ZYy54vz58zpgIpm6gkQyqVWrVEHFChXg6pp3FV+OHj2qC2Py91odOnwEK1asQHJysjEmf+Xl723ZuvW6LntOZHdMSsGndu1aeVZAzy1ZPllOWd68lJtzMiEhASNHjsIffyw0xlwbOS7k+JBjLq/YO6clGCfno9xRNxXUNOl6Klq0KBo3boTAgABjTP7JbZqYV8f/rt278efCRUhOyjot+nPRYvTq3RchRUIwYEA/bN68BY/0G4Djx08YUwB//fU3li3/F5MmjYcl1YLvf/hBB1DEuXPnMWHiJFSrVg1eXl563LXYtWs3fvvtd8z8+UesWb0CNWvWMD5Jz94xnl9ph+nTTz/XQ36wtz6Oyu165+f6EBERUeGUaYSgS5fOGDZ0iB6efGIQSpYsifvuvTdtnGQk/fz8jKkLHh8fH7z44vN4+OG+eVpjIUllto8fP67/UuEkdxLfHzUSXW/vYowhqZZ/4cIFxMTGGmMKHnvntARwTpw4oQqrbFZgq2HDBpgyeSLKly9vjMk/NzpNPHz4MDre2kEfG+b1SQa5hpnOnj2nCsKf4Y03XsfLL72Irl1vx5Qpk3SNj2+/naFrgggJ8ErNDAmSyt8D+w/g8uXL+vNvvvkWzZs3Q4MG9fW010qOXQnKVKhQXgf5MgvY34hj/FLkJT3kh5ttfYiIiKhwyrOqEuHhERg/YSLuvudeDBgwECtXrUq7k2Y6c+YMxowZlzbNP/8sTcuA2mPeOTp9+jSmffKp3Xmbd7IXLPgNC/9cpO/4yZ0fc7x5h/vX+Qvw+vA3EBcXp9+bNmzciMcGPq5/Qxw7dlx/T35L5vXtjO/Ud+L1ZzKvZ54dgn379uu/Ge9q7VeZ5tdef0N/Vz6TeWfcBtlxZBtltYwmef/lV1+jZ88H07aZPVn9Xmbb1tbJk6cwbNjz+vuy7rJsGdlulyeffFovi217eHkt4+Qze9NktRxyh3C+Gi/jZJBpklOyLpDJPpP9I8eXSYIA5vFrzierY1NIAWn27Ll6etnOUt0+KirK+DT79bJHflP2gewL+Y7sG9lHJnt3UzMe6/ZkdczInfzHn3hK3wn/6KOP9TS228aR41rmb04jf+W4yIpsb9keMi+TNH154cWXdcHUJL8zddonerni4+PTraccA3JO7969RzcDkc9kW5gcSZMyyu7ckt+Wz6VJ4HvvvZ+2TeTuvsk8vjZt2oxly5anHR9ffTVdHzMmc1/u27cPb775tq6dYNaqyHheSs0Bs4aL/LakWf/++59+L+S4kXWV78g2yHicmMt98OChtPP1k08+08sjyy7TyrhJk6YgJiZGf0dkdwxnlSZmdyzbkn379jsjMHPWbGOMlbn/pTmLvdpnsq5SU6N4sayb/+zctUsHz27t2AEuLi56nNQMu7/nfVi9Zg3On7+gx0lAItU4723TkeVqWx86dAh9evdK+35WMqYNcvzKMS/M89X22LXdbrayO8ZlGSWtyuwYE45cU0zmsTtnzjw9yHds05Xs0jyRVVqa3frYkn0vzZ7MY1PmKed0RvJ7sn1leTJu6+zWx5FrKREREd2cMu0jxJZkfiSQIHfIypQpbYy1kv4WflcZi/0qM1+5cmV0u6OrLtBMmDgZzZo2RcmSJfR0+/bvx6OPDUKxYkVVZrI3ypYtg9EqcxYZGamns3c37OjRY/jxp591Jtvf309lWnvC1c0VY8eMR1BwMGrVrKn7IpCM1n//rdB3Bns99KCuYlykSBE9PqxECd0Mwt3NXWXCPkPjxo1RQo0Tkjn7Zvq3at7+uKPr7Thw8KAuYAQGBeq7zrVr19Zttw8cPKDXXTLOsvx79uzFwIGPokP7W9T2KKMz2FI4GPT4k2jWrKleTumbYOSI99KW017mWTLncif1tttuhYeHh0PbSKbJahllGgn2vKEKVlIQGzCgP+rWqa3b0Mty+3h7O/x7UvCwt23DwsKwcuUqXdhau24dbr+9iypgdMShw4fw8dRpaNGyBUJDQ/U6Ztwu3t4+eP/9DxEcYt0uYs7ceRg+/C19B/fe/92TNk3lKpVRsWKFTPexVP//6OOpmK724YD+/dCqVStdtV36B5CCVY8ed+laBBnJZzO++x4tW7TQx7MUpIYOfV79rpfeDjVr1cTnX3yJJFXwrF+/nt19J9t4+BtvYfXq1XjkkYf1Oi/56y/Mm/sL2qvjQn43u/XKeF7J8Th5yke6cPHww330Nt21e5ce17p1a3VMh+hz4o+FC9HjrjvT1s3cPuaxLufkipUr09Y/u2NGjgWp8XX02DG9DWX7St8K8l1HjmuZ/6DHn9DHj2w/Ty9PfPb5FzitCmD169fXy5SRNC3YqI7PiIgIfayJAwcOYqJKN5LUcddRFVjltyQt+fSzz9G5c2eUVeea7XoGBgaodQrCkSNH1f4boubTRB+bp06ddihNysiRc2uzOuaXLluGdevXq2Owpp63nC/vfzAatWrXRLmyZdOOr7NnzmLL1m3orQrPNWpU1/OS5hhtjW0u+/LLr77Chg2bUKdubXTrdodOT46fOHHVeSnLHhUdpZc/SC2fHDvSXLFDhw7quPLG+vUb1HnwDYYMHaz7BMl4nMhy//7HHzotlfO1tjrGP1XH2f4D+/Uy3aWmq1G9OqZ/M0M3O2jdupXet9kdw/LeXpooMjuWzfTB9vivUKECzkmTJrV/b7u1Y1rTE90cZcIk3HPP3WpfVtLjbEkhWgKhUqtCCvzSbEJqf5QrV05vY5NsCw8PT9yu1sO2hqAUtn///Q99fMt1wUetz+gxY+UDXeDv0rmTXj8JJLz88osONaezlzb8s3QZ5s37Bbfccou+loWGFtHXKPPYbaWmMa8ltjI7xmW9ZdvJsS6F/vvv74mSpUrqdCslNQVN1HXOPDdzct2V9yVLhOFieLhenkEDH9NNgeSYyyzNmz17jl4vqSGaXVqa2fpkXA6xSv3OU089i7ZtW+u0R9ZTrmMSZJX9YqbdEug4c/Ys+qllat6iud7WEuxp307SYe9M18eR852IiIhuYiojmK3w8HDL3ffca1EFTGPMFTKudp36luXL/zXGWCwqk2Z56aVXLGPHjU97/9rrwy3jJ0y0qMK1Hie2b99h6XJ7N8vu3buNMenJvCtUrGJRGXxLamqqMdZi+fufpZYed//PcubMWYvKnFmGDBlmUZkhS2xsrDGFJW38zzNn6ffmMqmCs34v5Psyn2XLluv3x4+fsPz22+96WtOGjRv1up8+fUa/37//gP6O/DVFRFyyPNJvgGXmrNmZLqc9smyyjLKsjm4jR5Zx/vwFlvvueyDd78oy9urVN0e/l9m2FR98ONrSvEUrPb1J5vPOuyMsI0eO0q/N38y4/+RYub1rN8uRo0ctqvBvWbduvWX9+vXGpxY97ZSPPra89fa7ej6ZLYes9623dbbs3bvXGHNlP8v2kOPWnozHs/zNOP3hw4ctW7duTbfctlThyXLnXfdYTp06ZYyxbuOhw563LF26zKH1yrgcmzZttnTo2CndNpX1GfX+B5bvvvtBv7e3rBmP9YzTOHLMZJyHcOS4Nrf36NFj0x1HMn9JF2znl9Effyy09On7iEUVyvR7mfahXn30sWueX6qQbunW/S7LsWPH7S6jve0h47JLk+xxZDvJb1epWkNvA5NsGznGn3jiKX18mvt10ONPWqKiooypLPpYkWPGTG+yWk45j2y3pxzjcqzL8giZr8z/p59n6u1nvjb3U8btIsstx5accyZ742S9ZPvLvnfkGBb20kQ5lu/odqdl7759xpir0wdzO8myClkOSRdkn5tkW2WVhprzqN+gseVxtf2HD3/T0rRZS0vnzl0t+/btN6ayplcyZJRxGYTspyVL/rLs2LHTEh8fr9NJ222bHUl/5Zi1TRvkuJD0S7ZdZvsoM/amM5c743lnpv2y/+RYys11V9jbXpLmSXp+9uw5Y8yV4/DbGd/p9/aWNWNa6sh6m9eOjNtd1k/yBOb+knn88uv8dOeZHEdynsn+M9lbH0fOdyIiIrp55cktj/Lly+m7LCa5k1sktEhaVWapzqoyyejcqVO6O15yR7FcubI4nEWHinKnumWrlunuytevVxcqb4QjR658T+6o2fb+n5EsU/v27bBq5eq0Ksh79uyBh7sH6tato9/LHSa5KyvTqsyXnu70qdP6brJtdfGM5A68KqShbZs26ZbTvGNuNrvJiqPbKLtllNoBq1avQfsO7RAWdqW6eHBwkK4JYsrJPsls2zZt2lQ/dcEk87n11o66uYNUl5btEh4Rrmsz2G4XaWMvtTk2bdyk77o1bdoETZo00Z/J8ks1dZXBxaWIiLTmACLjcqjMsF6GihUrGmOs+7lLDvv+8PX10b+5eMlfej8KuUNdr5792iBSc2Pd+g3o0qWTPj5Nso0njB+rj7OcrJdJathIHwTVq6c/l1595WX07v2QMSbn8vO4lrvvUrOpU6fb0h1HUruglTpvs1Krdi1ERkbpzipl+0jNBGmqUKVqFXVs7tfTyLjatWqlO5YdkV2aZI+j20lqgkgaZJJtIWnUSTWt3KE3dVDHQYBNZ6VS46BFi+ZYs3atMQb6/LGtMSPnpWzPLp3T11yQY1yOdWlqI2S+Tzw+CD/++BOmTPlY16C4s3s3u8erSX6nWNErTyUpX66cvjNu26Gqnzq/pLmF9N+Qm2PYJMeyLG/lDOlDG3Us7dm7Vz/9I6NS6lxq0KCBrs2krk36PFuxYqV+QlBmT1MJDAzE1199idWr/sMn0z7GiBHv4J+/F+tj64svvsxyGTMj57SklbK9pBlFQkKi3rayTLLc8jczssxS06ndLbek1TwUkm5Jn0TLl/2rj/m80rhJ43THSfHixdP237VcdzMy0zzZLrb7Qo7DFs2b6+ZVcnzkNC3NjFzbI6MiVZqf/tovx1StWtaahEL6e5JaT7Icsl/kunPm9Bl9jGaVtoncpotERER0c8iTQIhkJLy8Mn9MpWQqpIDQ/c4eqFipatpQp24D/ZjH6CwyHVIAKqYKzbZ8fHx1QUeq8ptcbTJ6mWnUqJHOGB88dFBn7JaqQkW79rekPYZPqmpLG+uud3RH5SrV0aJla121OzuyflI1vWWrNunWT95LgSAhkzbQthzdRtktoxT04lUGtFixqwsOfv5XOrfNyT7JbNtKgcH20ZJCfjclJRUXL1ozolJtX6qB25Iq66FFiugmEEIK3NKvRLPmrVCtei29TOvWrdef2cq4HDJ/CT7YVoEXUpjLiTp16uDVV17S/SPUrlNfb1vpXyWztuJyDElB0N42tuXoepnOnT9nd32uVX4e1zJIvwrSvMyWFKJ9jaY7mSmutl8lVSiTgr8cL/JUqoaNGuqA11q1naTQuXXrVl3YkzQmJ7JLk+xxdDvJMmcMDMrxLC5evKj/CtsAnZACnXxXClvSfEa4ubmmq4Iv21y2p9m0zCTHhBwbtoGcevXq6sDBnLlz8eiA/lctU0Zu6ndyUBbVcnoMm+RYls5Fq1Stke7YefTRgXodJf3NSNZRAmqrV63RwQIpUEtQVTpCzawQLQV82S5mMzEhx2KfPr30cSWBOpOkSxmDGFIAlvH2SH8q0mfJoEGPqe1wCnfedTd63P0/9B/wmG6SYY+ZNpSvUP6qZZamMGaQIq9kldbJds7tdTcjc73eHTEy3bxkkHFyzZFjM6dpaWYkXZHjQZoR2ZJz2jYtkONImlPde9/9+vhs3KS57rtH1j07uU0XiYiI6OZwXRrBSmZf2igvWvQHDh/af9Ugd4EzIxmamJj0dw8TEi7rXudLl87Z40+LFg3VtRFWr16jMrLndCGrjVFbQTLIX3z5FeYvWIDhw1/Drp3bsGf3DowfP/aqQl5Gsn4y3w3r19hdP7nLnx1HtpEjyyiFKjdVkIrNsM2E2QmguJZ9Yjp39qzOTNqKCLd2ZhcSEqx/Q+4Syh1VW1IWSVEFECF34V566VW9bj//9D0O7N+DdWtX6Tbb2ZECozzaOWOhyraTQ0fI/pc7gytXLMfGDWsx+NlnMHfuPLw3apTdO8pZbWNTbtYrs/W5Fvl9XMs0UgDKGOyz3ceZkcKrBDmk1od0GFokJEQHR6TGxfFjx3R/FtJfRj2jxlZ+ysl2kv4G5Li2FRFhfSKFPAXEJHelM5LgbfGwMB0gtCfz7Sk1JNJvzxMnT2KtUbtk8eIleXrciGs9NwcOfAyHDu676riZN3d2WvA5I6n9Yward+3erbe9PDI5p4ICg/QymNuxWtWqupaBWUvBdObMWaSmplxV40Smkw66JR2UxzV/9fV0XQNnyeI/0UQds9KviD1ZpQ05TZeuVV6k8SZzveRpW/bmNXHieH0+5zQtzUxm146MgSupsfPh6LF47LFH9e/t37cb33zzla71kpVrSReJiIjo5nBdAiFyd1MyF3v37DXGWEnGSO7YSeYmM9Kp2v4DB4x3VocOH9bVV8OKhxljHCN3D2/v2kVXt/73vxUooQok1apV1Z9JgV4eldir10O6KrZ5h1Hu8F4yCjmZCQsroTNtR4wnPpjkLph8XzJd2XFkGzmyjFJFvlKlili3bl26TL/MRwqcpmvZJ6Y9e/epwtKVbSPruX7DhrQ75mXKlNXj9+5N/xvnL5zHAbVPpXAiHeDFxsXqO9pyB132kcznqNrv2ZEmGtIh7IULV+7Cy3dt19MRUp1anh4gmXi5ayuP1nzttVd0dW97VfhlG9epXVs3cZDj0CTbTu4gb1DbIDfr1bBhQ/1dCdKZ5DvypJxFixbr91LQTklOUdvQ+lQEIYUFuXtuT34f13IcSaF20+bNxqdWso937txlvMtcI7XOBw8e1J1cSvV5WT7pzNRb/ZVCjsy/bFnrcZSfcrKdpNmOHC+2dqtCu4eHO4qq5TXJuWAbnJDAwrat23VHtBlrC5ikaYN0yJlxe0ZGRmHnjp2oV9faJEfmKzUuGjVqiO9mfItly5ena3KTF6713JTlleW2JdszYzDClgQkpOPSRYuWYPnyf9G5cyfd/CUzcox1vLXzVcea7A9ZXulgWEjnyvtUeiXNckyyLv/+95/uhFc67DTJeOls11XtI0kLzFp2sm9kv8lfqfFij5k2ZEx/ZZ6SLsnjeq9XQTsv0niTeV2RdZDv25ImcmZgMKdpaWZ02pOYdNW1Q9IieXqPSYJld97ZTTc7Mo8TqV2WWXpoupZ0kYiIiG4O1yUQIhmUhx58AGPGjtM9uksmXjIi0r69X/8B+q5vZqQnesnwS4ZIMm6HDh3GB++Pxi23tM32ro89lStV1lVu33lnBFq1bpVWnVyq20pTBwmSSAFAMq7yWxMmTtKfmyRDGK8KguvXr9cFG1kms63xiBHv6YyijJMC8sRJkzHsuRccahPuyDZydBlv79JFB4+++XaGnocMP/08M13h6lr2iUlq68gjDWVZ5Pt/qsK6PMHlLuNpJdKsSbaLLJ/sP1leyYDLozDr1Kmt+8Iw+1CQJwRIBtucj9xFzI4UmAJURl8eryn7wvzu4sV/GVM4Rgpc/fo/qgtTsoyy7/7++x8dKJP9bY9U1z927JheX5lell228dSPpyE4OCRX6yVBASk8yJN3zIKK3Ol/Vx2r/gHWwpM8JlTmLVXP5Qk6Mox8b9RVwUKTo8eM3D33UeeC1JaSp29IwcaR41qOo3vu7oHPP/9Cr6tMI8v+8UdTdeExO/IUC9nGCxcuQsOGDfQ4OeelHwC5YytPmpD3mZHvSp8A8lQUKYTJ+uWGo9tJuKj/9FNxVAFQ1leCV/JUl7vu7J6upoM8DWb+/AV638t2k+NU+j2Qp8ZkRtb1bnX+2G5P87tCjnkhT22SfTWgf39dyJdaGlM//kQX5PKKo8ewvTSxZcuWcHN3w9hx4/TxYG7PJ554WqdLme0nKUDLuSW/Ic03mjZpbHxinxTOGzduiPHjJ+imLJImybkr6dqDKn0z90fVqlX1sSzXDnlaiEz355+L8O03M/DQQw+ma1Ykga45c+bi6Wee0umYeW5IgFKWW/5m9bheWX4psJvpr7ndfvpppt63OW36lttj/FrSeAmgyDkv6YvZjKt7927Ytn27fgSuHJPmsS+PwZV9JRxJSx1Zn1KlSqa7dshvyfEzdeonen+YJGi4Yf3GtP7CdNrz8VT196x+b8q4Po6c7zJOmsrII4fz8rwiIiKiguG6BEKEPLLxxReex/Dhb+p24zVr1dV33UaP/kB32pcZCXY89eQTGDx4mG7H2+X2O1C3Xh08N2yovuOXU9KeXDoslAKnPD7VJPN64olBOrPYtFlLVKpcDUOHPoc+vXvpR72apHD47LNP64JP7z59dVtxybzLXdM7VUFI2o/Lctar3whHVWZYqhLLbzoiu23k6DLKYybHjxuDhX/8qedRt15DHDt6TGWKHzSmsMrtPjF1736H3oZt2rbX33/rrXfwyssvod0tbfXn5naRDG2Pu+/Vy9umbTuEBAfjtVdfTQuWDH/9Vd1Wu3qN2qhRs45+TK5Uq8+O3PH84INROhPcsFETvQy//fY7Bj42wJjCMdIvwb333qPbmcsyyr6TPgGkynRm/S7I9pk0aQL+W7FCTy/LLusg2062f27WS46TMaM/1M0spL26HEfyGORXXn057ViVaYYNG5x2J7x3n0f09pZj2h5HjxkpnA187FHdJ0TLVm3Veq10+LiWx/Q++cTj+lGXMo30pSBNXpoahfasSGFNll2CYtKBo0ke/xkUFKTv1mZFOjp+bOCj6refwQsvvpxlbYOsOLqdhDQJkqCHHNOyvn369lOF6Qd0gVq2mWnokGexdu06fVzKdtuyZYuuem/bwa49cl4+//xz6vefT7fNR49+Xx/zkuZIYOTBB9TxWqmi/k15/LcEy76d8Z1eh7zg6DFsL000j+WoqGh9zsv2vKPbnboT5/79Hkm3nTKSpjAS3JGAkW1nzPZIGiJpiTwa9fau3XRa9+prwzH42Wfxv3vuTvsd2b9PP/2k7oPmrrvu0dONGDlKn+Nt27bR0wgpuMvjegcNGpiWBsq5IY/n/uTTz9Cp8+2q8L9Rp2mZMdOGpUuX6TRV9v+HH47BqPdGpAWycuJajvHcpvFybMmxJmmMBHCEuV7SSbUck3JsPvX0YDzx+OP68crCkbTUkfWR/SV9s8i+Mc+zAY8ORE9pqmRzA0Qe6SzB0k6du+r+Su7533360dsSaLeVcX0cOd8l+CKdfZ8+I336pG8CSkRERIWfi8Xe7Zh8JJkLyRy7urroO45ZZYilEPHBh6Px1Zef6wJTdHQMpLM0sxprfpDNYb3bZVG/GaDbRtsj6yF3zc27XCbJWMlySjX5rO5kZyW7bZSTZZT5ZLcsOdkn9sgdNmmeEaAKYpLBtEe2ldyFlb4R7O2/a9lu5vYQuVl+k7mMcrfQ0WXIbl/kdr2kGnlSUnKW21T6P5BldWR9HT1mhL35OrIe5vaTu685vet9rWT5ZB1t7xbnRnbbSZo+rVq5Cu+//57+LXvrGxERoQttEhSUgm9uj828SEvygqPLkVmaKOmD1ERw9LiQY19qHMmTWiQI5yj57djYuGyPb0eny0i2gyybrIcj38vJOeeIaznGc5vGS1og+yzjsmeXPjmSljq6Po5cXxxJL0XG9cnrfURERESFx3UPhOSEbSAks871iIiuF9tASGYBWdtAiCMdJdMVcjmS5hUffzwNH300WddKISIiIiLKa7z9QUREN5w095JmCkOHPY+HH+6jO04lIiIiIsoPBbpGSG6rMBMR5Qeppi/pUlbNC8xmCH5+vg41BSErszlFZs3niIiIiIjySoEOhBARERERERER5SVWsyAiIiIiIiIip8FACBERERERERE5DQZCiIiIiIiIiMhpMBBCRERERERERE6DgRAiIsoVeULOpUuRiI2NNcZQZuSJQ7KtUlJSjDFEREREdKO4va0Yr9NZtGgxFvz2G9asWWt32L1rD6pVq4oTJ05i3rxf9WtPT0/j2+lFR0fj2cFDsWnzZrRu1Qpubm7GJ2Q6efIk+vTth7j4ODRq2NAYe7Uvv/oab789Arfc0gaBgYHG2Lwnj7KU/RoXF4tSpUoZY8nWhg0bsGrVGlStWuWGHdO52U+Ontsy7++++wFBQUEICQkxvp1eXpzb13s75uXvybbcsmXrDT0GMnPo0OFs0+ZrcerUKTz55DMY/sab2H/gADp27IBt27bd8HMip/I7rZPAx6xZs/HgQ33w8dRpqN+gvtofHg6l9zmV3/s8v0ggzTatWbLkL/R9uB+aNW+KsOLFjamIiIiI8o5DNULi4y/j559n6oxvRufPn9eFqsTERGPM1dzd3VG1ShVUrFABrq6shHL06FFdeJS/Jl9fX9SuXStdRvzTTz/Xgy35XKaT6fNTcnIyVqxYgUOHjxhjKCPZNrKNZFs5KiEhASNHjsIffyw0xlyba91PWZ3bck7LuS3neGby4tzOzXa8Fnn5e1u2br2uy54TjqTN12LeL7/Cz98Pmzauw8cfTYafn1++7Ut7aWZu2Dv/rvUcys6pU6fx1VfTMWnieOzftxvtbmlrN73PC3mxz/NqW+dExrSmaNGiaNy4EQIDAvR7IiIioryWacmlS5fOGDZ0iB6efGIQSpYsifvuvTdt3IAB/XTG1xE+Pj548cXn8fDDfQvNXcL8lJSUjOPHj+u/JrkL9v6okeh6exdjDHAp8pIebMnnMl1md+ipYJOmBBcuXEDMDWxKwHOb8kJMTAwqV66k0yIPDw9jbP6wl2bmxo04/yT44uPro7ZVZR04lPPEXnpfUOTVtr4WDRs2wJTJE1G+fHljDBEREVHeyrRpjK3Lly/j1/kL0KZNa5QpU9oYayVNOlasXIm2bdti+jff4MPRY7B48V8oWqwoypYpAxcXF50R/OCD0TrjXLVqVf09uQP0+x8L8c67IzDju+9x6vRp1KhRQxWsvPXn9shy/PLLfIx8bxR++mkmLl26pKtge3l5GVMAZ86cwbRpn2LM2HF6OSTTWaFChbRCmlRjf2/UB6hZozqmTv0E4ydMxMGDh1C3bl2Eh1/EBx+OwZSPPsauXbtRq1Yt+PtbC4RyB/Hnn2ehUqVKmDLlY/29latWo4LKqBUrVkxPY9q//wDGjZ+g5yPTFC9eTBc2ZVvIfN56+11dhVk+W7tuHVq1bKnWLQEvvvQKSqnpvL1V4VK9XrLkb+zevUdtpz90MxjZduZyNG/eTGeqRXbrbH6ndOnSGDtuvF6ubdt36PlJVWR75C7p33//g7LlyupgzNtvvYuvp39jdz8dO3Y8bZvMX/AbYuPi9LxtC0cyzYejx+rfznh8ZCar7SikyvmyZcsxYsQovWwHDhzU622uk3ncRUVFqW10Fq++Nhxz5s7T+0vuxMp2keNPxvmqgn9ltW9l3tKOX7Z/ibAw7N27D6+9/oY+3uT4rVmzRtp237lrly4w3HbbrWnrmnFfBAQEoFy5crq2hNxhfe75F9U+X4+tW7fqc0q2ZYkSJfR3s1tfYbsdZR9WUYWrdWp+sp/kDnNOZXVum5+1aNkcW9V5I9sq43bIi3M7p9vR5MhxFxcXj29nfKcKnR/izz8X6eNOmvPk5PfMdYyMjMShw4fx1lvvqML0RTRp0hgrV65CTLRsj5rqOHwPn3z6Wabnlu3+Xb78X4QUCUEZdU5m3L+ZrVNWy2G7zeV4lmYRXt5eWKWOox497tIBq4zM4zy0SBEsWy7n0Xs6vZPfy3huHT9+Qgc9/P399XE8ZOhz+PffFWnpU2RklF6O3O7LrNL2zNJMb29vHdSQbS7XHdlest5VqlS2Wzsps/OvaNFQh9O6rLaLPVKjT/aluexL/voLjVQhH3BJS+/l/Le9Lsl8ZX1k+nJly+r0yjxGZD8vXPinOg7G6Ok2b96i0whzGvN6nNk+F1mdn1lt6+x+29F1sFgs2LlzF0aMHIXPPvtc/375cuWxeMmStHTInJf5245ew+ydB9HRUXhfnTfmvCQYtmLFSrzzzgi9nDKfGmqZ87OpKRERERU8eRIIkYzH/n379B2vbnd01QWNCRMno1nTpiqjVALSBnuByqSGqQyfFNYkM/nRx1N15uaRRx7WVYW3btuuq8a2b3dLusCGKU4VCIa/8RZWr16tv9OiZQudqZw39xe0b3+Lrmq8b/9+PPrYIJXpKoo+vXujbNkyejmiVEZIlsVaGD2Gb76dgQOqUNKiRXM1tFAZ6AW6b4T1Gzbqdu6Sof/rr7+xbu06/V4y9JtVxmzpsmVYt369LvTIekqBRDJYtWrX1Jk9sXLVKgx6/Ek0a9YU9/fsqTNiI1UBIyg4GLXU9yRzKsu3Z89eDBz4KDqoZS9TpozOwEmmtKVannIqQ16yRBguhofrzwYNfAzVqlVTGb5AvRx79+7Frbd21MvlyDrLd6SwIplLWZ9b1PZerTKos+fM1e/NYI8tMxAibf+lANez5306MDR79hxVCDuEtm3a6ECL/P5jAx9HoFo2qRVQu3ZtzJw5CwcOHtDHi/y+TPPkk0+jXr26epuULl0K7733vg5aVKxYwfjF9DLbjkVUoU22vxxDk6d8pDLSX6jf7YNbO3bEXnUMSht8OTZCQ0PTjrtNKsMeGRWpaz1IJnjKR1N1oSguPh7/u+dunTEfPXos6tSprZapvO7UUPbF2TNnsWXrNvTu3UtnlGW9JPPfVq2XbPuMhT57+2L0mHH6OJF9IdNIweHosWNo1aoVej30oC60yTGR3XEjhQiZ/6DHn9Dzlfl7ennis8+/wGlV0Kxfv36+BUKkar8UOO+/vydKliqJz7/4EimpKWjSuHGenNs53Y7mMZXdcSdpxhtvvo1NmzZjwID+qKv27/c//KjPPR9VIHL09+RckHX8778VOHz4sN5vEggKCwvTgRA5r6TAePvtXfRxKOeH7XEoMu5fCXa+//6HCA5Jv3+zWqfMlkOaEcg2nz79Wwzo308fW5J+SZomx3JmhWLzOJc07fLleDzU6yF1PlZEcHDQVefWrt279DhZJ+mzoXy5coi4dCktfZJ9L+uam32ZXdou57x8P2OaefFiOIYOfV5tSy8975q1aupjM0mlpfXr10sreJskcGfv/JPldCSts5fm2G4Xc1/bCgwM0OeMuey3qXRb0hiZl5ney3lnXpck8Cq/fXuXLjooNnnyFJ3eyD42z63PP/8SPe+/T12D7sAltR3HjB2P5s2aobjaL9kFQrI7PyWoYG9bi+x+25F1EKvUfn7qqWfRtm1rfS5I2iLn5cmTp9Clc6e07fHHwoXocdedej0cuYbJNVSCJz/99HO682CFOkfPnj2r5yWBEAmQyHL37dsbnTt1wsULFzF12qf6WJMgHRERETkJVQjMVnh4uOXue+61qIy1MeYKGVe7Tn3L8uX/GmMsloSEBMtLL71iGTtuvH6vMrqWIUOGWX6eOUu/tze/qKgoi8rAWVTm3BiT3u+//2G58657LKdOnTLGWCwREZcsQ4c9b1m6dFnab77z7giLKjAYU1gse/futdx6W2fLho0b9Xtzec33QsbVb9A43bgdO3ZaunW/y3Lo0CH9Xpa9StUalr//WarfC1Wotkyf/o3liSeessTGxurleaTfAMvMWbP1Zyb5To+7/2c5c+asfq8y2/q9/DXZ2yYffDhaD7ZkOWRbyjZ1dJ3lO63btNPjTbIdu9zeLd362DL32bODh+p1M8k8O3fumrZdjh8/Yfntt9/1sphkGlmX06fP6Pe2y2zatn275eBB6zwyku3Y9+F+etvabsdFixbr9Y2Ojta/0a5dR8v27TuMTy16G4wePVZPI8tjroP5XtgbJ9976+13045Xc1+ogqs+Lk2yzeQYXLZsuX6fcV+89vpwy/gJE9PtC1k+2c67d+/W783fl++aHDluZP6yzLJ+tvOX7SDHs+38ciKrc9v8LONvzp+/wHLffQ/o5c64Prk5t3OzHR057szlNM87Icvcq1ffHP2euY4ZzwUh52fzFq2uOg7lnBw5cpR+bf5mxuNZ0szbu3azHDl6VL/Pbp0yWw6ZRs532/PbPF7ku7JP7Mls/27atNlyR7c7LXv37TPGXL1OwpH0yZF9mV3aLuylmXKMZVy/w4cPW7Zu3ZpuO9syt6Ht+ZLVdrVN6xzdLhk5kt7L34zX0cjISMuARwdavvpqun4v2/OfpUvT/b65n81p7G0TWxl/V2Q8P+0tr6O/nd06mOfCTz/PTLeP5FytULFKuu1hux6yv7K7hmV2HsgxaM7L3v6XaWT9ZVmJiIjIeeSud8MMypcvp2ssmORudpHQIvoOpj1yZ07uPMldqNOnT+s78nInRp46IXdsMpK7WOvWb0CXLp30HT2T3LmcMH4s2rdvh/DwCH03skvnzmlNQoTc4WzatKmuzmyS5i3SpMUkd/LkLl1Q4JUqtnLnWpYzJSXVGANdE6F+vbrGO+g7ji1btcTJU6f1XXO5G6cyWvoOou3dSPOOr6xrXsrJOteqVVNXKzYFBwejRvVq+m5cVho2aJCuY1bZRtLe3dwucveuW7c79D5XGVtd3f602hZSK0iaS4igwED9VBGppi81CETdOnXUfqioX2ck21G+37Fjx3TbsXPnTvjww/d1NfRtW7ejQYP6ulq6SbZBp0636buGMg+TtDeX5RNyd7FkqZL6+DTHyfekWnjG47WDOq5s7xBKFXapRbRm7VpjzBWyL1TBQd9hTL8vKugaPoez6IjRkePm7Nlzel/L+tnOv0b16miljsH81LhJ43S/KXd/k1OS1Xl75dww5fTczsjR7ZjdcSfH2arVa9C+QzuEhV156oSkGVJbwZST/daqZQu7nRTLuSZpiknmIzW2VMFMN8uS/RseEY7WrVun279y/Mpd8k0bN+n3jpxLIuNyqEKjXgY5700yjy4O9j/RqnXLdOsu54/MT5qKmeTzNur43LN3r8OPynVk2zqStmfGV6VD589fwOIlf+nzR0gts3r1rq4N4ojs0rq82i6ZyXgdlaYa8vSXc+fP6feyTzu0b49qVa1N0KRGj6QLcoyZ02Qnt+eno7+d3TocOXJE186TZiq2+0i2q1yjspLdNSyz8+DWW6+c77L+skyL/lykm//IeSbTyPqzaQwREZFzyZNAiGQkvLwcf1SfZLzefGM4Dh86ojLht6B5i9a6HwapRmuPVHm9FBEBaWecGSkoSCYnY/VkqfYsmWrbQq6bm6uukp1TlVQGPmNBSNrXi4sXL+plWK8y9S1btUHFSlXTBnkvmeiEhAQ9bV7JyTr7+vjkap3lqRBZkeYT8kSErnd0R+Uq1dGiZWtdddyWFDz7PfIInn/hJdSqXQ/33ne/bs8v+9Ues9Bnr8mOSTLWEtDIWP1bgiS2hRfhalMIywnbDLWQjLscA1I4lYKALVlmCYZ1v7NHun1fp24D/SjIaGOd7HHkuJFB9nXGvghkn8q+zU9+dgr/mcnpuZ2Ro9sxu+NOjv14VTi2l2bYHtM52W+ZHUdSgM/Y/4n8rhyD0nxDfkMKmaGh1rTCJOeppB9JxnnqyLkkMi6HzF/Od5mfLUf3m7ubtc8bk5xb33zzLapUrZFumzz66ED9WxK8cIQj29aRtD0zderUwauvvIRJk6agdp36ervJ48WlX5jcyC6ty6vtkhlHrqPSd9Uzzw5Bg4ZNdFr6SL8B2L1nr/Fp9q7l/HTkt7NbB0nH5DjNmLbLd+S7WcnuGubIeSCfDRnyrNrX/uhy+x1o1LiZXqcdO3bqoBARERE5jzwJhOSG1Ab4/vtvsWvnNkyb9pEuWA4c+Lhuv52RZH7cVCEwNibzO24S3JDCT8Zgg2RubAvF10L67DBrNJgiIqxPdZGOD2UZ5C7vhvVrVEZz/1WDdHCal67HOmdFfueLL7/SfawMH/6a3pd7du/A+PFj0xXY5a6pPIlEHrP5379L0fO+e3WfHFJosZf5lPWS7ZyQkPUjmeXRrxkLH6mWVKSm5k2GNlzt74zk+CweFnbV3VNZZmlbv2jRH3b3/f097zOmvJojx03m+xpISc3/fZ0TOTm3M3JkOzpy3GWVZqTaHDPXst9M586e1UEMWxHhEfpvSEiw/g17x7PtvnP0XLIns3NBau3khsxv4MDHcOjgvqu2x7y5sx1+YpUj29aRtD0zEpiUGjQrVyzHxg1rMfjZZzB37jy8N2pUpkHWa5FX2yW35PwZMnSYrgX358LfcPDAXvzz92J07ZqzJ8/k5vzMq9/O7FyQmhnXes3K7DyQDodtyY2DyZMm6PX/6cfvULJECfTr/6gOOhMREZHzuCGBEMkISWeVklmVO/qNGzXC8NdfhZcqXJ45fcaY6gppplKndm3dJEGqiZvk+zNnzcaGDRt0dX15Eog0wbAlTzPYuWMn6tW90qQlt/bv33/VnbPdu3fDw8MdRVXmKizM2jHsEbVutuQOpdQYsVfovxbXY52zIoU/6XS2V6+HdNVis3aGrOslI0Ak6ywBBXlqixR6pHnJgw8+gGeefhJ79+y9qgApypSxdjy7S21bW9LxotwxlyroDRs21J1gylMzbMk8pVNZeeLKtVqvjivbTLU0VZAmOdLBYsaq95K5lgKr/L4tOUalCrlk9DPjyHEj85eCVsZ9ff7Cef0EhoIip+d2Ro5sR0eOO0kzpMC3bt26tGYTQuYjHd6armW/mfbs3aefcmKS/SXHjlmDzDye9+5N/xuy7w4cOKCbGziyTpmRJlQZzwVZBtv1zAmZn6Qfko7YkmWx3ZbZcWTbOpK2Z0aaZUh6LOeidKjatevteO21V3TNhWttpmJPXm2X3JLzR7Znv0ce1umopKcSxJAaao7K7fmZF78tdFqXmHTVuSBp36FDh4x3uSOdN69Vx9EJm2aRkn6vWLHCeGd9L03VpPaI1A6Rp+UMGzYULVu20J3lEhERkfO4IYEQeVyePB1B7t5JxkSGtWvXISoyUhdi7el4aweV6T2mn4wgGWbJyP3080xM/XgagoND4Ofnh7t73IXPP/9C90ovmWyZbuq0T/T35WkN18pF/aef0qGWX+YvmXR5Qstdd3bXhVSzjb88hlIKIeYyTJw0GcOeeyEtAy2Z/3hVyF2/fr0uXGdW2JKMp8xHnhAhmc6Mrsc6Z0WqMkuVdnkUobTTlsKXtLueMHGSMYXVDz/+hKHDnsOJE9YMqhSC5PGh8l171aGlTwfZjvK0AXM7Stvy1197AxGXInRtjEYNG+pq0LKu5jaU/TFJfeeeu3vkSXvvDRs2Yf78Bfr4NLertG+XJyBkJL/30IMP6EeE/rN0mf6OFG5/VOver/8AHD9xQk8ndy19VOF49eo1+rGiUjBx5LiR+ct62e5r2Y4ffzRVNwExyXkhj7985dXX7R4z+S0357YtR7ajo8edPLVCCjfyJAuZhwySZtgGkxzdb1mRQpU8IlWWRb7/56LFOp26y3hyh3k8y/JJAVCWV/bduHET9JOKqlev5vA62SPneYBKK8xzwVwGeVRtbrRs2RJu7m4YO26cXk5zWZ544mm9LeW9Ixzdttml7cJemilpiNzJl0CgLJN8V57+Io+9luntsXf+OSqvtktuyfkjaYE8LlvWX7blrNlz8JdaZ0c5cn7a29Z58duiVKmS6c4FmZdsQ3mUveyba9G0aRP9tJohQ4Zh4Z+L8O+//+lH5JrXHREdHYOXXnpVP9ZY1kF+f+fOndi+bbt+GpKQmiGdOt+utwsRERHdvG5IIEQeNfvG8NfxicqMSHtrGeSRiu+++7YqFFQ3pkpPHtc4adIE/LdiBerVb4TqNWrr2gGjR3+Q1mGmPL7y+eef049UlDb2Mp3c/Ro9+n19d/JaSRMFCXr0uPtePf8+ffvhoYceUMOD+q6kDI8O6I871TT9BzyWbhneHzVSF9yFFHyfffZplRmcjN59+uLcufN6fEYPPnC/Xu6Ot3bGTz/NNMaml9/rnBVp8vLEE4N0Zrpps5aoVLmaWo7n0Kd3L/1YUCHbpHevXqherRo6dLxNt6lv07adrs3y1FNP6nlkZG5HyTA/1KuPXq9Onbuibr06eHzQQP0d2ZZjRn+oC40NGzXR0zz19GA88fjj+tGReWHokGd1ZliOT9muW7Zs0U0VbDt1tCX74sUXnsfw4W/q79SsVVc/WlqOUTl+hdyFHPjYo/quZMtWbdXxvNLh40bW68knHtePnpRp7rzrbt2RaVObgJc0n4mIiNCFPHl9veXm3M4ou+3oyHEnJF0YP24MFv7xp55H3XoNcezoMVU4f9CYwsqR/ZaV7t3v0I9BbdO2vf7+W2+9g1defkk/mlTYHs+SdsjyyjkQEhyM1159VQdLHF0ne+Q8/+CDUTpYKOeCLMNvv/2ujrMBxhQ5Y55bUVHRejllWe7odqfueLZ/v0f0+jjKkW3rSNpuL82UjoPvvfce3eeQLKN8Vx7BKk2L7HVqK+ydf47Ky+2SG3L+PDdsiH4ktJz/0leH1IqR64SjHDk/7W3rvPhtIcf5oEGPoW3bNmnX0QGPDtSPLM7sUeqOkn3+3sh31TX6Tnz15deYMuVj3eTwkUf6GlNY9+Err76kH3ctx6L8/tPPDMYzzzwNeUS1kIDa6dNnYFvLi4iIiG4+Lpb8vo2VBbkbI5lKERgYoKvbZse88yf9QGT2HSlMyJ0fabIitSbyglTTXrVyFd5//z1950ruAkuNjYwds5kcWQZZf7kjmdndS5PZwVxW2yc/1tlRjuwTITUU5C6c1Ogwq/5nR7aPbOusviPV4JOSkhEQ4G83sJJTEkiQzLkUZuVuu6ybkI4GHSnsmMe1q6tLlt+R/So1AWw/d2Q/mtskq+PvRsvNuZ1RdtvR0ePOnE9254aj+y0zcnxL3wdZHYfZHc+OrpM95ndFbpbfHvOcvdZjzZFt68i6y3wyppnmNpVzKSdpn73zz1F5tV1yw5E0MTvm/hC52dbX8tsmR86XvCDB7A8+HI2vvvw8rR8X22Mtv3+fiIiICqYbGggpTGwDIdeaAaSCzTYQktcd3BIRUd6Tmitjxo7VNRClJoiQYNW7I95DSnIyRox4Rwe+iIiIiETOb9MSERERFSDyeGrpeLhX7764vWt33H3PvbilXUfs2rULjz8+iEEQIiIiSoc1Qhwk1XilWnBeVTmngsusNu7n51tgm54QEdHVzp+XpzEd1Ol4UFAQataswaYvREREdBUGQoiIiIiIiIjIabBpDBERERERERE5DQZCiIiIiIiIiMhpMBBCRERERERERE6DgRAiIiIiIiIichoMhBARERERERGR02AghIiIiIiIiIicBgMhREREREREROQ0GAghIiIiIiIiIqfBQAgREREREREROQ0GQoiIiIiIiIjIaTAQQkREREREREROg4EQIiIiIiIiInIaDIQQERERERERkdNgIISIiIiIiIiInAYDIURERERERETkNBgIISIiIiIiIiKnwUAIERERERERETkNBkKIiIiIiIiIyGkwEEJEREREREREToOBECIiIiIiIiJyGgyEEBEREREREZHTYCCEiIiIiIiIiJwGAyFERERERERE5DQYCCEiIiIiIiIip8FACBERERERERE5DQZCiIiIiIiIiMhpMBBCRERERERERE6DgRAiIiIiIiIichoMhBARERERERGR02AghIiIiIiIiIicBgMhREREREREROQ0GAghIiIiIiIiIqfhYlGM13Z9uOIzzN/3N05EnjHGXK1MUAncVe1WvNxmkDGGiIiIiIiIiKjgyTIQcv+swVh7YqvxLnvNy9THzJ6TjXfZO3ToMH6dP994Z+Xp6YnWrVqhXr26cHXNvMJKdHQ0nn/hJZQuXQqvvfoKPDw8jE/yTkpKCv74Y6Fepi5dOhtjrXbs2Iklf/2FHnfdhUqVKhpjgaSkJPz66wIEBwehZs0aePKpZ9Gjx514dEB/YwoiIiIiIiIiulEyjTRITZCcBEGETC/fc9T58+fx5ZdfIyI8whgDHDhwEP36P4pJk6foQERm3N3dUbVKFVSsUCHLgMm1cHNzQ/zly5gzdx5iY2ONsYDEjhYu/BOTJ3+EdevWGWOtLl4Mx9fTp8NVfdfX1xe1a9dCqVKljE+JiIiIiIiI6EbKNIIgzWFyI6ffCw4OxsMP98WwoUP0MGH8WPzw/Qz8+st8rFix0pjqaj4+Pnjxxef1dyVgkV9q16qF48eP4/TpK02DpDbKtu3b4efnh63btutaIKYTJ44jOSlZB2lCQkLw/qiR6Hp7F+NTIiIiIiIiIrqRMg2EZNUnSFZy+z1bFStWQIMG9bFj5079XpqnjBw5SjdHeXbwUD2cO3dej5PPxKVLkXr83ffce9VgTiMuX76M2bPnolfvvujZ80F89tkXiIqKMj69WtmyZVC0aFEcO37cGAOcOXsWkZFReP65Ydi+fbuuBWLavn2nbhJTtGho2jJt2WKtWSN/5f3hw4cxfsJEvWzyXtbLbKFkfmfDhg1YsOA3vZwyzFevExMT9TSm/fsP4LXX30ibz4aNG9Pmk5CQoLePzGPhn4v0PD799HP9WWpqKv77bwUGDBiovyvzOHnypP6MiIiIiIiI6GaWP21K8ogELURMbCyW//sv3njzLbRs0QIPPfQA3N3dcOHCBf2Z8PBwR8MGDdCu3S1pQ4Xy5XHkyFGEhobqaeLi4vD68Dcxc9Ys9O3bB08+9QQ2btqEQY8/qQMr9gQEBKBmzZrYuOFKkOHggYMoUSIMbdu20X2TnDljDf7Ex8dj69atqF+/vq6xYrGk4sSJEzooIeTv5s1b8P4Ho1G8eHE8N2wo/P398djAQdi7d6+exvzOZ59/ie07duKJxwfhtltvxZtvvo2fZ87S04iVq1ahd5+HdcDlxReeR6OGDfHsM0Mwe85cvZwS7JDt8803MzBHjXvk4b5o2bK5/kya+rz19ru4885u+rtFQkJ0XyanT5825k5ERERERER0cyqQgRBpiiK1J5o0bmyMkSDDZXz4wSj06vUgWrVsqQMNtqSZyoAB/dKa2PTv1w/hEREY0L8fmjSxzmfZsuU4c/oMPpoyWTdX6dihPcaO+RBBQUFYtHixniYjFxcXNGxQXzeFkSYx0m/J2nXrUb9+PZQvXw41atTQwQ0htUSOHjuGhg0b6Pf2XLp0CX1699LDLbe0xauvvITatWtj9eq1xhRW0rTm5Zde0NP07/8Inn32aV2LQ/oqkVojn3/+pW4aJOvaunUrPc17o0bi++9/SBfUKVW6FCZPmqA7e61Xr54OLq1csRJPPDEI99xzt/7u4MHP4OWXX9DbkIiIiIiIiOhmdsMDIRIY+PbbGZgwcZIeRox8D/36P4bGTRqjadMmxlTQwYUyZcoa77ImwQrpsLRYsWJ47LEBug8RGbdu/QbcdtutKF68mDGltcZHi+bNsWvX7nR9fdiqWrWqDoJIgCE6Oga7d+/WQRqpDSLLJbVApDbI0aNH4e7mjnLlMl9OCZ5Uq1bNeAcEBgaq91Vx7vw5Y4yVrL/Z94kEY+rUrq07l5XmMdKMRWq3tG3TRn9mqlWzpn5vW7OjVcsWutNWk3QyK7+56M9F+qk9UnPEfFKPjCciIiIiIiK6md3wQIg0F5EAxfLl/+pBaju89967upNR2wK8m6urKuQbb7IgTT/mzvsFixcv0TUdzHlIAOFSRATeHTESFStVTTfIuPi4OCQnJ+tpMypZsoRuyrJ//34dhJDfKF++vP5MOlM9dfq0rg0ifXTUrlNb1zDJjAQdvLw8jXeZ87NZ94xiYmKwXm2zlq3apFsPeS81acymOEKeXmNLgjdDhjwLP39/dLn9DjRq3AzPPDskXT8lRERERERERDerGx4ICQsLw0dTJuGXeXP0MG7saHRo314HDHJDAgGTJk3B8OGvoXy5csZYtaKurnBzd9cBlsOH9l81TJw4/qrmNiZpMiJNYTaree/ctQuVK1dGaGgR/Zl0purt7Y1du3dj/779aN6sab4+xUa4ubnqzmQ3rF9jd12aN29mTGmf9JkizWV27dyGn378DiVLlNCPLDY7dSUiIiIiIiK6WRXozlJzSpqufDh6jO5PQ/oRseXl5YVKlSrq/jwyPn1FmpJk1izGJE1hNm7ciN9//0M3h5GaFUKa1tStUwezZ83GyZOndDOa/BYWVkIv75GjR40xVnFx8bh48WKWNTukiZDUapFaJbIO0sfJsGFD0bJlC+w/cMCYioiIiIiIiOjmdNMEQqTPDAmCyFNYpL8L6XskIiJCD9LBqOjevZvu9FQeIyt9fkj/GPKY2r4P98OSJX/paTIjTWGko9GdO3fp5jAm6ZND+vOQR9SGFAnRzWjyW5kypdGt2x0YMeI9HdiR9ZD1mThpMoY994JuppMZ6ePkpZde1dtA1ke+u3PnTmzfth1hxYsbUxERERERERHdnDINhJQJyl2BPrffu1anTp3G2rXr8Pff/6DtLe113xfm8NHHU/U00lRm0qQJWLNmLerVb4TKVarjqacH44nHH9dPVcmKNIWRp67UrFlDN4exJU94qVKlsm4+cz2evCLBl0cH9Medd3ZH/wGP6fWQ9ZHOWqXpT3Bw5n2UyGevvPoS1q5bh5q16urvPv3MYDzzzNNo06a1MRURERERERHRzcnFkkk7ig9XfIap67833jnuqaa98XKbQca7gktqiSQlJSMgwD/f+/TIT9LURWp5eHi45ygII7vdWivGUui3AREREREREZGjMg2EiPtnDcbaE453oNm8TH3M7DnZeEdEREREREREVLBkGQgRUjNk/r6/cSLyjDHmatIc5q5qtxaKmiBERERERERE5LyyDYQQEREREREREd0sbqrH5xIRERERERERZYWBECIiIiIiIiJyGgyEEBEREREREZHTYCCEiIiIiIiIiJwGAyFERERERERE5DQYCCEiIiIiIiIip8FACBERERERERE5DQZCiIiIiIiIiMhpMBBCRERERERERE6DgRAiIiIiIiIichoMhBARERERERGR02AghIiIiIiIiIicBgMhREREREREROQ0GAghIiIiIiIiIqfBQAgREREREREROQ0GQoiIiIiIiIjIaTAQQkREREREREROg4EQIiIiIiIiInIaDIQQERERERERkdNgIISIiIiIiIiInAYDIURERERERETkNBgIISIiIiIiIiKnwUAIERERERERETkNBkKIiIiIiIiIyGkwEEJEREREREREToOBECIiIiIiIiJyGgyEEBEREREREZHTYCCEiIiIiIiIiJwGAyFERERERERE5DRcLIrxOlsJiUlISEhEovqbkppqjCUiIiIiIiIiyhturq7w9PSAl5cnvNTfvOZQICQpORnRMXH6tY+Xl1ogd7i5uen3RERERERERER5JSUlBYmJyYhPSNDvA/x94eHurl/nhWwDIbFx8YiJjUegvx98fLyMsURERERERERE+Ss+PgFRMbHw9/OBn6+PMfbaZBkIkZog4RFRCA4KyJfqKERERERElAuJm4wXDvJspL6zXeX+5Y6qGlwkb5/hb9pn8pddCRJRwSHddFyKjEaRkMA8qRmSZSAk/FKUbgrDmiBERERERAVE3Fwg8l7jTX7xUyWFYMC1hPobqv6qwSVI/VWD/huo/gYYf/3VXzXov/KZfE99RkSUh6RmiDSVKRKs0p1rlGkgRCIu0iwmL36EiIiIiIjyyHUJhFyrAMCtKuBaSg0l1FBcDUXVIEGVImoIUZ/LXwmcqNcueVPdnYhublJZQ5rHXGuLlUwDIVHRsbrKCWuDEBEREREVIIUiEJJDLmGAayU1SOCkOOAmgROjJooepJZJiPFXDS6exheJyJlIrRDpwiMwwM8YkzuZBkIuXLyEkOAAPh2GiIiIiKgguRkDITnlUgTwHggEf2CMICJnIE+TibgUjaKhwcaY3Mm0F6SU1FQGQYiIiIiIqOCxhKsh0XhDRM5CYhQSq7hW7A6aiIiIiIiIiJwGAyFERERERERE5DQYCCEiIiIiIiIip8FACBERERERERE5DQZCiIiIiIiIiMhpMBBCRERERERERE6DgRAiIiIiIiIichoMhBARERERERGR02AghIiIiIiIiIicBgMhREREREREROQ0GAghIiIiIiIiIqfBQAgREREREVEhkZycjMjISP2XiHLHxaIYr9M5ez4cYcWKGO8KrkOHj+C33/9A61Yt0bhRQ5w4cRK/LvgN9evXQxs1jvLetm3bcPToMXTv3g0uLi7G2JvLxk2bsXLVauOdfV5enrinRw8UL17MGENE18L2vKtWrSq6dLrtqjQmOjoas+fOU39jrts5eO7cecz79VckJCSie7c7UKliBeMTIqIbJG4uEHmv8Sbn4tSwaB2weAkQFQVIstbjLqBx6UJ2l9R7GBAy3nhz/Sz+62/s2bPXeJdefl+bUlJSMHb8RPz2x0J0v6MrXnhuKNzc3IxPyRGxcXGYNXuOOvaj08qQN7tUVeTfuHGTOuf/wq7dexAYGKjX/Y6uXVAkJMSY6tqY5fLrkT/Li1hFoa8RsmnzZsyaM1cnCuLAwYP4aeYsnVmmvCfb9eOpn2DCxMk4dOiwMfbmc/jIEX1cZTUs+H0hoqJV7oGI8oTtefftd9/j3PnzxidXbN6yFdO//e66noPyG/Jb8psXLlwwxhIRFU4H4oCHhwKqLI0dO4Fjx4Hl/wHPvQi89YkqJBrTUea2b9+Rdr3KOOTm2vT5l1+j98P98cHosbickGCMtc/V1RUhIcH6tZ+fn/5LOZOgtvFffy/V+0vyHvlt4Z+L9P59/qVXdE2e6y0mJgbD33xbneMv48/FS9Q5f1yd+zvx6edfoHfffli9Zq0x5bWRPFJuz4EbodAHQqRmQlBQEIoUsUayjqrU3NPTE6VKltDvKe9I5aE/Fv6JxeoEOnz4ML76ejoSExONT28uLZo1wwfvjdDDu2+9gWpVq+jxd3bvljb+jddeQYmwMD2eiPLW8eMnsH7DRuOdlaQ3i5f8jdTUVGMMERHlhOTapn8DnD0HlCsLvPcu8OMMYNBjgLc3sOxfYOlm67SUPckfSj7RzBvmNn8YFRWlC6fhERGS4TbG2ic1JQc+OgCL/1iAp598nLVBCgGpgSL796w68VKucx5Gmk999sVX+G/FSh1Ek1pEo0a8g5eefw7ly5VDTGwsRo8df1Pf4M6M29uK8Tqd2Lh4+Pv5GO8KHolcvfzacGzbvl1H9dat24B5v85XGecNSFCZZaliHRkZ5RRVna4XOUHeevtdHRApWrSo2ubrUL9+fVS8CauJS3WxcmXL6qFkiRJYu269bnbVtUtn3N65kx5fpnRpHXSLU4nbz7PmYNKUjzBT/d2//wDKly+HIDUPkxTglv37H8aMm4Aff5qpo9ByIaugppMLmAT05Hj+7feFqFqlCub+8ivGT5yMbdu26yYC7mqar7/5Vo2bglWr16jfL4Niah8Q3UykqqacayYJeLRt0xru7u76/f4DB/H1tzPSArDeKtd+e5dOKFLEWjXy+IkTmPbJZ5j26ec6aCvNZ6pUrgQPDw/9udxxk/MqPDxCV9t8970PMGfePH0OVqxYETt37sKIUR+o83m2vmNTo0YN/duSMZU7KHKt6dDuFqzfuBEfjhmngzLBQUEoo85HswmPpI87d+3G5I+m4suvv7nqXJf5vv7m2/h2xvcoXaoU/vhzkV4mWU7JONuuw9x5v9pNT4iIkLQbSJhpvHGc3Iv+cY76q170ewToWl/leVyBOhVVYVyVz6RCddFQoHFV6/TShObnpcCk6cDMP4FtqqxUujpQxFMVyK2T6ODKn1uACV+qef8OrNqhPi8HlFTJljnN538A478ALqqJ41WS/s5E4Fy89Xcy/sb+M0D5OkCQI7dr3VsCPl2MN9ePlEP27N2n82gP9+mFSuoaYuYbzfyhbXovBc5NW7boa8f8Bb/p64F8JzEpSTdzWbpsuX4td9T/+mcpfH184OnhmZY3lOuF1JSc8f2PqFenDmbNmaevM3J9Mss6cm2Ua9WESVN0XnPz5q0oXrw4ihUrmnaNyjhNxmuUs4i/fBkL/1ys91GL5s1Qq2ZN45P0pDnJho2b9HVa9qO9vEV221TyHtIM57L6zdjYWCxf/h8iLl26bmXUfSofMfXTz/RyPvv0kzqIJvmK6urYbdWyuS5XnD13TtcuatK4kf5OxnWSaaT5TMmSJdOOJdk20pz5/dFj1frN1Xk2H5Uv+1sdvznNn+VGXsQqCm0g5J+ly7Fs+b9ITk7RG16abERGRelERDKiEt26pU0b1K5dy/gGXQs5ISZOmoz//vsPr77yEh568AHdxuzQwUNopwoG/v43b9U8iaQuVceaBEIyJpbnz5/HS68OV4nFYlwMD9fH4P4DB/D7woXqBK+MsqqAJN+XE3/qJ5/qqv4yjfxdsXIV4uPjdUIYHhGuq5JFq8/27d+v257KdIePHFWFql34d8VKnSDJuJOnTmHd+g1o0aKZrg1FdLMwAyElS5bQF9OTp07rc66oypVLuj5bnSMS5A4JDtYZCtsLrWRKX3jpVR2EkPNEzseNmzap+a1TF/oW+gIv14y169er8+4yFqnz6eChQ3o6+a78naYyCidPntIZFGmCI3flGjVsiAibQMiZM2ew4Lc/9DRyHkvmVZanZo3qehl/mb8Ab787Ule1tT3X5bdaquVIUunBbJWBlTtDl9Q8Fi5SGTE13a0dO+C8ygA/M2Qodu/Zq5t7Svog6yOZ4gb166nMLPsjIiJDLgMh0uhi0VKoNEzyMED91kCwu7WKeHOVvbm305UgiDROfOldqPQPKo2ESqukCaO1X5Eq9YGywdZmNKM+Ab77ASq9s06jklEs+RuIU+WlRmqeMu9lG6HSX6i0W/LwUjCy9ktStc7Vv6HKbSofdeU3snSDAyFly5RBh/bt0gL2tuJUGm6m91LjY6YqDF+4eDHtuiO12auqvKIExA8dtt6Nl3KNTNtI5Q2lf4UrecMDWLl6tS7ndO50q75RJtezihUq6Guc1DgY9f6Haj/8lJbXPHrsmG6SERgQqK9RSeq7oz4YjRnf/6CXQ2oHSAFVagrIda55s6Z6nDNwJBAi1/R5837VN0hOnDypt6mZt5BrvFzTJZ+Q3Tb9978V2LJ1m56nWWY199v18M/SZTofUqpUSTw+8DEE+Psbn1ibVtWpXVv3FVK9WjV9o1uO24zHkpQ9lvz9D+Ji41S+qIFeT8nvyLpLEEXyRGvWrtN5pPPnL+Q4f5YbeRGrKLRH+yN9e+PrLz7VBcG777oT/y39C7N++l7vZEmQ/lm8EPf3zH0nUpSenEAzZ85C27Zt0KNHDzRTJ3bvXg9hw8aN+PnnmWl9tDgTXTCbO08VWvbohG7e7J+x/J8lGPzMU0hMTNIXPLkwHTl6FFvVBUvuBnw27SN9rEo1SklEJGoqCaZJEgiJ+s+d+SOeeeoJPY0UiuSu86wfv8Nrr7ykEhcvnehIgkJ0M6pQvry6gHbWbVqXLlumzzW5GP+n0iF/dQHvodJ8W5cuReKLr6bri7dc5P9e9AcWLvhFX2ClFokEFm3J+fPi88Pw7ddfoGqVyjpjIgGNt4a/jh9nfKPPZyF3gaLVMthycXHFj999o683Mp18VzKqMs9jKmcvd4zc3d3wxuuv6vRAzlv5DckISCdltg6rEsU7Ki2Q36xatQqW/fuvKiQkoE3rVjo9WfDLHPTp9aCuDWJbU4aIKLckrvC/e6DSKenYUOWnBwB3DASGTwPWqeyI+QwSaZwxez5UHsRaQ+TTqcCSH4B71XclmDH9W0B6AJBmNNKcRu7LTBoPLFfTDH5GzwK/LgB2nLO+NqkkGXd0tTbH6Xnfld9QZVHMU981v5+YCJWPsgZaCrLNW7ZgwKAndP8P5mCvnw9pEvH5Jx/jy8+m6Zogcu2QIIUENka//54uy4iWLZpjycLfcJ/sJIPkDSX4P2HsaHzy8WS7zW7kGiY1j2XeM6Z/iX/V9ef9ke/C09MDc375RV9DpTArQX6prTLmw1H4de4svTwSJJEbb6dVIZaukAL7fytXokSJMIx89229TT/5eIrOh+hAmMqfO7JNnx82BEOefVrPU8oCMo2Mu17Mcob8tpQnbEntDllWCYTUrlUTruq9eSxJGXvS+DFY/vdiXbYRvy5YgB07d+k8j+R95DiWvJDkiSRvJHkkWznNn11vhTrsJ9WbJZIn1Xus78P1Bi9VsuQ1VbWh9CTxnjb1Ex2xe/qpJxEcHKSrevXp00vXuJG+QiQy7WykgKTvGiudO92mgxZyh1cipZJoHlAn+KlTp3XNEEkUv/vmKx0BllokEjWWuwfSTtA2iOTr66sKed31nd9Ot92q7zSIO7reruZZQic2YcWtF0CpXkd0s5ImMUVDQ3XwQzJwmzZv0f2GNG7YUFfntHX02FEdcJTzrmWLZrpGoGQupZaFkO9K7QpTS5Xjluqfcj7KuSXq1qmtx5UpU1rfHRJxcfG6RpetB3req6s9S0a0b++HdOZH0ki5C7Jr9259bteoXh11VNoo6YGnl5deF8ksrJFghuVK2+/evR5Ex/bt9G9KrRJvL289fvuOnbqmyKnTp/Fo/374/tuv0f+Rh/VnRETX6q4m1sBGh/bWfkFiVHZCOkt9/iVg6AeqAKimkUcOqKRTu7sHUCtYTate9+oJqOwfpAZ9dCpgxmhbNgfql7AWLO5oJWmqNWCiyovpSPLa9w6gjJu1Jor5G507Wb97SQ3SYkBleVQ+CjhVwLM6EryWa5PU+jAHe/18PPhAT1SrWlUP8lrYu8bYI/nLp54YZL1GqeuPFMRtSU0PqSks2rdrq5t3yx36SpUq6uuRLJ80b/dw94C7h7uu5S3NbaSGpTSd+Wzax5j20aS0PCdZSR5k4rgx+Pn7GWjVorkud545e1aXgeSaLvn3m22b2h5LkleqX6+ePv7uuL2LOqfr6OPdrPkheR/JA0leSPJEcmxKHslWTvNn11uhDIRIQXLIcy/oiKv44cefdQR2+Jvv6P4apO3RjeqV92YjJ7nU+JCaH1IDpEmTxsYn0O3EnnryCV0g/+TTz3RVL2ciFy+5iIkR772PHv/rqYd+jw7SARCJ4Eu1OJlO+q/p3uN/6NS1O/53/0O6XackmhlJAE8SFSJnJx1e165VS2fgVqxYhZUrV+uLsVQJzniOyGNt5XyS807OP/NclPNSyMVaqsGapMpmbtpCy90RCVqYJDjs4+Ojf1uWwQxOShXYB3r1TVuOr+TWqSJtv2U6k7Qlt3XvPT1Qs0YNfe2S9shyXZM0Q5rayCN8iYjygrTwr6bK0u8OAhZ9Za2dcd//rLVEpAb/rAXWmiEqS63ZJHsorobHu1uHUFWKMJNWCVyYqar89fW1vs54zyZMzcAa8k3/GyPeA3r0sg79HoVKz63NZCSmUJBJ82ap+Sd3+c1h+GuvwMvLy5jCKtToK0HYvnZEQEAAQkMz/47k1aXGiJDrjXntkeuQ2SRDai6ULl0KfVReXm7EyV3/oc+/iG533YOeD/bWzUWlzwe6QmqjSo142T4dO3fF3ffdr6/HtuXLwrBNzaYncnNGghBZsT2W5AasmVeSv76+1mYoktcx812SB7Jt2iJ5JNtm+znNn11vhTMQojKT0i5P/prvJQJrvpcoqGCB8tpJTQ+p8SE1P6QGSMbCQ4cO7XH33T30k2QkACWJhjN6+83h6S6C5tCwQX38oxLGiZM/0onLYwP647tvvtZRYvbvQZQ5yURK0EOCH9M++1y3jZYMR/Xq1YwpriZ3I6S5S8bz8OPJExAcnF1D8+zpvqgkZ27QyZ36R5bRNm20lzGWwZo5zvy6JDXBpk6ZqJt9Dn32GV1FWvy9dBk+UdtA7tQQEV2LQ6rMMXkO8PVia60PKQhI7YzB9wFGBTndZMa2YcdFqSJikOCF5LJlsK3LYGS9NUkaVZZHc7u66wy73n4T+PWHq4eGBfyGupQ15PoiHUmaQ2BAQFqHktfboMcGXHXtkUGeFCLLdE+PuzBv1s94/70RuP++e/WdfKnlMHbCROzatcuYCwnpo++dke/pmp7SVOmrzz7BDzOm6yYmpsKwTWvVrKHzKQfViS211W1JE34J3rTtcBtGj5uQrhwngROTjJdyjHBztykLqvE2X9F5JHs3xvM7f5ZbhTIQIk/V+ObLz3Rm03bDdr7tVl2NSdpvvfXG6/quH+WeHMhS00Mif1LzQ2qAZCSRwIEq0S2t9sOnn37uVI9eks6GpNqh2Lp1m77wyQXQkmrBnLm/6B6iIyIu6eryUoWu3S1t0bdPL5WAltXV65ytBg1RTtWrW1c3LZNOSqVmVdvWrVDcToeh0hxSOpXTbaBPnkrLjEptku++/1F3NpriQPXj7Mh5vPzf//SyyF2ev/7+R9f8ks5cw4oX132BSKb4wMFDiFLntyyDNHmRgLIsh1QnVbkmY27pSXvyn2bOwtRPPlOFjnDc+7+7dbvxgY/2159LVevs7uQQEWVHJWNY/Je1j49fl0I/8UWcVcOePdbXQYFAiPpbqZL1/boNV/rq+G8v0KMP8PgLgPSgZGSDIC2kze5AjqsP9u6TJh1AowbGSDsC1GD+xtatgDwbS+o9SLlqzh/ArN+AAl4hJM9JYTOnNxWlvCN9gwjpk05uJMj1R/5KPyRy/Tl1+ozu005qJM/79VfUr1tHP0Fk6keTdFlKmjxInpWuOHDgkN4u9evVxWPqWix9ecXGxum+Q0w53aapllRdTrieZPmlI1SpmTFuwiRdS0jyMFIOmf7NjLQ+TiSPJeU681jatn1HWm1U6Wdk7779OqDSqEGDtHyX5IHkGJN8kQySR5K8kul65c9yq1AGQqT5gLe3jz64pHNUibzJEwYuRUbqR0TJkzpuZDT2ZiCJsNTwkJoeUuNDan5kpmrVqjoYcvjwYV17RE40ZyDH4f/UtpHOS39d8Bsef+oZ3bP0IwMe0484O3L0GAIDA3TiIyRx+ODDMbqH5ffVX9uEgoiuJv0RdezQTr+WNtEd2re3m65LTZEunW7TaY/cvZHHDb706uv6Lseceb/oC3de9BslGQV58sz9D/XBffc/hB9++lmP79CunX7SjTRrkYyEVJsdMuwFtSyj8PTgYXjr3ZFY8PvvWT4C10vNW54UIJ2PDX/rbbw94j1rT/TyKAZF7ujI4xSJiK5FBV+g823WgMinnwNdHga6DgJ69rI+rUXuId52q7X5yv/utr6XGO5DTwEPvgC8+571u7d2AKTHMun4VJq76I5XBwK9XoZK9+TOsHT8CTSuon/WLkmVzd+QjlUffwsY8bWazxNQ+SiofJQ1OFKQSaeZ0oRR7qibQ/e778WBg+nvvGfH7O9QOunu2+9R3XdCTtzRtYsOyEvH2o8NelI/0rTfgIH45LMvdHBErj/ShEGeYCLNZ54Z+pyurfz6G2/rJ6LId81lcDaTpnycbv/JIA9DqFixvL7uy/YbPWacDiJI/kI6cjc5uk2lrxDJi0gAYOATT+G33//Q468HqYH+4nNDdWUBaUHxrFrOdh074Y677tE3YKQ80uPO7mhqdH9gHkvyJCMp0/R6uJ86p4fqvI3UVG3cuJHO80jeR0i+RfJFMkgeSbaZ6Xrlz3KrUAZCRMSlCF1lJywsTCWg3rqvBumZV9ozSVCEro3U7JAaHlLTQ4IcEiHMjBRM5Eky8kQZebKMtKdzFhJlHTf6Q1SoUF4/2kweKSzVzKRToZdeeE4fm7eo7dKt6+26x2TpAHHt+g3o0/shNo0hckDjRo10EEQ6Sa0kz1q0Q9Kgfg/31c1J3N3c9fPuJXPq5+uLoYOfwZ3d7jCmvDaSDsqTmyRjI00x5QIu53b/fg/rpjFy8ZfzvteDD+gaHlJjZPuOHboWizyRplnTJsacrmauwwA1LyFPlJL0IjklWXdE9nDfPgzuE9E1k5YqT9wLPPm4teaH3Iw1y3XSD/W40UAzo/uiBsWBCWOttTbkxrY8Flf6EenbG3i4m0q31DTl1PtJE9S09dV8YqEKetZ53nE78PIzqqBonVWm6qvfkN+soJL3ffutj+aNjbN+/6WnrQEZZyAd5Le/pa1+LU/kyNiEITvS59QEtSHlUetSCJebmXIXXmrPv/v2G7qPEZlGmm9Ih62Sz5eCqNRokPdvv/n6Vf1WOTvpp0ye3Cakmbtc06UZjNxwNzm6TaWpvNw8lb5EJP+wa8/eHNf8uRZSm2XyxHH6GLN91LNUJnj5xed1Z7zmeFnmSerEl2NJOjeV4I081lnKNjKt5K0kzyN5H8kDSV5I1knyRpJHsi0zXq/8WW65qJ1gdy+cPR+OsGI568yHbg46avfuSPzww4/GmJxp0rgxPvpoMsLkFoETkQBIUmKSKrT5pUtkTNL5kFTxDwgM1I+nIqK8p6t7RkXBRV2YpflafgUP5Hz39PDI9E6GVBGNUaUCD08PfcHPCXMdBNMLIrIrbi4Qmf4JDTklBQBppCsV0yWVyiroIE1jpHGePK/k6hyOlXR5KH2fSpOX3NzjdeQ3ruI9DAgZb7wp/KQvKGkGmdPrhi3Jb8rNN7kGZnaNMqeRmobsSiBrsk+kSUxm+XuTI9tU8gYyndQkuVE3N3KSP3HkWHL0mM3r/FlexCoYCKGryHOxFy1arNux5VaL5s3RUupEEhEREVHeyoNAyE3hJguEEJFjGAghIiIiInI2DIRYMRBC5JTyIlZRaPsIISIiIiIiIiLKKQZCiIiIiIiIiMhpMBBCRERERERERE6DgRAiIiIiIiIichoMhBARERERERGR02AghIiIiIiIiIicBgMhRERERESFiWdTNfRVw/2Ax92Ae1c1dADcWqmhkcrh1wRcKqkhTE3sZ/0OERGlcbEoxut08uLZvEREREREdKOlApZE9SdG/Y1Vf9VgiTbe2/y1RKnXkdbBIn/PquGYGvYZ8ylgvIcBIeONN0TkLPIiVsFACBERERERZSFF/X8JSDWHcDVEqOGiMZxTw1k1zRn19whgOWZ8L58xEELklBgIISIiIiKigkXXPpFAiW3gRIaLQIpN4CT1lBoOq+nV+9xgIITIKTEQQkREREREhZslXv2Tan3tMC9VknE3XhORM8mLWAU7SyUiIiIiohvHxUcNfjkcGAQhotxjIISIiIiIiIiInAYDIURERERERETkNBgIISIiIiIiIiKnwUAIERERERERETkNBkKIiIiIiIiIyGkwEEJEREREREREToOBECIiIiIiIiJyGi4WxXidztnz4cYrIiIiIiIiIqKCIaxYEeNV7uhAyIcrPsP8fX/jROQZPfLosOX6LxERERERERHRjZSSkoqkpCR4e3sZY66N6/2zBmPq+u/TgiBERERERERERAWFm5urDoJExcQaY66N69oTW42XREREREREREQFk7enJ2Ji44x3ucfOUomIiIiIiIiowHNzc8PlhETjXe4xEEJEREREREREBZ40kZH+Qq6VS7nxt1z11Bh2lkpERERE5KDLy4wXDvJun/PvUPZcfABLvPEmF2S/EFGBJ0+4veanxjAQQkRERESUS7Gzgaiexhsq1EomqX/cra+JqMDKi0AIm8YQERERERERkdNgIISIiIiIiIiInAabxhARUaGTGH8M8ZEbkRS3BykJx5GadAGWVOuj1FxcfeHqURRuXmXh4VsDPkGN4elTTn92IxXGZSYiB7BpzM2DTWOICgX2EUJERE4l+vwixIcvRnL8HmOMY9x8asC3SGcEFOtijLl+CuMyE1EOMBBy82AghKhQYCCEiIicQmz4f4g5+wNSEo4ZYwBX91C4+9aBh28luHuGwcXNX4+3pMQiOfEMkuIOITluB1KTL+rxwtWrHALCesGvSFtjTP4pjMtMRLnAQMjNg4EQokKBgRAiIrrpXTwyCQmXFhvvAM/AdvAN7QTfoIbGmKzFRW5G3MUlSIy6cm3zCu6M0ApDjHd5rzAuMxHlEgMhNw8GQogKBQZCiIjoppWceBHhh0elNSnx8G+CwJJ94eVXRb83WdR/6nJmfaNfyzvz/RUJsQcQdXoGkmI26PfS9CS04mtw9wzV7/OCI8uckpyImOjzOHv6OM6eOYWExCR4efkirEQZVKxcEx6e3saU12eZiegaMRBy82AghKhQYCCEiIhuShJQuHhweFqzEr8S/RFU4j792soa/rBYXNSVzCL/w0WNSVUv1Dv1nytc1Tj9ziV9UCTyzGzEnvlav3bzKofQyiPzJLCQ3TJfPLMfMRcPYP/+ndh38CT27jmAs+cuIP5yEpKTkuDu4YHKlSuiz4ABqFW7Gbx9rixTfi0zEeUBBkJuHgyEEBUKeREIcQvqUv5t43WaYS37G6+IiIiuv/MH3kDK5YP6dVC5VxBQrKt+LSw6fG9BqvzrkgJ5IQEPea9GyL9pbN+ZARFv/1pw9SyPhMgVsKREIiFmN/yKXnuHpJktsyXlMvZtXYQzR7YgMuIc1qzfhgW//4t1G3bjyNFzOHnqIs6cvYSz5yJx+uxFnD1zEj5eLihRIghu7p5wdfXMt2UmojyQtAtImGW8oUIt4E31j6v1NREVWLFx8fD38zHe5Q4DIUREVKBI/xpJMWv168Byr8A/rZNQiYC4wGJJQaolEckp8WqIRmJiBM4nJOJigivik12QIhGR1FS4uljg5uqmAyAZa4XIo2ldPcvpwEJq8gUkXr4A3+AWxqc5l9kynzqxBz5ucTh2eAeSEhOwdt12/P7nvzh28oJaRHe1jK5qsAZpJJhz+fJlnDp1BoePHEGN6pXhrr4LV1d4eQXk+TIT5afUlCREn9uHI+t/wN6lE7Drz/ewY+FI7Plnghr3Pc4d+BeXo8/B07eIOrYD1TlQiAufDITcPBgIISoUGAghIqKbijxpJfbsN/q1NC0JtKkJciUQkoy4hHBExx9HZNwhnI/cge1nLmHLWRecjALiE1ORnJIKD1c3+Hq6Wb9qh6dPeaTCC0kxW3RNDgkyyLicymyZ161aiOioEygWWgxnTx3E6VOn8N3Pv+PE6QikpLjAy9Mdft6e8PX2gq+vDwLUBT1Q/Q0O8EVE+AWcOnsaZcuVQmTkSSQnXkZQSKk8W2ai/GJJTUHsxSM4tvFnHF77DS4cXo34SyfVB8nw8vWDh6cPUpITkBB9AdHn9iPixCYkx0XCy78o3L0DrgpaFgoMhNw8GAghKhQYCCEioptK+JEPdNMP6WS0SLmnjbGqDKXbw1iHVFWgiow5ivCYrbh4eTcuxG/Hvosu2H6hKE7HeyMuJQUJKcnw9fBEMT/7bb1tm8lcjtmH1MRTSL58DP7FuuvxOWFvmVf99wf27V6L4sVLoGjxkrhwaj8W/bMa23cfQkK8BGlc4e/thuKBPihTPBTVKpZD/WqVUL9SKbRrUgtITsHStVtRtXIFBAcF4tLF40hJSkRI0bJ5ssxE+UGCIJdObcPJrb/g1PbfEHtxLwL8UtQ54IWwkn4oXsIfRYp5IzjYHT7eFqQkxiDq3HHEXjqB1JREeHgHqeO7qJygxhwLCQZCbh4MhBAVCnkRCOGZTkREBUL0+UVINToalSetmKxBEGG9ZLm4uMHHKwj+PhUQ4l0Hgd5V4OsTgLAAV1QMckPFYE+UU0Ood+aFqSvzvPJb0smpLENO2Fvmg/t3YNXy36TyilrkFLi5uam/Hjh0+DQi413g4ZKKBmUC0Ld9bTzfsz1ef+RODB/UE8P6/w/9H7oTd3Rqj/vu7Ap3Nd2mzdvg4eGBwEA/nDiyFhfOHNK/cS3LTJRfYsOP4vTOhTixdS6SYo6iROkgVKxeAlVrh6FqzWBUqOyDipV91esialwJlK0UBh8/b0Se3oGjG2fizO7FiJPaI0RERPms0NcISU1NxarVqzFnzlyEFQ9DSEiI8QndCGdiLmDSmul485+J+GLzLOw6fwAVgksj1Lfw7Ze4uHgsWPAbxowZj6+nf4MDBw6iQoUKCAoK0p8nJSVh3rxf1XSxKFWqlB5nz5Ilf6Hvw/3QrHlTdYwWN8bmj6ioKPz4488YN34Cjh87rpa3PPz9/Y1P7Tt79hy+nTEDnp6eKFEizBh7xaFDh/HjTz+jXLlyal5++PKrr/HO2yNwyy1tVOEs0JiK6NpdOjENluQL8Axsh8CwO/U4CVhcCVpIZCFV/esGV1cXeLgHwtczRA1F4eNdDaUDS6N6aCAqhfiidIA3Qrzc4eZmDYZk7CfEnK+Mc/csgoS4k0hJOIrU5MgcdUJqb5nn/DgViQnx8A/wR5hKG0qWKIsLZ09i9txFiIs4j1qlQ1ExrAg8vH0QEFwcZctWQHBoMSS7uCMqPgGnzpxUy+SBFRu2w8vXF7ff3gnFiwUgKTEO508fR5mKDa5pmYnyg/QJIs1hpCZISvwZlCxfAjXqhSI42A0eHlcCj0JORYkPqiwcomMsiI2MQkJsOJITYtWx7Yfg0nXVNIXoXt0NqBFyLAmYMh0Y/wVw4AxQoS4QlHlLQO2CGr6aA4z5BFi6HggpB5RR2bMrKaOksMCGE8Dkr4CPvwWORwCV6wEZcxJRavhmAfDBx8CfK9TnJdW8iqn9av04TaIaFm60TvfrP+rzYLWsKstkTrdoG7BgGbBm59VDlFqYKldnS/JXAawRcuLESXz99TcYN24C/luxAsWLF0PJkiXTXdNSUlKwbNlyjBgxCt999wMuXbqESpUqwscn/R1zydtKnu7D0WPw++8LdaBe8rY6YE8OSUxM1Nt65MhR+HnmLMTGxaFq1ar6pkV0dDRmzpqNU6dOo0rlyun2kYiIiMCMGd/reZQtW8YYS7nh9DVCLly4gHfeGYHHH38KU6d+gvPnzxuf0I2w4thG3D6jPz6TdsGXTuB45GnM2rkQ3b4fiPl7/zamKhzOnTuPAY8+hhnffY8uXTrhyScex8WLF/G/e3uqC8cfeprk5GSsUBekQ4eP6PeZKVq0KBo3boTAgABjTP6IUwnxyy+/in+WLkWvhx7EmbNn8djAx3H69GljCvsk0f7hh5/w+vA37E4r55V8LtMJCfrUql0LvqqARpRXEuOPqcLTHv3aN7ST/muSDMP58xcQHq4KSuq8g8UVHm4BOH86HpbkUIR4NUDxVB8ERZ9CsdQolA10R6CPC9zdrxS+0gdUJGN5QgcOTeZvJqtlkGVxhL1l3rFlFU6dOGSULNQ/Lp6wuLirBXBBYlISYlO9kJDiiujYBFyMjMfOo2ewcvse7Dl0GPv3HcCff/6DDbsOYsOW7QgNCUFxlX74+/mpzKw33D1cEXPpDE4dVYUuJTfLTJRfYs4fMDpAPYFipYqgWu1geHlK0CN9EMTKBRcvpODQviicOaLOIzmvlcgzu3B23z+Ijzyl35N9W84CDzyotpdKwp58wvpX3sv4zOyLAe7vo/7uBx57DGjUGCrPAEz6WRWijWlkT81ZCQweApQrb533KbUr+jxs/b7pnBoGPQcs/FN91hdo3QaqUAi8NRmIt06iSRBk1KdQBXjgttusg7yWcfJZZiSpXr5crc9WY4QT27d/P/r1H4ATJ0+q8s5AHdx49tkhmD1nbto1TYIgk6d8hFdefR2NmzTCI4/0xYqVK/HgQ71x+PBhPY0w87Z//rlI5xMlfzvtk0/x6mvDdR6Ssifb+uOp03QQ5LbbbsUDD9yPefN+wWB10ly6FIkAldcvXbo0PvxwNParfWdL9tf8+Qv0DdJKlSoZY+lGKrQ1QuRge0YlBKFFiuC5YUOxavUadOncCWXKlDamoOspKiEGzy0ahaMq89KgRE18cdcoPNLgfzhy6aQOiuy7eBjdq3WAr8e1Re6ul+nffKuf3jBt6kdo2LABqlSprC4YnREcHIzvvv8BnVTiJ5Hfv//+B2XLlUXt2rWMb16tZMkSuKPr7fq7+UmeMiG1Qd595220atUSDRvUx4L5v6FevXpZnhfh4RH45df5OHPmrCoYRqNtm9bp7gycVBffxYuX4O67e6CIOt+qVqmC227teNVdBqJrEXPxHyTFbIKreyhCyj2lx5nBCwmAbN++HTHRMUhITMSFixcQEXEJJ0+chLubuw7SHTxwAKfV+8txsYiJisKJ4ydw7NgxPZ38lWkkQyivjx49qge5MyPnpbe3Nzy8SyL2wiJYUuPh4lES3v419TJkxd4yL/79O93RqaenN/z8/FE0tCgCiwUifO8OnNq+Wc3XB/4+bvBVv5mc6gYf3wAkqkLg4WPHEX7xEhITk5HsDpQICsKFyEto3aA2atasCDckI0qdq9HRsUi8nIjSFevkapmJ8os8HUY6RpU+QcpWKqZrgmQWBDl7JhnHDoXj3KlzSEq4UiS2pKbqR0Z7+gQhpEwDY2whcB1rhEhxddR44JZ2wOuPAVXDgFtbqvRIjV+8COioxnvoKdObPgcIDgI+eAGorr7TuBpQvw0wdSrQpjNQxBOQOMqIkcDw4cADba21MTq1Bo5dBHarVWzd0BoskdoiCQnAtNFAPZW9aFQVuO1u4JtvgHJqvhVC9U9ixT6oPBPwySdA++pA3YpAqy7qe+p9pdrW6eQ3WtZJP5RS0/76K9Cnj5rf9a5QXIBqhOhC98fTdO3ed995S+dFW7ZooQvRX3zxJTp26KBr6v733wpMnvIxvvj8U3TvdgeqVauGburvkSNHsWvnLrRu3Qqurq46L7dnz15M/fgjlTesizp1aqONyvN9/vkXqFO7NstQDpBtPe+XX/Hll5+jZcvmqFG9Ojq0b6+DISEhwahevRpKly6lb5Ju3botXZ764MFDeFedYC+88Dzqqm1P18apa4S4ubniueeG4q233kCxYsWMsXSjSCCkfomauLdWF4zoOAx1w6qjRtFKeLJpL3ipTM252Is4FpV1zYSCIkFd3aWQJAmZba0Hqd72v3vuxpdffJ7WPMa0ctUqDBgwEHffcy/GT5ioC1+mLVu24tnBQ3XwTuYtUWSZLuPw6aefG9+wXvz++Wdp2jzHjBmHM2fOGJ/a5+HuDnd3N/Vd652106fPIDIqEl5eXvp9dl568XmsXbsWv/32uzHGvj/+WKjXQdbFXB9pQrRQ7jD07ptuPYgclRRnrVnh7qtywTYkECK1QKRWSGxcrK7JIc3RpNqv1OiQc1XODR0kuZyga25J8C5c/T127Dg2b96sazXt2rULhw4d0t+R41YyhdK8LSbmym1O87fNZclOxmVOSIjH/j2b9WuRaknF5US1XFERiA0/jxKe7vCMjUIpla5ULR6KxhXLoEaoPyoEeKJO2ZKoU6kC6lYqj/qly6BokA8aViyH5qVLI+VytFrnCCQlX5aSIs6fOoDkJFUKUXK6zET55cLhVUhWx2pAkBdCQj3tBkGkKcz5c8k4fjhcHccXkaAysulZkBgbjguHVhvvKSO16aDKt7iz+5XmJfJX3st4+TyjJDVcuAAUCQU8raO0UiWh8ghyc9H6Xh493qMHULuG9b2QeddQ76XStYSsYtWgytK4W01nW8+1jJpQgjNLl6n5qPcyyOsunYGqNu1q5LWMM6fLSI6aBQsAVZ5Eo4rWcc5Krn3Vq1XVN9Nsb1CVK1tW/zVr6u7YuRPt2t2iC+Emae7cvVtXrF6zBudl5yunTp9GsaJF1T6/chQUCQlB2TJlcUqq/lCWJG++dNlydO/eDWFhV5q6y+vp079Ex44d9HvZ9v37PYKVK1dixcpVepx894cff0TTpk3RskVzPY5uvEIbCJGqR00aN9aZWcp7KSqzPXPnQuw4t88Yk7UygSUwsuMwjO/yGuqFVdfjZB5rjm9GQnIiSvoXR/mgwhFplsBB3bp1ddR337706y+1QIKDg9JdkCRgMXv2XPTp2xv9+/fTtUTGjhuvC25CCl1SeLOo7SHHaw2Vo5ALljnUrl1b98NRrFhRPb0kllLFccSI93Dnnd10jScJaPTp+4iuIpkZqYpXv359fD39W71MUnWyR4+71LqkL1hmpnr16vq3pk77JMvfiYmN1c3SpH8eGeT1N9/O0P30PPJwXx0hJ8qplITj+q+H75XqohJ8lEECj3KeyF2uypUr65pJYWFh+lwqX748ypQpgzp16qB58+Zo1KiRnk7aPJvjKlasqMfJeV2rVi39HfmuHPO2NbXM3zaXJTsZl/nkMet5o2sr68ECV0sKPFNT4OrlCndXC7wsCfD3ckHpsCKoUbk0ypYIQmigJ0qXLKKWsZzK9FZAzSrlUapcCZQsGoLAAG8kJcepdCROZYoT1WxTYVEFzEsXrR1K5nSZifJL9FlVOlZFWx8/T/1EmIyk9UtEeAqOHIjE2ZPnEa+uJfYkJ8Yi6pzMi+w5dkya3ALF/YwRBnkv4+XzjKSGiEr6cPAgEGkdpZOoHTvUZ+rDskb2rLTKUg/spgp21reaBCv27JE8BuCtXksfIpczxq8M3mqCixdVvke9lr0rv6eS4XR9kMhrGSef2TsCpO+T338Het4POHu9U8mPPvTQg2jSpIkxxurY8ePwcPdQ10JrdZnLl62B8Yzc1TTSJ4jZDFRqfRw+fETtoyvRMqkpKQGSmjVZozA70dEx2L17N2rWqK6bkn874zvdTEZueEotaT+/Kydl5cqVdDDkyy+/0jdo1qxdi3///Q8DHxvAGtUFCKMIdBUJYExe8w1eXjIaA+e/jm06c+O4nef247ZvH0GDaXfi4/Xfo35YDUzt9jaK+KSvRVGQ3fu/e9BCFaDuvuc+Xcth1uw5ulNRsz2mLYn8vjfyXXTs0B497roT7777NjZs2KDvSmckgZT77vsfhg0dooenn3pSj5dmN1273q5fb9u2HX/99Tc+/Wwa7rnnbtxyS1u88/Zb+u+smbN1oMQeWY5nnn5SX9SeevpZDBz4GAY/+0y6oE12ZDnkd6RWR07ai0q/IZMnTdDfl6Y4RDmVmmS9Y+XuWUL/NUkgRJqulChRQgc/pIO44sWL60E68JUgiATGpVNg6SxbPpfxEuyQoEmVKlXSXkt1YpmPBA1lkNe2GRJ3T2v231yW7GRc5osXzDtqFv2fZPg9XNz1kBLgjdI1q6JUkQB4uaQgOSlR3zFPTJBaLJcQdekSLCmJ8PFyh6+vt1onP5QLK4mUQC9V8FD/qXQ5NVWlPxZ12VbbJDbampHN6TIT5ZfL0Rfg5q6Odw+525z+Wik1QSIvpeDgvhicOnLcTk2QK1KSE5EQw+M5M6oshtAi1uCGLXkv4+Vze3reKjc8gN6DgA9nAMM+BCZNBoa/nj7wkdGaw8DKldaaIpKmSVGvSlVghRpn28+HNKtZtlT6X7IGQiSnIhXuiqhlykjGyWcZczPyfvZs1gbJivTz8dlnn+O+nvemPSCiVs0a2LRpkw5omCSvKH1RSJ4wIjxCj5NmMA8+eD/6D3gUI0a+h+FvvInnX3gJzz7zVLraJGRfRIS1n7LNW7bi3vse0DdL9+/br/timTR5Srr8ueRdeqiTRvLg06d/i08++Qx9+/TWnapSwcFACKVjBkEmr/1WZ7xPRZ/D4wuG5ygYkpiahDMx53VzGZnH2dgL2H5uny4YFBbSJOb111/Fnwt/1xeOGd9+hxYtW+OJJ5++KsDRsEGDdE1oggKDdOEqReqYZkGCKr/OX4AjR47gxReeTyuQSWRZqs5VtulISRLSNm3aYM/evYjN5C6aRJzfevtd3QeCr68PPDw9clxjSn7n8UGDcOzoMSz47Xe7gR97WrVskW4bEOWUJdUaeHNxu3JHxTz+5DiWIKI5yLkiwREvTy9dxTdJFZykqYwM0txF7qLJ8SjTuauCmTm9DPJef1dNI/OyPUdc3Kz1t81lyU7GZY6Li06XzqVKX6mpKXBLkZKJKyo0boi6rVvCKzAAl6Iu4dx5lU7GxiM1xYLUhGRcjolHYlIyEpOT4Kb+Cy1dDMk+Hki2qBlZ3NQgxRB50o0FSYnWgmROl5ko36iMv9SCuvpab3aMGonT6npndoyaJZkX5alTKslYu1alRMam9Q+QQjWwddvVAQmTdJD61lvWzlWrGu1gJODSvz+werX6bAqwQWWJ/toJDB6m8j/BgLtKqnK79w6r7M3ChUDfh1kbxB65QSVPe5FA/p3du+nCtpDaxVIDcsiQYfpGmtyMe+vtd7Bx0yaUL19O5e2s1zm5RkpTDTN/KtdBqbW8efMWxMdnHpwkK9luclNUmoj/+ON3GDniXUycOB6/zJujH6Qg296W1CCXG57y4AUzMGLuMyoYGAihNBmDIKacBkMalqiFHU/9gQOD/8Lg5o/gXGy4rl2y7LC6AhcikliVK1cWTz35BObPn4c1q1fq5isvvfyqDjqY/PyvFNxyQh77PGnSFLzw/HP6UWimc+fP4ZtvvkWVqjVQsVLVtOHRRwfq/gzs1QiRC9gHH45BsipELVn8J6ZMmaTnLb8hy3rP/+7TF0ZHSFvHocMG61ohO3dan06RHdcc1Dohyik5F+1mHvR4lWH28UZgoLVWiAQ3MrL9fqbzygNS/DOLgDp2If+lJgFJUXBNTEGAOs+rt2oJ/xJhiE68jHMR4bgUFQU3ixv8PPyQkmDRgZGE1EQkSy0Qf1ckWZKRnJyiB0uqmp+LPD5YrUeuixpE+cM7oLg6TpOQpApWFh20E9aOUY8elI5RzzgUBJHOUr392fdbVqQcmzHcJO8zu/8iYdIxY4CWLYF5nwIv9wVGPgV89x1Ugc7aqWlGEgR5Sk3zwP3A/1rLnryimj8w/WtA7svIU2MmT7Y+YeahB61NaGx7JlNJ11XsjZNRv84HGjcC6pa0jqMrJAjyxptv635BXnv15XQ3n+T1iHff0bVyX3v9DTz19GAdLHlv5AiUKV1GFchDdN5RaiXIjYDfFvyCN4a/rofZs2bqPkbmzJ1nzI2yI82VypcrZ7yTmlbV0LFjR6xes/aqPLo0yW3bto3uV0QCI1SwMBBCaf47uh4no8/inpqddKentkPLsg2x6MC/uHT5yuMmbV1OTsCZmAu6U9SkFOmWC/Bw80DvenehhMrQJKpxOW1iU9BIgEBqS0ifGLaPI8uNo8eOYeTI9zFkyLNo0KC+MdZK2nRKs5ZDB/fh8KH96YZ5c2enVYW0JZ1Fbtu2DU8/8yRCQ0PRSuV2ZN5vvfUOfv9job5LHhaWvslBVqRZkPRPMnrMWIRHWKtUEuUnF1drps6ia084SrL+LroWljSRkWYxkiHMbaDDkmKtbWUuS3YyLrOvr3HL1KaEIpVaJGMkQQwRWCQEwcWLIsXVBRExUaogEY1UVXiUZi8yjYslBYmqSJDgogZLMpLks6REpCYmqd9JtRYwLW7w8DR/O2fLTJRfAkvUUOeeB+JjEyE3l7PvGNU+d68ABIaxv4LMVKoo/ToAGXNj8l7Gy+cZnVLJhHSk2rmTtfNTk3RcqspvUOW3dOTxuG++CXTrBgyw6ZTVVjkPYPIrwJ5/gPmfWp8KI52ollXlQ6nNISmSVGzdZyfrJ+PkM9tUy6wNcv8D6Tt0Jes15NPPPtc1kqUWguTzMpKawE8+8TjWrV2lB3ktQRMJyBctWlT3E7Jh40b9NBnbIIrciLu7x13YuGEja4VkQ7ZjSd28tpQxxkryHDJetndyhmCvZEfc2J9lgcU9Q2naV2iOsZ1f0R2e2htebD0Qwd6BxtTpbT69C+2+7oXmn9+Hj9Z9p2uXSOIrwZXzsdbaE4Fe1ircBZ08qvPe++7XT0LJSJqlSAehPj65L3RIVH/y5I90nyLyFJqMhTZp67lz505ERqbP5kjNDkf77ZB5yrzlgifBEHncWinpHt5B0kTm4b599MV3/PgJxlii/OPqYe0sODlRWppfIcdyZoPJ+t56ObMdb8v+d9JPm5xofTKTuSzZybjMoUVL6hiIpH3yv/U35BMZo/6T0S4W+AcGqC+7IOLSJbi4A/5F/GDxcoG7vzsCiwYg1c0dKW4e+q+rqwfc1Dxc0mrpqfVU6+oXYG14n9NlJsovxSq3gYdPEKIiE3DuzGVEhCdn2zHqVdQJ4+VXRM2rlTGCMpKOTaWlw/oMlTw3bZYbKVc6PrUllTYlMJWxT025bRV5yfo9kwRBXngFaNoUePqBq4Mg8p1XpwAfzdXJXBpJBVetUnnJ9tb3UiukQQNAWgtceY6e9bU8MUY+M2uOsDZI5iQfJo/Q3bBhIyaMH5uuBrFp4cI/0bvPw5CnE5rke9JHSMuWLRAUFKhOLVf9uPlYmyelCWmCekHlL6V/Hz6AImsBAf765uWqlav19jVJAEQ6Q61UqaJubkSFB494yhMNStZE63KNdZOaiWumo/ZHXVFvane8sPgDJKUmo1JIWXSp0saYumCTGhe33XYrPhw9Vj8BRiLkUqNC2lq+8uprKhFsoBO73DCj+tK50p13dtcR+oiICD3Ia7kgtWzZUgcixo4bl9ZBqzxV5oknntZPZ7HXb4dUgZRexT94f7SeVoI1586dS2vCcykyMu0pNo6SOw7SbOf8eXZaR/nPzcv6OMCkuEP6r6YKRXK0m8MV6cdKt6RXPk//2RUZx109jfnb5rJkJ+Mylyknnc1dmaf5C3pQ/1jDLi64HH8ZcSozGhMTi/DoGEQnpyLJ3ROxKn24nJqiCoLB8AwsCg/fIHh7+6uMlTc8PTzhqjKyLnouqQgKtZYWcrrMRPmlRI3O8C1SDtGRSTi87wIO7IvOtmPUjNzcveEXWh5hNW41xlBG8tDOXr2BCROBdcetT16Rv2PHSZV96+dytX/7U+DVyYBs/dLeUHkEYMQIYONpa1MZubJ/OhtQ2RwYT/3U4z9U8/H0tDaJkXlLnVAZJIAh4VhpfNipEzB9OvDnFut3TqoP3vtAOk4HatkEMjqr3ZiYAExV00puRAZ5Ha++JJ+ZWBvEPsnvzZ33C376eabu/F6atZh5RhkkbyqkcB6p8nny1D+5mSevv/vueyxavBhdb79dB+UlGNLx1g5peVtpai2Bk5mzZuvOPG9VBwEL8VmTvLk8jXHeL7/q7SvbT2pkT5w0Gfv3H8DtXboYU1JhwUAI5QkflXmZ0vUNPNqoJ/w9/RCffFl3lurp5oEuldvip/smolRAVv2SFxxywXh0QH/07/+I7k27Vu16qFa9Fnr3fhiNGjXEa6++ojtfzA0Jdsjjs7bv2IGud3RHo8bN0oY333wbly9f1m0Ix4z+UE0bjTZt26FS5Wq4o9udaN+hHeRRXBnvYgt5YowELerWq6OnrVylOjp07KQLX/N/naufDz9/wW86QJITcnEdNnSw8Y4o/3j41tB/k+N26L8iJiFZDwnJKUYtMyE1K9RxrGtIqNfqdNCPlNVZdOug36uDXw/yuQzyfeM7+nvG50Z0QjN/21yW7GRcZi8vH5VWNFTz1W8V+f1UpKpzVnr2cFULEqPO8T37DyMiMgpxl5Nw9PhZbN25G9t3bceRo4cQGxeLyy4ecAutCE//4nD19oeHd6D6rUC4qvPcRc2vWMmKcPewZlhzusxE+cU/tDxKVO0An5DyiLx4HmeOHHOsY1QbwaXr6oCKlx/7CMmMJFn3tQX69AYGPQ7UaW39K+9lvHwuW10eFHL6jPW1BBdef9oawHj0UaC2+k5TNfyzFPhkmrrWGy1ntx8D5s6FKigDbW8BGqlpzKG/+r5Z36C9Sm7eehMYMdI6r/YdgJBg4LVh6Ts5lVzfhx8CO3cCTdR0MshrGWfmCOW++g8/sjaIPdK56Q9q48ijWuXJJLZ5Rhk2STUgRZqFjh8/VtcmbtykORo0bKKbRU+YME4/xlWYeduhQwbrvkbq1muIho2aqP3/KUaMeAe3385CvCPq1KmNyZPG48efZurt17JVW2zfvgOT1DhzW1Ph4VJu/C1pWTbT0WHLjVdEOaey/giPj9SF7iK+wXAzqqwXRrIOEpCQAlRmHTHmJ6mNIsGRnPy23CGIjY3TVfgkek1UGCTGH8OFvdbHSQdXHAnfoIY4eDEehy4koFywB4oFeMDbzUU/8cBV/aNrR0jaot7rMIMEHOCmUh81wmKtI+IicQ75x2CR6SUqYkPiijImLnIzLh0erscVrT4Nnj5XOkLLjL1l3r5lJWb/MA3+gcEoWqIoalUqi+pl/bBxxx4EBRfD6nW78cucxQjySEHZQE/4qHUqWaoU6jdsiApVKiEqIRGrdx5Hyzt7olSpULikpCAlPkr91iWcOX5IFTAvoHaze1CifK1cLTNRfooLP4Zjm2fh2KaZiLmQs760AsOqo3zjB1G2wf/gHVTISsSxs4Gonsab60eCCNFqkN6JHL3aSzhYGt5KjiJ3Xb1fYc5LwrLZ3R4yG0dd62/mu5JSy8KmrVAhI024pfaxPFbe3o0zITcBpDmHyGo6ypr5FEc/vwJ/VN+Uzp4PR1gxO8/nzgHWCKE8J1W3Q32CUcyvSKEOgghpLyk1NKS5zPUOggipeZLT35ZpZZkZBKHCRArx7j7WWg1xF5fov5VDfbDhVAwmrjqFUUuPY9qa05i3OwJrT8TgYEQcouLikZSSjCSLCxJS3WBJTYVrarLK5aVC+iZNUZk7XevDII+yhUU+T1apVIoarE9gEeZvuqllcDSgYG+Z6zZojdJlzbtC0keIqw6kyrJExyXht4XLsf9YOPaeuASLX1FUqFUPJSuUh7/KjLp7eiEyOg7r16/Fl19Mw6VL55DsmgqPwGLwCQ6Dq6cfAouU1UEQkZtlJspPPiFlULJmF5Rr9ABCyjSEq7sUkbMoZKnzws3DB6EVmukgSIkat8E7yPGOvZ2dXOWDjb+OklyZfCcvim7mvBypIyu/x+Ji/pNCeWCg9AmS+Xknn8k02U1HWZNtzSBI4eYW1KX828brNMNa9jdeERERXR8SvEiMXouUhKPwDGgOd88iCPO1YM2RcCSluuFiQiqOR17GrnPxWHc8BsuPxGDNsSjsOBWD/edicSA8AUcik3A2OglR8UmIS0xBbJIrLqfIk60sah5qUK+TUl304O7qCleVCUyIPYCY05/oZfAP6wUvvyr6tSPsLXNwSFHs3rlRP1o7rEgwQoI8sGv/cfw8cxH2HDmDpEQJ1Fhw+NRFtXwpKFGiGEJDQ+Dh7oHzEdH4Z+V27Nx3EDs2b8TFC5fgrebj7+eFmKgIVKzRFr5+wde0zET5RQpV3v5F4RtSVp0L1gKCPA7X1dXNKHC5wMXVXX3mq47ZovAvUh5FyjVEmfr3oFTtrrp/kCwDJwVV0i4gYZbxhgq1gDfVP7xPTFTQxcbFq7xR7roqMDEQQkREBYIU5uMiVsCSEonkxAvwK9IBof7eaFTMAwEJF+GPy/BIjILlchxSEy4jEW6IT7bg0uVUnI1NxYnIBBwJj8e+C/HYcTYem0/FYcOJKKw9FoXVR6Ow6mg0Vqq//x2JgreHKyqFWi+gEccmITXxFFy9yiG0/BA9zlH2lrlIaJgU9xBx4QRCAj1x5EQ4vvhqDg4dOY/UFIuuueKiCobJqcDZi1E4fPIcElKAkNAQXIyIwJ+rNiDyUhwiYxNx6twprFy9Drt37EL9+q1RuVpD/bvXssxE+crFRT89Rvr7KFKhqX4toY3U1CRdW8vN0we+QaVQpGwjlKnfA5XbDFTHcDM1nTyVrpDenWYg5ObBQAhRoZAXgRD2EUJERAVGbPh/iDz2gX7tV6I/gkrcp1/HJyQgLv4y4pNTEJuQipj4BHURjNF/oy4nq3EpiEt0QXyKKxJSU5GoClxJqVL4ctNNU6xNZCQ8kYo21UugR0O58wxEnpmN2DNf69dB5V6BX5G2+nVOZLbM/y37Bcv/no/1G7bi2MnzSEhUy5EqnbQCycmpSEmxIEWa87hYEBzgg8rlS8Lf3w8btu5V65uCVFcXFC8ZAlnyXvf3xbChr+r55sUyE1EeukF9hFA+KOR9hBA5i7zoI4SBECIiKlAuHpmEhEuL9ev0BX1rbQppVpIsfYMkJ+uAQnKKGlJT1F9p/gKkqM/VKKSmqunUFU46PTb7CikZEoCwYH/9OjZ8BSKPva9fewV3RmiF3NesyGyZZ3z7OcaMew9JSSlqGVyQkpwED3dPvWxJifI0HIvRZCAVnp7uCAj0R0JCgnrvqtcvJCQQjw54Ao89+pSeX14uMxHlEQZCbh4MhBAVCgyEEBHRTenc3ueRHL9Hvw4q9yr8irTRr4X1oiXPp7LW8bC+UoP+k/bOGCc1MKzBBjfdT4G1yrNtLQ7pbDSs+jj9+lpktsyrVv+HCePHYNu2LUi1JMPTUzqQdNU1QmT5UnUQJwlubi664zUXN2t/CjVr1MKQZ19As2Yt9XzyY5mJKA8wEHLzYCCEqFDgU2OIiOimVKTia3Dzsj4JRWpASHMQk9Hlov5Pgh3WV67WwcVNP+1JHq8rf91c3XUnpO5uHmlBEJlXWkBB+thQv5UXMlvmVi3bYtas+Rg//iO0a3erWni1vK4ucHd3hYenK9w91ODupp/0JMGQNq3b4oNR4/D9jDlpQZD8WmYiIiIiZ8QaIUREVCAlJ17ExcOjkGLUsvDwb4LAkn1z/YQUedJK1OkZSIrZoN/Lo28leOHuGarf5wVHljk2NkbXDjl69AgioyKkUggCA4NQoXxF1K/fEH5+1qY74nosMxFdI9YIuXmwRghRocCmMUREdNOz7X9DeAa2g29oJ/gGWZ+gkp24yM2Iu7gEiVFXrm353b9GYVxmIsolBkJuHgyEEBUKDIQQEZFTkP4xos/+gNSEY8YYwNU9FO6+deDhWwnuniXg4uanx1tSYpCceBZJcYeQHLcDqckX9XghzUr8w3pdlyetFMZlJqJcYCDk5sFACFGhwEAIERE5lejzixAXvjit6YmjpEmJT5HOCCjWxRhz/RTGZSaiHGAg5ObBQAhRocBACBEROaXE+GOIj9yIpLg9SEk4jtSkC7CkxunPXFx94epRFG5eZeHhWwM+QY3h6WPtxPRGKozLTEQOSI0AIkcZb5yIeyUg+ZDx5iYRMsZ4QUQFGQMhREREREREROQ08iIQwsfnEhEREREREZHTYCCEiIiIiIiIiJwGAyFERERERERE5DQYCCEiIiIiIiIip8FACBEREREREREVeKmpqXBzu/YwBgMhRERERERERFTgJSenwNvL03iXe67Ny9Q3XhIRERERERERFUwJiUnw9/M13uWe68yek/FU094oE1TCGEVEREREREREVDBITZDLCYkI8L/2IIhwsSjG63TOng83XhERERERERERFQxhxYoYr3InrY+QpJQk4xURERERERER0c3J5VT0OcuMrb/gpx2/42JchB55dNhy/ZeIiIiIiIiI6EZKSUlFUlISvL29jDHXxvXNfybi43XfpQVBiIiIiIiIiIgKCnlkrgRBomJijTHXxnXxwRXGSyIiIiIiIiKigsnb0xMxsXHGu9xL6yOEiIiIiIiIiKigcnNz00+PuVYMhBARERERERFRgSdNZKS/kGvFQAgREREREREROQ0GQoiIiIiIiIjIaTAQQkREREREREROg4EQIiIiIiIiInIaLuXG32IxXqc5Omy58YqIiKjgSU1NRXJKiu4sS16nWiywqOGFOn6o3CwFLuq/0NIWhJZxQeueQLFyjPsTERER3QzOng9HWLEixrvcYSCEiIgKjaTkZCQmJSMlJcUYk54EQuyp0iwVLe8FarV2RWgZYyQRERERFToMhBARkVNITk5GQmISUlKvPC7N1cVFP0teHqMmr6GGfWtdEH4cuHAC6jUQflK9V4OpSGkLHh6dilqt3YwxRERERFSYMBBCREQ3vcsJCboWiMnD3R0eHu5wd3MsmLFrVSpWz7Jg/zrXtKBI12dScMuDbqwdQkRERFTIMBBCREQ3LenzI+5yQlozGHd3N3h5esLN9Up/H0mJl3Hh7FHERl1AUkIcXF1d4OntB//AYggpVhbuHl7GlMC5Y6mY/gJwYJ31+1I75IWfgKJlr9QYISIiIqKCjYEQIiK6KekgSPzltKYw3l6e8PTw0K/FwT3rcXD3epw5sRfubi66doi7qyvc3F3g4uoGF7ipeSQjILQcwso3Rq16zY1vAr+MS8WaudYmM9J3yIBxLgyGEBERERUSDIQQEdFNKVaCIEZNEF9vL7i7u+vXxw/vxIb/fkH4+RNwc/ewBkDcXXUtEQ+39IGQxMQEnDxzFiu3nIVfQFE89fRgNGrcVM/n1/EWrJ5j7UOky9PJaP+QO5vJEOWh1JQkxJw/gNO7F+PC4VWIPrsXl6Mv6L58vAOKI7BEDRSr3AYlanSGf2h5dd5az3EiIqLs5EUgxC2oS/m3jddphrXsb7wiIiK6vqRPkORkaxDEx9tL9wki1i7/BfN/noYLF87qQpOnpzUQYu0wVTpOdYWrq/W9i4sbLHBDCjyRmOKNyPBzOLR3O0qWKoGwkmVRo6ULYiMt2L/WBQfXu8LTNwU1W/ERu0TXypKagriIYzi59Rcc2fAjLh5Zi/hLJ9X4JHj5+MLd0xupKYlIjI1A7MUjiDq9E8kJMfD0KwJ3L3917rJ2FhERZS02Lh7+fj7Gu9xhIISIiAoMeTrM5cQk/dq2OczS32dg4bxvsefgCRw9HoGUVKBokUB4e3saTWNcda0RGVzdPeDqqgY3L/j4B6JKuZKoVqUMatSohNjI8/oRvEWLq/ctXZCiZrR/nYvuN6TZ3SnwD2YwhCi3LJYURJ/bh9O7/sSJbb8g8tRWeHnEIjjEHaHFfFCkWACCi3jD398Fnu7JSIoPR+TZw7gcfU59W43zDYKXbxFda4SIiCgzDIQQEdFNRTpHlf5BpGNUby9rR6drls3Dir/m4MDeIzhx8gIiIi7jxLkYVCxfHAEBPjoI4ubmDjcPb7h6yEXRQ83DFa5qnLu7h64tkpyUCB8vT13Aioo4qz7zQHBoCdRo5YKVsyyIj3bB8V1A654sgBHlVkLMBZzcPh9HN/yAyxGHEFI0COUql0CFKiEoVdYPRYt5qMETxUsEICg0UJ2zPoiJuozIMwcRe+kEPLwD4V+skh5PRESUmbwIhBTqPkIiIiLw668LsHjJEpVh9kafPr3Qrt0tulo05a0zKnPz5aaZWHJwJZItKWhYohYeb/IgahevChf1nz17LhzCV5tnITk1BcEqczOk+SMI8g7AtrN7MX3LHGOqq1UMLoOBjR+At/uVpz1cT0lJSfq4qlChHJo0aWKMzR/R0dF4/oWXUKlSRbz4wvMOH7tffvU15qtlnDp1CkqXLm2MJSrcpKZG/OUE/drP10f3+3Fk/3bM/W40LFJT5NwZuCcn4ej5ZJyOgzo/q6FcuRB1IQyCp48/XNzcYUmxIDb2MmJiExHo742gQB99czkpMQkenipNUW9SLeo8c7Gg8S33ILRoKexeZcGEXtZ0rO+HqWj7AGuFEOXGkXUzcHTDT4i9sAvFShZFjbqh8PWVJmuWqyp5WCwuiLyUjP17Y3Dq0JH/s3cegFEVzx//Xi/pPQGS0DvSO1IsgBVRsVfUnx3kZ8eu2CtYsPz1ZxcRxa5goffeCSWk9369/3f27kISAiQQauaDz3tv7917m7u3uzOzM7Pwen2IbTMErQdci+RelwbOYupChuJt27bjiy++RHr6Pin3XnXVFYiNjQ2cUT8lJSWYNWs2Fi1aLM6NwXXXX4vBgwaJ32Z/f+f1erFu3XrMmfM90nbtwtAhQ3C9OC8xMTFwhp+qqip5rb/++hthYWG49tqrceaZw6DVagNn+LEKRWXO99/jzz/nib44vN57EiTPf/fd9/J6B6sbc2icTifmz/8LP/zwo5Qt63subDYbvv9hLoqLiwMlfnQ6HS679FIkJMQHSphDQd/1kiVL8dVX38DusGPs2DG4/LLLRF9nkN/9jz/9LL/3sWNGi36vdscXfNZ79OiOwYMHBUqZI6FZ5wgpKirGPfdOQn5+Pq695mpERkXinbffRUVlJQb078+dZxOyLm8rrph9L5Zlr0eFvQpVDjPSSvfh262/Qa1Uo3/LHgcYQ2xuOx7+6xX8tmshdhTvRaG5FJd1HYtQrRHr87fh1WX/J8vr25weN8Z1PhtaVe0B9XhBHdz//vcpQsXg3q1b10DpsYGEjr179iJJCBlnnNGjwc9tYWERrGJAGzlyBAwGnjljTg/sDqcU8iknSDAk5ptP34DbYYXCIxSp0nK0adECbZPjoTaEIzopBqERMdAbo6DS6FBRYcLqtTvxy59rsXD5duzLKUNSQjjCQ7VCALTD6/NSo4PHaYfH5YLFVI6Udj0Ql6xAUaYHuTuVsFb52CuEYY4AyveRsfZrmAq3IipGjw5dY4WSTDl7DjSCEJUVXuRkmlGQVQCXgzzBvDJXCHlyRaf0hVoXEjiTqcmf8+bjzjvvxoAB/XGeUMD+/fdffPnV1xh+5pmIiAgPnFWbXbt348abboFKrcJVV14BY0gIXnvtTVSZqqplZup7SUl+8qmncebwMzFm9LnYsGEj3v/gQwwSCltMTIy8Fsnfd919L3ampeGGG6+Xhot33nkPe/bswdChQ6AJ9N0VFZWYMuW/WL9hA6677lroDXpxzzfg8/rQp0/vagUxKM8XFRXh+uuvg1p8vr7zmINjtVrx2ONP4rff/sD48Zdg2LAh+Oeff/DTz79g+PDhCBG/N2E2m/HSS6+I30grDVhBKKS0a5cuCA3lNnc4KIn7O+++h48++hgTJlyO3uIZnTXrWyxauEh+19QGS0vL8MILL2LokMHV7YagNjZ79nfSMHjttdfw932UNOvQmNmz50jr9htvvIauXbuiT+/e6NevL2bO/EB26oezjDMNw+y04P55LyG9PBtnJHTC7CvexuRBNyK7Mh+7Svdhnyg/t90w6fFRkx+2z8MnG+bAJ/4RYbpQXNX9AmkICRFbz4TOOK/DiOptZJuB4noZqHSYxH06S0OIUnFijFmUo+Cff/5FckryMTeEkMBAgkPPnj0bZbzr0L49zjn7LDaCMKcNZBR0OJ1yn3KDUHtYv3IB1q75S3qHiALYHS6UlBchJjEFqT36whjTElqdQShOQFlZJf6Yt1xuuTkFqCirQEFhAXal5yM8Igx2u0VIe3rYrOLVbYfXaZZu/GGxrRAWEQvqwlZ+719Sd9ClXoREsPDNMI0hf8efKNjxFzSKKrRMjUVSC71otgc4HUvICJKXbUJeViksVVWBUqFkiLZJYWuh0SkIi+8QKGWC0CTI0888i3vuuRv/ue1WdOjQAeeeew62bNmKXeTBIeSJ+mSJTz/7ApFCQXvpxefRqVNH9O3TBz17nYH33nsfw4YORXR0NAqLivDcc9Pw+OOP4corJqB9+3by2llZWdixfae8NilyM2a8DYfDgZnvvSMncEj+Puecs/HZZ58jJSUFrVunynt+N+d76bny3rvviPv1lrJ5ly6d8fbb72LQwIFSTielkq6X3KqVUBynyb+HzusoXj/6v09w5nAhX0ZEyOsxB+fvv//BQqGIf/Th+xg8eKD87UaMGIE//vwTer2+WpbNzc2TXiNTH30EF5x/nvS6oa1//36slDcQ8gSZ++NP+Pjjj+R33blTJ4waORJz5/6IqKhI2b5atmyB9H0Z2LRpM84cNrTa23vv3nQ8K9rYAw/cjx7du8ky5shpCkPIKek2QQJzXFwsLh1/SS2LJj14BoMelZWVgRLmaLG67Ci0lMj9c9oORevIlog2ROC2vlcgVBsCs8uKcnvt7zuzIg9vr/4CKoVSfGZIoHQ/LcLiMa7zObW2WGM08k1FMGr0uKXPBOlpcjJBg/V7M9/H1MeekLMcBLl8UojKhAlXYeLE27Bs+XL8+utvmDbtBSkkNAQ6j87//fc/AiV+du/eI+91yfjL5MwPXZue+yB0fmPuwzAnO+7AUrlKBSU+9QsNa1f8BVoaV6tSQqfXIqRFK+hTBsPVohf2lfmQnl0qQ9nUSgX27MpATnoGojUOtI7yIULvhMdpQ0FeERat2oEBI8/H+ZdORHhUlBj43PC6zXBai5Gx3R8K2nWIEtEt/UrbjhX1K28Mwxycot0LRZsqR0SUAXEJIVAo9o9ZQYQeDZvNh7wcqzSCmMrLA+8EECeQgbJw96kRon282bZ9u1Sqzj5rVLWnhNFoxBUTLseKlStRXOKX12pCfSRNHEbHRNcKXWmRlCRDIioq/L+Bx+3GuHEXo1vX/RNAdK/OnTvLUArylrVYLNIT5BJxXk35u1Wrlhg+YjgWCGWc5CU6jxTGSy8dj/j4uMBZkEaTM3p0x4oVK+Ux1Xfzli246KILa4UGDxPK4zdffynryBwe8g7++OMPa33XYWGhaNe2Lfbt2xcoIS+dcjnZFyreYxoPPdv0jF944QW1woho/9NPP8ZZol0S1M5uvulGLFu2DEuXLZdl9Nmvv/kG/fv3x+BBA2UZc+I5JQ0hZO2mh3DMmNGBEj9k6aQOv6YbElMbj8+L2dv+wNaiXYGSQ0NGj25x/lmZzYU7ZcgLXePf9BXSWyQhJBatwvbHjro8Lkxf9an0GBnVZpA0chwOuubH67+Dy+vG8NQB6JN0bL0wGoucsXj7HSxevAT3TZ6EyMgIaQyZNGky5s2bj4m33Iwrr5yA//3vMzkDQgJHTaPFoaDz6HyzEBqCkNHj2utukO6mlDdkwIABeOCBh6TLKs3GEHR+Y+7DMCc7tHoLERSGHXYrCvdthF6lgJKMIVoNohMT0aZbC0TGGNC+W1fojKEoKixGZUkhKkpyYVDa0SbOgK5JoRjcIQ7d28QiKkwHm8WM0vJ8pO/bDI0xHtqIRGjCosXndbAUbYTHZZf37DDAX4fdfhmdYZhGUJm7GT4xnoeEaoSiFSisg9DBkJHuQtbefFSV1TGCBHDbq1CRtyVwxNRkx44d6NixYy0jBNGiRQv5WpBfIF9rQp6nXbt2kbPRwYlCkiW2bt0m30tOTpFllG/stltvqaXgkfyzc+dO+R55FlAeF7vN31/WRa/XobS0FA6HE2Xit83Ly5OeHTUhL9YOHTvIUB2S13Oys2U5KfAbN27Cu+/NxOdffInCwkIpawXDbJhDQ99reHh4tXGMyBfPAnkkkPdNkCqTWRq/sjKz8H8ffyK/b/IkCsqWzKExie+P2mCXzp1kagZ6Vuk7pGeXfoNgCBLRrl1baQz5WHzP1C5Wrlol9Yjbbp3I3twnEaekIaQ+KD7uf59+hhHDh6NNm9aBUqYmZMCYsfIzmbvjtp8fk0lLDwd5Zjw7ajJGtxuGBftWovfMcej3wSV4d81XaB+dijfHPoa4kP2Jav5KX4Zf0v5FjDEK/x18MzQN8OxYlrUea4QAdTJ6gwSNIKtWrcaM6W9VW9uXLFkiBIoqvD1juozRJaPca6++ctSDCRlYyFX17rvuwJT7JktX1JtvvhEvv/QiPvnkU2QFhAaGOd0IGvVUKv+wlJ+5AyFaD0I1LmjUPiEQq8QrrQ5jhk9hRXhEOJKEAF9mssNcVQWNx4EwlQdKhQcO0QxJaG+ZEIWe3dphzDlDxWCnRnl5FRRwwaOJQIVNCbMvDLrwaFircuQ9OwTylu1efdoMjQxz3LBVFUGlUcukxIpAWGxNrBYf9u2xI2dvFuw1jP918bgdcFQVBo6YmlCOh/oMBBTWQGUH8xKdcPll6NSpk5xkefmVVzFlyv2YPuNtPP7Yo4dMkEnK27JlyzFu3EVSyQ4JMaJ9h/Zylps8RIJQyM7CBYuQk5Mj6mCX9aC8E6GhB3oexMXFwSZkdvJMyM7OQXRUlFQmH3n0MSlXkWfteedfJCeFmMZBnjgkKz437XncPPEW6eFD3jVBaAJt/foNeOrpZ5Ejvnv6bS8Zf7kMVyJ5lzk05eVl8rndsHETLrv8SmlE2r1rN666+lrZnmp+h9Rexo0bJyd3Pv30c7z//oe4/rprZfgXc/JwWkh79OB98OFHyM3NxY033lDLvY7xEzSCzFj1uUwYmGcqwu2/PN4gY0iuqRB7yjLlNch7o8xWKa9BiVOpPJgHpNhShteXfyJXiZnY+3J0iWsvyw/FyewN4na58e67M7F27bpaRhCaxVi+YiVGjhpRS4Ag4YTiBI8GeoZpJmXo0KG1LPu9evWUHiLr160PlDDM6YU3YEQM5gYyVxQjxKiBUeOWy+hqtHqYKotRsnMJMlbNxu61f6MwYxNy8ythcmsRGxWJxHA9wtVeRBt1SIiNRqvYCPTo2Brt443w2h1CwfLCJfotu8UEpyYU6vgeUEW0g8NulveMbSVfZJ4QhmEaBxkwaNxSyBwVtQ0hZrM/HCZnXyEsVSZx7sGVLkqaStdimo68vHysWrWqun+l0AhKUrpp85aDKsDktfHUU8/g1ltvqVbeyNhCkzMU2kLK9Nq1a2V+ikmT70OEkIHUKrV4BhquWtBKYZT8lRLu/zh3DqY++jBmffMVHhWvL774MnJycgNnMo3B6aAwJtHecnNQJdpbEMoLsmH9Wvz26094+ukn8dWXQkGf+S6+mTULGzdtCpzFHAzyXCWjH4Wnf/PNl5j23LN46603xLP7PX777XfZFmpCesHdd92JL778SvaNZBipKdszJ55T3hASnLGn5cBeeH5arfg4xk9dI0iQhhhDMipycdevT8lkqeO7jMbOe+ch/b4FeGbUZFTaTdK7ZOG+VdIY8uG6b6VhpE9SN9zUa3zgCoeGluM9Wb1BXnv9dbz9zrsy1KpmEimyBtNsBs1q1CXkKJNN0WwPuZfGxNReDoqEj5joaCk0MMzpSLU3VUBG8GnCEJLYC7rIdtAaEqCCHp7KdFgLNsOZvxql5RqUFpuEUFIBi92NqMhQhBo1ULid0Ij+SKtUIcKgQdvWydAbDLBV5MBblQuf1w2XvQLayETEJHeFMbIl3N7gvVlAYZgjRSXGcfLs8nponNrflignSFG+DTkZ5ahoQEgnGVJUWn3giKkLKWN1vU/933v93yt5TL/66mtyqc65c+fg4YcelArcl19+JpS5WVi6dFngzP2QEeSuu+6RSVMpH19N5Y3CXT7938fS++C662/CjBnv4M47bsfVV10pc/XpdP48JLTqS02ZM4i3juGFwm6uEp8lLz6Cwt8pGbxK9OFUD6bhUGjGxIk34bnnnsH8eb+jvLxCyLJvVHvv0PuknAcT6tLvOmjQQLni0MqVq2QZc3iuvvoqpKb4Q8oISpB61llnYYX4DusaFnv06CGXlqaUDvTdMycXp7QhhAaCH+b+KK1wr7zyEtq2bRN4h6nJksw10qtjfJdzcVnXMbW2wcm9MW/PYundUR87ivcg31wsE6Pe0PMSGNR6mQR1bPvhiAuJgdPjwvy9S2FxWuWyuMTavC3o9u75SH1zBO749UlZlifuP/CjyzB95WfymKAcI59tnHvS5gahjNt//vGbXNKNPI6CnRsNICq1Ghbzga699ZU1BgoLII+T4OoZQUjm8XA+EKYZ4VXo4NElwRfSHi5PKMz5GdA4c+BxW1Bp8cClCBeCshZutwM+0f/Y3U44hAKmUvigVWukez4UKpRYXIAhQrzvQKTBhhBKEqf0wRgZD6Xoz1xuoUBw02KYo8YQniSXpaalcL1ev+Ls8ymQn+dG5t5SlBU2LNxFpdZBXyP3GLMfMkJkZGRI40ZNCgoKhYzgqXcykLxBMjKzMPrcc2t5TNPqc6S8UfhLTchT5Mknn8YFF5wvlOqb6/WyTklJxozpb2Lnjq34+ee5MlknJVFNFsoh5T+gFWEoYWRdjw6So3am7ao+r22b1nLxA1ptoyZkFElITEBlRUWghGksFJZ0+eWXYvv27dJodTDod6JEujQRxxwaeq6TEhOlwa8mZFCicpPJJCdLa0I2RFXA8MScfJyyvwwZQWipov/7v4/xztszDkjIxOxnZOuBeG30I3hjzNR6tweH3nbA8rdByCJPrpRWlw27SzMCpUBOVT5MTn+nGaI9sqQ//+5biU0FO07alWJo9oSSHT377NPS2EZGN3ruKNEUhaosWLhQ5vQIQh1gXYGisbRKTpavaTtre+kUlxRjz569/Jwzpy3VM46BmU6b1YzsjH0oq3CgpKQKJRnb4HOa4HKpsTvPh4KM1XBW7gbcZuQJYXv9tkzklZplUtXwiBCEhIegsNKG+Us3YM2GXdi8p0xIfCEIi4iGRmeEWvQ7LrcPlSYH3N5A3xOYZA2uHsMwTMOJbNUTKo0RFrNbjIc+oRBQYlQnsvfkHbg6zCHQ6CMQ1apX4IipSZcuXWReAjI6BCG5ZPGSJXIJ2oSEhEDpfmiCxev1wO6oneSUJl3I0KBW7883QkaQBx58SK5sQS79dY0g9JlHpz6Od959T943CIULLF++AiNHDpfHtGIJyUnz/pxXK5dITm6uzLnWr28feUyJWimchpbZrcm+fRny72zThic4D0fwN3n6mecO8EYoKy2rDlei9+icuueRHLt58xb+rhtA8LlevmxFre8wKP/ThDzpCMypwylrCFm+YgVeefU13HP3XTJPQ7kYZIObzWYLnMUcLYOEMNK/RQ/p3vjo36/hsm/vwY1zH8LVc6bA5LAgPiQGl3c9T3qMfH/lO8icsqjW9v6Fz8rrtAhLwKrbvsfkQTfK45PdG6QmZHz475T78PLLr8rnjhgzerQc3O+//wH8u2Ch3B57/EnY7fVnU28oCfHxchbmzbemI00IOiRokIDx+utvonv3btL9jmFOR2jZXCKYK0SnNWDrpk3Ysmkj1q/fhKzCKhSXulBaqUG5GSjO2w1nVQ6qyvKxYtUWLFm9G7tzqpBX5UJepQn7CgqxeU+uEPB2Ys6PC/DH78uxYFUesnIroVTp4bE5EWIwQKsNhcEYJe+5i1eLYZgjJqHjKGhDY1FZTmEwoi3mOJCdXoiq8iq4hbLWEEhh04fFiWuNCJQwNenQoT0uOP98vPTiKzJshGbx//xzHj7//Avprk9L6ZJs8vTTz+LRRx+T8jCFnvTr1w/PPfc81q1fL71JKGnmBx98hH/+XYCzRvlzm1E5JVIlDwEKiSEvgqBcTcoyhd9QmO65554jkz/SfekzlNvs+RdelCvXdO3SRV6LDCgTJlyGVatXy/Ab+jydR7IM/Q39+/eT55EHy4UXni+V89Wr18h7btmyBc+IYzLGsMxzeIK/CSWZ/WbWtygrK5PPxT///Ct+z9dw1tmjEBERLn8TSu5PeSzmfP9D9W9CYeCk1I8cwW3ucNB3SAlo5/74E7788iv5HRYUFOCt6TOwe/cejB0zJnAmc6pwShpCqGP/bvYcqSBOmjwFffoKRbrG9ovoDJimIVwXio/HvYjrzhgHrUorw14WZqySLpgjWg/AnCveQefYtoGzG878vctOam+QutCqMNdeezWefXaaXJOdBu+Z772Lbt27YcaMt6Vn0uWXXSqNGEcDzYrfMvFmeZ1xl1yGtu06YtiZIxAVGYmpjz7CS24xpy3BmOXgMrodu3RFzu7tWLN8Ef7652+sTq/Ezlwv9hSQwK4QQrkTXrUeVZWVMFdaoVGq4BF9VFaVAuvSy7F6Zx6yShxCAfOgtLgQRUJY+eXP9fjp9+WwlNuhEgK80udP9RwV7U96vCvg0DVgPMfKMExjiWk9EOHxneB0a5GXVYLMvWUoKyqBq06o56HQhcQgPLELopJ7B0qYmpAidvfdd6J3n964+OLx6HFGbzw37QU8/thUmYeAINf8svJy5Is+j/bJsPHY1EelsnzLLf8RcktP9B8wGP8uWID3Z74jZ7iJLVu24ocf5koF+szhI2vJ1bQCSXDp3ZEjhuOpJx+X96VrjRx1Tr0yCi3z+9qrLwvlfLaobz95HkGfJYMNQTLPddddi+uuvQb/uf1OdO/RC5dedoVc7pdlnoYzauQIvPH6q0I5/xp9+w2Uz8UTTz6N/06ZjP/cdqv8nokBA/rjheefE7/7B/I3GXbmSBQXl+D1117hHIsNhCYlZ0x/o/q5HjzkTNl2posy8iJnTi0UKW8MP8AHmGbyGaYupDLIFWO8tCpDpMwVwtRm9ndzsHzZcrz44vPSIPfww48G3qnNuIsvkucQNGszZOgQXDHhcnkchNwd/clT9SwMMKc9TvG82x1O6RkSGuIXku+/aTxm//ov7B5K8mZAlzYahCp9KK2yQKWNlDHkabty0SI8QiZL9anVKKiwI7PIBJdPA7XCByW8QjOwQ6EzIC4hBSFGPc7p1xoRie2R0msA3JWFcqlG4j+Bldeve9mD4Vfy6mMM01iy13+HjDVfoSRjFXze2m76h0OhVCO+w3C0GXA9WnS/IFDKHAySEWhlkPDwsGpD8uEg+Y1WEdFo1DJx5tEQvBYlRz2UjEKerRQ6QJ4LhzoveD1aopfOZY4M8qpxudyHfC4a+pswhyaYe+Vo2xJzZBQWlyEhrvbiEo2FDSEMcwSQS+rMmR/IkJnkZP+am6WlpXjwwUfQp29vGVtLYTIHC5WhWZ2wsDAZj3vPPZNklu/zzhsbeJdhmh8kBJut/rBGo0EPtWgjv/84Bzfd/B/4hDCnVisQHaGCAW541UZoPSa0jo9CmDEUsaGhaBkbgfjEWBRZPPhnYxZ25ZvRrUtbDBvWB/CYEZ3YCVVWBb7636fo06UFwiLjkJCUgPMvuBAdupyB7cu9eOsav9D4frq3wYoFwzD7cVpKkbVhDjJWf4mqBizPX5PIlj3RZuD1aNVznMwTwjAMwzAHoykMISzpMcwR0KplS0RGRuLc0WNx4UXjMG7cpTj7nDFQa9RyCTlyQyQre1RUVL1beHg49u5Nx2WXXwGD0YC+ffsGrswwzRO5GpPK74VBs1nE+ZdcjjP69JLLLdpsTuTkObA7x470jDLsyvVgfXoFdmVlIzcvA1m5Odi4dRuWrl6PPfvyoFVRFnc9urTVoUPbMLRtl4z27drAYq5CVn45rKZStEqMkEYQ4te35AvaD2AjCMMcKRpjFBI7nYU2A29AbNshUGlotjmQCLkeaKxUa41I6DgSbQdej/j2w6E5SPJ2hmEYhmlK2COEYY4Qci3My8tDRkamPKZs7ZQxuqFKFCWnMpnMMgt1UAFkmOaMy+2Gze6Q+yFGg1xybuGCBRg/fjwQXObW5xHKkw8KlRJqpUK0QyXC9CroRBuipXDt4hyfWo/Y6BAM6mLA4E4GmF2RcIb3g15Ziun/9zMSkxLRt2087n70WbTv3h9FWV48Ptzfbu/7yoOuQ7k9MswR4/PCVpmPoj2LUbh7ESylGXCYi+GyV8Hr9rdvlWijGkM49GHxCI1ti/iOZyGu3VB5fCjDCcMwDMMQTeERoooYk/p0YL+aKYNvDuwxDHMwaCaLPDtoPX3aoqOjqxNSNQQymFD+D559Zhg/ZPhwuz3SyEibRq1G6zZtoBT/lixcJNQjn2wvPqFoKcSrQqkSDVEFpxuwOj1weL3wkmlftEOjQYHUKBPi1AVYmpaE7MJUJITuw7rt2TBVWjDhmhtw1gWXyfu+e5sPZbkKuWzu1U9ze2SYo0K0P/LqiEjsiqjkXlDrQij2DV6PU+YNUWn0MEQkIaplL7TsfgHaDL4J0cl9xGfC6MP+azAMwzDMIbBYbQgNObocN+wRwjAMw5w00CoH1oBXiF6nhTaQNO+RBx7Ce+++J42NKrgRYlDD4VXC41H6l9wl44h4T6lSSmNJRKgKQzp5MKqjDUtzBsIRNhadDT9j1tJiXH3NjZj6xGPyuj++7sXvb/uNHze87MWwK9kQwjAMwzAMczLDOUIYhmGY0wq1Wg2txr+cNq0iQ4YR4qXXXsETTz4ONTxoE6eWyVO95CNCBhCKmfH6oBIjGjlYBR2zbA4v9FoHUkK2IsnzA+ymUtxx5z3VRpDty/YbQQZe6mEjCMMwDMMwTDOBpT6GYRjmpEKv01XnzSHvEAqXIR589BHM+eVXDBrYB16fCgqfT2xe+GTyEIDcG31eHzzifIvVhbIqN6DyIlxbgo7tNLjx0Q9w96RJ8tztyzx461r/EEghMbe8wXlBGIZhGIZhmgtsCGEYhmFOOox6ncwZQljtdjhdLpTmAKPOPgvvzl6Etz/4GOeec27A+gEoKDrGQ5sPXrcHdpsbVRYvojuch/Pv+ga3TluK9j1HyOtROMxb1/oNH2QEeWCW3GUYhmEYhmGaCZwjhGEYhjkpoYSp5BFCKyzNvFkvc4BcdJ8CXYbsT6hoMpmwdvUapO/Zi/LyclHik0tUt23fHgMG9kdIKCVg9LNjuQ+/vOXDntV+AwstlTvxdQVikzlBI8MwDMMwzKlCU+QIYUMIwzAMc1Kz6Bs3/nhHJVd2IQaO92DwBAW6DmmYU+PS2V4sn4NqAwjRYaAXD37LTpEMwzAMwzCnGmwIYRiGYZoFlNPj1+mKWsYMgrw6Bl3mQ2wrhRjR/GVl2UBJDlCa48NucX7QgELQ+RdO9qHrUM4JwjAMwzAMcyrChhCGYRimWbHkWy9+m6GoZdxoCAPGezDkcrABhGEYhmEY5hSHDSEMwzBMs2Tnch92rvBh1ypUG0VqGkfI8EFHHQYBXQYrEJfCYTAMwzAMwzCnA2wIYRiGYRiGYRiGYRim2dAUhhCeImMYhmEYhmEYhmEYptnAhhCGYRiGYRiGYRiGYZoNbAhhGIZhGIZhGIZhGKbZwIYQhmEYhmEYhmEYhmGaDWwIYRiGYRiGYRiGYRjmpMfj8UKlOnozBhtCGIZhGIZhGIZhGIY56fF4vdDrtIGjI0d5btuhgV2GYRiGYRiGYRiGYZiTE5fLjdAQY+DoyFE+d/YU3D3gOsQYowJFDMMwDMMwDMMwDMMwJwcUEuNwOhFi1AdKjg6FTxDYr0VhcVlgj2EYhmEYhmEYhmEY5uQgIS46sHdkKHaV7PP9uPMvzN+7DLtK98nCzCmL5CvDMAzDMAzDMAzDMMyJxOPxyLAYvV4XKDk6FNd+/1/fksy1gUM/bAhhGIZhGIZhGIZhGOZkwmS2Iiy0CXKE1DWCMAzDMAzDMAzDMAzDnGzotBqYLbbA0ZHDy+cyDMMwDMMwDMMwDHPSo1KpYHc4AkdHDhtCGIZhGIZhGIZhGIY56VGplHIFmaOFDSEMwzAMwzAMwzAMwzQb2BDCMAzDMAzDMAzDMEyzgQ0hDMMwDMMwDMMwDMM0G9gQwjAMwzAMwzAMwzBMs0GR8sZwX2C/mswpiwJ7DMMwDHPy4bRlwVa5Di7rTngc2fC6SuDzWuV7CqURSk0sVLpkaIydYYjoC60hRb53IuE6Hx+8Xi/cHo9MpEb7Xp8PPrGF39kB3phW8IlNoRDnDbscyq5DoYxPDXySYRiGYZhTgcLiMiTERQeOjgw2hDAMwzCnDKbiebCVzYfbtjNQ0jBUhs4wRo9GWNyYQMnxg+t8fHC53XC63PB4PIGS2pAhpD48nQYBwyZA1X0YEJscKGUYhmEY5mSFDSEMwzBMs8BStgTmwq/hcWQFSgClOgZqY3dojG2h1iZAoQqV5T6PBW5nAVzWdLitW+F1l8pyQqlLQVjCNQiJPjNQcuzgOh+fOrvdbjicLni8+5fSUyoUUKlUcok92icXEMXOFVAU58BXkiX2VwIlOVCW5gQ+AXg6DgLGT4Gq+7GvM8MwDMMwRw4bQhiGYZjTntKM6XBUzA8cAdrwETDGnAtjRO9AyaGxVm6AtfQvOKv2j226yNGIaT05cNT0cJ39HOs62x0O6QUSRKNWQ6NRQ61SBUoOjWfbUmDxbCjSVlYbRdwXT4Z61DUnxDskNzcXv//+O5YuXYrNmzcjMzMTlZWV8r3IyEikpKTgjDPOwLBhw3D++eejZcuW8j2GYRiGaU6wIYRhGIY5bXE7S1G274Xq8AxNaD+EJ10PXUh7eUy4XU5UlubDUlUOm6UKTocdarUGkbFJiGvRBmqtLnAm4LDsQVX+F3CZ18pjCuOIaTNVnBMjj5uChtSZclY4nF5QBAd5MYhDqJSkxCuh06pk/oogJ02dPW7YzBUoLymEuaoCOp0OIeFR0IeEIyQsCiq1OnDm8akz5fyw2h3VYTBqtUp8d1rxPe7PAV9VVYVVq1Zh9+7dKC31e6vExMSgQ4cOGDhwIMLDw2UZ4d2+DL4fXocqbaU8pnAZ5e1vQRF3fHKezJs3DzNnzsRPP/0UKGkY48aNw5133okxY45/KBLDMAzDnCjYEMIwDMOclpByXrr38eoQjZDEmxGReLncJ4qydiEvYwdKctPh9nlhs5hhFsqu3VQBr9MOpVINvVDU2/YahNQufdCqbbfAJ4HKgjmwFPxP7qt0KYhpN61JlPTD1dli98Bio80NsnXQ5vVSUk+32BF10aig0WoQolfBoBP11+1X6k9UnbMy01FZnAunqRiVJitysnJRUlIEvV6HpJbJiIqJg0+hhCE0HPFJyWjbvlPgk8euztIIYrNXh8LodVpoNRq5T8yaNQuff/45/vjjj0BJ/Zx33nm44YYbcNVVVwVKAM+cV6D66S3/fsdBUN5xbI0h27dvx9SpUxttAKkLGUReeOEFdO3aNVDCMAzDMKcvTWEIUUWMSX06sF/NlME3B/YYhmEY5vhTvOcJeOx75X5EyiMIiztP7pcXZmPbynnISNsAc1W5XBnE43ahJDcX5bnZ8JlNUDldcJotsFSZYLKYUVqcicLMXTCGRiI0Ihr60K5QalPhqFwKn6cSDvMOhMQe/Yz6wepsdXhQVO5ElcUNl8dHmjwcDjuKi4qQm5OFwrw8VJSWwmo2i/qQh4MSNqcPNocbGrUKapXiuNe5ODsTX33zOdYtnQ+N0o2SchPSdmdhX1YBcnIKxZaP8vIKqDRaREdFobK8FDu2bkFOXg4iI8IREhp+zOosPUECRhCjXgdNwAjy119/4eqrr8aMGTOwZ88eWXYo6Jzvv/9ehqK0bt0a7dq1k6vI0EozvpIcqHK2w5uxVZQNETeKCHyq6fjoo49wwQUXYOfOxiWkrY+0tDS8//77aNGiBfr27RsoZRiGYZjTE4vVhtAQQ+DoyGBDCMMwDHNSQbkqXOZVcj8i5dHqhJuZ29di+5p/YbVZ4BbKqtsjNq8PdrsNpTnZQkO2ICokFGHGEKhVathsNlTanIhOiofVXImMtI1QQoG4lm3kMq9KbYpU0r3uEjjtJTBGDpL3ORIOVufiSifySu1wuX0Q6rWst9PpwO60nVi2ZAlWLluGtO3bkJ+VgbKifDisZlB0h0ZngEepgcXhhkqpgk6jPG513rtxNdZ8/DkKdGokRBgQGxWBtRt3oqiwBAqXG+FaDTQeJwrzsmF32NCtc3sYdRrxO9hRUmFC5t7tqDTZkdq6dZPXmXKCuN3+cBijXg91ICTnueeew8SJE5GXlyePGwN95osvvpDJVUeMGAFF16HwmSuq84a4dSFQdhsWOLtpeOKJJ/Dggw9K75amgq71yy+/yHChs846K1DKMAzDMKcfbAhhGIZhTito1RJL4Wdyn8I0wuLGyv09G5ciY8c6eHxesfmkR4CHwkq8gKmiFKaiQmi8PoQbQ2HQG8npAjabHQ6lCjGJCdILgyjK2iuUcSuSWncSSnoqvNDBZd4ovSJIYaeyxnKwOmcWmpFTbJbLupLy7qTVTVwOFBYU4Jcff8KqZcuQl5ODyooyeJxWaJReOG1mVFaWQ6XVwxAeAfEnwWz3wit2QvTqY17n9F8/xcZFK1C5rwAZoZEwalSIj4nA0mVrERsWhjijDolhRiREhsJqtcAsBJHk5CS0SooDFCp4lVpUWuzYtWs3TFUmdOjYscnqTKvD2J0uuU/hMJQUlbjvvvvw0ksvyf2jYcGCBaioqMDYsWOlMYSeLyUZQ9JWwTPkMijF99EUkBFk2rRpgaOmZ/HixWwMYRiGYU5r2BDCMAzDnFaUZbwkwygoYWd0yt2yLGP7WuzbsU7aMrw+L7xCyRM6qsyv4ROv5dlZsJaVweOm5VJJOfbCbHPA4XJCFRqK8FihpNMHfAr5mZL8LJmQNL5VWxm+YTfvgteZB7c9C6FxF8p7Nob66rwnuxh7Mgqk0cVpt8kkrg6HDS7xunb5Kmxcsw5V5WWiWi7xWRcUbqd8z+lwQAUPKquqEJuYDJddKP8OKypNZkChRHiI7pjVeV9aFv7+bBby80woqrKjSCe+T6UCsdHR2LRxC7q1bwe1+MItleVwuVzSUyU6Lhrq0DAkJCX5l6vVhSAsKhpanQYlpcVQqVVITExqkjpTSAx5PVBiVL3OnwSXPEHqM4IYDAa50fkU6tJQKLlq0DOEwmR8S76FwloFxfp5UPQbe9QhMhQOQ54gxxoyhtCKMicyTIaebVPRLmSs+RppC97E9j+fx9Y/pmHnv2+Ksq9QtGcx7KYiaI3ieTGEiza5PycOwzAMwxyKpjCE8KjDMAzDnBSYiufBG0jaSauWEGWF2di7dZX0jHB53dK7wuH2SM8Aq9hsYrPYnNBAAY3PjSqTCdlFpcgqKECVzQK1xyfDKWxuF5wup/Qo8cKDjcv/RF7mLnmP4L0oYSjVoTHUV+eKKiuKi00IF4p4mMGIUL0BRlplRadHmFaLoqI8MYBXiHIlwnVq6CCUdacTDsoR4nBCK/7WjLSd0Cp84hy1uAZdJwQVlQ6YrU55j6au8969hdiYYcI6YyfsTC9Buq0Czn2ZUNodcDo8CA8JkQYI8fXDaAiDXm+EVqtBQlSk0HhVqBT1yi4qwY7du+ESf0OIOD8uLha7d+1CcaF/WdqjqTP97kGDBq0OQ1BOkCeffFLu14Ryhpxzzjm45ppr0KlTJ1FP//l1USgU4u/Qw2g0SuNHELomXZvwPvqdfFWU5sCzdancP1IoMeodd9wRODr20L3onscbn9cDc0k69i79EFt+expZ62ejKn+HKHfBGBENY1gUvG4rKnO3IHPN1+KcJ7FvxaewlmXBJ9onwzAMwxwP2COEYRiGOSmoyJkJn7sE2vARCE+4SJZtWTlfhmA4PW6UVpqRlVeEXXuysH3XXmzfsRdbt+9Cbn4hIoRSHmXUQa1UIEKnR4zeID7nRFpROVbu2I2s3ELYrG6EhoZAqaRMIT5UlBWj4xmDoNZGw2HNFQp6plDQKhuV0LO+Ou/clQMHeS943fCJetNGHikKoeS54MGqVctRnJODWKMBLaIjERsWgvjwMLSMjkbnNsk4o2t7FJVXoFXnnoD4O8QH5ZK7FBJkd7oRE2Fs8jp/9/US2MxV2LRxJ84o3oFMoxqlZjPio2PQNrUlUkINaJfSBnGRUeJ7KwfE39SuRQJiYqMQ2yIZ2hDxvao10Im/aeOmrcjMzEVpaZW4sgJhqmK0SO1+VHW2O5zSu0OjVlevEEOJUevLCXLJJZfgxhtvlAlQaancwsLCA84jI0hSUhKefvpp3H333UhPT0dRUVH1cryUwPS2226DMiQSnsJMKLO3w2etgnL4lfL9I4Gu1xSJURsKfV+5ubm1VsU51pARpCJvM3I3/Yi8Lb/CUpqGsBAPYuN1SEgSz3liKKLj9IiMVMOgF8+004yqomxYKnJEE3FCo4+APjSWfqDAFRmGYRjmQNgjhGEYhjktcNqy4LH5lURjzLnyNT8zDaWFedIbIDunADM++gwffPYd5vzyL+YvWI1lq7dg9eY0bN6Ti5ySSpSUW1FZboHVYkWxyYI1WYX4Z8serNuRgyVr0jD7j8VYvWG7GDyd8HgVMtln+o4N8l7Be7pFHaguDaHeOheVo7CsHFanFTanDXaXDU6PHQ63TW4uiwn2skqoxPBbYrFgZ14B0vKLkV1uQpHJhr05+diRkYv4FsmgPKA+h1nUyQ6X3QG33YmqSgvKKq3yXk1V5yVL0pCbZ4JaQ3FGuyibByqdTiS1jIYhVA+tMQR2nRG5JYXYuXcPcgpEfQuLsC07GwUON9TxcUKaUKKytALlpZXwiu/WZLFh9+7d2L1nN+Yv2YlNm9bLex1Jnb1FmVDsWA5laW51XhBaInfNmjVyvy60lOx3332HZ599FqGhoUhJSZGGj5qEh4dj0KBBaNWqFb766iuZZyQycn8OELo23UMy/Ar5okpbKetyJMybN++ol8g9EuiedO/jhaUsE/nb/kDOph/gMmcisWUE2nRKRIduCejQJRKt2xnQpp1R7EeLskQkt02AIUSPyvytyFw3GwU75sNakRu4GsMwDMMcO05pjxCr1YZvZn2Ll195Fd//MFcIt1Y5+xNcSo85/tjcdszd8Rce+ftVvL3qc6zJ3YyksDixxUMh/p1qzJs3HxUV5XJJQmLVqtXIyMiQgnUQctdevmIFvv/+ByTEJyAqKirwTm0opn7u3J+QLZSH9u3bBUoZhiHMpf8KxWk9lOoYRKXcJcuWzPoI2ZvWCcVIKNhmOxat2SK9IpQKNTzin0IoxTqVGpGiLE6tQGyoEaFGPRxuB4pLy2HOr4DOKZRuhRd2JYVXeJGUEI2UpFhoNSo5Y+4SCn/7bn2h0SfBUjIPPq9NXJdyWnSRdTgU9dU5K7cItKiJRtSLVodxOV1i88ArFHHp1eFyY9fG9TBXlcJkdcDicMLudovPeOB2ebC7oARp4hqVNhe6ntFVXEch6gS5TDB5lnjE30BeC3ExYU1W56+/XYAyaxGcjjJozTsR6/KhJMqIwT208Knj0bJVK5RWmWA2VcFmt8mkpZSrpchsQZHDg9hWyVCJutnEmKwPCYFOb4BeRyu6aKDV6eAUf3NJWSUGDhhwRHX2rPkduvfugHrT31Cdf7sse+ihhw5YIpeMHdHR0bjrrrvw6aefyiVlydjhcDhkv02rCAUhr6CEhARce+218jMlJSX4559/ap1jFTIFva+MT4F38bdQ2KrgSe4CZesegTMazgMPPCDrcyIwmUzHxSuEcoJkrftWeoJ4bAVISk1E5zNiEBmpEnKZP1lxELJLUTQSRTuZzD5YKqvgsJTB7bBArQ1BZMse4hyeqzsYWVnZePvtd/HGm2+JdrBXej9FRBw6fw0945988ileffV1mRg4KjoKrVq2lO0mCMkza9euw4wZb+Pd92YKeSUH7dq1lQbFmtSUv3/77Q8ZWkZ1qBliVl5eji+++AqLaXWslauqtx3bd6Jjxw61QtZq/j2LFi2ut27NnZycXPzvf5/h9dffxJKlSxEfL2TrpKRa35FTjGf0fb/y8qv47LMvZPLnDh3aQxfIqZSevg+ffvZ5rd/jUL8LUz/0PS9cuAjTpr2Ab2d/V0v/pP529ndzkJeXj/bt2h3wDAfbBV0jOblVoJQ5Epq1R0hRUTEm3nIrfv31N1x55RVymzv3Rzzx5FNSeGGOP1UOM275aSoenP8SNhemIc9UhD/3LMEVsyfh3dVfwSf+nUqQ8Dz/r7+lAkKQ0vTPvwtkJxeEBItnnnkOt99+F957730UFxcH3jkQUh6WisFr46ZNgZITS2ZmJu6ddJ98ZZgTjcvq91JQG7vLV0oymrl5Fe3AUlqMqoIchMuVQrTQa1Vo4VOgm9uL/kJpH2VXIdXiEdewwWQxwWG1wKhTo21cGM70eXCZS4XznGp0puu7nEKJ94BaNeUjyNq7TSYyJYL3DtblcBxQZyHYrFz2L0wVBULwVCAmOgLh4SHQG7RisPVBKXQEvVGDxNhIpMZGIzFMj3C1DyFKLyL1GkSFGWAUfxslTfWqlHCIvscqrunw2ODy2OHyOuD22lFGiWED/dLR1pmWvDWVrkNybBU0nnJEtUxF/HkjMWJoCgw6D8qLC7F5+3b88vdi/PTPUvy8cCnmrVyNjXv2YHdmDtZu2I61qzdgX2YuzBarUIY9UAtliATvaKHMxMbGC4E9EZlCobKJexGNrTOKsv2vsX6hsaqqCn/88YfcrwkpYcOHD8eOHTvkd0S/x+bNm6WnR2pq7VVqKJEq5TF5+eWX5ZKz06dPl9etCd0jWObr5F/yV7FjpXxtDBSeciK8QYLQvakOxxpz8Z5AAtQcxLWIRsdukRBNVigC9Y39CpSWeJC+qwoFGVnwiPGRqCzYjsJd/8JW2fhlkJsLGzduwpVXXS0TKt95x+3ylY6p/GDs2r0bV1x5jXy99daJ6NO3Dx5+eCqmz3i7OhyMZByaVJw0+T6kpKbIa1NI2XXX3yg/FyQof//55zxcc/VVGDPmXMx8/wM8OvXxWvJ3aWkZZn/3HcoplO4QLFu+HJdPuBJmsxmTJt2L7j2644EHHpJ1oTox/t/vppsnIke049tvvw1t27bBvfdOxpzvf6j+juh3JOPVs89Mw5lnnokbb7weS5ctw39uv1P+ZociMyMTv/z6q+wzmUMT/J7JCHLOOWdX65+TJk1GRUUlwsLCZKLql19+RXpF1oR+q59//gV/Cd2ibdu2gVLmRHLKGkK+mzNHCFfx+PR/H2PcxRfJ7a233pBCz5YtWwNnMceT/234Hsuy1sGg1uO2vlfgjTFTcWZqP5mc8P21X2NjwY7AmacGtPRmZWUlYmJiqo/J0EEWeII6vEmTp8j9jz58X84unkq4XG7pnUKvDHOi8Tj8yq7G6BcOCjL3wqXWwK1UQqtWQ025Nnxu6IT+P9DuwwinF/1sbpxhcyDF5UR0pQ3hxWaEVDkR4vQhyuxCy3IHEl0KtHB70dXjxUi3Eh1zK6GuMMPn8orrUaYQIdjn+Y2BwXsH63I46tY5NzsdBVlbsHblQvwhlOtli5ehpCAfpcWFUhlUiRFXb9AjMbkFYiPDkBwdhk5JsegYG4OWYSFoFRmKnm2S0atDa4wacSZCtAZ4xd9NyoXZbJKKgoWWrLVYUVFplvc82jpv37YVOfu2oHDvNqRt34SMgjKEtmsHqKKwbrcLadmFWLBqI7btSsfmXXuxbU8m0rLysGlvNrZn5CE9IxuLFy3H8jUbsWtfDvbuyxbCej72pqfLJYNtNiuqRL3NZgt27fJ7cDS2zoq0VfLV19lvjKCVXeqDZuMuuOACLFmypNqAsWHDBmkIadOmjTwmKEEqyQ8klJLRhJKlkscIee3VJXgvXxf/vVHiT/zaGH7//ffA3pFDHh2klNLfVXOjsoZ4ezRFHQ5HvgxryUFEpHjGW0Ud0ghSWOBG5t4y0fYKqo0ghNfthLU8C4Vp/wRKmJpQX/DBBx/iiism4KUXn8eYMaPlKx1T+cEmAn/55Tf079cXr736svzMbbfegunT38Bvv/2Offsy5DmFRUX47LPP8fzz03D3XXfK81577RUMH34mvps9p9pgskwo12R0fO/dd3DhhRdIRfC99945QP4uLS2VSuGUKZMx5b7928SJN0kjJEHP8Pvvf4j775+CF8XfcdaokfLeUx99BLNmfStnz5s79L1//fUs+TvQb03KN32P9Dt99dXX1UaOnTvTRDv/A2+/PR3XXHOV/G3efWeG9BSaN3++PIcMKDV/C9ro+ybD9bBhw2TIIHNoli5dJj1oZs36Wn7PpH++P/M9oS9UybGHGDZ0CIYOHYrPPv+ylnFp7950/O/Tz3DnXXcInSE+UMqcSE5ZQ8hNN96AF1+YJgWYINFRUUhulYzMrIbFHTNNR5GlFD/u9GfZv7P/NXh8+N24rOsYzDjvSUzsfTlGtxuGClvt2baTFRp0tmzZIt2kaSDfvWePGPiXY9HixUgXnRhZ5ul9IRrjv/+9D0899QTi4uL8H24C6P7//rtACAu34ZLxl0k31oKCgsC7fgMMeXLUnf2hAZAs1OTJQpCL65IlS6uvM/WxJ6pnBence+6dLBST3fKVrkfXJajTJk+r4OcefvhRbN26rXrWgaB9KqPP0Tnkzrpv374D6kWzzXPm/IBrrr0eEyZchXfeeU960dSE7vfzL7/Kc4LXKi+vCLzLNBe8Lv9zodYmyleb3QJNTDwsPiWcHh/CDTp0iYtER9E+etudaONRIsnjRZSQzdWiLeocboSVWBCRXYmIjAoYsyugq7BDKz6vVSpA4l2KV4mWxSZ4N6fDU2GRbvn0WFeW+QVJtdZvzAzW5XDUrXNZST4cFhPysjOxecM6LFu0AH8LAXTt6tXIzspEQX4+KiuqEJuSAn1kOAzkBRKqR6RRB4NaKXOCxEeFokentmgvtvjYWKQkJyG5RSISE2Klh0lEaIj4nFauhEMcbZ0L96XDWVKGvIwslGdlwyb6PJrJtbrCUGKNRLHFg8zsQmkUNpnMsNjssNgdKKkyo1RslMg2LzcHGzdtx8atacjKzpNl5JFRWlaCsooSFBYWiP6lHNk5fiNCY+us2hXwwug8RL7UnWUjKNSFhPiePXti/fr11QohGTioLyRDNSlf5KZMigGFO1L/Tp4hvXv3luX1EbyXIjbZ/1raeEMIeQI2Bspx8sknn+Cmm24KlBwI1ZfkHwpZaEg4cGPrcCSU7FsOt92EsAgdomK09RpBqM0VF7mRva8MxXmlcFj3hyL58cFpKUNJ+orAMVMTMlpkZGbhogsvrA5DoVc6pvKgUaMmZOCjcTc6JrpW2EOLpCSpAFPbJMggNW7cxejWtas8JujanTt3lpNAQYUuT/RjcaJv0pGlK0BQ/q6ZlJj2STY6VKgFPb9vz5iOS8dfUqsNtm7TGhaLVfQjbAghb+JOHTvg/PPGVv/mREqyv08KeilTH3j1VVehjfjugpAhiowfNX+XumzZuhXrRJ9JCn3N6zMHQvL5goWLpJGppiGD9j/99GOcddYoeUzP/M033SiNhkuF/kBIg9Y336B///4YPGigLGNOPKesIYQEmqBFOQgpYtRBn9Gj8fG7TG3Ii2P2tj+wtci/vOTh2FuWJUNhQrUhGJLcBytzNuLRv1/DS0vfx6BWvfDq6Ecwqk1gRu0kh4T9Dz/6WLp6klDx/swP8Oprr+P119+QRravvvway5evlLOM/fr2lYNPU0Ed5Yy338Fzzz2Piy66AP+dch8qqypruaaSO3+OUCiCBo8gZotFCjsk9JOhgtxKn3r6WXmdBx+4Xwoqd911L/JFG+kh2gjNyiQmJsrXG2+4TgjVBnl/cvl76eVXcdbZo+TnEhITcMedd2Pbtv3LMP45b740XNCAS+eQMEX32rBhY3W9SBF57PEnpWvs9ddfJy3gNOCS4SU4gxG835dffiXPob+3uLgEjzw6tVYIEnP64/P6FVeFan+/HhGXBHVULEodTtgcNnRJiEJPhQqRQpnSi+HLAAXUQnimxKNqsa8S5ykrTEJZNUFptgnB2gOP2guNTyW9MbQKJbRuD7R78uHNLYLXTiuRAHar37tCofLHwQfrcjjq1rmsvAJVQnj3+exQqxyoqihCUX42dKKPUIl26bK5YKoyU5AM3KLebp+oH+X98FLODQ9cTjt8Sh8i4+Pk6jAlou2bzGY4hCJDSgKFnGg1ahhIAQkYJo+2zlaLGWq9FtRqy0SbNdksWLdhG3bsyUFBYQkqK02wmE1QkVIr+h4KffF4/RvpLbSKC+UuKSosRHp6BvaKLT8vF0ptKYrLMkW/VCk+XyWTxJoqyuQ9G1vnagJ6Ehkw6kKCJ/VrZDSmjZQHgvqhLNFvk8JFiVHJWNKuXTt5TEYS+lysUOoO1o8H76UoPfLQEpopbwx9xbhCuUlohjYIJW4l4w3Vn7Y333xT9p/0t65bty5w1sFpbB2OBFMh5UDxwBCilSvC1IV+kvIyDzL2VKIwtxg2MWbVh9tpQVXRicmncrJDz3JsbIzMD1ETOqZyer8uZCjr2rWLnI0mgyYRnMyg95KT/TnPyJ2fPEVqKnj0jNFKR/SeXq+XZd27dZOyERlMgwTl7y5d9uf8ockVo8Egnr0tcpz/v48/kXkuakLtLjIyopYxj2SYNavXok3rVPHM+z1wmzMkX1199VXo169foMRPVna26H81MgSR6NKls5TnaupGJEdRXpCaHnE1IePW7G+/w3nnnVfLgMLUD+kH5EXYpXMnKUt//sWX8tmmCcBguGUQyq1DxpCPxXNP48jKVauwePES0cYmynOZk4NT1hASpLCwCO/NfB+PP/Ek7n/gIdx7z13o1Klj4F3mSCAjyIyVn+Hhv17BbT8/JvN9HI4KexXsbgfCtEZ8uG4Wrp4zBV9v+QXfbv0dd/z6JB7561W4PAe6HZ+M0KD89oy3pLvg1VdfiZ9++gE/zv0ezzzzlBgsxmLOnG9ljOaxgASGv//+Bx98OBPjx18iXSGfefqpA1xTDwd5Yixbugx33PEfeZ2hQ4dg0qR78NDDD8iOmhI09endWwjUYfKVBlhSCOj6vXr1xCeffITrrr1Gfu6eu+/C0CGDsWbNWnltEm7IcPHYY49Kt0o6h76rq668Qi5TGeSff/6VyQGnv/UGzhs7Rrq8vvnGa9IlnYwjJIiRWywNDPf/d4o8h/7OqY8+jBtuuK5Bs5zM6Qvp+Vq9EYaIKDiVKpkkNTEmGkniOVX4xNAljhUKrd8IogOM7byIGuhGaE83DB09iOjvRtTZToQPcUKd5BI6NC2Zq4DKp4DO5oQiPQ++CrMUur0yQOboMVntKBOCp1LtQ1xMKGKiwqHVqeCwWeCymaFRKGA1VaI0P1e8VsHhdMDucso+l4wKUhnXGuAS/WiZUDJyxXlZOXnIzcsXSkYBCouKUVZeDpPZBJe7ifpTody4tHqYXR6YFD5UCMF4+54MpO3ei/y8bJgqymG3WqBWKaETbVKv1yFU9CERYaGIiAiXm06rkwadSnFuulCIyNPMVFmGwuJcaYBq3SoR3dq0QFz4fiGxqSHviLPPPhvz58+vlfCUICMAvT9+/HiMGjVKeodQolXyWjke1Kec1sdZZ52F66+/XhpmCDJ40DGF+9SkY8eOcolgMo5RfpPt2/cbqQ/G8cgFZTeVQKVWi76bPABqtynyBKms8GDvLjPyMrLr8QTZj8fthMPcMG+h5gYZRmOiow8YH+mYyun9+phw+WVCNu6Ea6+7QSY4nTLlfpkf5HExjh/KRZ+UN/KIHTfuIvm8EcOGDcVVV12BmyfeguemPX9Q+buouAi//f4HXnv9DdnWfv7pF5xz7hj8cJDcH2vXrsWbb03HbbfdjgULF+LBBx+o5fXN7Icmkz788CNcPuGygybop++YJq0oYeqI4cMDpbVZI75z9gZpOOXlZdLIvmHjJlx2+ZVirNuF3WK8u+rqa2vl2yGovZB3H32vn376uQwBu/66a2VSVebk4ZQ3hAQhFzrayEJad6acaThBI8iMVZ/LVQHIy+P2Xx5vkDGEyDcXY0fJXnx3xQwsmfgNrux+viyfu2M+FmXWv9ThyQrNbtS0omdnZaNVq5bHVEEnqzK5zbWrkUSJOlGaGdyZliae8fpn0OqiFsIoCdHz/pwnZwNI2SNDx9AhQ2T5waBzRo0ciY6BjpoUCjI2ksGChBqCZlFpVmnI4MHVghFBydco4zhBg8G69Rvk4EteJ0FIqCGDx6KFi2U8JdWT3NQpSRdZ12ngJldOqmdw9olpHiiUfoHX5wnkvtDp4RHPLcnLtGRqhHguwsSzq1YqoBQKu9frg1v6VghdvrUbob2dCDnDg/Du4hnq4oWxixuRA1yI6SP2B7qkGcQjvRrEvcSmzC2Br6BEeoXo9H4F3efxt69gXQ5H3TobjCFwuF3yOdZoqQ36r5u+ZzeKC3JRIra0rVuRsXMnLEKgsjvs0hDi9LngVfngVChRXGXDtrR92LMzDW5TJbRKJfRajfS6UCp94p4+0ScooRNtlTjaOkdFRsLr9oJSBdHMolqjg02MoRZxb4fdDpeLEpx65Uow4eLciMgoRIotOioa0eI1NCQMWvFb6XQaOMXfUib+roKCIhTliL/JqZSG125dO2DwwJ5o286fsLSxda4moDwF8zbVhfq5f//9t1ZMNkEGWZqxJgMIrfhFuZHIeEDnk4K2bdu2gxqZq+/lv/URQYpIQ5g6dSo+//xz3HnnnbIvnjBhgjx+5ZVXAmf4ue6666RSS33xxx9/HCg9NEFPgGMKjQfiNzowMXowMWol8kWdPbSs0uGoMbYwRw+tYEH5bpSBlXhCw0KlMr1p85aDPvvkhfrUU8/g1ltvqaW80fNM7v7BhM3ksUByN3mEBo2Q1AdSstV1a1dhznff4onHH8OPP/onlMjblmT1+vCKa1JS5ZKSUun5Wp/BpLlDXm5kzCIvnYsuvKCWHFYTWs1w+vS35SRYfcYu+q1ogu2SS8ZJ7wXm8NAzTzIxhZd/882XmPbcszI/JU2WUr4dmsisCU2s0kThF19+VW0YOdjvxZwYTnlDCDXuu+68Q840fz/nW7nsFiWi4c6z8dQ1ggRprDFk0sAb0K9FD6REtMDUM+9El7h2cHnd2FTQwBUCTjA0c0ZeCps2bZZuhTQbQtvyFSul8k5Jkihp4bGAjA2UrKx9h85o07ZD9XbLLbfJex5MYKkLGWsmT74XIaGhGDP2fPTpO0CGpNTN9VEf27fvkOf26t0PXbudgRtvmiiTcAUhgYeuHxpae3aXFDMS3glSRCrKy5HaOvWATp+WqnQLpY5CfMjo8eQTj0s32yFDh2PgoKEylwktpcc0L5Qa/yy42+n3KgoJi5RCh8vtFq9uaQyRypFoA5TilJbEhc8llGkXjB3cUBp9sJcq4VaKd8Wptr0q2PepYc9RQx8vhjqlFw7xebfCB6VoAxqrA4qsQnhLqxAZ7RcS3U5/Lp5gXQ5H3TqnpKTCGGIArUljddjh8jih12mg1qhEe6jE2tXrxBi1DJu3bEOF6Euom5VL6no9cPo8qLA5sHVvJpYvXYE1y1djX9pueITQqxDfgc/tQpjBgJjISMTGRiMiPEze82jrHBufIJWPiPBIxMfEi+9ZK79fi7kSdrtVnOdv7yGh4eI3iYBeb5AGTLUoI7dsWuJURcYanVaMIR5xvlMI6jbYrS7oNeEoLqlEeWUFfOJ7CIvxu/M3ts6+GP9qMb4Sf79Q34wa9Y/ffvutNHoEw2KCUMJF8pygJXX/+usv0bf78xhR7oS9e/fKz9WXKJUI3stX4vfqOJYiLHmzfPHFFzI/Ff0NK1eulMc1V5yp6Q3yww8/NMgb5HihD4sX9XbBJcYISkTsp77EqIceg1RqLfShTZd363QjaCCuCR1TeX2Q4vzqq69h8OBBmDt3Dh5+6EGpwH355WdCmZslkz/WhYwgd911D668YkKt/B0kg9DMNk1U/PrLj9LAQduc72Zj67ZtMiSXoPNp0oW24GfJ423M6NHSK3R7jVDbIOSZSklTv/ryczz6yENSFjjUSjjNEfotn3jyaSmbkvfswTxmaCUeWhXo4YcekJNW9bF+wwak7dqNiy66sPo3YhoGhSqlpvhDygjyhCKPvhVCP6grp1PI5plnDpN5RcgwwpxcnDYeIQSt5nHJuIuRJpQ2Cg1gGseSzDXINRVifJdzZaLTmtvg5N6Yt2exDIGpj4TQWJkfhAgLvBJqpUquIkPY3Ad3hT2Z+PPP+XhFCA3Ll6/Ad999L/ODvPjSyzKBKRlIvvr6GyHsNcwg0VjUQrG47bZbkb53F/al7661zf1hzkFdIOuDZjJnTH9TCBybMeubr5CUmIibbr7lkIIF5UCZfN8UOTvw5x+/Yu+eNPz7z3yMPW9M4AzyUFFKpcFRZ9aVjoMzsSTwkIu0xXygBwsZQWpCibxI8KF6zpz5jpyluO0/t3PS42aGSudP/OaypsvXmPgWcHt90hDiEs+VDBvxeeWMJhnR6Cny+nT+XBvlavgq1NBpldDGqqEM1UGrCxXCehg8FiUs2+hchfQAkEZeoTWoheKgzisFiiqQ2NIfGx28d7Auh6Nundu364So6EiEhIt7hxoAjQJ2LyUWrcLCFauxcPlq7NqTgT3Z+SgoN8PuFPVQaKBVkfFBBafbJzcSSkvKKrBw6XKsW7sGK5ctxbpVK7Fz21bkZ2ehKD9PemAQR1vnDp26wKskI5MSHtGuPUKRraqsglsos25xTIqtQnxvTptFlNnF9y9qGnChppl/pejjVWqxiTLy1iFlzCUEQYvdhqLSCmzasA2r12xE2t5MRET6ldvG1tlbZ+nagQMPTDRHfU/QKEBeZjRLTXUiIw69klcbhcNQ+B4pD2TMoXKSFSgHAj1f9SkDwXspdvrv7RlymXxtDFSfhkCeHzfccIMYe5bLZ5U8VeiYPEWCTJw4USavTE9PlwlVGwrltDrWhCd2Ft+hBjaLU/Tj4ncTTe3QiVHrR60LQ3jC/lwTzH7atmktvZuqTLVlMTqmcnq/LuQNQolUR597bnXbJTq0by+VNwp/qQl5ijwplO0LLjhfPG831/oMtaO169bJ92oq4ZSjhOTvdWvXVXuF1AclWKVEqwcL4SGoHZJRpHfvXjJZPeOHFOwPPvxIJr0nQ9bBPOOCnjw0GUbKd339WtAb5IILzqtOusocHgpbJFm6ZcsWgRI/9B1TORmo6hri6eunyQLm5OSU/GWoI77+hpvwv/99FijxQzPdJaWlUgGTQjPTKEa2HojXRj8il72tb3tw6G2I1NcfVtE+OhVto/yzdr/vXgSb22+IWpe/DduLd0vlpXNsO1l2skP5P2a+9y4GDRooFPTPpMvbZ59+Io9pmVzKH3KsrLpdu3SWwi95ntSEEi3RTACh0+ll0j8SeoLQs19U5A9dIWjApMGSZklJEejcuROmTLlPzggdSrAoyC+QSQRpVSYKaaF2RANmvhCkglBiNVIi1q9bHyjxQ54klBuAICWEEqqtXr26ut4E1ZPcZ0mQp/uQQYU8cEiJoeRRffv0kTHLevE3Ul2Y5oPG2Fm+uq3+5Rc1Wi0Sk9tKI4hbPINen3jP54VCPM8+lVC26Vj88wgpw7pNBWumERV7o1G2KglOc2uE9GiLiPZtoEEc7JuM4jyl+Dx9RijNNHsKBTRWF9q17gRtIAyr+t6BuhyOunWmttmvzwCEherF86yCD07kZBcjbdc+objmwWqxwEuGBqEo7s4pwc7cEuRWWFBqdaKoyoZSs10mIyVDjVLhhU0cb9myGXt270RG+l6kbd+Gndu2w2mzVisnR1tng1BmuvfqC8rBotaoERMdLvoPv/GJ6krL91IOEEqKSh4gOp0BWq1eGkDIeKJQqWVojFr0FTqNVtbf5/HC6XIg1Cj6qhYJ8KqEYhvTvtpjrLF1Di5dq0jzGyNolpmS+9WE+iTqF2kbMmSI9JygMJi2bdvKstTUVLk6DOUIoffpPUrsSIlTSbhtL5RCukZN6B7BUEJl4N4KZeNnTunejYHCBGllMgrhqUnQG4T48ccfZXx6Q6G/91gT124YNIYIVFU6UFRgR3mZ+7CJUQ9AtGddSLS4ln+FIKY2NP6qRNtbs7p2qDGNx/T8BhOf1oQmL7xejwzFqwmNv5UVFeJz+8N9yQjywIMPyRBdcumvaQQhyANMLdq8pY4ho678TWG8/7n9zgPk9KLiYmzbvr16Np0mZoadObJWMnaCZAIKW6N+h/HLdO++OxNr164L5Fqr32Nq9+49mDRpipxQu+zS8fUaQQj2BjkywsJCZR695ctW1PL8IAMIGRRpYo/kX+bU4ZS0FpA7/Tlnn4WPP/kf/vhznox9pQSOs7+bIxPSnH3WKH4QjzPhulC5bK5WpcHPaf9gwIeXYcBHl+HmuQ/D6rKjf4secgndUwUyPNBzZjD4ZzxKxYCsFQoYJQY8Wux2h3TVrrnR80szgIMHD5aCx2uvvy7jEEm4oBwfd9xxNz77/At5bDDopRserWxDHiokuJCw8eOP+92nKbP1Qw8/ig8++EjOeAZnF0m4Toj3hwFQGyEjx5o1a6rvTzOXZIRZLYQsOqbPfjfne/z9z7/yMwQNwNdeew2efOoZfPLJpzJsiO7/5RdfyRj8ILTqDM1CUb3pOjRoUOKuWbNmy5kjMtBQHpZbb7tdJk+j92lbtWq1XCmnobOozOmBIaKvfPW6S2Gt3CD323fsJhRrF3y0qgqtVOJTwaOnFVM0EKWoEu3BIV7tTh1KK8JRpY2FLakFTBGpKLK3wt7dkSjzxcCZGA2vQQj0QqZ2CaHPrlbCrVZBIwT6LmeNlveie9K9iWBdDkd9de7erS9KRH+RtisHG9anY3daJhx2CrtQiPbrhUfUlzabx4fcchM27svH6l252JpRiOyiMphF/0C5NkiZUKoVYlPCajPB7XGgsCgfe9PT0KKVfyWFpqrzBRdeiHZCWe/Yrj3IYYvCdWRIkvjeKbeK/A3EGz4K4XHYhJJjkqvN0GY2Vcn2ahF9CfVPFGZDfYfLKfqTyGh0OqMf2nTpheEjRsh7HUmdVfF+Q4KyNAeebf5lYMlToiaUi+Syy8SYc/PN0sBxxRVXyFwaN954o1yB5aqrrsLIkSPle4MGDZKJUydNmoRbbrkFo0ePxn333XdAnxO8h6dwf6JRxfArA3sN54wzzgjsNYyZM2fKGfFnnnkmUOLn9ttvl4adxnqDEI2tw5GQ2Hk0jNEpMFW6sG9XCfbsMh02MWpdVGo9QmJSkdD57EAJUxMaf6+59mq8+dYMOU6TwYFeX3v9TemuT+9TO/zww/8DLYFPsgzlkqDniVajo8SYNDlBK8yRfPDPvwtkInOCyin3BBksKSSGrl1XRiEZiMb2l195TSZEp8mW+uRvao9jx4zG/z79tPo8WrXm2Week89ijx7d5T3J+7Rbt6544403ZeiuVTwrtLIMyUBUR8o91tyh3/OHuT9i1rezMenee2RYUk35MRjWR7LgE08+hYED+svflHSj4Dk0gUzXIdgb5Mgh+ZyWmJ4r5G1aNICefVq5663pM6QRauyY/d7TzKnBKWkIIevlddddi/9OmSw7dspl0LtPP6mMvfH6q3JlD+b4c16HEfi/cS+gbVQyqhxmFAayvo9tPxwfXDxNGktOFWhGjta/J6MDQWvo08xpUxjYPv30M5mzo+ZG2ddp0CJPk1dfeVkMWiYMO3ME2rbriPMvuAgjR40ALcNFzz5tV191pVwqjfJ3DB8xCuUVFTIbdRC6ziOPPIRVq1ejS9ceaNe+E+6+ZxLuuftumfGdoMSv995ztxSorr3uejlTQwYWalcUg0qfobZFAyitCBOE7n/5ZZdi+vQ3ZGwxhQ7RGvW0ikxc3P6Yf5rxoXMWLFgo60B5T155+VW88PxzGCAGaoIGYYovJoGM3qft1VdfF8LS07WyzzOnP1pDCtQGv4eAtfQv+dq2Y1ckJCXL5Iq0worD54AzzoCSMB0c8EpDiNurEK9CSY+LgqZlK2jD42HQRIjBLRQeVQzUSSkwDuoE5dgecA9rDXOfBFj6JsI6IAm6K4aj3YX+hM7Be6pEHaguDaG+Op/RvT8S49ogM70cBXkmeD0qKBUakJOiQiH2RZ2VHh/UooYqiHK1DkrRryg1GulN4bTbYLe7ZVgQ9TkkePm9L3xC4HUiMioSPQJKbVPVedDgITJ2PzY6GlabXXp0UC4HofdIo4jNaoGpqgJWs0nUzw6v+D2oruQ1YrMIRaisHGahRNEsrk98iMJpHGTMUWtEO+6KkUMGo2Nbf/2OpM6KrkOr84Qo5r4hX8mwQbPWNaHvivpuEkzJQ44UBBL66ZiMwBQ6QwlGyQuNFMRly5bJcnLxp/KaLs10bbqH5IfX5QvVQRkwyjSGmsvgHg3333+/VFLJo64x3iBEU9XhUITGpCKxwygYolJRWVqMgoysQE6QhhPZsoc0qOhCOEdIfQTHX1rVjTwuuvfoJV/pmMrpfTJYUNLifPHc20R7pmfmsamP4txzz8Ett/wH3br3RP8Bg/HvggV4f+Y7coab2LJlq5yUIMPFmcNH1iuj0PVvmXgz7ps8ScoJPc7oLeXv92d+IOTxZzB27H5FkBTGSffei0enPi7PG3veBdI76/HHplaH1dCE00svviDziV0+4UpRtzMw6qxz5KpZn3z8Ua08DM0VSk779dffyL6NViep+bvQtn6936C9cNEiOZFES7oOGDik1jkU6hRMGUB5LMgrh71Bjozu3bthhpBtv5k1Wz77g4ecKdsOybucdPbUQ5HyxnC/ibAGmVMWBfZOfsjCSS5JBHWo3KhPDsxOi/QEidKHQ6PiZVCPBBLgaeCiEBLynqgPEtzpma/rvhok2D5ohQ1y6avvPDl7KxSGmkYeOqYZHJp5aOh65zTrMPGW2/DIww9h4MABgdLadaDleusLW6M6kPGHONg5zOmPqXgeTLkz5H5Mh+lCGWqP9F3b8dqDtyI5JgohWgPKCvOxalsGYkudSIEKKT6VTIDqSo6FtlMLaKND4RXPr7vKAl+FHU6lUMyj9NDqjFDrFFCrFIHnS4Gxdz2J5K694bDsQenuyfK+YS0nISyu4bM69dV53fq1uGLCrXA6HaKNUmJDCndRwCfaAHmFyEFXtFu1aI8Gg060PY0oo3asRkhIKGKi45GYFI9daWlISgyDw1Yl2wgZRKa9+BJ69urV5HUuzM/FrC+/wM+/z0Nubr70SHM6HNAa9HJ2l74xcomXuTXERsvoUr4Qk9ki+imbqJ9H9kcmk0X2M/R3tW3XBlffcDuumjAe8XFRR1Vn99YlUL/s98bwvL5CeolQ4lPy5iCoHySFj/ob2sj7g2a0d+/eLRUJKjuYfEDltElDjjiPoMSl5557LjxFmVDd70826LnldahGXi33GwOFKZICeCKhFTjIM+BYYy3LQtaG75C1fjbMJfvDNxtCeEInpPa9Csm9LoU+wu/1xBwc8qAk78+Dje31ERxrKfk0teujITi2E4eSv4P3DAkxHlSWIYJ/D+URaajcwTAnkuBKjkfblpgjo7C4DAlx0YGjI0MVMSb16cB+NVMG3xzYO/mhjpcUONoO1gkzxx9K/heiNcpYVubIIIGBhIFDCTjSff4QRoNg+yCDxsHOo3Pqxsb7FRlDvUILGUk++uhjuZwvubTSdUkgolmkJUuWSrfdyBou5jXrcLA2SuX0/qHOYU5/SCG3li+Fz1MJt7MEIdGjEBUTJz0LCtM2CUHZi8z8SizJzkeY2I+HWq7QQqqr2uoEys3w5eirYrMAAOZ3SURBVJVBmV4IdUYJjEVm6MXmK6iEtdIKmxDIKZTG4fKg74XXoPuZfiW6PGs6vM48KHUpiEn1K+oNpb46t0hqAYVKiRUr14KW+pXQYy0fbf/zTXmTlKKdKUT70euNiImNQ0JCIpISk2SIRnZutjhJBbeLwgrcoATN191wI84NuN42dZ1Dw8LF7ZRyxRJa/paMsC6PC1qdAbHxiVJxIsMHKStk8KBwJfJQsTudMqkqeYKo1JRImd7zic9ppXHkvsn3oEMH/yzZ0dSZPDF8i7+FwlYFxfp5UPQbi3Y9esu+asGCBfKcYHgdKV40e0qeamTQDZYdbAt+Lsizzz4rQ2wI35sTZUiON6YVVHf4jUeNhfKMbNy4Ua5ocyKgJRv/85//BI6OLWp9GLT6CKg0BrgdFjit5fLZOCjimaJzo1P6ILnneCR2PkeGxgTbCXNwaOw91NheH8GxloyGR0twbD+c/B285+GMNcG/51DGEoY5maB21BRtiTkyLFYbQkOOzmh6yhtCGIY5vpAwQ4aP559/EZ9//gV++vkXfPzxJ/j1t9/lknf9+/c7pFDEMIdCoYqAo3KpVJi90EEf2hUduvVEaUUVdm1ZjzX7clFsV8Dq9iDOB+jFs2YUCnwIvTo80Fmc0Nqc0Li9UFBeEaGYw+GC12qHrbgCO0vK0WnMeIy/5R55v8qCObCX/S73w1veCa2h8aEP9dV54IC+Mqxs48Yt1e2BBH0yfNCrVqtBfEIC2rZtJxMchoWGCWXcC1OVSXoQkGs7hQNp1D6oFF6MGz8et9zmV2aPVZ1btkqWMc/kYk3hLbTCU2hYBMLC/cvm+jweuESdXKLcG8jbovAppeJCSwSTscbp9L+nVKhkTourr/F7UDRFnb2tOgM7V/pzhehDoew6FCNGjJAeH6vqrHxBxhoybgQ9PBrK5MmT8eKLL8p9z5xXoFo2R+57J310RGExQWjFry+//DJwdHyZPn26TAZ7PJBKb2gsjFHJUAdWkKPlcMmbyd8OFKINqMV7RuhCYhEanYrolN5o1XM8WnQ7j40gDMMwTINgQwjDMCcEWjrsmmuukgnYBvTvj3PPOUeuV0/rpbMRhDkaSEF22kvgse+Fy7wRSm2KLOvcewCyS6vw2+JlQtGmZKMutBLKVZRKBaN45Ejl0gsFSiM2rXgGNWKjRJ+0somSvEbEZ0hRH3LfA7jhwUfkvSxlS2HKfVvu6yJHIyJpfy6cxnCwOo8cMUwaDletWivbRXAjzwtyZyevK/L+oKX1SkpLxFYsE49STg631y2UePE3aZW4eeKNuO32O+S9jnWdKZEoGWoW/rtQ1FWJkJAwhIaFSa8xKifvD7miDHlZUC4RUUnyyaFWr1T6E8K6XW48+dSTeGTqo/JeTVVnMkR4TGVQpq2Sq7jQUrbK0EiMHTu2lmfIkUKeINVGkK1Lofr4frnvvngy1KOukftHChkiToRXCHmDPP7444Gj4wS1P0OEzPcR3bq/3Kfnw+t1QTREqLQGGCNaIDq5D1r1HId2w25DTOoAcR4lI+fxg2EYhjk8TWEIOeVzhDAMwzCnH0Vp98Nt2yn3I1IeRUi0P9njokWL8MKL07B21RqcrVCjA1SIEQp6pJIMIipxpIBCKOeknpNDPhkTPAo3Qnr3RK9HH0Xrkf7VSyxlS1CZ9ZLcp8SdCZ38CTGPhoPVeenSFXj11RnYtGmLUAa90hgSdE+X+TdE3SknEOWooKVrFaL2PqUCPXv2xP333YEBA/1JQY9nnSnJ8fMvvIjcvCIYjQb5ndptVrlSDC3DSSvISJVVGnf8Xi4ajQrdunXHf++/H6POGiWvcyzq7LtvABSlOXLfe8sbUI70JzWlnCGPPfaYXAmrMVBi1Oeff17mBCE8W5dAFchHQglSFW+tlvtHCyVrJWMxPQPHA/pNKBls165dAyUMwzAMc3rQFDlC2BDCMAzDnHS4naUo3fs4PI4seRySeDMiEi+X+8TcH37Atm++hfmvBYgVCl+YUg2d9P4QA5tQ2uUMtNKHpLEj0eGqCWh9/jj5OYLCNCwF/5P7KspX0W4a1NoYeXw0HK7Ov/76J77//icsXrxMGkNo9puUVYVSQeYbWUZK8vDhQ3DJ+Atxwfn7k4meqDrP/+tf/PrLb1i4cIFcIcbhcEhjDYWckCcLGULI24YMHxOumICLx10c+OSxq7OvWNT1+curjSHuW16DeuR+j41Zs2bh888/xx9//BEoqZ/zzjtPLpFbvTqMQIbD/PSWf7/jICgf/z7wWzUNH3300XHL1/Hhhx/itttuCxwxDMMwzOkDG0IYhmGY0xappO97AZ6Ax4ImtB/Ck66XyT6DOEwm5K9dD3P6PjjLK6QBRB8VhYh2bRHXtzc0YfuX7aZVS6ryv4DLvFYe0zKy0W2mNolyHqQhdTabLdi4cTP2ZWSiorxSlkVHR6F16xT07NkDoaH7M9CfLHW2iDpv2LgR6Xv3oqysTJZFR0ejTds26N27t1zdKsjxqHNdY4in0yDgP2/K1WSCUI4Wyh1CK8fQcrlETEwMOnTogIEDB8okpkG825fB98PrUKWtlMd0PeVjTWsECfLEE09g2rRpgaNjA4XDPPfcc4EjhmEYhjm9YEMIwzAMc9pTmjEdjor5gSNAGz4CxphzYYzoHSg5NNbKDbCW/gVn1f6xjXJVxLRu3MoljYHr7OdY19k77VKZLySIZ8jlwPAroEpIBWKTA6UHx7toFrBkdu1rDL38iFeIaSjH0hjCRhCGYRjmdIcNIQzDMEyzgHJNmAq/hjcQwkEo1TFQG7tDY2wLtTYRCpXfk8LnMcPtLITLmg63dSu8br83AEEhGqEJ1yAk+sxAybGD63x86kw5PRT/d79cTaYm3k6D4Os8CIrYFPjiWskyRXG2P7nrjpVQpPlXoAlCoTAYPwWq7se+zgSFydxxxx1NljOEwqzef/99DodhGIZhTnvYEMIwDMM0K0zF82Atm18dxtFQKDzDED0aYXH7824cL7jOxwfPwm+Apd9BUZJzgFHkULiHXA5Fl8FQjfQv9Xs8oQSqU6dOxU8//RQoOTJodZgXXniBE6MyDMMwzQI2hDAMwzDNEqctC7bKdXBZd8LjyIbXVQKf1yrfUyiNUGpiodIlQ2MUinlEX2gNKfK9EwnX+fhAHhbebcugWPodUJJTnUckaByRnh+xreDrMgjKrkPlsrwnmnnz5mHmzJmNNoiQAeTOO+/EmDHH3/DEMAzDMCcKNoQwDMMwDMOcJuTm5uL333/H0qVLsXnzZmRlZaGiokK+FxERgdTUVJxxxhkYNmwYzj//fLRs2VK+xzAMwzDNCTaEMAzDMAzDMAzDMAzTbGgKQ4gy8MowDMMwDMMwDMMwDHPaw4YQhmEYhmEYhmEYhmGaDWwIYRiGYRiGYRiGYRim2cCGEIZhGIZhGIZhGIZhmg1sCGEYhmEYhmEYhmEYptnAhhCGYRiGYRiGYRiGYZoNbAhhGIZhGIZhGIZhGKbZwIYQhmEYhmEYhmEYhmFOejweL1SqozdjsCGEYRiGYRiGYRiGYZiTHo/HA71OFzg6cpRnpvYL7DIMwzAMwzAMwzAMw5ycuNxuhIYYAkdHjvKpkffingHXoWNMm0ARwzAMwzAMwzAMwzDMyQF5gjicLoQYj94IQih8gsB+LQqLywJ7DMMwDMMwDMMwDMMwJwcJcdGBvSPjkIaQo704wzAMwzAMwzAMwzBMU9EUtgpOlsowDMMwDMMwDMMwTLOBDSEMwzAMwzAMwzAMwzQb2BDCMAzDMAzDMAzDMEyzgQ0hDMMwDMMwDMMwDMM0G9gQwjAMwzAMwzAMwzBMs4ENIQzDMAzDMAzDMAzDNBvYEMIwDMMwDMMwDMMwTLOBDSEMwzAMwzAMwzAMwzQbFD5BYL8WhcVlSIiLDhwxDMMwzMmF1+uF2+OBx+OV+14xnNGQFn5nB3hjWsEnNoVCnDfscii7DoUyPjXwyROH05YFW+U6uKw74XFkw+sqgc9rle8plEYoNbFQ6ZKhMXaGIaIvtIYU+d6J5FSsM8MwDMMwpy9NYatgQwjDMAxzSuFyu+F0ueHxeAIltSFDSH14Og0Chk2AqvswIDY5UHp8MBXPg61sPty2nYGShqEydIYxejTC4sYESo4fp2KdGYZhGIY5/WFDCMMwDNNscLvdcDhd8Hi9gRJAqVBApVKJTSn3yQVEsXMFFMU58JVkif2VQEkOlKU5gU8Ano6DgPFToOp+ZqDk2GEpWwJz4dfwOLICJaLO6hiojd2hMbaFWpsAhSpUlvs8FridBXBZ0+G2boXXXSrLCaUuBWEJ1yAkmuvMMAzDMEzzhg0hDMMwTLPA7nBIL5AgGrUaGo0aapUqUHJoPNuWAotnQ5G2stoo4r54MtSjrjlm3iGlGdPhqJgfOAK04SNgjDkXxojegZJDY63cAGvpX3BWLQqUALrI0YhpPTlw1PScinVmGIZhGKZ5wYYQhmEY5rSGhiir3VEdBqNWq6DTaqFS7s/1Tec4nU55DuUKIZTiffIU0YpzFeQpEsC7fRl8P7wOVdpKeUzhMsrb34IirunyWridpSjb90J1SIkmtB/Ck66HLqS9PCYovKeiskJuVqsVKrUaIcYQuUVHRoq/Ux04E3BY9qAq/wu4zGvlMYWexLSZCrU2Rh43BQ2ps8NuRnHWFphKMmGpKodKfK2h4REIjU5FTGpPaPV+LxHieNSZYRiGYZjmCRtCGIZhmNMWaQSx2atDYfQ6LbQajdwnbDab3BwOR6CkfnQ6HQwGg9yCeOa8AtVPb/n3Ow6C8o6mMYaQQaF07+PVYSUhiTcjIvFyuU8sXb4URaWFiI2Lg1arQ0VFhay/VtRRDMny71EqVIiJjkZCbDw6tt9viKgsmANLwf/kvkqXgph205rEsHC4Ou/a8Ce2rvoZOzcuREyoGhqfFw6nGxoVECqq7XK6UGryoF33Uegw6FJ0HnRR4JPHrs4MwzAMwzRfmsJWoXpaENivhcVqQ2jIfqGRYRiGYY4n0hMkYAQx6nXQBIwgZDggAwJ5UhwsYWpN6By73S4/R14i5G1Bq8iQ94ivJAeqnO3wZmwVZUPEjSICnzoyivc8AY99r9yPSHkEYXHnyf11G9bhtemvoqS8CKkprdC+XXvExcRAr9fIsTaMxluvB1azCTbxdymUCuQX5GPr9h0IMRoRGRkJfWhXKLWpcFQuhc9TCYdZvBd79AlJD1bnwr0rse23x7D4zy9QWpgFt9sLo04JtcILt8sLldIHg9onvl8fzA7AXJSJbSt+xba1/yCpRStxndRjVmeGYRiGYZovTWGrYEMIwzAMc9JBOUHcbr+Rw0BGkECoiNlsRmVlZXUITGOgz5DHBYXKyJCZrkPhM1dU5w1x60Kg7DYscHbjofwaLvMquR+e8ghCA0lCV61djWWrlsDlcqBz5/ZIik9CXEyc+Lv0Msmry2GH3WqC22mDw2ZBZUU5HHYbQowG8T3Y8eXXX4m/24Qe3XrIpWmV2hRpWPC6S+C0l8AYOUje50g4WJ3Xzf8I6+c+BaWrCKUmH+inoGS1oXo1NEry1PHC4VJQDBLcLiXsdgWUCp/4jsU1S/JRvm0uXG4fWnQa3OR1Zk4NvB4XTEW7kLHma6QteBPb/3weW/+Yhp3/vinKvkLRnsWwm4qgNUaLZyRctMv94W4MwzAMcyjYEMIwDMOcdpDCbXe65H7NcJiqqippCKkLhdCQt0cwTIa8P2ij65AHCBk+auYJoXwi9BkKmSFjiMfrgZKMIWmr4BlyGZShkYEzGw6ttGIp/EzuU2hJeMCrYu++dGzbvoUqiZAQPeLjY9GhXWeZC4T+lvy8PGRl7EVO5l6UlxYL5dET8FpRwmSxwGDQS6PQX//Mg9PhRK+evYTSmAovdHCZN0pPDjIyUFljOVidF855BRv+/hg6pQJGgxelVYDD5ZWGKZ1GCZfLh/xyD3Ir1Cg1q1FuccLqskMNvzHE7QViQxRI37QY5WXlaNf77CarM3Py4xPtyVKagax132Lfqs9Qsm8FbBW54g03dOK512gN8LgdcJhKYCrajfKc9XBbK6ELjYVaH1arrTIMwzBMfbAhhGEYhjntoJAYMlRQYlS9zJ0BaTQ4mBHE5XJJAwgZOOiVQmbIKBI0eMhQGKWyloJFnwl6hlCYjG/Jt1BYq6BYPw+KfmMbHSJTlvGSDP2gJKPRKXfLsqzsHHz9zRdYvWE1vB47WrVqgfbtuiA03IgqcxWWLF2C33/9GWtXLsGObZuxb18GLGYLVKJeMTFxUKq1sFZViit5RX3d2LJ5M+Li49E6tbUMObGbd8HrzIPbnoXQuAvlPRtDfXVe9tv7WPHH/8HjdUOt8CHKqEKZxQeLuL/HoxC/jQ+789yotOrEb2OE2+1ESWkVisqcsHkA8afBAyXijQrYxWf2bF0Pj0+BNt2HNEmdmZMbMoJU5G1G7qYfkbflV1hK0xAW4kFsvA4JSSGITwxFdJwekZFqGPQ+eJxmVBVlw1KRI9qIExp9hHhOYuUy2AzDMAxzMNgQwjAMw5xW0GoqpPQTFDqiFAoRGTcoHKYuZOQgr4+ysjJEREQgJiYGRqNRnk+GD4vFgszMTISHh/sNHjVWmiHIUELlZCjx9hkN5fyPobBVwdOqC5StewTOOjym4nlwlPuXnI1KfRhqbTRKSsuweNlirF67AhabFQmx0ejbuzdSkpNhKi/Hb7//ii8//QibVy2HtSSX1p2FrbQcJUUlUGmFopiYCI1aCbulHD4oZH4UWi54x84daJHUCgkJCVDrkmEr+1MaM6CKrbXCy+Gor857ty3Hz/83VSizXvHleqBT+BAZqkCJ2QeTWwOfTo/tmXa0a5mCK8/vjYvP7oCz+iXhzG6haBXhwoa9Vajy6BCjsyMmTCt+Bw/sDi92b1qMpI4DENuizVHVmTn5IU8QMoLkbPoBHlsBElpGIbltHFqmRiAhSTzX0WpERWsQHWtEeFQo1Bo9zCYnKosyYCnPEccGGKOSoTEcXa4ehmEY5vSGDSF1yMjIwBdffCWT6LVv3y5QypwIfOLf8qz1eGf1F/hjjxCCw+KRQLM8pwhLly7D6tVr0aFDe+mmHiQ7Oweff/6FjOtv0aJFoNTPvHnzsWXLFrRunYqffvoFVqvlgHNOd3Jzc3H99TfBKhS/PkLpaypIYf3jjz/x0kuv4tvZ31GUAdq2FUpVjSVGmdMDu8PvxUE5QYIhMdSn180JQueQh0hBQQHKy8tlGZ23b98+WUbeHmT4IM8P8hAhgwcZSepChhQqV4ZEwlOYCWX2dvisVVAOvzJwxuGpyJkJn7sE2vARCE/wr5jyx19/iefWLu5dBYNRjwH9+qKd6Bs8bju2pm3FD7O/QmVWOga3S8XFwwfirEG90L1NMkJEd5Ofk4VSkwUarR4u8X3Q3+L2euByO7BV9DHzxbWvv/YGabxwWHPhcWTC665sVBLS+uo8+93/oqq0QHzXHnhEG9MrfYgMAYorvcgtsMGl0qHC5MGQHi0wtG83RLfqDH3LNghLiECEthKVxSXYlu5Gy3Ch8EZ44XG64XCJ79jrQ8beXRhywY1HVWfm5IZyglA4DHmCkBEkKTURnc+IQWSkChpN7QUKyeGDhlZq1iazD5bKKjgsZXA7LOIZCUFkyx7iHM4ZUh/U923bth2vv/4mPvzw/1BUVCTHw/r6t5qUlJTgk08+xauvvo4FCxYgKjoKrVq2lP1LEOpn165dhxkz3sa7782UMk+7dm0RGrp/aWzCKnSEb2Z9i5dfeRW//faHlJNat25dS16qy6FkdBrjFy5chGnTXpBjvEX02R06dKhOkM34od9n+YoV+P77H5AQn4CoqKjAO/7nYt369XjxpVfEc/GR/O1SU1PlREBNFi1ajLk//oiVK1fV2mjMbW4y65FyqOfVZDJh9ndzkJeXj/bt2tVqXwTJK9QO6BrJya0CpcyR0BS2itNmlCFB9403p4vtLWzctClQypwICs0lmPjjo7juhwfw7dbf8f32ecitKgi8e2pAndmnn32G0rKyQImfFStXymds/l//yEEnCM08f//DXDHA+2etly5divR9GXK/OUGCWNduXZt0MKXB4plnp2Hm+x9g3CUX48orr8BXX3+N58QARO8xpw/eokwodiyHsjRXtEG/kYtCXMiYEYTaHf3ulC+EPD8ozwe9klcIlZGgSAYyehZDQkJkWyZFob6wGoKuTfeQDL9CvqjSVsq6NASnLUsofTvlvjHmXPn6+59/4IuvPkda2k4hqEajTUqKXAaXDCKZOZlYsWgh3KXFuGL0SNx8zTgMH9wfXTp0RLduHdGne0ekRodi3+Y12LxpC5Qag7iHBZaqSspLiti4GKTt2iWEr2/lvYL3dIs6UF0aQn113r76d2SkbZKrwZBy6hZNy+P27ztttDyuFYVlXqQmtkBsVCtk5ZuwZ/cumApzYKkohdvtQrj4+xxeM6xKJ1QetVCK1FD4vFAJOTBn1zpsXvS9vNeR1Jk5+TEX7wkkQM1BXItodOwWCZ2WjB61jSB+FCgt8SB9VxUKMsTz6PZ7gVUWbEfhrn9hq8yTx8yB/DlvPq659nppyJg48SZs2LABN940USq+B2PX7t244spr5Outt05En7598PDDUzF9xtvVK29R30pyzKTJ9yElNQV33nG7UObycN31N8rPBSkqKsbEW27Fn3/OwzVXX4UxY86V4/OjUx+Xsnh9HEpGp/uT0YWUynPOOVuO8XPn/ohJkyZXy1SM35D1zDPP4fbb78J7772P4uLiwDv+327O9z/gpptuQcuWLXD7f26Tv92EK67EqlWrA2f5WblqFZYtWx44YhrL4Z7XsLAw8Ru0xMsvv4LdNdoNQb/Tzz//gr/++htt27YNlDInktPGEEIdclZWFvr17RsoYU4EFpcN9/7+LP7dtwIaIQQrT9EZndTW/iR+mRn7lSFSmDZs2CiVqx07dkirbxBStMgFv3fvXoGS5gnNTrz4wjScN7bpZnl3796DFStWyuuOu/giub34wvNYvXq1fI85ffBuXwbjm9fJTR2YWaw2UghIACEjSNDwQSRSCIlGI8+jmZeUlBS0a9dOCiK05CwZReg9EsQPZjgL3kPVbRi8Mf4ZGqpLQ7BVrpOvSnUMjBF+L6ivZ32FrVs2ylnXnNw8JLdqBb3BCIvVgoULlmDF0hUY0qsbzh4xDG07dkJkrPhsiFEadaBUwekTSqFQDNesWY2iwgJY7Fa4HFboNFo5C9iyZZIQer+T96J70r2JYF0OR3113rzkB/F/LzwKcWvxPdvdLnh8HnhdXlRY3aiy+dArJRl9OqcgKak1osM6I0SdCEe5CkXpKcgrPRsVzhBRRxVUbhU84h8JfT6lP1GtSii+6/76Rt7rSOrMnPzk75gPa0UOIiL1SGwVdUgjSGGBG5l7y1CUV1BtBCG8bies5VkoTPsnUMLUpLCwCB988CGeeOIxPPzQgzjvvLF4++3p6Ny5s/RWDRo16vLLL7+hf7++eO3VlzFmzGjcdustmD79Dfz22+8yNxFRKOSYzz77HM8/Pw1333WnPO+1117B8OFn4rvZc6qvvWzZMun58d677+DCCy+QiuB7772DzZs3Y8uWrfKcuhxKRicPXPJImDXra1xzzVVyjH9/5nuorKzCkiVLAmc1b0jBnjR5itz/6MP3ZWhkTdLSduHNN6djxoy38MjDD8nn4vXXXxW/86349NPPqg1UNNbl5+XjiismYMp9k2tt/fr1k+cwh6Yhz+uwoUMwdOhQfPb5l7Xkjr170/E/8Xvcedcd4jeMD5QyJ5LTwhCSKTrXz7/4EpMm3SstocyJw+fzQqvW4P4hE/H5+FcRoj0188zEREejR48e2L59R6DEv2LFzp07cf9/p6CkpLTW7Mu+jEzpOpoiFIWaLFu+HBMn3oZLxl8mZ0LKyytk+Zo1a3HnnXfLmZWakFv/rbf+Bzt2+Gdr60Kz3UuWLK2+5tTHnpDhKDWh1TLmzPlBzhhNmHAV3nnnPTmTcCh+//0Pad2mTpquGbx2VlZ24Aw/JAj9+++C6vvTZ2qeQ4P1vZPuw8aN+2d86N70t9P5VKdffvn1AGGNDBrB+9Ln165bJ5UoomPHDvhBKH3du3eXx0RkVKQMdTjYLD9zilIUeJZi/cYIegbI6BGEPK/oeaJyvV4vX6mMZmAoDIY2Mn6QO3C0aMPkFULtklyD6Vkhg2V90D2Cz5uvk39ZV8WOlfL1cLis/raqNvqfT7rPgoX/inZoQ5WpCiqlCkktksTzqsHWLZuxaOFiIYw6kJ5bjI/n/IHnZ3yC1/5vFt764he8+ukveOu7P/Dzqh3YU1iCAqH0/PLr79ghhFyVUoHoiEi0SGqB7l26Ij19l7iX3xgbvHewLoejbp2dNjN2bVgo+xefTyHap0LsK8W+Ui6ba7Z7ZJuNizKgrVBwW7SIRExLPQzhHqgVFYgKzUWYvgga8f3HR5P2S0YQEi988AXcglUqBXav/wcO65HVmTn5Kdm3HG67CWEROkTFaOs1gpCHUXGRG9n7ylCcVyqeh/2GTj8+OC1lKElfEThmarJt+3ZphDj7rFHSwEhQP3fFhMulx2pxPWM9TeJQvxkdEy3HzSAtkpKk8bWiwh9aSAapceMuRreuXeUxQfciIwt5HwQVurz8fMTFxorP7r9WdFQUklslSy+EuhxKRqd+ZcHCRdKgUlMxpP1PP/0YZ4m/k6HfQYn//vc+PPXUE4iLiwuU7odkRwph6te3T6BEKHiiPx41agSyc3KqjV0Oh1PIjHmIFb8f03ga+rxSO7v5phul0XBpwPuGPvv1N9+gf//+GDxooCxjTjynvCGEHiyyYI8YMVxau5mmJ7MiD59t/AEuz3739IOhV+vwzvlPYdLAG6FT7x8kTzVohrnnGT2wadOm6tnioOHjzDOHybg+mt0gSIFat3adNJxQwsYgZDAgg8R111+Lm2++Cf/88y9ee/0NKUzQgFUkBIt1QuGvCXWYSiF41DWoEHQfclt96ulncdFFF+DBB+6Xwsddd92LfCGYEGT1f+zxJzH7u+9w/fXXSavzlq1bcc+9kw8wutTELJRJcpd88aWXMXDgACmwFBYU4F7xOZqBIqitzXj7HTz33PPy/v+dch/sDrt0kQ26zZIhLEcMukHlle45+b7/ytl7Op/q9PEn/8OXX34l/x6CjEXXXneDGJhj5N9EuUXovuTmSefQbxEZGSEHdYLKyBhEQiDN+jOnD4q0VfLV19lvjKg5k0IGBmqLVEZtjzyw9uzZg63i+U5LSxPPaaF8zsjYQTlC6JW8tui5MRgM8vOHMggG7+Xr4r83Sg7uZl4Tj8NvvNEY/W6u6zesh4L+CR2FjCBGowF6rQ5wu7Br53ZkZ2bDJ/rSfNH+d+zdhz1CQN2bmYO0fTnYtjcbu/LKUWbzwiWah0Y88tk5BVi7brNo2zaEi/4lXgjBycnJaNe2DXaK6xHBewfrcjjq1jl37ybRvn1Q+BTwilePUFa9PqVQSSnHigdOD/mKaJAp6qxUi+9I5UBlWR6qcnbBZcqEIdSMmIRytEvSIdaoEZ8Tm8oLj/geHOKzbq/4Pig+RqmQITJEY+vMnPyYCtPE/z0whGjlijB1IceP8jIPMvZUojC3GDYx7tSH22lBVRFdi6kLeaN27NhRGn9rEgxHLcg/MAyZxtCuXbvIiY5g0mkaR7du3SbfS05OkWU0npKnSE0Fj8Z9mgCi98j4THTv1k0q1qWl+0OHSREnA0mXLl0CJX4OJ6ObTGb5N3Xp3EnKMWQwobADmkyhfps8cBnI35u8aYJyUF1oAqw+1GqNlMcqKv2TcCSz2ez+ZeZ/EPLkm29NF4r9wlpjLXNwGvO8kpxPxpCPP/5EtJVSKWMvXrxEtLGJ8lzm5OCUN4RQnBu5hF1z9dWcOPEYkF6ejRvmPoCnF76N5xa/d1hjiFpIyZH62omZTlVoFmTP3r1CeSqVxxQWQ2WpqSno2fMMrFq9Rg7yZHzYLRSygQP6y9mTIGQRfn7aszhr1EjpOvfss09j7dq10oODQkhGifLFQqEP5j+g6ywXzzMZWuob/GmgW7Z0Ge644z8YP/4SDB06BJMm3YOHHn6g+nwytpBSOP2tN2R4Ct37zTdeQ3x8vDSOBI0P9UHeHA89eL+sK31umqi7QwyONANFUFzvTz/9LN1w6f7kLvvM009hzOjR+Pj/Pql3ICXhiP4u8qKh86lOb735enUIEd3zo48+xoPivuSaSX/TzTffKF1zv/rq6wOMN/QdvPbaG3jjjTfxX3HNVq3YEHI6odoV8MLoPES+UPsKQoYvEtpJgKC2Ra+U6JQMIOnp6dIwQs/bdvG80iu1MxI+yGOEPB3o2QkaNesjeC9FrN8IqShtmCHE6/IbV9TaRPmaLu5NrYwSPRpFuyQXZqH/o6qyDCVFBdIbJCEmHG2SItG9bRx6d2qFPl3boF+3NkiNj4RKtKMovQIxRh3CDWKIVqmF8miShhCVWoVQij9OboUWrVqhRPx9hFrrd5MO1uVw1K1zSd4+8R354BObx03eHxQe44NX9BcucewS5WqosD09E0Wl5XIlG7e9EkrRd3nMVbBWZcNpL0JplRDGxd+tEHXWKMW1oIDd7YPdKxQvCpMUW2leurxnY+vMnPzYTSXiGRW/vYYmQWqPNeQJUlnhwd5dZuRlZNfjCbIfj9sJh5mfi/oggy5NDFBfWJPQUH8+pJoedDWZcPll6NSpk5x0oASnU6bcL/ODPP7Yo7UMH3UJ5pMYN+4i2QcTw4YNxVVXXYGbJ96C56Y9j8efeBL3P/AQ7r3nLnGPjvKcIIeT0cvLy2Q/vkEokpddfiV27dqF3bt246qrr62Vv4Q5NG3atJETA2TsCkLyHiVW3bNnr/QCIcxCkSe566mnnsGy5SukR++UKQ/g1ttuP+RkGeOnMc8rtZdx48ZJveDTTz/H++9/iOuvu1YmVWVOHk5pQwgJuR/938e45ZaJh+zImSODjCA3//gwMipyhUDsxRebfmyQMeR0gbwyDHqDdPUk4WLrtm1SgSdhgyzz27Zuk7Mr+fn+2ee6nVvvXr2ky2qQiPAIqbx5PF7ZQQ4bOlRakWkWhaABiVwYBw8KzEjXgYQIcvGf9+c8ofiR4uKVCuHQIUNkOXXA69ZvwIjhw2XehCBUBzJAkEs+xTAeDJoxqulhQSEGnYVQE5xFp8SNvXr2lFbuINTBn3vuOdJIUjdEh6DZ8OLiEsz/629pECEos/wZZ5whvwP6DJWT8ScoZBFUFzoOeroQNKhTbOWixYvx2aefSGMNc5oSeBToGQ9CzzE95xTy0r59e/GMdJUhMFROzz55f2RnZ0sPETKE0D49X+QdQu+RwfFQhsDgvRSlBz7Hh8Ln9T/XCpXfGClXsBG3obZB9Y2Pj4NKqYS5qgpqlRJqpQLheh3atkhAj7apaNcyAT07tsGA7u3QJi4EEUoXIoWOE65WIUS0eYfLDpfbiwoT5ThxQy/6pKjIaOh0BlQF8hQpVP4VHYJ1ORx162yuKpeeIArx/XhF/0T3o36KvhOP6PvJQ0Sp9or+w4zyiirRJxajXHxGoXNBobbDXJEv+qQ87MmzwO1Ti79X9E0qtbiOUI69SukVEvh2YRWfk3uNrDNzCkB9uHiG6F9tgolRxXiZkVErJ8hBqTEeMEcPrWCxatWq6rxtoWGhUvHdtHlLLeWtJuTpSQrzrbfeUku+oVVfyHuV+ggimLCaJotqGpsbIqPTNcjrlMJzv/nmS0x77lm89dYb+HHu9zJ/yd9/c66YhtCjR3eZ94NCi3/86Wds2rRZent89eXX6Natq1wRhqCJvF9+notlSxfh9ddekRNlf/z+i5zIOtxkGdP455WMlpRv54svv5IyLRlGasq6zInnlDWEUMf91VffyMR4lJSGaVpqGkGCNDdjCIW5dOveTearKBcDPylWwdhZSqaqEAoNGUEoKzR5XCQl7Tc+ECGhB3p11ISW5qUQm81iwCIoIShdv76wGIIMMJMn3yuuG4oxY89Hn74DZMgLubfS4EUDWYVQwmTd6nS0pDy6PW5x3n7Fsi5Gg+GgbpdEUXGRzHVQ16WPcjAEDTx1obwejz7yEKZPf1t8lz1x3vkXydAYmt0maHaL8qUMHjwMbdp2qN7omIxENWe3SJldvnwFbrjheukazDQv6Jkm4wK1A3pOyTCYlJQkE5Jdc801uOiii2R4Gp1DHiLkvkpGEfIQIWMmPT80k3M8IFFSqVRBp9VBLepLfYVPNEny3AoL0SJWr0Wn5Nbo1LotUhOT0KZFAlrFRSMuVIuWEWrEGVSI0CmlIcRps8qlcy1WB+wOF4zGEOiF4kEuzxRG1xRQ03VT8yXDh8fvBULt2SeOvV7KF+KDSq+GQWcU9Q8T36MXeQU5yMzZjZKyIrHZkJ5hhsVBKrAKKqVH/P1q2N1KOMTnHR7KN+KTxpCD90DMqY4+LF48Gy64RL9NuWb8HDwx6sFQqbXQhx6YB4HxI9tmHYWVjJZkxKwPmmx49dXXxLg6CHPnzpFJVkmB+/LLz4QyN0smf6wLGUHuuuseXCmU60vHX1ItU5DsTTPbFCbz6y8/4onHH5PbnO9my8kiCt8NntcYGf3qq69Cqjg3CHmWnHXWWVixcpW8FnNoaNwjhfu+yZMwY8Y7chUh8oacMeNNGTYVDJ2i8ZM8kuk1CI2j115ztVxdhsZJ5vA05nkluYQm+yivCBlGmJOLU9YQQjHiP8ydK5U/is8iyyclhdyxc6dUrN6b+X51bgOmcVTYq/D99j/Rt0V3XNZ1TK1tfJdzYXXZsCx7feDs0xcaWCjcZefONGzftl0O/ME1vymZKq1MQWEjZIigUJnGxrLS+dQ5khBCuQ0o0dnIkSOkl8fBiImJwYzpb4r6bMasb75CUmIibrr5Fmk0IOWQ3JIt5gPjrskIcrSQ4mWz2Q/o5MlARi719UHC0wUXnC9nH9atXYVJ994t41Kff+FF2XYpAVivXj2xds1K7EvffcBG+UqCkDJGXiod2a3w9Ccg5Nc1zNHzFBTI6ZWEOWpH1C6Cq8XQ1qpVK+ndRAJeMGkqnV/Tw6Qu1fdq5ISYQun3+vJ5/Il7ScikHCGkAJLC4nS4xDlKhISGIUTUIyYmCpEGHVq3SESbVklol5KEUJ0W1qoqCA0SUQY1Yg0K8aqAWiXanai39CQRbZuWoyUX+JBQo/i7IpEQ759l9Xn8bT5Yl8NRt8660Ei4RF09ZAgRG+2T8cUpuo0ymwo2Mmj49NAawpCYGIs2qXGIjdRB6bXDZrWhvMIj+h0SslXwKXzS8OMVrzaPUlxPKXOEeIRi7BFfrj4sSt6zsXVmTn7CEzuLdibGCYtTjBXSrnaYxKj1o9aFITyhdq4Jxg+NfxkZGdUelkEKCgpFW/NID7S6kDdIRmYWRp97rpRrgnRo314qbxT+UhPyFHnyyafl2D1x4s21PkNJ42lyiN6r6fFK971k3MUyXxp5hTRURqeknSTH1E2iSv01lR9PA/apDsmOl19+Kf79Zz42blgrDVQ0ZtBvVt9zUROazKOJKTY6HZojeV7FW9IrlDk5OWV/GZoVIzewFi2SAiVMU0E5Ph4cehveGDO13u210Y9gZOvmkfGY3EEp+dicOd+jR/fu1QnKSAGjMBlyhSMh4kiXbaYwmLRdu7Bo0WI5CPXpsz/jd11ogCJXfzqP7t+5cydMmXKfnOWhHCXknkpJzGhZ2ZpCEs0cBfObkPfGkUJ/74b1G6pzpgRJ25mG8Ah/CEBdaACmkB8aJEghpSXdpk59RM7S02xFQkKiDFnIyNy/TDFhFQIzudXWnPUiS/rbM96ShhPm9MQXWLrWV+JPoFlTAD8UZMQgoZzycVDoFXlzUVslIwkJh7SRcHKoHCHBe/lK/EmQg/PZh0Op8WffdzsL5Wub1m1kbg0ygthsTvGcO6BWaREaEinaSKKoYxxyystRLldP8UJr0MMulIXCgiIZduITd1aqlOIdBSodTqjUGhgN/lk8MgSS9xWFnEWEhqBFon/8czv9CRKDdTkcdescm9RaLplLRhDyDLELOc7sUiGnSo1txWqUu0NQXiXapVuFKtG3RIQZ0aNLKvr0SkZsfBiKTV5UOT0yF4o0ONG1RdN1eRRQq8XfolDCTeXi/diW/tC6xtaZOfmJazcMGkMEqiodKCqwo7zMfdjEqAcgnhNdSLS4Fnv61gclI6W8BDvT9ieTpXFy8ZIlcpnuusuqEjTh4PV6ZKLMmtDYW1lRISc5gpAR5IEHH5IrW5CHQd0+mHIfqYVybRFySE2oDpSziCZj/P1xw2T0sLBQOaYvX7ailhJOCiXJVm3btpGyDXNoaDKMPG5phZ4g9JtQjhDyXAiGPf+7YCEuuPBiFBT6+36Czluzdq08jyb8mIPDz+vpxylrCKF4w7vuvKPWGtj33HMXughlr3//fvI9zhvCHC0U7hIVHYU//pyHvv36SiE/CIWxbNu2XSZhpHCUI4HCYDp17IgnnnxaXo9WTjkYlK36oYcfxQcffCTvSbPb27Ztw5YtW6pnhs86e5Sc+fns8y/kOdRR/zlvPmbNmi1na2q6QzYWWs0lIjICM2e+L5Nt0f0p+SsliBp/yTiZD6EuZOAhjxX6nmiwpcGCEromCmGNBgtKdkozS7QSDRlr6Jp0zlvTZ2DKfx+oldOEVu0ZN+5S/PjjT4ES5nTDW2fp2kN5R9UHGUNoaUEyBJIRjnL4kLcVGUDIgEjGt4MRvJdip//eniGXydfDodL5Q9lcVn+SOmondD/yzKJVFQoKiuQStFqtEa1bt5PGi6zyKuzJzoVJ1JNWY/Ep1TKERqs3QKlRw6PSwuxRIq/SIsrVCI8wIjExQa4SRT2Qw+6ASfw9LVvWvnewLoejbp3bdOoNj8sHt1sBm1MFk8uIInsIdhapsbNQCYdbJ5QbDUoqXFiwcif27NsHj70KSp8bJSYPVqbZsTXfhVKzC3bxtzrclGvEbxChxWJoVlL8YfCIvzOlk99o3Ng6Myc/iZ1HwxidAlOlC/t2lWDPLtNhE6PWRaXWIyQmFQmdzw6UMDWhkNoLzj8fL734igxfoX7tTyGffC7GfHLXpz6QvDCefvpZPProY7IvIiW4X79+cpxdt3697B8p9xfJEv/8u6A63xaVUyJV6gspJIb6S8p5RFtwzI+ICJdyxsuvvCbHcro/vTf7uzkyISQt60tje0NldDK00JK9c8W4TqvJ0bUorxPJALSs/tgxY2TdmENDudtInnz99Terc6/Rc/H22+/i0kvHV49vtBoiGdTfeeddeV7wtyMZccIVlx8Q+szUhp/X0w/21WGYQ0AzyhT20r59O+lGWhMKk+nSpbNM/EmhMkcCDU4UDkOMPW/MAbMvNSGPiEceeQirVq9Gl6490K59J9x9zyTcc/fdMos7QRb96dPfwIIFC+U57Tt0xisvv4oXnn8OAwb0l+ccKXT/V195GcVCgOrdp5+8/113T8Idt98uB4b6oESql102HpddfgXatuuIM3r2EYNvHh5/fKoU2MiwdMvEm3HRRRfi5om3ymvSObQCyIsvTJP3DGK1CsVSLo/Kmc1PV4JL1yrS/MYIej4aM7tCM5F0PnmDBHPXkPGPBHia6TqYRxR9JmjkVAbvTe4NDUBj7Cxf3dat8pXuPXzYcDnTml+Qh+zcfNitTuj0WkTHxos+oyvCY+KxaU8mckoqkFtYhL8Xr8Ivf69EeiaFc6rgVapRbveiyqGE0aBFi6SWiIyOgVqtEm2gFFk52TCGhlXP3gXvHazL4ahbZ70xFJ36jIDN5UOZQ4dihwF2F+Ch/kh8p+ShQvd2ex34d81ezF+8EQWiH7B7NMguVmBPgQOZpV5sK/Qis8KLCpsSZvF5r/iczBmiUYsvVIPOfc6B3uD3qmtsnZmTn9CYVCR2GAVDVCoqS4tRkJHVsMSoNYhs2UMaVHQhnCOkPkhGuPvuO8UY3BsXXzwePc7ojeemvYDHH5sqQ20J8n4rKy8X/U+B3Cc547Gpj8rx+JZb/iPzdfUfMBj/LliA92e+U+1luWXLVhm6SgaOM4ePlHnIghutEEOG5eCYTbkoaAKH7k/ywPszP8Bzzz2DsWMbrwh2794NM4Tc8o1Qxulag4ecKetCskzN5OzMwaFx59lnnpb7I0edI3/jV1557QDZj8JIX3n5RZnEftiZI6t/OzpvyODBgbOYQ8HP6+mFwkfTtPVQWFyGhLgjU+4Yhmk45KpI64y/+87btRT/gxH0rKCcGeSmV5/xpOY54eFhUkFsSmimyOVyH/T+dSEXXJo5IoHsYLlUyHuFvF40Qmk62DnM6Y1v+zIoXpwg9z2PzIaq2zA5o0mrFDQUOn/NmjWBZ9QlE+6SoYNmyCgOmmLi6xIMOfEUZkL1gF8Y9L6+Asr4w3t6OW1ZKEm7U+5HtpkGY0RvzP3xR1x3w3VQKNUYOuxMTJl0Dzp3ag27pQI7t23Bxi0bkbZhNUb27opYnRp/LVyHVZv2IMZoQLuW0TBrXNieW4m0IhPapKZg9Jgx6NOnL1q1SJR/X2FRCbp16YkB/QfCWrkBFfsel/eP7TQTWsP+BG4Ho746r/jnR7zx1F0otIXCqjBC6bWJtq0U7ZIUKT1UGmrHPtisDsSFKnHrpZ2RnBCOWb+lYcXWTOjVoo/R6AF1KHSwoVdrcez1iM944fSooFJ4MfGB6eg97KIjqjNzamAty0LWhu+QtX42zCX7AqUNIzyhE1L7XoXkXpdCH8Fhz4eD+jeLxdqoMZ6MwlVVpiYZZ4NyBkGKeE2P2SMl6LXHMsCRQ2OEw+E87HNB59Ez1FS/XXOEn9cTS1PYKppWO2IYplGQcWDu3B/lLEpDjCAEDVgUhkLnH8wIUfOcpjaCENTpH+r+daFZecpxcKjBgq5F1+QBpfmi6Dq0Ok+IYu4b8jXo1dEQSDCnLehtREI/GUHo2aKtvrZA1652B/7hdflCdWiIEYQgJV5t8Hs1WEv/kq/jL7kEvXr1htNhR2ZWBtat34T8wmL4FErEJ7ZAty7dkJTSBruzckFRxhee2Q+3jR2K8/t0QduEGFSZ7CiotCPMEIL27Tujc6cuiI2JRXhYBLRaHZLENcgIQgTvqRJ1aKhBob46Dz77EkSn9ITVowblPqbvjoxIZEyl71Tt1cKg9ok66WByePHnqly8P3sTFqzfDTetEqPSiM+p4FbZYRKfXZ9hg9mtgE9857ReTGrHM6QRhDiSOjOnBoaoVkjqMgYpfa5EVKveUKrJo+sQSpZopyqNATGtB0gjSGLnc6CPqL0CG1M/1Hc1doync5tqnA3KGbQ1lSJN9WIZ4Oig8awhzwWd15S/XXOEn9dTHzaEMMwJgLwfnn7mOelWSsrG+eeNDbzDMM0bz61+YwSFqHiK/El0acaqIZAbOG2U2Z0MbyTo+WdAq2R5fYa74LXpXqrlc+S+95Ip8rWhGKJHy1dn1SI4LHvk/jNPPS3u7UF5WSl27dmLsvJKmK02GdLSslUqhp19PkqcKqzclo5ym0vG3ltcFqzPzUJmhR3lFpcUUrt174GYmDjxN8VDR+E9Qujq0b2XvAfdi+5JGAN1aCj11fnmex6FQiiuKiEZkPGD6k8ysjQqwQOHT+yrRZk4YcveQuzMLUZkRCQiQmLg1Shlucatgk78c0IFs8MLu9sryy++9gF5j6OpM3PyQ8k0I5K6IqXPBKT2uxoJHUeJ4y4whCdCow+ThhHaaN8Q0QKRSd2Q2PkstO5/rfQECUugpdFZMWMYhmGOPaqnBYH9WliEwBYawklzGOZYQIpF3z69cft//iNzaLBFmWH8kCeGb/G3UNiqoFg/D4p+Y6EOj5ZthpIAHopgGA3lziADY/B8Mob4PY4i5dK6QcgIQt4jhO/NiVCW5sAb0wqqO2bIsoaiC2kPa/lS+DyVcDtLEBI9Cm3btkV8YiJ279ot7q+EUqlAeGgoNEol9GJs3bxlBxYuXo7te/fB5fVBodMh12LD1twSZJSapXdF565dMXLkKMTHxiE8PBRajRbR0QlIbuX3oijPmg6vMw9KXQpiUifLsoZSX51bJadKRXbDpjXiC/HA7RLfn0ILo1YFn08JhSgTf4kMlyHTiE6nh1on+i4FJUcVHxGfpeWH3V4XFOJv1qt88u+ecP1kDDzLH/J0NHVmThFEW6XVYyjfR3Tr/nKfTBte8VzAJ9qi1gBjRAtEJ/dBq57j0G7YbeJZGCDOo4TbbARhGIZhDk9T2CrYEMIwJwBS6shlnxQ2dktkmNp4W3UGdq6UhgmPPhTKrkNlfhnyUqCY5oNBxg/KBUKGRXolLxBqZ2QIoWO6Rps2beS5dE61N8icV6BaFvAGmfRRg8NiaqJQRcBRuVQq+V6Ith3aVS6rXVhuxr6MPejcqZM4y4cQcU9KGFplMiMrJwfZuYXYV1CMPXkFyCoqR3GlHZUWlzTQnH32aHQSnyMvEDoOCQlD61R/MrbKgjmwl/0u98Nb3gmtoWnq3FfUmTxodmzdJL8/m13URU/JZFVi80pvNo/XA5VCCY1GD6UopzKfV0kXlEYSn1B2xbcKncqDCy+fiMtufFjerynqzJw6kFFNa4hAVKteaNnjIrQddBM6DL9Lbm0G3YgW3S9AZMszoNaFynMZhmEYpqGwIYRhGIY57SBDhMdUBmXaKn+IzJDLoAyNlEaNg3mGkJEkGBpDq8PQObRP+JMKWuTn27dvLw0g1UaQrUuh+vh+ue++eDLUo66R+42FlHqnvQQe+164zBuh1KbIshHDBktvFLfHI3NvFBQWIdQYgghx/5hY8nRRoqS0HEWlFTBZHbC6PBD/ISwkFOecOxopKanQqlVITWmN5GS/4cBSthSm3Lflvi5yNCKSrpD7jeVgdR4ymFahUmDdmhWw2B0w6ozyb/DBI75TF9QqNdRqjfjS/R4g9N37yFdEqYTTYROvlIsAuPX2+3HtrX4jSFPVmWEYhmEYhg0hDMMwzGmJstuw6hAZ5V8fwxvdEorW3aVXB21k5CBPjyC0T5tarZaGEHolY0hhYaH0FCElnYwgHTt2rA6H8WxdAtXLV8p9SpCquv8zuX+kGCMHwVa5Hl53ifS0UGpTQclAz+jRHS1btoBe3DczOxsqtVbUMQKxsXEIDaPQEgVMJisqq8xwu3xQiH+UM+Tsc0ajY4eOYuuAhAR/AklL2RJUZr0k9ynZaFz7J+X+kXKwOtOSmZTDaPfu3SgrKYVaQ+Exbun9QZP3ZJDyUc4QsoQIPD4lvD6n9AihJbAff+o1jLnQb+xo6jozDMMwDNO8YUMIwzAMc/rSdwyw9k9/vpAN8+COToKydQ9p5CBjBr2SN4J/6WWTfKUEo1ROKyqQsk4GE0qc2qdPHxn2Qe8RMhzmY38CT0/HQVC88Jc8/2jRhfeDvWqdzL0hw04CISfhYWFIadkSMTGxKKs0iTHWhbDQCOgNBukVYjJbUFZWDrs02qgw4YoJmHjjzejauRNCjP4cQhRaYsp9R+6rKMdG26egVPmNOkfDweqcnNIaV19zPVJSU2G3WpGbm0HuH9KoRHX0f1+0KeHxutGn/yDcdc9DmPLAk2gZyGNyrOrMMAzDMEzzpSlsFQohRPqnc+rQFGvzMgzDMMzR4CvOAp6/HIrSHHns6TQI+M+bUNXI40HDGIW+UAhMMHzG77Hgk94jNVeL8W5fBt8Pr0OVtlIe0/WUj33fJEaQIG5nKUr3vQCPbac81oT2Q3jS9TJBaRCXyy2NH1ZR76KiQmTnZIu/wYzExCT079evOnSHoJVWqvK/gMu8Vh7T0rfRbaZCrY2Rx01BQ+pM9du+ZRNycjJhqqqSNpDw8EiZZLVLtx4ICQkNnHl86swwDMMwTPOkKWwVbAhhGIZhTnq80y6V+UKCeIZcDgy/AqqEVCA2OVB6cLyLZgFLZte+xtDLG71CTGMozZgOR8X8wBGgDR8BY8y5MEb0DpQcGmvlBlhL/6pebpag/BoxrY/daiunYp0ZhmEYhmlesCGEYRiGaTZQTg/F/90vV5OpibfTIPg6D4IiNgW+OP/yuIribHjhg2LHSijS/CvQBKFQGIyfAlX3MwMlxw7Kj2Eq/BpeR1agBFCqY6A2dofG2BZqbSIUKn/oi89jhttZCJc1HW7rVnjdpbKcoLCS0IRrEBLNdWYYhmEYpnnDhhCGYRim2eFZ+A2w9DsoSnIOMIocCveQy6HoMhiqkVcHSo4fpuJ5sJbNrw49aSgUUmKIHo2wuDGBkuPHqVhnhmEYhmFOf9gQwjAMwzRb5Eox25ZBsfQ7oCSnOo9I0DgiPT9iW8HXZRCUXYfKZXlPNE5bFmyV6+Cy7oTHkQ2vqwQ+r1W+p1AaodTEQqVLhsbYGYaIvnIFlxPNqVhnhmEYhmFOX9gQwjAMwzAMwzAMwzBMs6EpbBXKwCvDMAzDMAzDMAzDMMxpDxtCGIZhGIZhGIZhGIZpNrAhhGEYhmEYhmEYhmGYZgMbQhiGYRiGYRiGYf6/vfMAjKroovDZkt5II6GG3hFBehFQqg1RREARaSKgFBuK2FEEpNqxgqgICGJH/QWk9957CCWk97blf2d2N2xCEhKIkpD74XNfZt/Om1dn5sy9dwRBKDOIECIIgiAIgiAIgiAIQplBhBBBEARBEARBEARBEMoMIoQIgiAIgiAIgiAIglBmECFEEARBEARBEARBEIQyg86qYV/PQWRUrH1NEARBEARBEARBEAShZBASHGBfuzoKFEKuNXNBEARBEARBEARBEITioji0CnGNEQRBEARBEARBEAShzCBCiCAIgiAIgiAIgiAIZQYRQgRBEARBEARBEARBKDOIECIIgiAIgiAIgiAIQplBhBBBEARBEARBEARBEMoMIoQIgiAIgiAIgiAIglBmECFEEARBEARBEARBEIQygwghgiAIgiAIgiAIgiCUGXRWDft6DiKjYhESHGD/SxAEQRBKFhaLBSazGWazRa1btOqMVZrvyNqwBFaGVVt0Om279n2gb9AO+vJh9l8KgiAIgiAIpZXi0CpECBEEQRBKFVkmEzKzTDCbzfaUnFAIyQtz3dZA+wdgaNQeCKpiTxUEQRAEQRBKEyKECIIgCGUGk8mEjMwsmC0Wewqg1+lgMBi0Ra/WaQKiO7QRuqgIWKPDtfVNQHQE9DER9l8A5jqtgd7jYWjUwZ4iCIIgCIIglBZECBEEQRDKBOkZGcoKxIGL0QgXFyOMBoM9pWDM+9cB/yyG7vCmbFHEdM9YGDsPEOsQQRAEQRCEUoQIIYIgCMINDauo1PSMbDcYo9EAN1dXGPSXYn1zm8zMTLUNY4UQvfY9LUVctW11tBSxYzmwHtZlM2A4vEn9TXcZ/YjZ0AVXVX8LgiAIgiAIJRsRQgRBEIQbFiWCpKVnu8K4u7nC1cVFrZO0tDS1ZGRk2FPyxs3NDR4eHmpxYF46DYYVs23rdVpD/7iIIYIgCIIgCKWB4tAqZPpcQRAEoUSiLEHsIoinu1u2CELhIzo6GvHx8VcUQQi34bb8jWN7Q5/nYOk1Xs0uYziyCZaPxwHRZ9R3giAIgiAIwo2NWIQIgiAIJQ7nmCCe7u7KJYYkJycjKSlJrV8tPj4+8Pb2VuuWpdOhXzFLrauYIQ9MUOuCIFwbFnMWkqOO4fzBPxB9cgOSIg8jPSlaBTR29ykP39B6CK7ZHqH1usE7MAw6vdH+S0EQBEEoGHGNEQRBEG44ODsMrUGIsztMYmIiUlJS1LozrMZo6ZGVlaXWHYvRaFTuMIwX4hwnhHh5ecHX11et53CTmb4BhtBqal0QhKJjtZiREnsa5/f/hovH/kFqfARM6RQvzTBQ0NRanSZTlvZMusDFww+eAVURWrszQut3g4d/ZS1djJUFQRCEghEhRBAEQbjhSE5NU0FPaQVCaxCVlo8lCKswCiDp6ekqYCpFFH7afm9UggetP7ieWwxxtgyxjm8JXXQErIFaR2zS9zKTjCBcBRRB4s/tUSLIhYN/Ij0pAn7l3OHj5wYPT1e4uLrCqv3LyshAWkomEhMykJSQBQ//MFRo0AOh9bujXIUGWutUxBBBEAQhf4pDq5CaRhAEQSgxZJlM2TO/cHYYQmuP/EQQCh+xsbHw9PREpUqVUKFCBbi7u6sAqampqThw4ID6rWPWGWeY7ogZYnlhifrUxUTAvG+dWhcEoWg4LEEidi9DVvJphFbyQ/W6oajdMAS165dDtZoeqF7TU1sP0NJCUaVGCDy83JFwfh9Ob1+MCwf/QGr8WXtugiAIgvDvYXhVw76eg5TUNHh7XYqwXxLhbAHfLV6C//39NzZt2py97Ny5C1WrVoW3t5d9S6GocMRm+7l9eG31u3hr7YdYvP9XXEiOQv3gWvBwsY3QOkgzpWP5wT/x/F/T8e7mBdh6dg8q+ARrS3notH8Ocm/3x7F1cDW4oKZ/FRj0Nv9/Bwejj2Pmhs/x69HVahS3ZsB/P5vDypV/YOUff6BqlSrZo8a5oZn+woXf4PjxE6hdu5bqeD05Zhx2aPdgu7Zt1PSdV+LEiZNYvnwF6tSprab6/DdxlNfPzw/+/v721JzwuHft2q2OJ3f5Hb83m02oWLGiPVUQio/0jEwlcLgYjdkuMQx06hBHHHAbWolcuHABcXFxKo3bnTx5UqXxvUGXGFqL8Lnks0WxJDcUUpiu9yoHc+Rp6M8cgDU1EfpbH7RvIQhCYWBMkPDt3+Hc3p9hTruACmGhqHdTIMqVM8DFJafxMY2zWL3wsU5KtiIlIREZKbEwZaTA6OqFcpUaa9vIWF1e8N23f/8BzJgxC/PmfYqLFy+iRo3qeb7fHDj/5v0PPsSxY8dRrVo11RZwhtZ0/6xdi2lTp2P+/K/UO5VtAQrLzjDw9Oeff4np02dg1apV8A/wR+VKlS6zugsPP4N3330fM2fNxpo1/+S7nQOWc9XqNfhhxQqElA/Jt50i5E1ExFl88cV8dZ3XrluH8uW1tniFCjnOd2GvsZA/PIertft08uS3VD80RWtj1K5dW3vPuagBlsVLluLcufOoVbPmZfc62ytfffW1yqNKlcr2VOFqKA6tolTXMjSF/v77ZepmE4oPiiDvb/kafRePwe/H1uJc0kUcjj6J97YsRJcFg7Dz/AH7lkBiRjIGLXsOz/7xNvZEHlbb8jcPaL+l2MG8HNsNXTExx3abz+7GmN/ewKAfJqjvSUpmKl746x3cuXAYvtn7E74/sBIHo46r7/5rdu3ejXfemYk///qfPeVyDh0+rCr4dVqFww4Vze9r16qF6tXCVCesMERFReGnn39WL8V/G+6D++I+84PH7Tie3Dh+f+LkKXvKtXH69GklHPFTECwXT0N3cAP0MWe1BoUtcCIFb4oZDthQ5n3IeCG05mDjjZ+0CmGawyWGnQK6xbBhwo4CRZO8YN7ch+LWvurDcHiTKosgCIWHgVEZE4TuMMEVA1CnYTm4uVL0yMsDW4eYaDNOHEnEhVPhMNvrm4QLBxB55G+kJZxTfwuX8/vKPzDgoYFKVBgy5FHs3LkTgx4dgjNnIuxb5ITvzKVaW/nRwUMREhqCJ0aPUu+9++5/AOs3bLBvBWU1R5Hk9dcmo0OHDhg0aCDWrV+Px0aM1N6hl9oMR44eRd8HB6jPYcOGoNktzTBhwkTMmftuDss75t3ngQfVu3fMmCfRqHEjPPPMc/h+2XJVprw4quX58suvYu7c9wpspwiXw+vx6OAhiDh7FiNGDFfi2JNPjlXX3nG+C3uNhfxxnEOKIF263I4HH+yL5ct/0O7xsYiPT1Aut7ROnTp1mrqfneF1+PHHn/Dnn39p16eGPVW4npRqISQmJlbdVCMeG47x48ZmL6NGPo6QkPL2rYSicjTmFL7c9T3MVgv6NOiBtUO+xWe9pqCiT3nEpMbho23fwmQxKZHj3c1fKUGDlh0TOzyOlQO/QPeaHWDRfsvvVp/crPJccegvbDyzE54u7pjS5RlsHLYY41o/qn7H9D+O20zRX/x7lhJA9HoDDCVkNOj331eql1tu+DL8/beVOYI3MjDjs88+jUceGVgoa5CyTlaWSWu8nVGfgmA5sB6esx5Wi9H+/GSLFBp85iiCOIQPEhoaqsQObseRF1oD1qxZUzVEypUrp0QRfkerkPzERsc+DA3bq+l0CcsiCELh4ewwDIzKmCChlf0LFEEiL5hw+ngsLp67kC2CEIspE6lx4Yg8nP8ARFkmMvIiPv54Hl566UVMeO5Z9OzZA+++Owf16tXDggVfqXdkbhISErH4uyV45eVJeGr8ONV5e/XVl/Hoo49gyeKl2e+/Q4cO49dff1P5DRjQD3fddSfef2+ushqhdayDn376BS2a34J3pk9F9+7dMHzYUMyZMxO//PIrTtoHSShKf/TRPDz99HhMmfImbuvcCaNHjcTEF57HokXfZVvxOcNyfPLp59qx1FVWDELh4XX/5ptFuPXWDnhbO9+8xuwPvfnmZHz99TfZIkdhr7GQP+vWrVfeB4sWfaPOYa977sZHH36gnrO1a9eqbdq3a4t27dph/oKFOdodtB7/4sv5GDlK+qklhVIthMTHx6lRa2+fvN0WhKvjeGw4olJiUd4rEE+0GoiqfhXRpUZb9GnQU30fnRqHdFMGzidF4Zejq1TaffW747Hm/VAvqAYm3z4eNfyrINOcheVaw4iCCcUSiiNtqzRD34Y9UdEnBMOa9UXD8rVV+tnESJUP1/s3vhu/PvQJQryDVdr15PbbOiM5KRm7d++2p1yCqvuWLVtxzz132VNssQyoErOicebo0WOY+OJLuLf3/coCYtv27ZeNiMTGxinrEm4zZMhwNZrivA1fpj///Iv6jttMmPAC9u3bf1k+hdlXcXKlctHNhuU4cuSIGunhyBUtQHiOnnhyrJZ+VH1yGwpOXFS5t23DsmXL8cAD/dRoxd59+5QVGM1xmcb9cRvnY6O57nvvfaC+58J1pjngPnl9WBk5zhE/ab4rlAAu2q9DkE2M4LV1xPAgFB15PZnOOCD8ZBpHYGiBxYXiR1hYGAICApRVCN3aODsMRyVpGZIX3IfjPrLWba0+dQc3qU9BEAoHp8jl7DAMjOof6JqnCEJXmKiLJpw5GYuoczHISL0kdNqwIlNrf0Sf2Gj/W3Bm/4EDapCFbROHyT3fc30f6IONmzYhyqm+c0BT/fiEeJQvf6njxd/WrVMHZ8+e095/to4a35/9+/VD9eqXZs3iu5WWBefO2Sx0aEnCd3BAYEAOV96KFSoo6zy2ywnfu+/OnYP7et+bXU5STcs7JSVVtXdys2rVauXWOHTI4EJb1Ao22BeqW6c27ujZI8cgHF27iSPGVmGusZA/FJzoukUByVnI4PqXX36G27TnkvDZGPzoIKxfvx7r1tusrpRY9e23aNGiBdq0bqXShOtPqX7TJGodVL54w0+H49PPPlemSuxsOXeMBO3hs1qweP9v2HfxiD2lYHrW7ojT49dg62PLUL2cvUOi/UvOtFk+eLi4wag34nT8WcSkxkOv0+P2Gm2y44FQQGkSWl+tH4sLR4LWMHrvjldUnrQs4W9JpiULGSZbBezrZhOzXun4BKZ0eVr720f9fb2pVbsWunbrojrQuUeT//lnLSpWrIAmNzWxp7CRZ1GNhGQnKxEKGg89/AiCggLx7DNPo1nTpspckaZ0Dqgkz5gxE/7l/NWITc2aNTB27FNKRCB8gfL+fnvqdNx2e2eVD01cHx85Wvn9OshvX86mkcVJYcrFTubWrVvx4osvq+8ee2yY6pg2btxYmfVyRJ+fgx55WGvQeWjltCAiIkJ7pr9A+JkzWvlHIzBQO55nn8err76u8mRaxUoVMEY7R4cP2+5rjnhQUNmi7YvmulTcKZ68OOnl7EYAr8umzZsx5e2paNWqpTLXjdQaXjxHHGkTri+6wzYLMms9mxjh/MxRyOCIIdPCw8OVmHbs2DHs067x4cOHtesXqaxEKHawMc1PXnc2/Gipxd87i2K5cezLWt+2b0TnbWYuCELeJEUe1v5vhoeXKzzcL69vaPgRF2vGqWMJiDwbhTSnetIZk9bWSLzIvITcHDx4EHXq1FGdV2ccMbsunL+gPp0JDAxQsQpYJztiLfF9t37DRtx8cxMtL1v7q379eqoupkuhA75DGcesevXq6m9a3zVoUF8NJiQk2Cxl2bbg4Ae/q1LFFs/NJkr7qTQH3PfWLduU6zDbTs6cP39exbZ4/PHHEBx8/QfBShvsC/Xv3w/Nmze3p9hgG8rF6IKAAFuslcJcYyF/krR+J5/B+vXqqnt2wVcLVRuYbXW2M5zPK9vxFEM+0/qnMTExqu3JfsNwrX3KbYWSQakWQtio3bFjJ17ROkcRZyKwfv0G3Nu7jwrMxA6aYBNB5m6ajwl/TsPwH19U8Tmuhi1n9yjrDhe9UVl/uBvdEJ+eqCxDvFw9EOyVc/oih4ASl8ZtcgoIhOVasGs5DkWfQBW/CritehuVHujpny2olAQ4ktHl9tuxe89eVVE4oNXC77+vxB139CzQIonbffzxJxitdcppptiuXVsMHjwIr736CjZv3pIdt4Cdtn79HlTf0bSR7jUc8fl71Wr1Pe9nNlg+//wTPPzQAJUP/XwZkHXr1m1qG+7rk08+U7913ldu08jCcDEqChs3bVbPlPOySSszRRsHhSkXSU5OUeIFTWPbtW2rAqAxSBSFGl9fH/XJCtx5hKlRo4YYO+ZJ2/l45imtgvFEZe03jnP0wvMT1DaslAhjSrAhQDNPmuvSFHfixOdVw9DZ4oPn6TntHNGckdtMnvw6MrRGIUfahOuL4YjdCqNeW/Xh/B7ns8hGNRsQvE/4yVEwCiAnTpxQwggDpXKWGH6ePXtWNT5oMcIGOK2JHCbgeeHYl84+bS5njxEEofCkJ0XDYDRqzynf4zmFEPa/E+LNOH4kGedOncnDEuQSZq3NkJGcv2hZlmGbIbfAQDg5ANOcLegc0GJk4sQXlEn/8OEjVCDNRwYNVsIxhYf83HgpcDAeCYNpdrz1Vnsq8ECf+1G3bl016DJ12nSMH/+0ig8y6cUX8jT3p+XmrNlz1L5XrV6ttVGeUWVywHcvg7C3bNkCrVvJSHlxwTbfvHmfoM8D9+cbdDa/ayzkTVxcrGp37Ny1G/f3eVANvh89chT9+j90WYwctll69eqlnq8vv1ygXMUGPvyQCqoqlBxKtRByp9YJ3bljG375eYXyd/x6oXajffg+vl20SAV8LOs4RJC5mxcolxMGKB3x06QiiyGrT23GiB8nIS49EffUux1317GZfl0tWeYsTF//iSqXUW/Ac+2GI6xcyZ2BhCaDTW5qjL/+979sqwq6yrCD1bJlS/V3frAzRrX9tttuUy9FB926dcXUqVOyZ6MJC6uKOnXrqHXCjh5NT00mW5BI/t25UyfUsb9A2aGjBQP9cC9G2SwZuC/GQejQoX2OfXH0hn9TvS4sBw4cxJzZczH9nRk5lvff/yCH+WRhykVq1qiBhg0b2P8qHE2b3px9HOz0VqlcWZn2OtI44uSppXO6VcKKnuIGR8p4nVgGiiAxWmPPITgRng/Gj3BAV4p62rkvyFpA+I+x376O0UvChjMtiejyUqtWLe06NlAuMExn44PPGePN0EKEQgjX+UzQOoTf0aTb8fzmhWNfuhiZulMQrgq+m7VnzBEk/RKOwKgJOH/qFMymQgxUOdVhwrXB9x7bLAzuTqFKb9DDS3tv0oqD78r82LBxI+bMeRdjxjyRQ+DgBAWbN29W1sCEg0HsdHPAyLkj6IzFbEFaerpWz8Yoi0/nd/G2bduVm/HDDw+Q2GrFBNuCFKnY1rn7rjuz2025ye8aC3lj1u5jtnFpJf7ttwsx+Y3XMXv2TPyw/HsVI+evXJMrULTkAOBXC79W14DCSH7XQrg+lGohhCZIvMkcvoS8uVq3boVbO3RQgWzKMrlFEAdFFUNWHluLJ359TYkg9zfojqldnoWLwTYSwSlvWRFmmU1Iz8o5CmGy2CpDg3Zt9E4PPUWQN/75AB9vW6REkBndX8A9dW+3f1syYWeflh98wbGyp0kpX4IMRsWpyQrC0QG/0lTO3IebthQExQm6ftzctDkaNLxJxdpg4CsH3BetMNq0aY/qNWpnL/ybZnt5jRTlR6eOt2LRoq/Vy915+WrBl8q00pkrlYuw4eV4TguL0WBzoSosbID99NPPuL9PX9Sp2wC3NG+FN9+ckkMEIRRPiloW4frD9zsbyRz15PVjEFQG1GNAsgEDBuDuu+9W7lbchhYitBSiKEILEYp3FEPymglJEITiwd2nvBLvs1TMHUe9n1dg1PwFSWIwusK9BMQIK6mwM5Zb1KWQS7EhL+g+OnPWHEyf/jbmffyhshj99NN5GDlyBCZrdWRebqF0s+VMMBOeewZt29gsdgk72NOnv6O1K1pj+fKlKmArO4MLF87XOoaLlNVJbmjtyaCpHKx84fnnVFwuh9svrfbee/8DZekpAVKLB16jl15+VdV5E1+YkMP6xpn8rrFwZWh9HFbV5gZG6tatowY8aUmdWwxku4QDlIwrwj6rULK44XoDjpH03J2fssba01txNikSvet3VQKG89KmSlOsPPaPcm3JD47oLDv4hxJBUjLT0LfhHTlEEMIgqv7uvso9xjn+CP/eeWG/Wq9WrlJ2/I80Uzqe/XMa5u9aBjeDa6kQQRw0adJECW9btmxRLjIc+aDLzJWUXYNBr0ai6XpxLZwOD8fYceOVz+Hvv/2M48cO4+///YEePbvbt7Dti24q27ZuwskTRy9bGBOjuClMuf4rKE5NnfYOhg0biu3bNuPokYOYP//zHEHBhFKCvZGfW7Di8+Z45vhJUYTPJWPIOGaL4VK5cmU1EsaGtSNoKrd3tjDJTfa+Cu6jCYKQD76h9bTnzAVpKZmgFxoft4IDo+aN0c0HviG2OGNCTmh9eerUKdXZdebChUiYLeY8B2f27N2LWrVq4matHeOA70O6hlotVpWfM5yG9ZVXXsPYsU+qzpvjnUtoDXLqdDi6de2aw3qjdq1aqiPIOAj5wXwoitDa8+ixYyqNMRM4xeiu3XuU+wwXzn5DVw3GNlu6dJlqQwmFg53wj+d9oqwhKVCxbsyLgq6xkD9BQUGoEBqqtS9yWrHz/DE9rwEXnloOCgslk1J7Zfiwv/raG2pxVt/o/79H66SW9aA/naq1wjvdnsfM7hPzXJ5tNxzl3H3tW+eEIsin2xeruCK07BjY5F68dftTOUQQQneWukG2ebAX7lmBcPu8/5wKd3OETe3vGNZSxRNJzEjGk7++ruKM+Lh5YU7PSaVGBCFUcXv06I6ff/kV32uVM11l6DJzJSrbI3bTasIZVkKc/YTuNYWBLh50o3l00CMquCg7bXRDOa81ShyEhISqBsOp06ftKTZStcYnR10Kcgu4WgpTrv+KAwcP4u6770RP7TrRhYJwiu2oKHF5KS1Y7VPXWqNtMV0KaybN+45iR0hICKpVq6amAqSLFEUSiuNc2DgpKEaIY1/W6HD1Kc1CQSgawTXbw8XDD4kJGbh4IR1xsaYrBka9DK3X4OYVoOVlixMk5KR+/foqLgHdXBywbv9n7VrlPsp3YG5cjEbV1sg9TT2Dh6empapBFAecdW7MmPEYPnwY7r+v92UdZG5r0dqF6Rnp9hQbbHskxMfDaLS1E2nx0b5DpxzB3AktahmbhGUijBX24IN94eHhrv4Wrh72hd5//0PlajRr5jv5Wixf6RoL+cPAwhxw3LB+Y46+JwUQioDsFzBwrVB6KLVCCBut7PDQXYGqMQUQKqDvzJihbs5OHTvatxSKyq4LBzFn83w1/S3damjBUWtuF4TN6qiWNp/2xYXkaHgY3fFM26HKKuRU/Fl0WzAYLT+5H+N+m6x+26h8HdzfoIfK84ud3+PP4zaTyaSMFDz206Ts/LjQ8qSkwwCdrEC+nL9Aucqwc3UlQsqXx5133oG5c9/Fzp271Ig0R19enPgS4rRGA6cALQzs2DFIKf1omQcDPy5Z+j3++t/f9i2AypUrqX298cab2fviy3n2nLkY/9QzOYKcFheFKVdBsMJg55SzyvAZLmjE/kowav62rduzR7do7suYJgymKZQOLLmmri3MM+YMxRDOOMDRUsaI4awGbHTzHqOVYEHCo2NfukO2fZvb3q8+BUEoHKH1usEzoCqSErJw8kg0jh1JumJg1NwYtHaFV2AYQuqVnoGS/5LatWvhzjvuwNtTpqkBFb7Xfv99pbKioLk+34FnzkSgV6/78MMPK9Rvmt3STMXAYvs4IoKxxNJw7NhxvP7aG8pqrlYtW4wvuv6+9PIraNWyhbIW4fszLi5OLXyfUnChpR2tOtjO2L5jh3rXMm8Ghf/f36vU7witRBkXbObMWSoWCffJfbMM3J5lIsyLrjrOyyOPDFSxu/rcfx/69LnvssCwwuXw2ixb/gMWfbcYY558QrUtHdeOi8OqpjDXWMgf9j179boHy7Vna+HCr1W7lXHI2M5m/6BH9//eGlq4Nkq1rQ4jTL/15hv46MOP0bRZc6U+c/R3xjvTrhi7QSgebqnYCO/d+apyk6HrS2RytLIsp/vN572mIMDjxvGHq6w1ADiTC+87usoUBirtnBOfAkX/AQ+jZq266NqtJxrf1AgjHhuWPQp9Jeh/+NT4scrvk3kwHgcrrX4P9rVvcWlfd999FwYPGaa2u6lJMzWbxpS3Jv8rvomFKVdBULx58onRmDV7Lh56eKCareZq4chGkyY3qfPL2Ci97+uj5nTnzDJC6cAxda3usE2M4D1dlNEVWoZwe1qD0FKJQXbZiKbAxoahIzhxbvgbx6iY3rFvvYySCUJR8A4MQ2jtzvDwD0NCTBQunAq3xwQpPOUqNVaCipuXtOHygm2G0aNHam3eprjnnt5aW6Ip3pj8Fia9OFHFISCpqSkqSDg7vYSxDD6Z9zFiY2LR+bYuaNjoJvS84y4VfHz6tKnZbYPVa9ao2ew4JWjLVm3R7JaW2cvLWh3PgQ4Kxi9OfAFdu3bB0KGPaXk1QYuWbfD3qlVaW/w9NVpO+A5+e8pbCKsWhj4PPKj2yX2zDJ9/9kmO+ArCtUNXom+++VYFxecMJs7Xjgtn2CSFucZCwbBNOXfOTHy7aLHqe7Zp2wF79+7DHC2NAqBQutBZ85H/IqNiERKcc0rUkgoPgSPfbPDK3MzXB7rTxKYlqMCpHkY3+LnnnONesJmOcvSGHbKrvU8LmwetojjfOaeUdZ7X/N/iWo+NHVXmURwmhQ4TYJowFlZoEkoG1gProZvygFo3P78YhobtlTUHG3mFxWFhZLsPslSQYN5XHLlkw59+7Lnh6CPvW3PkaRiesQWNs8zYCH35MLUuCELhSI0NR/jOJQjfsRjJ0fnPSJIXviF1EXZLP1S5+T64+0ngzCvB91tKSqqagj47xtEVcNTVFIWv1dKC9XZiItveBbczHO0RNzfbtOeCcKPgsDL9L9rZwuUUh1ZRqi1CHHAkjzEB5AV7/dBp/wI9yiHUO0hEkHxgo4NTvF7LfVrYPCgAcJTnv3o5X+uxOUbyiwMeM49dRJDSh65Bu+w4IbrlM9Un76nCNtgpinNxDo7K+4r3Ape8OgvMO/u+XTZDfbAMIoIIQtHx8K+MCvW7o2qzB+FfuSn0Rr7XC7Cu0p5Tg4sHAqu1VCJIaL0ucPcLtX8pFATfXazrCiuCEEddXdh3akFwv4VpZzjaI9fS9hGEkgjvfRFBSjc3hBAiCIIg3BiYh9nECLqomC/aAv/SzLowMCAqF0Z2dwhztlHLRJWelzjmyJv7MmxYqtYt945Xn4IgFA2dTg+/Cg1QtdkDCGveHyF1Omt/14eHbyhc3H2UMMKF6x5+FVGuQkOE1rsN1Vo8pCxBfELqMBdbZoIgCILwL3JDuMYIgiAINw7WcS2hi4mANagydC9+DwRVUebcdIEsCG7DoG/0Y2eQXM6WRJ9nx1STDPTXurUtDglxxBIh5sn3wXB4Eyy0Bpm9RaUJgnD1WC1mpCacReThvxFzYiMSLx5GRnK0sgJx9w5WU+RydhgGRmVMEJ1erPgEQRCEwlEcWoUIIYIgCEKJwrxvLXSfPg19TATMvcbB0Oc5lU7LjoJmfqFQwlliOJsRg8YxtgirOEbG5+IcI4TmrI5pls1Lp8GwYrZtfcJ3MDTqoNYFQRAEQRCEkofECBEEQRBuOChEWNrZpq+lQGG+YJsSmcJFfm4yFDzos05rEMYFYZwQR3wRLvyegQIJ88gWQfatyxZBTPeMFRFEEARBEAShDCBCiCAIglDiMD4wITtwquHZtrCsXqTW6coSEBBwWbA/xgKhEMLvKYIwTgjXaQnCmWMoioSFhanfZrvD7FsLw1TbVM/cF/cpCIIgCIIg3PiIa4wgCIJQIrFGhQNv9lHxQohp6Dswdhqg1gmnyuVCoYOCB6FbjNFoVFM20k0mPDxcBUmtVq0aateurbYhOdxh6rSGftL3aqYZQRAEQRAEoWQjMUIEQRCEG5rcYoi5bmvgsVkwOE1vy2qMsUPo+kK3GAoaXJhOVxnn2WIsB9bDumyGCoxKmJ/+RRFBBEEQBEEQSgsihAiCIAhlAsvk+9SUug7MbfsAt/aFISRMzSpzJSxrFgFrF+fMo10fGB6fa/9LEARBEARBKA2IECIIgiCUGZxnk3HGUrc1rPVaQxdUFdZgW1wRXdQZWGCF7uAm6A5vyvEbusKg93gJjCoIgiAIglAKESFEEARBKHOYV38LrFsCXXTEZaJIQZja9oGufhsYOvW3pwiCIAiCIAilDRFCBEEQhDILZ4qx7F8P3bolQHREdhwRhziiLD+CKsNavzX0DdpB7xRXRBAEQRAEQSidiBAiCIIgCIIgCIIgCEKZoTi0Cr39UxAEQRAEQRAEQRAE4YZHhBBBEARBEARBEARBEMoMIoQIgiAIgiAIgiAIglBmECFEEARBEARBEARBEIQygwghgiAIgiAIgiAIgiCUGUQIEQRBEARBEARBEAShzCBCiCAIgiAIgiAIgiAIZQYRQgRBEARBEARBEARBKDPorBr29RxERsXa1wRBEARBEARBEARBEEoGIcEB9rWrQyxCBEEQBEEQBEEQBEEoMxRoEXKtKosgCIIgCIIgCIIgCEJxURxahViECIIgCIIgCIIgCIJQZhAhRBAEQRAEQRAEQRCEMoMIIYIgCIIgCIIgCIIglBlECBEEQRAEQRAEQRAEocwgQoggCIIgCIIgCIIgCGUGEUIEQRAEQRAEQRAEQSgziBAiCIIgCIIgCIIgCEKZQYQQQRAEQRAEQRAEQRDKDDqrhn09B5FRsQgJDrD/JQiCIAglC4vFApPZDLPZotYtWnXGKs13ZG1YAivDqi06nbZd+z7QN2gHffkw+y8FQRAEQRCE0kpxaBUihAiCIAiliiyTCZlZJpjNZntKTiiE5IW5bmug/QMwNGoPBFWxpwqCIAiCIAilCRFCBEEQhDKDyWRCRmYWzBaLPQXQ63QwGAzaolfrNAHRHdoIXVQErNHh2vomIDoC+pgI+y8Ac53WQO/xMDTqYE8RBEEQBEEQSgsihAiCIAhlgvSMDGUF4sDFaISLixFGg8GeUjDm/euAfxZDd3hTtihiumcsjJ0HiHWIIAiCIAhCKUKEEEEQBOGGhlVUanpGthuM0WiAm6srDPpLsb4zMzNwJvwUoqIikZySqOKGeLh7onz5CqhevRbc3d3tWwKWA+thXTYDhsOb1N90l9GPmA1dcFX1tyAIgiAIglCyESFEEARBuGFRIkhaerYrjLubK1xdXNQ6OX/uNPbu2YFNm9YhNTUVWVlZyDJnISMzE+lpmSqIqqurOzq074j2HTqhdu169l8C5qXTYFgx27ZepzX0j4sYIgiCIAiCUBoQIUQQBEG4YUmhCGK3BPF0d4PRaFTrMTGROHRwFw4e2IODBw8hMzMTbm7uKoZIJsUQfmZkaetmmE1mBAYFoHKlyqjfoD5uvbUrgoJCVD6WpdOBdUuUqwwtQwyPzxE3GUEoJizmLCRHHcP5g38g+uQGJEUeRnpStIrj4+5THr6h9RBcsz1C63WDd2AYdHrb8y0IgiAIV6I4tArDqxr29RykpKbB28vD/pcgCIIg/HcwJojJ5BBB3LNFkBPHD2DXjo04ceI4du7chQsXzkOv18PLy0u5wDBuiLuHO/z9A7Q0bzWtrr+/v7aNDgmJCTh27CACAgMQ4B8MXYN2sCbHZ8cNMbl5Qd+wvdqPIAhXh9ViRmpcOM7u/gGntn2LmFObkRZ/VkvPgpuHJ4yu7rCYM5GZEoeUmFNIPL8fpoxkuHoFwOjmDR2DHguCIAhCARSHViFCiCAI/xkc3U9MTEJaWprqoLq6utq/EYRL0LIjPTNLrdMdhuIGOXRwJ44e2Yfo6GisXbse589d0OqqVCWSsPPk5e2l3VMu2t8u8Pb2htGg/c4KBAT4a3m4IMuUhbNnzyEtPRmeXp4ICgxRYohZ67jpKYYc3gxz2/uh9y6n9icIQtGwWs1IungE5w/8jog9PyDh3G64uaSgnL8RgcEeCAj2QbkAd+351MHVaEJWWiwSIk8iPemi9mstzdMPbp4BympEEARBEPKjOLQKcY0RBOFfha+Y/fsP4N333sfff69CWFhVNXJ/7NhxVKtWDaNGPY4e3buJKCJkk6xVbhTKGBiV1iDkxLH9OHZ0L1LTMrB582Zs2bIDmRlm7V5y1e4dI6pWraJ1tvy0+82iBA8dOKWuKzIyMmEym+DmbkRQUBDCT59FhYohaNCgPlq2bK/9rpbK3zq+JXTREbAGVoZu0vfiIiMIVwEFjfDti3B62zfITDoHf60dWalaEIJD3ODhSanDFu/HatUjJcWKC+fScOroRSTHxcIruBaqtxyIqs36wJViiCAIgiDkg7jGaNA3fPXqNZg8+S18t3iJGh2sXbu2Gv0TipcjMScxZd3HeH3Ne1iwazmOx51BDX+t8+Hua9+Cg69WbD+3D6+tfhdvrf0Qi/f/igvJUaivNXA8XC7N3EAuJEdjzqYv8fLfs/HpziXYef4AqvpVQLBXgNZYuv6jQStX/oGNmzahdq1al91PDMq4fPkKnDlzBrVq1bSnXjuOfFNTU1CxYkV76pXZuHETfv31N1SvXg2enlpr04mYmBh89dXXKu9y5fzw5Jhx2LFzF9q1baN1FAs39ejVQguQ9977ALNmz8XwYUMwdeoUDBkyGAMG9FcCSPPmt2hlW4hNWvnbauUpzHNLaxI+6ydPnVLXhm4Rwo0D43tk2afJ9XB3h16nQ0z0Bezbs5m9J+0dn4K//7ca8QmJygqEohotQiiApKQkIyExEXHxiYiKikFcXALS0jOQkJCs6gouzNvDwwO+vj7a/ZmJgIBgLQ8PWJp1g/6Pz6BLS4S5cn3oqzVWZRAEofBE7F6mLSuQnnAK5SuVR8Om5REYZISrq1V7Xi+Nu3HdxUWn1UE67ZnWIzk+ARkpsbCYMuGitSn8QuvbtxRy4xhcmDFjFubN+xQXL15EjRrVL6v7nXH+zfsffJg9EOHn52ffwgbfkf+sXYtpU6dj/vyvEB8fr7Wpa8HNzc2+hQ1a5X3++ZeYPn0GVq1aBf8Af1SuVEm9k50JDz+Dd999HzNnzcaaNf/ku50DlnOV1qb/YcUKhJQPUW6NQtEoyjk8pbWj2D7kdS7OtuyNTkF9z6SkJCxeshTnzp1HrZo1L7vX4+Li1DlnHlWqVLanCldDcWgVpboHwU4WX+i8Ebt0uR0PPthX60T+gDFjxmoPdYJ9K6E4+PHw/3DPN49jyf7fcCbhPE7GR2DB7uXo8dUQ9R2hCPL+lq/Rd/EY/H5sLc4lXcTh6JN4b8tCdFkwSAkdDiiW9PhqMOZt/07lxTxt+xih8mBe15tdu3fj5ZdfxRLthcaKxRma7q9bt05tU5w48j1x8pQ9pXDU1F62q1avxtdff5sdXJJwnY0VNmzq1KmtOowUD6pXC/vXBQSes6XfL8OGjRvx9cL56N69m+q0OuD+69evhzmzZyo3ho/nfZKj7Plx4sRJzJ49F59/9oXWGIuxp5ZcMjIy1DuKQpVwZTLtIoiLdq86psg9engXXzCwaPcUGxkJCQmwWnh/Z6nza9H+iNLuhXNnL+D8+SjExsYhJSVF2zZBiSNZWRkIDAxEWnq6EgYTExORnq79zmLBmTPH1T4M5cNgbttHrTOAqiAIRYPxPi4eX4e0hHAEBPuiZj1/rXOuh8FAEcS+kRMJ8WZEnE5G9LkLsGjvfsYWSTi/HxePrrG7ygh58fvKPzDgoYFKVBgy5FHs3LkTgx4dor3LIuxb5MRRFz86eChCQkPwxOhRamDkvvsfwPoNG+xbXWpTv/7aZHTo0AGDBg3EuvXr8diIkbh4Mcq+FXDk6FH0fXCA+hw2bAia3dIMEyZMxJy57+aow5l3nwceRHJystYufxKNGjfCM888h++XLb+sTeXgqJYn211z576HqKhL+xQKT2HPIWdamzlrjhKpirsteyPjeE7y63v6+PigUqVKmDp1mroWzvC+//HHn/Dnn3+hRo0a9lThelKqhZB169Zj06bNWLToGwwY0A+97rkbH334gdZITsRareMnFA+xaQl4d/NXSDOlo33V5lg58Av80P9D1AuqodI+2f4dEjOScVRrBH2563uYtU5JnwY9sHbIt/is1xRU9CmPmNQ4fLTtW5gsJiRnpuCttR8hLj0RN4XUxZrB32Dn4z/ijtqd1G8X7v4Bp+PP2fd+feHI8bvvfYBdu0p2JVG+fDBGjXwc3y5ahD179tpTgW3btmOF9tKl9QU7gjyeZ599Go88MvBftwYJP3MGXy/8Ru2vQoUKSv3+8aefVQNuyJDh+OWXX7Hw629UpTJ06GBs3bpNqzSO2X+dP6vXrEHDhg2g0+uwY8cOe2rJhZ1tjp4lax1zoWAsF09Dd3AD9DFn4YgLcv7cKa1xEa06UjyXqWmpMLpwdNJWfdHtJSU5Vbu/smC2WOHj7YNa1aujWlgVbd0T5YP90aBhHTRv3lSNftJVJiY6VgkiJlMWUlIStesTqfLCrX3Vh+HwJlUWQRAKT/SpTUi6eBRuriaUr+gPf38XJYLkRUK8BefOJOH8mRikaR1lR8c4My0OiZGHERe+Xf0t5CQy8iI+/ngeXnrpRUx47ln07NkD7747B/Xq1cOCBV/lECIcsE28+LsleOXlSXhq/DjVeXv11Zfx6KOPYMnipcrKkhw6dFgJ9syPbeq77roT7783V703V/7xh9qG/PTTL2jR/Ba8M32qGuAYPmwo5syZqer0k/ZBHIrNH300D08/PR5TpryJ2zp3wuhRIzHxhee1Nvt3alQ8NyzHJ59+rh1LXdVmEIpOUc7h77+vRHh4OJrfcos9RSgMhel7tm/XFu3atcP8BQtV29fB8eMn8MWX8zFSa5OHhJS3pwrXk1IrhPBlT9Mvvqidbyauf/nlZ7jtts72FOFaOZ1wFueTL8Ld6IYnWj6sBJCmoQ0wWlsn0anxSM1Kx/HYcESlxKK8VyCeaDUQVf0qokuNtujToKd9uzikmzLUtpEp0SqtS412qFauEgI8/DD8lr7wdvVCclYq4tJLhkVPZ63yvq/3vXhnxkzVcboS7MhPfPEl3Nv7fowcOVqNiLDz5gxNRakkcxuKAgu+WojUVFtDxBn+loIBt6NiHxcXb/8mb9ppL977evdWL1kq/VSmqVrzJd26VSu1TV7WCXxJ//zzL9n7mjDhBezbtz/HiA2fN8b3cGzDPHgcBXFg/wGEVghFvbp11e9ZFjaUxo55Uo1iLVu2HN9/v0ztPzQ0FE1vvhm7du2y/zpveEwbNmzEoEGPoGvXLso00bmScZCeno6lS5ep8/vAA/2U+TAbZs5cuHBBmfXyeHhcPL7cjUjn60mXom3bt2efF8e55LlzXCvu67PPv8i+nqdPn8aIx0dh9Zp/8N5776t8KKrlZyXC77gfHqdjm59++hm/aQ0WHsvHH39i37LgspVWLAfWw3PWw2ox2oW6sxEnlKucQa/T0nTw9PBQpqY6gx4WaNtoh8wZYRgrxNPTHVWqVESdurWUm1hd7d5r2LAhGjdsoN1jQbi52U3ab6zKGsnVxSXbKioqyia8Ghq2hyXQZqrKsgiCUHguHl2NTK2e9/P3QHCIl/ac5qz7CF9RaWlWnItIxbnwGCTl7hBrG2QkRyPy6Bp7guDM/gMH1CDG7Vob12FyT5eYvg/0Ua68UdG2tpUztKKLT4hH+fKX2sr8bd06dVTwaIrDhO/D/v36qXenA45u0+3m3DnbO5KWJBT2OfOWc1yvilqnm+4z8fG260krz3fnzlHtJ2fXgGpa3ikpqcpqLzerVq1W9fLQIYOz381C0SjsOTwdHq7anrTUqVSp8G7YZZ3C9j35bAx+dBDWr1+PdettVlf87TfffosWLVqgTWtbm1y4/pTaN01SUjIOHjyI+vXq4vz58+qBZkeLHQmOenMqRSF/dkcewvcHVhbKBYWix75Rv+Lwk3+gTZWm9lTtGmTYRrg9XNzgojegZ+2OOD1+DbY+tgzVy9k6E8yfFiCE2xn1RiV6NAyurdL2aOWgVQktQf4+sVFtG+IVhMo+oer76w3N89lpZ8OD91jujrIz7Aw/9PAjCAoKxLPPPI2WLVteZgZKU1Kap8bExqoKaODAh1VH+p0ZM3LkzU45O/IPD3wIgwc/iv/9728lxuTV6XfAMj788ACcPnVa62D/jhUrVmiNjViV5rD+yG2dwH3yuXl76nTcdntnVW6azj4+crTyJ3ZsM/fd9/DGG2/i7rvvVCNK6RnpGDJ0mDqe/Dhw8JDqiPJZZKed1imvv/YqWrVqifbt2+Gpp8bDy9P2nLKhFFYtTFXOBXH48GHl8tCwQQN06tgRe/buu0yQoQj04qSXsXjJEnV+qbxv37FD+3wiW8xiuR8eOEhNp8rj4XHx+N5//8Ps65D7ejZr2hRPPjlWmRjzejrO5ZKl3+Pnn35R16p//wfxxRfzMWvWbJUPrXCGDR2iAnP26NFD5cOgnvlZiVD8iIiI0PK3ZG8zf8FXSjAa9MhAtGljqzyvVLZSy0X7tQyyvT9osRF98ax2f9juEYP2nvHz9UXlyhWh094tXDzc3RBWtRLq1amJmxo3QOVKFVS6i9EAX28vJMbHIyEuHme18xpx5oxyo1EzxgQFaQ13V3W+YmIuatfL5pJjrdtafeoOblKfgiAUjoSze2DV6nMvbxd4+9gTc2HSHrNTJ7IQfvw8EvPoDBNTeiLiz12ybBQuwXZvnTp1lEDhjCOm2IXzF9SnM4GBASpWAet0x8AM2xLrN2zEzTc30fLyVml0VWV7x7n9TBGF7qjVq1dXfzMGAuszjmzTRZHwHcrBE35XpUpVlcZOOGOSOcf94r63btmmXHMrVsxprcB2POvOxx9/DMHBwfZUoSgU9hyybTJ//gJ07HirsuwRCk9R+p41a9ZQYshnn32u2p6bNm/GP/+sVfHyuK1QMii1QkhcXKyKp7BTu/nu7/Mgjhw5gqNHjqJf/4cu81MUcrL57G4MWvYsnv9rOj7dvliJFUXlRNwZzNu+SK3fXec2BHjmPd3kFq1htPzgH3DRG3Ff/e7KqoRiyOudx6JbzfZYdXITmn7YC80/vhfvb/0atQLCMKvHiypgakmBZqHPPfuMMgfliywvOIL/wQcfYbTW6R4/bqyyzhg8eBCmvj1Fxeigmwjx9PDE00+N09LfUqaiPXt0x4QJz2Lnzl05RnKoJr85+XW1DS06Xn/9VWzbtg1nz561b5E3NIUcMWI4Jr/5lgpQSneZgswj+ZywIfT555/g4YcGqHLTf5iBVOmqQug7umLFj8pctnfve3HrrR3w2quvoHu3bvjs08/zFWfYiXUEgmKDKVjreDJApQOOHhVlphiW9a+//qdV3M2VAMBRq2phVdUomDO0Ejl29JiKPcLzy3PI68DRsL1796nyMgic4zj4yeOiaS8rOAae4/X85JPPlFuP8/V8883J+Prrb3L4S/P+oJky93Pffb2V+THjovB6clSsRYvmKK81ShiIjPkEBBTt3mYDd+6cWcoE+aabbipS2UobusO258tazyZGJMRFK2sQFTxZa2zrtU9Pd0/c1Lgh/Hw84Wo0wMvTHdWqVtbOcRDcGFdE+52LwaB9Z4Sbdn9RzEzU7r/0tDSEaveAt7uH9hms3Y+B2ncuMOi03LUlMdFmcWWtb9s3ovP2txcEIW/SEi/C4GKEi6ub9qRe3q5ITbHi5LF0RBwPR3oBroJmUwYyEu3uakIOGG8jt8BAvL29VBrF9NzQYmTixBeUSf/w4SNUwNRHBg1WAyXsNOfnJkuBg/FIGEiz46232lOBB/rcrwY5KMZPnTYd48c/rdrdk158IU9zf7ZdZs2eo/bNWGbPau0p58CurNsXLvwGLVu2yLZeFYpGUc7h+vUbcPjwEQzo31/FjRMKT1H6nmxX9OrVSz1fX365QLmKDXz4IRVUVSg5lFohxGy2KF9JmpZ/++1CTH7jdczWOj4/LP9emd+zwyRcDkWQET9OUvE5Ms1ZmLb+kyKLIYeiT+CR5c/iVPxZtKrUBEObPWDrqORi9anN2fu6p97tuLvOJXels0mROBZ7WlmC0CKEcUg4Uhuvbcv0khAs1RnGpKDAMHvWXHXf5YYCBU096RPobAZKkYGd9h3bbbEsKleuhDvvvEMJABwdYaf2/LnzatQlOSlZbUPoJuLcUPDz9VMKMu/7K8EONzvg7u5uqFrVNjqTHyxH506dUMf+YqZ/KY+PbiQXo2zHuWf3XtzcpIlStx3wxU7XFIokVxJnigsKCxQ96N/M/fP8tG3XFhu0Sp1WIISV0Jat29Cte9ccAhAbjrNmvoNOnToiNi4OBw4cwD13352jAUiR4cMP31e/4zExzw4d2ue4nhwJ498cCXCQ+1px5IwNUufreS20bdM6R/5FKVtpw3DELmrVa6s+GL+DqKOkEKIdH11aKHxw8S/ni9rafUmz7IqhFVAhJER7Vnzg4+WFoAB/lNeevZDgIAQHBqlnKCggUPtNOVSrVhU+Pl4qGCvPGf+lpdnuIZ192lxdjAghglAUKGCo50mZ5Oesw5OTbe4wEScjkZKYpG2b/2AVLeKYl1A8UNDYrdXVhw4fhkHr+OoNenhpdQqtOE6ePGnf6nIo6M+Z8y7GjHkih8DB2TA4hbleZ+tCePt4KwF+9569OTqCzli0tguDVTPAuc3q8dL9QWvRLVu25rBeFYpGYc8hLRM++fQzDB06JE/RSiiYovY92fZkbJyvFn6t3o0URpzbbcL1p9QKIQ769++HMKfOXt26dXDbbbdpHabN+b6QyyrOIoiDoooheyIPY/APE9QsLxRBPu31FnzdbGaVzqw8thZP/Pqa2tf9Dbpjapdn4WKwjWBQQBn18yvKqqR3/W449ORKnBi3Cq91HouE9CRM+HMaVp/M2/LiesEX19133YmqYVXx8bx5ShF2hqM0FB5oguoMO8SBAQFqSlDC2BW0EOl5x92oWasuWrdpp+JX5MbL++pcu9hB/ljLr1mzpspdYt4nn2aLBPlx4MBBPPHkWNzctDkaNLxJRZ9n0DQHFEQqVKxwmSkfxZaCxBmj0SW7kUUXEfoiX3SKYE4rmbj4OCUIsVHE6fwcgkxebNUq+QsXIlW0bY4ucWE5t2oNgCNHbC46tPaIj4sr0CyUAgX3x/LnB68nLWLatGmP6jVqZy/82xHjw8HVXqvCos/VqClK2Uot9naCSbueqpJio5mvJ+05ZOwQL08PVKlcAZUqhKBiaHll9eHp7g5/rdFBKxBaeTCWiJe2uLu6ITgoAAH+/jBoGQcF+qvgwi6uLlp2tAZhtlZkZdksm3Qx/42wJwg3GgYXd/U+tyg3s0uNfcYEuXg+DRGn4hAfHZ3tnpEfFFIMrjmn2xcuwTrXWUggtvOe93nl6D9nB5k+/W3M+/hDZUn46afzMHLkCEx+c0qegzt0v+RMMBOeewZt27Sxp9raGNOnv6PVN62xfPlSFbCVncGFC+drHcNFyuokN82bN1dBU79euAAvPP+cim3FuoqwY/7e+x8oq8YrBfcU8qaw55B9Is4syAEyBvMUrp6i9D0bN26sBq4YV4TCiFCyKLVCCP27K4SGXhbkhw1bpnOEPXdntSxzNjESvxxZjdtqtFHChPNyd93bcDzuDPZfzD/eA6GQ8siyZ9S0uO2q3pKnCEIxZdnBP5QIkpKZhr4N78ghgpCDUcdwPjlKBUZ9pMm98DC6ax0XPXrUuhXBXoFKnPnj+Dr71iUHjsrTKoQ+fjQXdcZg0KsgYhm53ETYVjHbG31suHz62ef48aefMGnSCziwfw8OHdyHmTPfKbBTXhR+/32lGvlhQNJx48Zgz549Ki0/GJNj7Ljxytrj999+xvFjh/H3//5Aj57d7VvYBI20tPTLXu604LFa8hfPmja9WfkRM6YH3VjatmujlekpNYsNfSrnzftEBfViLJSVf/yJnTt2qgojLyhwsIHlqXWAGRR0zZp/1LJ//37li8wp/nh+uc4Rr5Tk/M2uea34bihIMOA2tObZtnUTTp44etnCOCfXi5JctuLn0v3F+40PFAOjUgypVLGiEj+MRh0spiyYuWgdMIt2bXm/pKUkI01rtFu158/dw00JIqwfKlYIUaOheh1lEVt3jSPQ6mEVBOGq8fCtALNWD2Zp71aLxSaEWK06nD9nwunjMYiNLJy7i8GoPa8lJE5YSYODBadOnbpsgIODBGaLWYm8udmzd6+yFKVlpwO+C+nOyTqc+TnDGFqvvPIaxo59UnXeuK0DWoOcOh2Obl275rA84LT87Ajm5z5MmA9FEbYNjh6zzRDH9hSnGN21e0/2AAdnv6E7DmNesX3AtpWQP4U9h5whZtny5ap+ZBuM27333gc4eOiQGlz54MOP8hTFhEtcTd+Tjw+tT4WSSam9MgzuxM7AhvUbc3TQeBPyRcwo14xBINio5Bui4nLM7D4xz+XtLs+gUfk69q0vhxYeQ1e8oCw8utZsh4/uej1PEYSWJbToMGkV8sAm9+Kt25/KIYIQBjykSWVqVpqactdBROJ5JGXa3Am8XEtmICE2Qhh3g7ONbN6yxZ4KVK5iM6c/7GRJQaKio7ItHWgNwtgVAwb0R7u2bbMtLKjms8K6VihqfDzvEwwfPkzd//RDZKAmpuUXhJSB1SjCPDroETVzC4UEusfQXccBGy0UKWjS6gyP1dfPN8+GF2FAU8bb2Lxlq2ow0TyQJracdoyxGT54/118Mu9jnDhxAit+WIGJE5/P4X7jDAOiMuDprFkzlAmi8/LSpIkqUjqn4+Mz36hhQ/UO4LvAASv+xUuWKl9lxgph3A2uO4+qUZThjC9sCISEhKqGw6nTOadQTU1NU9cr92hcUXHXOvDlQ0LUveGcF8/Xlfi3y1YisB8DYw0otD95XFwcjQpa/cTFJ2jnwqxMvS3aO4fCB8+NRasTUrX7mM+cipyvNfaZxnyrV6tmmzFGy1Y177kvi816S3EDnD5BuB6Uq9wEBhdPpCSbtPevVesQMDBqJs4cO3f57DAF4OLuB//KN9v/EpypX7++iktANxcHfC/+s3YtqlSurNUPIfbUS9BijgMSWVk5O2gM1s3pyCmuO2Bg8zFjxqt2xP339VYdPGe4Ld+1DJjuDN+7CVo7hgMnhBYf7Tt0yg667oB1MWOTsEyEccQefLCv1h4SC6CrpbDn0NPTC337PnBZoFqh8Ejf88aj1Aoh7Fj16nUPlmsdqIULv1axFtiRmT1nrnqR9+h+aURbuDYuJEfj1dXvZs8S8+fx9Wj8wZ0Im9VRLY0+uAM7LxzArgsHMWfzfGXRwdHb+buWodbcLtnbtfm0r8qrtdbAaVGxsdrmhb/ewf3fPYFBy59D/6Xj1T44/a5jyt2SCEdIGB+DIzAOQrTONWN/UGHnzCZsmLBDzaBkjRo1VGZzjMfBzhstGzgbCLdhNHb+5lph44IuNgxgRhceNl640B+RDSNGCM9t0UEY6JNzn9O3lKa17DhyFpS//ve3fQsoFxu/cn748MOP1HPG7SgiMDBU73t7wdfX175lTuh/+sjAh/HWW1OUC4sjHsmUtybjsceGqaChPDdTp05RsTkouORudDlgbBCafHLUKTc333yzchdhIFTC2W8onDA4FSsnnptF3y3GBx98iHLl/FVU73u1dwdFD06DxvPC6/HWlKnYu2evCujqiOXCmWQYyJbHzLz4fhn/1DPqnBUWBiPz8PTExo2b1DuKDUYeZ2Pt2BcvXoIff/pZ+VdzmlyKVleiOMtW0rDap661RtuDC3v5gvE7HCj3Pe29wdvExcVVu+4pqoGvttD+R8slCkK0wlIjMFpalnb90+0WTbQkoRBmNGiNcIfgYf/0sM9gZI22iYaX9ioIQmEIqdMZrt5BSIijG0wizkVk4MyJSCTGJcKkvfcKg06nh7tPsJZXR3uK4Ezt2rVw5x134O0p05TlBuu+339fqSwAaK5Py9UzZyK0uv8+/KC1j0mzW5qpOo6z00VEMMZUmhLhX3/tDVWv1qplc0llPfTSy6+gVcsWylqEQc45wMCFccPYZqlUqZKy6mD9w8EJWqYwb07t/r+/V6nfEQ5qMLbazJmzVCwS7pP7Zhm4PctEmBdddZyXRx4ZqNXV5dDn/vvQp899l0RqIU8Kew7ZJuNAnvN2TzwxCvXr1VNB3fmdxA0pGOl73niUWiGEsBM1d85MfLtoMZo2a442bTuozhBnf8hvZFm4/tCS5LNeU/DwTb3ganDFtnN7VWBVmnV2rNYSS/u+h3pBJff6sUP/xOiRqpJ3wI4t521nB7XXvfejRs06aN+howrMOPGF55X1B1+gjNDODlmLlm3UNnQV4WwtrLCuBc5TTquIx4YPyxFY0xGo6bfffleRwnNDgeap8WO1xs+rKmYJ44SwwdPvwb72LWx5TJ82VQUr5XPG7UaNHoPHR4xQFUJB8Pshgwej74P9MXPWbGWZ4hBkaHnCUaO9+2wCRn6wPGtWr9EaWJ3zFF04utGmTRslMDFv+m3yHbB23Trc1KQZ6tZriC8+/xLTpr6d/V7o0aM7nn76KTz//ETUqq01ArTrwd++YL9Wjut59913YfCQYeqYmdfp06eVkFMUP082QIYPG6qCnPIdtdbuQ3377bepRgqnWG7X/lZVXl6rK1GcZStpWHJNXevnH6Qa34THTTcXWncQZRVSPhjxcQlK7HJzdVMiF4UnbmfRfpeVmYXMrEztGhjV9j4+vlqlp8u2BtFpWelU/lb4+vgzW+gO2fZtbnu/+hQEoXAEVmsF3/J1kWlyxbnwaJw+HovYi9FKjCwsbl6B8A2tD3+nqfqFSyjrSq390bRZU9xzT280vqkp3pj8Fia9OFHFISCpqSlqin7HDGKsE2l9GRsTi863dUHDRjeh5x13KVGYdbujzli9Zg02b96ipgRt2aotmt3SMnt5WWsjcKCE7Z8XJ76gBoOGDn1My6uJqj//XrUKH334nhotJ5ze9+0pb6lp8fs88KDaJ/fNMnz+2Sc54isIQmlC+p43Flob0N7KzEVkVCxCgkvOFKZXgqOCxHkOZ6HkwxFeNWOM1nHhFLyMFVLa4Yi/LXiqe7b7izN85DiCb9E6dLQ+UKb715krldmBw7yW5oFskBUWjgQxkNpPP/+sRqsIzQdvuqkx+vd7UGvQ5ZzBpTgozHmm+MF54dlRzu/dUZhtCgvjkrAhyU69A+bPsl7NNHbFWbaSgGn1NzB+9gwsgZWhn21zPdux6X+Ijb6gzhlFC7126owGF+WHe+DAIWVtxJl6KlQIVefBZDZpi1m9UwzadrR64v1q1X7o6aF9ankyD448M0/OROPuUw71GjVX+8NAm++vudc4GPo8p9YFQSgcZ3YswamtXyP61GZYLZdbIRaETm9E+dq3onrLgajY6E57qpAfrLdTUlKL1I5w1PV0ib1WSwu+YxMTk65Y/zjqKTc31wLbF4JQ2pC+5/WlOLSKG0YIEQRBEEo31gProZvygFo3P78YhobtceHsKezbsU4JFkTHwKY6g7L6SEpKwc6dO5WoFhBQTlkMMVgu/c89PDy1zoG2nfYbvdGg3JPc3NgIZ4pNANHptU+tA1GlVkMEBlWAOfI0DM/YZkiwzNgIffkwtS4IQuHITIlB+M6lOLVlIRIjc8bMuhLlKjVB9VYDUblJLxUnRBAEQRDyozi0itI//C4IgiDcEOgatMuOE6JbPlN9hlaqBl+/QGU1Q4sQfnKEkVNS08KmXDkfeHt7INM+0kmBhCOd3Ib+6ylaGk3z3VxctdysykJIy0TJIRREGIeEIohi2Qz1wTKICCIIRcfF0x+hdW9D9VaPIKhGWxhcKD5esoDLDa2yjK6eCKnTCTVaDUT5WrfCxT3vuFOCIAiCUJyIECIIgiCUGMzDbGKE/vAmmC/aZsapUa8JLCabuwtdYhjE7581a7Bu3VoVH8TVzRUuRoMSPzIzMmHKzFLTeGakpWl/Z8DV6KJ+a84yw2q2qHUVR0RbKlSpqfbBfRk2LFXrlnvHq09BEIoGXc68g2qiYsM7EHbLg6jQsKeK9+HpXwUuHn4wuLirxdWjHLwCqiKg6i2o1PguVL2lH0IbdIdXIAXI/IUTQRAEQSguRAgRBEEQSgzGRh2yrUL0dJOJPoOg8hVRve5NMJtMSE/PRPjp02oKRr2ec8rooLfq1ZTM7q6ucGGsGbvHp9FoUNtQIKE1ic6qfXKuXG2dwVQrVq0Jn3KBalvMs4kfjE9i6NRfrQuCcBXo9PAoVwlVm/VFwx4TEda8HwKrNoenlkZrDwoinv6VERjWCtVaPISGPSeh8k294O7DqV9FBBEEQRD+GyRGiCAIglCiMO9bC92nT0MfE5EjaOmerf9gx+Z1iI+Px9lz51SXKcA/AIEB/ioeiJFB+zwYC8RN64vpVWDAtPR0Ld0VVapUUfFAVJWnM6BC1RoIq91Q5WteOg2GFbNt6xO+g6FRB7UuCIIgCIIglDwkRoggCIJww0EhwtLONn0tBQrzhVNq/aYWt6JRszZwc3WFr7cPPNw9OHWBcpuhy4tV+6S1B83zCWfi8XB3R2pyilq4DaffrVy9ziURZN+6bBHEdM9YEUEEQRAEQRDKACKECIIgCCUO4wMTsl1kDM+2hWX1IrXevG1n3PPgENSoVRfubm7KwoNxQywWs5ramVYgZrNJpVMIoXUIv2fgVBhcUK9ZW1SuUVflRcsTw9S+ap374j4FQRAEQRCEGx9xjREEQRBKJNaocODNPtDFRKi/TUPfgbHTALVODu7Zgb3bN+Hs6eNwc3VTri/u7m7a4g4X7W9vb28VH8QEI5q1bo/K1Wvbf5nLHaZOa+gnfa9msBAEQRAEQRBKNsWhVYgQIgiCIJRYcosh5rqtgcdmweA0vW1mRjoiz51BQlwMsjIyYDDo4enlA/+gYPgFBKsYIQ4sB9bDumwGDIc3qb+Zn/5FEUEEQRAEQRBKCyKECIIgCGUCy+T71JS6Dsxt+wC39oUhJAwIqmJPzR/LmkXA2sU582jXB4bH59r/EgRBEARBEEoDIoQIgiAIZQbn2WScsdRtDWu91tAFVYU12BZXRBd1BhZYoTu4CbrDm3L8hq4w6D1eAqMKgiAIgiCUQkQIEQRBEMoc5tXfAuuWQBcdcZkoUhCmtn2gq98Ghk797SmCIAiCIAhCaUOEEEEQBKHMYuHUufvXQ7duCRAdkR1HxCGOKMuPoMqw1m8NfYN20DvFFREEQRAEQRBKJyKECIIgCIIgCIIgCIJQZigOrUJv/xQEQRAEQRAEQRAEQbjhESFEEARBEARBEARBEIQygwghgiAIgiAIgiAIgiCUGUQIEQRBEARBEARBEAShzCBCiCAIgiAIgiAIgiAIZQYRQgRBEARBEARBEARBKDOIECIIgiAIgiAIgiAIQplBhBBBEARBEARBEARBEMoMOquGfT0HkVGx9jVBEARBEARBEARBEISSQUhwgH3t6ihQCLnWzAVBEARBEARBEARBEIqL4tAqxDVGEARBEARBEARBEIQygwghgiAIgiAIgiAIgiCUGUQIEQRBEARBEARBEAShzCBCiCAIgiAIgiAIgiAIZQYRQgRBEARBEARBEARBKDOIECIIgiAIgiAIgiAIQplBhBBBEARBEARBEARBEMoMIoQIgiAIgiAIgiAIglBmECFEEARBEARBEARBEIQygwghgiAIgiAIgiAIgiCUGUQIEQThhsRsNiMxMREWi8WeIgiCIAiCIAiCIEKIIAg3IFarFQsXfo2vv/kWOp3OnioIgiAIgiAIggDotA6D1b6eg8ioWIQEB9j/EoSyx8qVf+DAwYP2v2wEBgaia5fbUaFCBXtK4di2bRtOnQpHr153q79XrPgJ1apVRfPmzXH27FmMGvUk7tG+GzpksPr+3yYuLk6V4Y8//0RWZhY6drwV/fr1RVBQkH2L0s3p8HBMmvQyJk9+HWFVq9pTbUREnMX33y/DunXr4eLqgm5du6rr4u/vb9+i+OB1j4mJRffu3ewphYeWLNu378DSpd/j8JEjqBAair4PPoB2bdvC1dXVvpUgCIIgCIIglC2KQ6sQixBByIddu3fj999XwpRlUn9bzBb1d9duPbFs2XJldVBYTpw8pXW818FkMqmF60wjnp6eaNCwASpWrKj+/rc5cvQo7u/zIP5etQoD+vfDoEEDsWXrVtzbuw927Nhp30o7/l278eSYcYiPT7CnlB7++WctKlaooMQDB7xeP/30M+66uxfWb9iA1q1b4ZZmzfDrb7+he487VVpxw2vM+4hkZGRg8uS38Ouvv6m/CyI1NRUTJ07CwEcehcFoVEJVYFAgxo9/Bk88ORYxMTH2LQtHUfYtCIIgCIIgCDc6IoQIQgHUr1cPTzwxCuPHjcXTT4/H1wsX4KWXXsT8+V/h4sUo+1bXBi0Rprw1GT17dLen/HtkZWXhiy/mq3198fmnuOuuO9XC9V733I0FC75CWlqa2pad54iICFitpSvGBsu/fdt2NG16cw7LCQo7r70+GS+8MAGLvv1aXU8u336zEKNHPY4pU6bi/Pnz9q2vHcYo2bd3X7bARQuP6OhoJKekqL/zg4LNfO067Nu/Hz+uWIa33nxD3X+T33gdv/36k4p7MnPWHGRmZtp/cWUKu29BEARBEARBKAuIECIIRYDxJmhFkJCYgDNnwu2pwIULFzB9+gzc2/t+DBkyHD///EuhO6q0uKDlBTvqxGGJcfLkSa3DO1vlyb/37dufwwqF60zjd9yG2/I3znnlJiUlVW0TVi0MBoPBngq1TsHn1VdfgZubGz7++BO8OOklHDx4SFkl0JqAwghhB//vv1ep4+R++V14+Bn1HXFYH/Ac0MqC2z3wQD989vkXSE21iSwOcp835sv8nWHeE198KXsb5lmQNU5CYiKOHjuG6tWr21NsAtDiJUtxzz13oc/990Gvv/Tq47H36tULfn5+WLtuvUqjcMD9jBw5Wu2Xn/zbEXi1MMdISxC6PXXv1g2nT5/GiMdHYfWaf/Dee++rPPO7RnTd+eGHFXjqqfGoU6eOPdUGXbKefHI0Nm/enOOcp6enY+nSZRjw0EBVjnnzPlWCCSnKvgVBEARBEAShLCBCiCAUEYvVonWkDTAaXdTfdDV5eOAgJY48NX4c7r77TsyYMQvvf/DhZZ36vKDFBS0vHEIDP3fu3IUpb09D+fLlVZ7e3t4YNvwxHD58RG1Dfl/5h+r4Vq9eDc8+87QSMF559XX1W0deufHx8UbjRo3w+28rERl50Z5qw8PDA+XK+SmRoHPnjujfv5+yZhg9epSKoWE0GtXxzH33PbzxxpvqOFm29Ix0DBk6TJ0H4rA+WLL0e/z80y/auXlIy+tBZYkya9bs7HOS13ljvszfeZvhj41AUFCgOsa77roDL7zwIlatXqO+zwsKAEaDUcVzcRATG4s9e/bg9ttvyyEAOeBx09qn7wN9lMjy/bLlGDv2KTRq3Ejtt2XLlnjmmeeUmEAKc4zNmjbFxx9/qF3DYFWWYUOHoEGD+ujRo4fKs2rVKiqv3FDEcXdzR5ObGttTcsIYIX/9uRK1atVUf9ON5sVJL2PxkiUYOPBhjBz1OLbv2IHHRoxUVktF2bcgCIIgCIIglAVECBGEIkArj5+0jm+FCqGoVq2a+vuzTz/Hrbd2wGuvvqI+e/e+V+sAf4Bffvk1Oz5EUYmPj8fDDw1QC/N84fnn0KhhQ2zcuMn+fYKaFeXFF19QbhPt2rXF6FEj0e/BvoiMjFTb5AVFgMcffwwenh7o2Ok21VlmUNjccUBoicD9+fn5onWrlmjcuLH6LY9nxYof8e67c9RxOo6bVg88D85WMLSwoBvRbZ074b77euOVlydhw8aNiIqOVtvRvejOO+/Icd6Y78qVf+Lo0WMqD1ou0D1p5OMj1DEyn/fffxfVwsLU93kRFxunhA9nkpOS4eLigpDyIfaU/KEQwvw/+vA9dU6530cffQQPadeCsUecxa2CjpHWQxSPCIWsFi2ao3xwsBIwmGdAQN4BniiwUNxi7JjCsHr1GmVZ8967c5XLE8vyzvSpqmwr//ijSPsWBEEQBEEQhLKACCGCUAC0AOjX7yHlTsClfYdOWL78B4wbO0ZZEcTGxWH/gQNKCHC2NKBbRosWLbROqs2CoKiEhVVFnbqX3CJ8fX1Ru05tXIyyWXGcOnUKCQkJaNumTY7pYZvd0gx1tO0KghYC786djeXLlqJWzZqYOu0dtGjZGq+88hri4uLtW+XNnt17cXOTJqhZs4Y9xSaudO3aJdsVxEHTm2/O0ZnnOaEYQVGC5+3o0aNqxpac562aslag+w7x0457x86d2LBho3JvIbRoqVHjkttLcUOLGAoHnNGHcL9RUdGIjY1FvFZuZ7GnoGMsThzuU4770OHeQlFmy9Zt6HL77cryxIGPjw9at2qFAwcOZp83QRAEQRAEQRBsiBAiCAVAd4Kx48Yod4I+fe5XLhGzZ72jOsqEHV6O+ju7YRB2himUmExX1wllkE+3AqZIpesL9+Ht7WVPscHfFGZqVXb269evh+eeewb/+2sl/vzjN+We89aUt7ODpeYFhZgKFSsoNxpnaHXANLP5UmBVr1xlc4bn7dy582oGl+o1amcvjRrfjD///AtJyTYhoUuX2/HooEF4+pnn0KDhTbi/T1/8+NPPOcSI3LAsFAKcMRj06riS7fleCQo6jEvSslVb1KnbQJVzy5at9m8vUdAxXi0u2v1EixZnAcPT0wODHnlY3YcjRjyGxMQkdQ/wPFCcef2NyTnOIxempaWmqlmKBEEQBEEQBEG4hAghglAAdCdo07qVcidg/Iju3bth4cJvssUCdrDZ0cwdk4PuFc6iQHHD/bKjnJFLEODfBYkEeUGLErr5PPnkEyqOBt0s8oNxUdLS0nO4hxDGTbFaCj+dMMsfHByElSt/xckTRy9beK5t2xkwZMij2LF9C9b+swoP9Lkf06a9o4KS5hcwldYzFosZ8fFx9hTtOpYvj7CwMOzdt8+ekhOeMwZTXbduvbK+eG7CCyr/7xZ9jWNHD2HL5g145JGB9q3/XeiWxGtAocgBxS1aqPA+pDjH88eFghan1+WsQ3mdx9mzZ14mWgmCIAiCIAhCWUeEEEEoJOyM9u/3oHJF2Lhps0pjB5sBRem+4UxCQiL279+PmxrnHfDyWqlSpaqyRNmxfYc9xQZdIY4csQUtzYtjx46jS9fuKphmbuhqQysTjwJiU3BK2p07diI6OsaeYuPwocPw9fPN4Z5RELSgoeUGf+cMBQkGcaXlDYUIuqNciIxUHf7Q0FD0087/E6NHqt9xppS8CAjwV6LHmTMR9hTAy8sL9/a6B/PnL8gO6urM1m3bMHfueyomCmN0pKSkYOiQwcrVhWIMy3L61Gn71v8udPtp2KABPvn0MxUI1RmeF85Uw/uuVq3aKkAut2eA3NwCGKcCFrcYQRAEQRAEQbgcEUIEoQjQneTOO3riyy/nK8sBRwf7k08+VUEy2VFNSkrCBx9+pLZv2bKF+ixuKDgweOfLr7yGzz//EuvXb1Azliz86muEhOQfEJTxN1q1aqVmZ6EYwo4yrVv+97+/1cwjjNkRHBSktmUnm5YJO3ftVjOxUAzgTCh+5fzwoXZ8PH4e77Zt2zBn7rvofW8vZY1RGLgdRaXp78zA36tWKwsTChvffrsIjw4eijMRNhHjG+3vceOeUlPKEooka9b8g+Dg4HxdgHhN2rRujd179uawXOnUqSOa33ILRjxmCxAbExOjZlVZ+PU3GD/+Gdx/f280aNAg262G15PiAvPgDD3Lli9X6VcLhSuKTAx4y/Oan0hBC45Ro0cqcWP8U8+o6xQXF6fipkyZMlVd51GjHleuV+Suu+7Enr371JTHvPcc14TTHtPNiBR234IgCIIgCIJQFhAhRBCKAK0DHnywL06cOKlm5KA40KNHdzz99FNah/1p1KxVFzc1aYbTp09j2tQpl8UOKS7oztLn/vswZ85M5c5BQeHcuXNqFhm6nOQHxQPOQNOieXM89NAjKv4FY28wBsdDD/XHY48NU8dIGjduhGHDhmqd7ifwzLMTlHUCO9/Tp01Vs6I0bdZcHe+o0WPw+IgR6NXrHvW7wsLzxpgXkya9jFq166F+g8b45dffMG3aFIRVraqO8aEBA1C3Th10vq2LinvRvkNHZQ0xatTI7HLmRZs2rbF3794c7iUMavr6669i6LAheO31yWjeojVatW6rXJ1emjQRY558QuUZElIek7Tz+MXnX6JuvYaoV78R1q5dh+HDhtlzujpobTNcO5+MP9KmbQes1a5bftSpXRtfLfgC/uXKqevU7JaWuO32bjhw8CA+/2yeCpLrgOeK98GmzZvVved8TejKRYqy79JEZlo4Ei4sR/SJKYg8OArn9/TFuV13qYXrTON33IbblgQoVGVSgEzPQEpqGpJSUpGYnAIMrAjLuJYwv3EfLJPvg2n1N7Bc/G+skK5EfmVut8GKvtvNGL/PjHeOmrEu2oTw1H/PJbAolMYyC4IgCILw36HTOnJ5OtpHRsUiJFimWBSEwkLLgSQ1TatRWSVcD2g5MGTocDw/4Tm0atXSnpo3jvISHx/vfIUFbsfXhGMqWAd0H8nKMhX428LADguDf+r1OmWN4TwLjgNardBixN3dvVAxL1jm2XPeVZYzAx9+yJ56CR4PrSdY7vyu1b95PRlThqJUXseaG0c53Nxcr3jshbkmRdl3SSUpaiXSYv+AKe2QPaVwGDzqwTOgG3yCu9tT/juyTCatY25S1zMvfEfmPduTuW5roP0DMDRqDwRVsaf+N1ypzE225v1ctPC1YFpdK6p5X/174WopjWUWBEEQBKFoFIdWIUKIIJRC6Nrw2WdfwFvr8NLFhJ1ePsq//PKrclP59NN5ylKgLEN3HlruNGzYQFlECKWflNi1SI78BuaMS9YdemMgjJ6N4OJZA0bXEOgM3irdak6BKfMCslJPwJS6DxbTpbg2ereq8AkZAK+ADvaUfw8VTDkzC2bLJasDvU6nnlkV8JaClLboDm2ELioC1uhwbX0TEB0BfcylODfmOq2B3uNhaFRyyrw53rZsSbCJi2czdGpxcG+wGeOqAWH/gbhQGsssCIIgCMLVIUKIIJRhtm7dpmJI0JIiICBATQ3LIKZvvP6qihtRmkf8BSE3MafmICP+D/tfgKtvR3gGdoWnX1N7SsGkJuxEasyfyExcY08B3Mp1Q2C1sfa/ip90TnGcdWn6Yk6NTAsjYz7WOrkx718H/LMYusObskUR0z1jYew84F+zDrnWMq+PsWDC4ZziwugqZvSrbEBld3tCMVMayywIgiAIwtUjQogglHHoLnLw4CEVv4OuK5xa1RHsUxBuBEyZMYg9+Va2G4yLd3P4VhgIN69a6m+SkZiIM5s3I+boUaTG2Cw/PAMDEVi7Nqq0agU3pyC+GSnHkHj+K2Qlb1N/010msPpEGF2LL54Pq9XU9Ixs9wyj0QA3V1cY9FcXlstyYD2sy2bAcHiT+pvuMvoRs6ELLj6rr8KWOTk5CWdOnUZEeDgytPdP+ZAQhNWogaDy5ZX1hYPF56yYewrZ4sKoyiYlLFTxKD6BtjBl5jaOoMd0wyNq2mmtrLldxP6LMguCIAiCcO2IECIIgiDcsFAEiTk+KdsVxit0MPxC+6h1snrRIvy1YAG2/fabPSVvmvfsia6PPIKO/frZU4CEC0uRcuELtW5wq4rAmpOLRQxRnfO09GwXDXc3V7g6uWZlZjKIp1nrmNu+ZxfbUQmzU24w6JSVl9HAzrpt3YF56TQYVsy2rddpDf3jxSOGXKnMxGwx48yJ41j199/Yt3MXzkWcUzFpfPx8UalqFdSoXRv33HsfQitWUEKDgxnHLXgv3Pb3qEom9KtSPMLClcrMuEJcGBOnIDg7FmPvOMff+bfKLAiCIAhC8SBCiCAIgnDDEnn4aZjtliB+VZ/Pjunx559/YtKkF7Fly1b1t6eXu3IPC9QWH29v1SHm6H9KaqpyF4uMuojU1HS0aN4Cb775Jrp27ap+lxK7DgnhU9S60aMeytedodavhRR2zu0WCp7ubtlBhk+GZ+GfLam4GG0GdQKDTqt6tb61EkKstk62Sjfq4KL9hEKIiwEICjKgaSN3hAbb8rEsnQ6sW6JcZWgZYnh8zjW7yeRXZmeiYyOx9KtvsOL75Yi6eFGVmYFJLTqL2r58cCjuuvsedL/rDtRpUF8dl4OZx614N9yWQiuL/lWM1+xykl+ZKXwwEHJRp4hmHCFa01EYIf9GmQVBEARBKB5ECBEEQRBuSJxjgvhVfQFeAe3V+htvvIGXX35ZWU9wSuRq1Sqjfv36Kihu7Tp1UKliBXh7eqlO+kWtw37o0CFs2bYNO3fuxKlTZ2C1AK+//jpeeukllR8DsCaEv63WrzVmiHOsCk93d+WqQd6Yk46XZ6Zqa6xulfRhWxx/ZssGTDBDr7NCr7fCwEXLwsWow8QnvfHc4za3N4oh+hWz1LqKGfLABLV+NeRX5txsXrcWc2fMUtNSW7V/7q4u4JY6Cjp6I4wu7tq5r4xO3bvi8SdHXzo0OzOPW/Cu3cqC8TeeqZX3fgpDfmVmnCSKINcCxRBvb1vA3eIsc1nEYs5CctQxnD/4B6JPbkBS5GGkJ0XzpoG7T3n4htZDcM32CK3XDd6BYdBp95EgCIIgFIbi0CoMr2rY13PAefe9va48TaUgCIIgFCcUJ1Ii56t1usP4BPdQ6+PGjcPbb78Neov4+ZVD586dMH7cUIx47C506XIzGjaoiypVaiK0QigqVghBndphaNnqZnTs2AmeXj44eOCA6iz/vWo14uPi0KNHD7h6hMECN2Ql74I5/Tj0rlVVWlHhrCXpmTYrBLppMFgnGfdaBt7+MFPr/GkdatXR0zrTem3Raev8m586/s1ONtddlGuJh5vWyfcwIDHFCxkmd/y1HohPtKJHRyN0DdopVxU9g6ge3gxz2/uh9y6n9lcU8itzXqz+8y9s37wZlqwUVA7wRq0QP9Sp6I/aFYIRqv1t1K5JpomWNR7o0q1rDhGEtAnQKTeWLQk6bE3Uo3ewGeVcbSJDUcivzJwlitc2NxzroZWIw02GcZW4MB/GCaGg5hwnhPFE+BtahhRXmcsaVu3eTIk5hfDt3+Hk5vmIPrkRafFntS9McPP0gourB8ymDGQkRSPp4lHEReyAKTUBbt5BMLrnPYW6IAiCIDhTHFqFCCGCcJ2hCTcb8WycZ2RkKhNtZx97QShrxJ56G1ZzggqMGlB1tEqjJQhFEBh08HZ3xX197sO0qZPRrFEMPF3mwWD6HnqkQaevBOjctI74BejMB7XPA1pd5ot6jdtqnXU91m/apJ65zZs2q45wx44d4e7dAOnJR2DJPAdTeji8g+9S+ywKDNrJDjStE9zt7hVvzM3E2x9laR07WlBkIaAc4OGuUyKHOxdXpls5QA6LRaf9Xq+V1wwfzyQ0q38RTeolYt9RP5tYorF5F61EgI6tDNA3aAfr2u+gS02EbsdK6Jr3ADy1bYtAXmXOjx07d2Lvzq1oWzcU/W6/BT3a3owOtzRB2+ZN0LJJHVT190FUQhLSXbzQ887udouQnB3atgE6LD1vRZJZB0+dBe0Ci/6ey6vMFEDyE0F4rSmAUODgJwNLUxRxCB50qeH71rnzzd/wbwZTLY4ylyUogsSf24Ozu3/Aub0/IyXmMHy8zAgq74aQCl4oH+qNgGB3lCtn1J4FK8yZyUi8eAYp8RGwmLX6z91Pex6DtJtHxBBBEAQhf0QIEYQbgG3btqNrt574eN4n+PnnX9BJ65gx3oGQP+zIsOND8YidltyzP5QWGGwyVXvXltby/xskRa1ERpzNJcY/bAKMrgEqJsiQIUNUmpuLK+o3aoxPv3gXIf6ZMJhGQJ+1EQYzA6qeBPSVobNodVfGJ0Dm89CbVsCMTfBwbY96Dbtg2eIfkZAQB4vVglWrVqFdu3aoWbMmjG5VkBb7uxJgYAjKMSvNlaAbTpbdVcPD3R167Vr+udaEIRPStBSLVuYstGgUhTfGpaP5TaloeVMKmtZPRrMGiWhSLxVenimITzRr94Kr1jE3oWJQDG6qG4UT4W6IuMhOITvftvtj1SatM36LHjXD9LA06wb9H59Bl5YIc+X60FdrrLYpDHmVuSDoYhR7+iDa1gtBo5pVtHdUEHx9fFU7wcvbE+6uemRkmpBm9EanLrQIYRDTy0WDhCxgMy0skvS4t4gWFnmVmeJGQoJ2zXJBkYNWH7GxsfDz80NgYKBypeL2FD747J0+fRq+vr7q+cstPlMoYTqFkmspc1mDliAUQSJ2L4M57QJCKvmjSo1gVArzQ0gFd5QLMMI/wAUBQZ7w9fdWLlXJSZlIuHgKKXER2t8e8PSvAhePool6giAIQtmiTAsh7PwsX74CK//4A5s2bb5scdEaLxUrVrRvLVwPTBYTPtn+Hb7Z+xNWHl+rOno1A4pvusd/m5Ur/8DGTZtQu1YtZaXhjOP+O3PmDGrVqmlPvTrOnj2LY8eP49dffsLoUSNziCBsjP+zdi2mTZ2OTz/7HDt37kK5cuVQoUJome44L/9hBR54oJ8Sj86fO49OnTpedo2codjw008/Y/r0mfjiy/k4duw4qlWrpjpI1wqv38CBjyI1LRXNmja1pxYMr+usWXMw/LHHsXjxErRv3w7lywfbvy1+/vzzLwx85FG0bNUCIeXL21NLJvERH8Jqioarb0f4htyt0vr3749z586pdV8fLwwe9ig6deyhdYR3wpD1g5aaqCwQLAYvWI01tQ7zGVgzl8MVF7WuuB5GkxEmoxkubndgy9ZV2vN2KrtDzQ7+8OHDleCSkXoW5ozTsJgS4BXUXX1fGNIzbNYFrHccM5f0H5uOc5EUAwwwm3WIiTPiloaxmPGJFas2umDDDr22uGDvIaBFExOqatXVgWN6+HpbUTssAeWDEnFTAz/8s9UTNrcZHqFtOXTCiuH9XKD3Kgdz5GnozxyANTUR+lsf1L4vHHmVuSB279yJuPAjqBbsCf+g8nD38oerp3a+Xd2QbtIjPiEB585HQh9QGc3btNVKSSsL+4+daON/ycLCS180C4u8yhwfH589La4DbkOh9MKFC4iLi1Np3O7kyZMqje9OCh98j9NChIIHRZLcUEhh+rWUuSzBmCB0h6ElCEWQCmGhqHdToFZnGbT3M+/dS/DeYPwbXrqkZCtSEhKRkRILU0aK9ix6oVylxto2cp7zg3XIb7/9jrffno4VK35S1m2s05ynsM4Nn5MNGzdiyltvY/78r1QMpRo1ql927/OZ+e67JZg2/R388stvKm5O1apVc4iFfMb27z+AGTNm4f0PPsy3TnVuw3CffA5r166VHZTYAZ/LDz/8GNPfmYH1GzYiOCiozLdz8sJxDb//fplWl4fA39/f/g1U8OjVq9fgjTfewsKF36hzzevrPCMWYXvo20XfYeq06er6FubeEXLC+5rnevLkt/Cd1oZjYPbatWurdijjVC1eslRrs5xHrZo1L7uH+Xx99dXXKo8qVSrbU4WroTi0ihuulsnKzNI6PL/gxMlT9hTherH29Da8s+EzfH9gpVoORh23f1M62LV7N15++VUs0V5orPSdYQN53bp1apt/i5iYGDzx5FiMH/8MAoMC0bHjrXBxdVGd54kTJ6kGfHHCkVK+1H/9teCpSEsCfR/og5MnjmLRt1/bU/Ln4sUoDBk6DF8t/Brdu3fFyMdHqHN73/0PaI2AX+1bFQ6OID85Zpz6dMBGZIOGDYokvB44cBA///ILFn/3LTZtXIf69evZv7l2du3arcoYH39plDxIa1Tecksz+GoN2pJMZlp49iwxnoG2mV04Re7WrbbZYQifgQZ1a2mNC5O21NF6VAHQWY2qsaHTBUGHmtDr/LTPLC1dB5POAos+CwYz42+Y4R9YPkeDj3mv0fZBHPs0aWVgWQqD5eJp6A5ugD7mrNYIsrmwLPopC1t324QWbQvV68vIcscvqz3Q5hYtReeDpDR/pGf5IT7FH8fO+CAhyQpfr0yYzFZkmAxap9IVf661wsstXTsO5sXOPherlneW2ofi1r7qw3B4kypLYWBj2jHjSkFxQZwJdrOgRqh2fnUu2HXgOP5ZvwEHD+3F7j178Nufq3DmbCQCynnDy5AFvSktl1NMTsZUs71PP4gwIjw1p4iRH3mVmZZhFDMc8D3NxiVdDfk+Y2eLn7QKYRrzoIUHn1kvLy/VaGVnMC+3GsK8uQ9yNWUuazAw6sVj/yA9KQLBFQNQp2E5uLny9s9Zf9rQISbajBNHEnHhlPbca3UqSbhwAJFH/kZagk34FC6H9/hbb72tRIguXW5XC9eZxu/ygs/OnLnvYsKEiWim1QXDhg3BkaNH0ffBAerTAevLkaOewNq1azHokYFo176t1rF+E3PffS/7+eNztlTriD86eChCQkPwxOhR6llhnbp+wwa1DeH2FElef20yOnTogEGDBmLd+vV4bMRItR8H3P+Ahx5RovSIx4arzvuYsePwwYcfZe9TAKKjo/Haa29gxIhR+OCDjxAVdekc8jzxGj3/wou4pXmz7HPdr/9DSgB24GgP/f77Sgzo30+1iT786GO88C+0KW9UHPc128t89h58sC+WL/8BY8aMVe0uCoeVKlXC1KnTcNTp2SJ8dn788Sc1OFWjRg17qnA9KbVCCBswffrch/HjtI6i03J7l9ug1+sKPTIr/DvEpiUoESTTfKmRWhqhkv7uex+ozuV/CRszM2fNUY333379CZPfeF3d3/xcsWIZDh85kqdAcy2wk8CKNjklxZ5yY7Bk6VKUL18eXy9coCqs7t27YebMd/Dss0/j8y++VJ2kwkIrAloBOawJCEdkprw1GT17FN6CgJ0z/q5atbDsGAXFBfOOiIjQ7o1LnbWmTW/Gu3NnIyys6EFA/0vSErarT70xEJ5+tnf4XwsWqE8H2m2KxKQUrfIyw6oLgsXtVZjc+sHq2g864yhY9W1gcGkJo9vtyDJovTAYYdFX1L67V+uQmVUjJvdz86d9H9wn900cZbkSlgPr4TnrYbUY7QLLgmVsvPOaXlrMZgM27gxEhfJG1A1LhIc7y2+AFS6IvKh9asdVu1oGqlZIQLOGyaheFWhQM0H7HedoYb7Mh/ICF719H4ChYXtYAm2jSixLYTDZOxd0LXGUOT94rnjOQszRCAvyQJC/L6pWqoKQ4BC4G4wI8PZB9cphKB8Siipap6hZgIv2fKTluP9y07eiHpXcbNegsKJCXmV2iBSEZeR70yF8kNDQUNVW4HYUyjiqTTcoNlJpWcdnj9+xA5BfB9Kxj6spc1mDs8OkxkfAr5w7Qiv7FyiCRF4w4fTxWFw8dyFbBCEWUyZS48IRefh/9hQhNxs3blKd3I/nfYgBA/qphetM43d5ER4erjq/c+bMxPBhQ1U9+M70qWjR/Bas+OHH7HciBwdo1TF79ky1zdAhg/Huu3OwcuWfWqfumNomISERi79bgldenoSnxo9TncFXX30Zjz76CJYsXpr9zBw6dFgNrPD3LONdd92J99+bq/KnNTfhszdr5mx06nQr5s37CD179lBtnY8/+gA///xr9j7LOuxgjxk7Xq1/op2nkJAQte5g3br1Wpvwe3z+2SfKspjn+tNPPkabNm3wzTeL1PuRrNfuEQ4EfPD+e2obtok++OA97NmzB3v37lPbCAXDc03Pg0WLvlH3da977sZHH36gngsKiKR9u7bK7Xb+goU56pbjx08oq+SRox7XrmHJts4tKxRf67sEwJuNL+eePXuievVq9lThv4bN9vm7lmHfxSOoHVgNtQJKduerIDgrxX2978U7M2YqK4IrwUp74osv4d7e92PkyNFqdIQCQ1GhxQArrEkvTkSFChXsqTbCtMb8kMGP4sefflYmdqwgaQGQW6xhA4SKNTsGhOVYu3YdhgwZrsrHctKtg9DCYcTjo7B6zT9477331ffO+V3puBz74kt+/Pin1XYffTRPxfDgsbB8TJsz593LRl9pEjt9+gz1Pcv299+rsittlp350q3lN45gPDQQH3/8ifquMPD3PLZKlSrmMP9lp4jX9bNPP8lhyhsefkbtj2XhvhZ8tVCZkRIeIy10jhw5qj4dVhd5nX8KSjNnzc7Oh+XnMTmO58VJL+HgwUPKXcXZeqOg/Tso6Hzx3Djnzby4z7ysRHhtli5dpvZDN6P33vtAlft6kpVqswYxejZSnxmJidj6W04LpfT0DGzevAUWs0VrvBthNrSFxeV5mFwmINOlGyy6EFj1NWB1HQW926fQuc+B1e0d7fvq0Fn1Wif5cleKbdo+uC/i2LejLFfk4hnbZ5BNjEhMtuK31Zc6dg6s2j2XmuGO5X96o2VTMxrUSoSHKxtIOpy54IL0DMb+SEKj2qnYud8Fqzf7ICjQFd07JGgdf5bXJoDYPqHtw6z2Rax1W6tP3cG8O0G5MWvnjhTWFJrPi3tgCDzc3eDv642aVYJRrUIAAn28UCHIH3VrVUHlCoHwdHeBV0AQdG6e+XSALye8kIOQucvMjhvvbQeM+cH7l+nu7u7qk2kcnaPQyIXiB8VAuh/yfcBpchkjhO8kWobkBffh6CQ6KGyZyxqcIteUngQfP+0+0e7dvO4BPnpRF004czIWUedikJHr/cYWRGZKLKJPbLT/LTjDd/2q1WvQvVs35bbrgOtM43eO+sAZdtKY7ud7qb6jS1it2rVwITJStZ/5XgwODlJ1I58bB6w/PTzcs2Px0PQ/PiFeDTA44Duibp06WpvinPbM2Dp+fOb69+uXoz3OfGnx4XB1jImJxZmICNxz99053kd169ZVU6LnJ+yUNQwGPZ56ahxeeeUl7Rpd7ka7b/9+ZTVct24de4rt+t51Z0/l4h1lr9vPnT+v3I7cqFLaCfD3R5XKVbKviZA/juePIpKzkMH1L7/8DLfd1ln9zXM/+NFBqh2/br3NSoq//ebbb9GiRQu0ad1KpQnXnxtKCNm7bx+279ih1LnCNvCE/DFbLVi8/zclaBSFHef2KyHE08Udz7YbhnLuvvZvSh/0RR8y5FF1P7FTmlcDwwHFgYcefgRBQYF49pmn0bJlSzzzzHP4ftnyyxrSV4KxQBo3bpyv6dzdd9+F75cuVg16jrzSAsC5U0Bo2cGOARs33D/L8cqrr2u/vVOVj5XfqFFP4rxWMTKQ4LChQ9CgQX01pSi/r1q1isqnMMfFfW3avFmZ3nbr3g2PDHwYC7/+Bi+9/KqyuuitNaxoZvvDDyuUGOI4jzSJfXjgICQkJqiRJZbN2QyXZecxzF/wlfKJZR5t2hS+AqFpPM8jBaAjR3LexxwpLlfOL/tdwbLQ1DcmNhZjxjyJgdoxMHjtOzNmqLIwH94LHGXm56BHHtY6Ux6XnX+ano4d95QaleYxMZ/PPv8CCxd+rfbVq9fd6N+/n3KlGT16VHY+V9o/ye98vf/+h2qbzp075sib++KoN8vmbCXCUbgXJ72MxUuWqP1wdILvTwo8zibL/zXmDJuo4OJpu+/PaPdUbtLT07Bq1RocPXpciSGAN6y6irDoKXQEaZWai9Yqd4PFWANml24wG+6G1dBE64H5ICszDcdPnshh0ePAsS/Hvh1luRK6w7bfWevZxIjNO7Uy8bnguVafTotG+DkvrNrkjmYNTWhzcwLK+aQhLd2AvUd8sPIff2zaFYBj4UFITXPTnisjMun6kTsf+6L2pWGtb9s3oiNsn1fAIQSxcX0l2MFhh8a/VmOY3f2Rpp07S1Y6skzpSDGZwDPpatRBp60nm6zwDqurZeyu/c72+/xoVU47Bo2tiVfY0E7uMjuPslHI4Cg00zjyTfHz2LFj2Kfd04cPH0ak1tHj80ixg0IiP9mZ43HR6o+/L0gEdOyrqGUuayRFHtb+b4aHlys4I0xuaPgRF2vGqWMJiDwbhbR8rA9NmSlIvMi8hNxQ3Dt+/DgaNWqonk0HXGcav+M2ueGACoU/ukk46m0KG1u3bsPNNzdRdSWfB3bwaAniDMUNur6wnUACAwNU7APGCHE8l3xGGNuDefn4eKs0unyyrqQbmgM+dydOnET16tXV3yZTlso7NywLO5Pntee1qO2nGxEKSM1vuUWdl7zgAEFeGI0uajCF1sWkUcOG2j1wSglQDnhPUCCpX7++PUXIj6SkZBw8eBD169VVbWf2C+gmw8Em1iXO93rNmjWUGPLZZ5+rgVS2kf/5Zy2GDxtyWdwW4fpxwwghbAR9tWChWIMUExRB5m6ajwl/TsPwH1/EHtXAuTLJWgNm+vpPEZeeiPvqd0fbys3s35ReaDHw3LPPqNgzfJHlBUfa6bM5WutQ0qyzXbu2GDx4EKa+PQWff/4lws8UrlPl4GLURVSuXEl1kIsDjv6vX7cejz/+mBIlWL4xY57AcxOeUS9uNpBatGiO8sHBKvgrv6fIUpTjYmX79NPjlYvIfff1Vvlv374DTz45Grd17qT2+9LLk1SFwcqEDScGT7vzzjvw2quv4NZbO6htcpvhEnbs586ZpRpoN910kz21cNyvlaV1q1a4t3cfZf2wZOn3Wsfo4mWNK08PTzz91Djt2N5S5eVxTJjwrBKlOJrCoFZ0ufP19VGfzZs3Vw213LBRQaHh6afGq2NiPrNnzVDuKRRCKKiwMeLn56uVq2V2Plfav+N8MU/n80VTZ1bM7NzVqVMnR97cV16i8P/+97fqIM6ZPVPth/ubNfMdNcJHceR6NTwtWbbOqNE1VH3G5PKvJSaTGadPhatgsydPncChwwfw3XdLcULrAMBq1noEWtlVkEUKIu6w6n3YS0CW2aI13I/gzOkIFeMnN459GV1tJseOslwJwxH7iGW9turj7PkkVPA/py3nbZ/luJzNXkLLRSI+JkF7dhJRL+wC7mx3HE1qhcNojdM6iSnITEtGqH8C6laN144tDUbEIkTlcca+RGiLLc+z55LUPnVBNtFSF1NIIcR+ffVFCEbpW7EGfKo1QqLJgmPaOTx95iKiopJw7lwMTp0+g6i4RFi8y8MvrE6hGhat7APTZ/Nuv19G7jI7xEHCTiCFTTYu+Szxk9eYAsiJEyeUMMLn8sCBA+qTlnBsmLLDyI4c348Oc/68cOyrqGUua6QnRcNgNGrXgu/FnO8Q9pcT4s04fiQZ506dycMS5BJmUyYykq+vdVpJhfcihbu8ZpZjGr9zfjYccMT69ddeUXE3aLXJQJkc4GCQTNaR+cG6jKb8HW+9NbttTWuqiRNfUC4Cw4ePUPFJHhk0WImNbGPkVecQ1iu/r/xDa1fEq/wIxRXWO7RacK53+JxyAOOi9gzz+RQKpkH9etixY4cSNBzwPmAsCp7LuFhb0GgGZu/Xry8GDxmKNya/iUkvvYynn3kOTz4xKoc1iZA3cXGxqm7ZqbVj7+/zoBpgO3rkqIrFwoHA3PVSr1691PPw5ZcLlJX0wIcfUkFVhZLDDSOE7Ni5E4e1m5FxQ/J7CQuFwyGCzN28QE0xeS7pIkb8NKlQYggtSDaf3Y0a/lUwuuVD7H/cENBEc8SI4VqHdq7qROeGDetYraKhT6DzKA1HR2hJsWP7DnvK9YFWATQBX/n7SjUaw8Y/Owzt2rZV6flRlOPiOQoOumSySRcedsidA3R6aQ0ok9mkNXgsiI2LAwNJdevaNcczy8YWrVFYeTto26a1anxdDfzdiy++gN9/+0U1AiiYtm7TDo+PHK2OzwGFJ4oyPC88PxSBOCMNR7CSk/IOppgXFK+ioqLxh9YAYSOSsLFJAcf5HObmSvvn+WJHLrcJMfP98MP3L3Ohyg9W1Nt37FQNUVq3OOB5oiiyZvU/yoz6emC12M6XzmAbVUnN5Y6m106fr7sejcq74vdff1EuQm+9NQ1z5nyIDRvWKUsZq1XbiA1qbeH5j4g4ozrER7UGy+dffIFqvjr4exq1c6i3O5nYumyOfekMttFMR1kKjT2zJpV24rUHv8Lr/WzLawO+w6uPrsGrQ7fh1UF/47VBf2HSozvQu8Nh3Nd8NUZ1WYJJ932tbfs13uj/LV576Ac8138DHuq0Cf1v24dHexzEyw/9iNe07y/lu0AtTSrvVPvUxVy6jwtDdocj/9vxMlzdvVCxbhMkW9wRnZACi9kKi8mKtNQMFbPlYnI6vCrXgpsPA9WSK2Ru/3prYuHq69xldoxEE967fI+xI1irVi00aNBAucAwnfc7nyHG9qGFCN8rXOezT+sQfscR6YLEv+x9FbHMZQ6+37TzyH85cQRG1d5pp07BbLq8o34ZN0rjoYTA52Drtu3afX8OOr0eRoMtaPCuXbu05yDSvlVO+BvOzMZnZdCgR7LrHT4ru3fvxqHDh5Xwpdfepazb9+3bn6Pezg1nO6FFKAdJHG4FfG4pnnz22RdKUNm9ew9W/PgTxo57Wo2oq/zzsYIQLkG3mEaNGmHs2PH466//Ydu2bXjl1deUlXxYWFVV3xGKUHTVcLgaOgJKc8ClIDFYsMHzxj4AXaW//XahitvHeDo/LP9exdfhuXeGVseM2cJg/Q5hpKB2oPDfc0O8XfjwMkDTnXf2RNUqtpEx4erILYI4KIwYciLuDD7a9i0MOj3GtxmMij45gzmVZvjiuvuuO1FVq1A+njfvshFljsK4u7spk1FnOEoZqDXOs/IYgS4ImjOyI5yXyejVwHKMHfskvLy90b3HHWh2S0vlBsGGS0EdgKIcl0FrrBTl/c7OPacXu+vuXqheo3b20qjxzWoUI0nbtwP9NYqbvH4UV0aNfBw//rgcmzauV77Qz014ITv2C0edaOXS8467UbNWXSWWzJv3qfquKLAx8sLzz6kGX8NGTVR+dI3JHesjN1faP88XrxWtd64FWpbEx8UhrFqYOi/OsCPpEKpKArnvTG93Izo1DMawrrXRu2kAovavw9ZVv+HA3t1Yv3ELzrGRr35l1Z7RTCWOf/jRJ/jovQ+x6Zev4BO9A492qo4+rcLg70WLEW3TYm6T3FztJIbe9j8M7WxbhnTZgEfvuYBBdxzDo933aMteDO6ulaPzOnSstQ6tq2xA71v+Ub8Z3GU9BvXYgwfa7UCHWpvxSJdduKP5cQy6N037bqO2zSoM6fx39sJ9/VfotOZCUGglmI0+OB+XiqQsi5o6N0NLT8iwIN7iiuAqNbRTryvUKa1knz2zoj0A6bXA+5idNL6X2Gmi8EthkALugAEDcPfdd2dbR9FChBZUFEUoLNIvnmJI7nd6XhRnmW9E3H3Ka+cxC1kqrorjLsgrMGrB589gdIW79783nfiNAN/TuckrzQGtN779dhEWLpyvrP9ovfntNwvRpk1rTJ/+TrZo74AiCF1U16z5B2+9ORnO07sfPnxEBXOfPv1tzPv4Q2Ut+umn8zBy5AhMfnNKnoNFdLHljDUTnnsGbdu0safa4N+ffzYPe/buRf8BDys32Klvv6nEeu4391S7wuVQ1Hrj9deU1SzjuY0aPUYFhX5z8huoXKmy1iH3V9eUVgmMofTzTz/gpUkvqmXpksUqxgjdnYXCQRdkDvY5oDXNbbfdho2bNqvz7Azrng4d2iu3MwojQsnihhBCHNYgjJsgStu1sfb0VpxNikTv+l1xf4PuOZY2VZpi5bF/EJ+e92jx4egTiEyORpbFhCd/fR1hszqi4ft3YNu5ver7mRs/R5tP++JCKTV5ZUVDqxD6+NG80xmq7RQtMuy+5A6oMZidRi4LC90oDuw/oKwx8oKxIj759DMllhQWmqDSveTA/j1q2tkKoaEqJoVzkM/cFPdxOcO8KUasXPmrmgo398Ipcv8tOBo14rHHVFwAjmBRYPj0s8/x408/YdKkF9Q5OnRwn5pdpqjCA99BtOxYv24Ntm/bjDFPjsYyrYHx5ltTsmMN5KYw++f5YmctdyyYosKOIkfZUpIv9yMvqCH9X6DT26x+rGabCOZp90l34OVqQKsafmjXqCLG9KyL4bfXwsOda+PmsHI4tGcvTmjXMsusdcS0hgiv668//oC/f1iEY+uWw/38ZvRrEYw65d1RoZyLdj5zdscc+7KabefFUZZCw4dCQ2f0hc5qubRQFtB7aQ9MEvSZF6HLioUh9QSMSfugz9Keb84cY/SG1T0UZvdKsOpcYUg/C0PGBRjSwrX1M4BPQy0Pdy0nq7YwT/ui7UtRcL/yMrLrSXuZC4W2bUJ8PCxaR/dsVDx2HjuDncdPY8exE9h7MgKR8emIi+d1czQrCq6LN8cXra7OXebco8T83rENPymK0O2P7z3HbDFcKleurDoIFEoo/PG9zu2dLUxy49hXUctc1vANraedSxekpWSCg8s8pQUHRs0bo5sPfEMkXkFe8H5l7LAjhy93G2Qav+M2uaFbb/v27VHTKe4YhUHWVRyQ4OKA9dGy5T+oEe5p095WwU2doWBBF9qbmzSxp9ieObpYWi1WnDp1yp5qg+2VV155TQ3GsDPoeE4d8G9aNi6Y/4Wq+/jJeBVHjx1DHXEjKDS0Rh35+Ahs2bxBLVynyEsLLU6hzzgh27ZvV9fc+R6h2HRvr3u09sp2sQq5AjyPbDszgLAzvIeZnpeoztudA4VCyaTUXxmxBileOlVrhXe6PY+Z3SfmuTzbbnipDn56rbBSplUBTfI3b9liTwUq2++9w4dyWsxERUfh2LHjRa7MGYPCr5yfijCdW13myA1nBzkTfkZr6HvCzc1dNe6dTVLZkHGeBYF50LyVFh7sINSrVxfjx49To0FsbORHcR+XM+ygsJOfO2+KBRxRKqhjUljos3x/n75q1pbcOOIDeHh4KmuMY0ePYcCA/spdyBHIitYiNCUtCmxscPYXVozsaHE6wIkTn1ejz3kFsSOF2T/9qBkrhSavvL4OaN5Pi5O8RuHygqNrjCOyRbt/nUcBmSfNY+vVq3fNVidXi94lSH2aMm2m2kG57q/UTBN2HI/Gb1vDceB0HKr7GzHw9kYY1LkWqhjjEXViP45oDeldWzZi3W/LELnnb/Rp6o/Hu1ZD4xBf7AuPxld/H8Sn/zuEqES7oGQ/lYH2fZkyL6hPR1muhNU+da012h4vx71qDglAZ8mCLjNKq2z1MGSchyE9HHrtb+iMsLgGwewWCotbBe2zAqwu/tpvrdCbkqG3ZsGQFQtjxlktD943toIyb8fCfRFrdLj6dN5vQXAKWuKIu1EYsjLT8c+aNYi7cAbBPi4wZ6XhNN1LLl5AekoiIiPC8evKv1RHyEbBpTmbYduupW/hnvPcZXZ2DysIihhs9HO6SbqoMeYTAw9SJKEbGhc2XAvqADj2VdQylzWCa7aHi4cfEhMycPFCOuJiTVcMjHoZ2nV28wrQ8rLF3BFywvc3XVP/+t//cgyEcH3V6tXZgU9zQyvTNO19n7s9wY5beka6EtoJ64Hly3/Ap59+hvfenZtnHc8g8qzLcgedZtD01LTU7LwIY32NGTMew4cPU7FIcosgrC85w1nuOprtGdaJzW4p/XHm/gt+++13FfPF+Z7gtaZ1Ldt5dFPW6WwuUSlO1raE1zxaa2uIG9KVYSBgPmMb1m/M8SzxOaLYSNFQLJhKF6X+jhdrkJJDz9odcXr8mhzL/tG/onnFxur7p9oMwcZhixHqXbgORkmFIxpdu3bJ4VcbonVSqbLPmj1HBaFkxcKOKX1eGcm9qEGoaD5H65PFi5coP082CjhVLl1Zxj/1jOqwPjzwISVqcFo75j/vk8+UtQpn/fjii/lqhhYHDE5KNxAKKOx0UwDYv38/9u7dq8pOaE7uoXUYOF0dO9e0BCnu43KGvsH9+z2I6e/MwN+rVqtKhWWj+S4tVTil3rXi7++PLl1ux9Rp76gAoezs8LjoN/v8CxO1Cu1mVXGxM8Qp6Wg+7JiCk7FUeNzOsIJjHlu3blUNjrzEGpoSs/yMqM98WEFy36FaRyy/CrIw+2fHjaM2FD0cUyRy27emTMXePXu182mLxcJ98PoxmBcbmcwrN7fd3hmnToer2Xh4zpkXrZwWLVqs9sH76npgcLMJb1mpJ9RnlVY5ZwhKSDPj+12xeHnRXkxdvBXrdh5ETFQM2tYNwuAOYSgfvxtbvv8Qf3w5A2n7fkO/Jr7o1jQMF6IT8MPGfXhn6S58szkWZxP0Kq6qo7PO/zv25di3oyxXwpJ76lrvhqozl401A/qMs7B4VIVVZzuvFr0nzG4VtbQw7YLx+bNAn3IM+tST2oPorSxDKJQ4UHdZXu5K3JeG7pBt3+a296vPK+Fo7Dr8xC/Be8V2v/C+4feJickID4/A9p378Pufq7T7OQENaoSia+t6uO/2luh1Wzu0aVIXLsjA9m27cTr8rPqNyWLWcrqUX24i7LqDw93kSuQuM5+ZokAxhM8YxT8+F5wxg0Ipn2cKxPmJlMSxr6KWuawRWq8bPAOqIikhCyePROPYkaQrBkbNjcHoDq/AMITUu92eIuSGcbUyMzJV4FOK5Vy4nqadZ35HaOnZtVsPNdU4obXG//5epdoArDf4HLAe5KxjDNhNKynCOB7Tpr+DJ0aPUpaTbHc4FodYSHGCeXBGs4iIs1peaWpg5PXX3lCWVrVq2cQTtkVeevkVtGrZQu2fz5wjL0fdRFGyy+23aXXdXGzZslXlRQuSF198WbkTVLaXSygYds55fnkf8L3Gdc5Ut/KPP9CzRw/VP6IYwrrf0R7ie4/tmMVLlqpgnrff1lk68VeAongvrY20XGtf8/zy/LG9NXvOXCX69eje3b6lUFoo1UIIOxgLFiwUaxDhP4WN4idGj1TBQR2wkhk6ZLASDXrdez9q1KyD9h06wr9cOUx84fnsEf6iQMuAhV8tUIE3u3W3xfXo88CDKs+vFnyRPVLDfVNQ4FR1gx4dgls7dkZcfLyKTu2Awsrzzz+nrFjqN2isYlCMfmKMdhyjVQBRws7v8GFDleVIm7YdsFbrlP8bx+VMjx7d1ZS8kya9jFq166my/fLrb5g2bUoO/8urxVF+znTDyOgNGt6EOnUb4KGHHkGzZk2zj4GVGwO2URBo0bKNOs5x457Cww8N0M5dOXtutoCmTz4xWjXaHnp4IC5GXT7VLEWy++/vrSxRmM9NTZqpAHWTJk3M02SZFHb/PF9PP/2Udi0nqvPFbfmbF5yuRePGjTBMu46jRj2BZ56dkMPqwwHPLWebWbVqtTrnzGva1Ol468030FJrtF4vXDzrqU9T6j716ebrixY9e6r1bLR+dYbWF956AZj+2xksW7sfR07HIMDHiLr+ZjTUn0DXymno3iwMHq46rNt7ClOW7sHUlZE4EEtRgR1pdtKZl62T3lzbB/dFHPt2lOVKOKau1R22CyEM9Opnn85WQ2fJhC7zopbuDrN7FVg5ta9HZVh0RhiSD8OYsB3GlKMwmBJgzIyGIeMirF41YXYpD4veQ9teq6a1Yuq0Mtvin9gp18a2Lw29fd86RpMtBI4RW947l2DeViXuqTgyCfEIDz+HNf9swUcff4U3p8xBhPZ3ptkAN+1eCwrwQ7BafOHv4wG9zgUpSSZ88eVSrF67FadPR2gdngRkZDJehG0Ptn3Y2JJoK0Nrf6djKoDcZeazXZRGO4UUbs+OFy2e+Lzwncfjpc98flZQ/A33RYpa5rKGd2AYQmt3hod/GBJionDhVLg9JkjhKVepsRJU3LwkRkh+UKCYOnWKGsxo3qK1WrjONEcQUraPz5+/oHXUbBaF7CgzDgdHrVlvMH4V60HOPsaYVmzXUOighTUHO8aMHa/aHM7LTz//ovJi/fHJvI8RGxOLzrd10fK6CT3vuEtZLU6fNjU7DsLqNWuUEMMpRlu2apsjr5dfflWJ8Kr90r+fVpb+eGyE1q7S8rrnnt7o1LkjHntsmKobhStDAYqutLwPbmneCjc3ba7aUrNmzVBBZ4mjPTRu7Bi8pJ3/xjc1RdNmzfHRhx/jjTdeU+0L4cpwEHCu1n76dtFidf7YXt67d59qUznOtVB60FnzGi7UiIyKRUjw5dNzCYJQMLQ4sAUZdS+UUMCGAgUM+tzSXYRT3HHGA2eYZ0pKqjLLK6hhQBNvVnb5bcPHnQ0ki4UjMfnnxTgUbBg5OgCkqMdVFNgZSUxM0jorOtVRcd5vQfDc0YJkypQ3r1gmxz4YCJSdnrysHpzPDy0s8jMTZV48HwV1xBzni+fReW75gijs/tkZpJWPi4sx37y5DfOjpU9+FHZ//xWZaeGIPjxSrZerPhmefk2xetEidO7fX6URBu200tFEZ4LFoIO3wYoQX1c8c1cDtGtYGW6uBjWDriXLhL3HIvD+X4exOSITGem22SwoRMDKWC2Xqr7V2j3Usd+DSE3YifiTk1RaUN0P4epxZTHOemA9dFMeUOvm5xfD0LA9EPMncMyWD7HqDDC5VYIl9H7oo36HxZoBl/Rz0FsunxbSoh2bxa08LH7NoEuPAtJOwFzxQbicXQiDySk+U63JQGBXmCNPw/CMLfigZcZG6MvnfHfkBe/fZPsovaeHO4zqPWCzAElOyUBExAVs2bobO7bvRkJSKpKTUhAdHQEPdw+0qh2AjvV8USnQEy5uXnB1cceZs1FYsW4fjqUFKqsXd3dv+Hi7o0XzJmjdtjGqVq4Ab0836A22e3F9jAUP77Hda8c7akdciPsurzKz41YU1zWHNZfNrD9Lvef4DFMsZCeOwe5yQyGS75arKXNZJDU2HOE7lyB8x2IkRxctmK9vSF2E3dIPVW6+D+5+hZsFq6zjsGQqbB1D+BxkZGResT1RGBz1XH51alFw1Gt0+b1eVok3ArwneC4Laks56n5SlDaXkJOref6E4qM4tAoRQgThOkMzxoMHD6l1NkqoNl+vGA2lBU5dNu+TT1UDjPEuCiOECKWDi4efhintEFx9OyKoxnMqrWXLlqoDq9Daa3qt1mLwsdoVvNGqYRg61/BA3QqeWoPOCynpGbBkpsPT3Q06Fw/Epmbih40nsGD1ccRkWGEwaw1uLRtHxdeiRQsVL4VEn5iGzMQ1MHjUQ0jdGSqtMFjHtYQuJkK5yegnLbMl7h8MJB+wrdOWQ9uhiQJHhd7QR/6s4oXobf45l8GyWQxesPi1gMmvJfTmJLieXQid9qnwagA0+kKtmj8cA8OGpSpWiW72pbhFVyIlzeYSRX9/D+1ckajoeKxcuRqrVq9HcmoG3FzctQ6/AenpaUhOilWdnqoh5dCrTTXcXM0PrtZMpKVn4eDpaPy88TDOmcvDzYMuWjpkmVJ5EPDwNKBj+1a4887OqBBqG61uv8GKsxk6jKpswrO18xfqcpNXmWmiz3JdCTZ12AFkrB7+hqPRFDP4zqUQQreZTp062be2wc4Yg+ORqy1zWYNCc+L5Azh/8A+cP7ASCRcOwGLKKTzmgMK90V1ZglRs0BOh9brAJ4Qul9IxEwRBEPKnOLQKw6sa9vUcpKSmwdtLOhaC8G/DDjynduXCoKcOf3Qhf9zdPZQA0lnruLRp0wqhoaEyQnuDwFibmUmbYc44DVefVjC6Bqggl1999ZX6ngNX3u46jO5aHS/0a4nOjUNQNdgXicmpWPbPPsz+6QBWbDuHczGJcNWbEOLjhuY1g3F3yxoIC3TFwXPxSM2wZHfLvvzySzWbSEbKMSSf/0ileYcMgJtXLbVeGMyV60G/fqkSQ8zt+0DvVQ5wq6D10n/TvmWHzqrKrTelQp+0F4asBOgdMT8c/T2nfiK31VlM0KdHaNvvVlYhelM85RTbBjVf0h6CyjBfPA3DZ0+rJMuAV6CvZovHVBi4D5PJrCwtaDXEYKQMojf33c+RkamHiystZ/RKeHB10Z4t7T+dtn26RY8ataojLDRYO7/A+egErNkXju0nohBxNhJVw6ppeRu1AumRmZkGS6YOx46fw+23t0a5cr6YdcKKv2JsBz2trhXlmEkhyavMFDIocFwJWsvR5YcjnzwmLhRQOKLH/Gj5kdsSj2ncz7WUuazB8+vuHQRP/yras2sbJeV0uBTUbKPOOuj0Ru07T+0ZC4J3QBgCqjZF5Sa9UbFhTxUfhNsIgiAIQkEUh1YhQoggCKUOBv1yiEecDUJEkBsHChCpcetgNSfAlBkNr4DOSqhgh3f9ulVoVtUdE/u2xO03VUWgtxuykqOw69gZfLDyCFbsiUN4vBlRKWYcvJCGtYeisVProAe6ZqB2RV/UqBSKTo0qIj49ExdiMzDp5VcwePBgtd+48Dlap/0c9G5avmFjVVphoTuK9Z/voEtLhG7HSuia9wACGkDrrsOcuBNmCgowKLeXLJMFJjMnvzXArNPDon1nmwxX28aqpWmfJosOWWbYFq0Db8lK076nSKSHrspj0AXfpfZrnTUEelqiBFaG4fG5Kq2w0KKGogItJbjQyoIm6XSTOnjgKFzdPODp5QWzto3R6IbM1FStXZCMM2dO4kJ0IrYfOIGzkTG4mGTCuoMXkWp2R2JyAkLLV0FWllXlpdcZYHRxQb8He6JNa9tUm88eBJK04x9ZyYQ7KxTNsiKvMlOoYAc7v6mpHTjcaOjaR5cYx/YUQXhvUfSgEO2A5uKOmD7XUuYyiXY9OHsMrTwCqrVQ65Q2LJYs7abVzrerdm/5VURAlWao3KQXarYfrj1zLbXtGKdHRBBBEAThyhSHViGuMYIgCEKJIiV2LRLC31brXqGD4RfaR61PnPA04nb+iJFdaiLLosP3/+zDtpNpCI9JQUSCGalZWVoHWW2qOmO0oPDQ+q2hfkY0ruCGLg1C0KpJbfy1+wxSa9yBN96arjZNuLAUKRdsriZ+VZ+HV0AHtV4UzPvWQvfp00qYMPcaB0Mfm1vP0b1/4cyxHWpE3KIzgBFOiFXr75lpFWKh9GFP00qs48i5lqJ9oS3sFDJVD7PWYa9cownq3tSFm8K8dBoMK2bb1id8B0OjopeZVhKp6bZphN3dXOFq98v/7LPvsGb9HhU3xmq2KOHAZDbBrC0WdmS1Mmakp8Kabpuq0eJSDj7ePkjPSIG7uw/cPby147AiIy0Nt3VqgYceulNtN+O4Be+F20TL1S3MCPMuenyC/MrMWSgc/tp5QX94uiFy+tzz588rUYQiiGMGGecYIfT35qxWpDjKLAiCIAhC8SIxQgRBEIQbkphTc5AR/4dadxYnvnh/Bjz2zccv+6OxYc95nE8F0jkxhb0my67QlBm+hlbFcQzfxc2AUD93NK/ihnsfexEDHntKfZ0Suw4J4VPUulu5bgisVjRrEGdMS6bC+KNtymPz9A0whFZT6ynJSWqxKnGG8gbDttr+b1NuHKXWvrVv4wxTPL284eVtmyLZvG8dDFP7qnXTPWNhfGCCWr8a0mkdkWWb2YNxVRzBdX/65R/88utauLq4wmIxI8ucBb3eCBejK8za3wmxkTBnpcHdyxc6V294e3jCoNdp2+pUUNTMrHTc2a0N7rjDNivV4rMWTDhiExRGVzHjmVpXLyjkV2bGDHIEAHSGzRzHtLm0/Lh48aKawpOuMRRBoqKiEBAQgO7duytLEEeMpuIssyAIgiAIxYcIIYIgCMINiyNwKvGr+gK8Atqr9c3r/sakFyfi77WblY5A6wqlJTgrCDlqNtsGLVq1wttvvoHbbu+qUp0tT4oaIDU/HIFTiWXoTOg79VPrxQUtTwxTH1TrRQ2Qmh+OIKTE090dRqOtw79v/zGs/GMTzpyJhNlqhsWsgwuFEW09LjYKep0VPuXKaddAD1ejm3Ix4fWoUjUUPbq2QL26tpgbzoJCC18LFt9iW78W8iszrVcohjgHUOV2dIWhNQktPSiY0Crk1KlTantuW69ePbRt2zZ7Jqh/o8yCIAiCIBQPIoQIgiAINyymzBjEHJ8Ec0a4+tvZTYasXvQd/lowH1t++80udVzikiaiQ4uePdH1kYHo2O+SKOHsDmNgXJCak2F0DVR/XwvWKK2sb/bJFkNMQ9+BsdMAtX6t5HCHqcMZar5HcUx7qCwmKCxYbAFcnV1OyI6dh7B120Hs3Xdc7Y+7TEpKVOvePj7a7y0wGlzRoH51NL+lHprezFk/bCyKMOOFozaRgoLCd834+3+/zIwJYpsmNENZfRC6xdB6hMII3WTCw8OVeMNgvLVr11bbkH+rzIIgCIIgFA8ihAiCIAg3NEoMOfkWzHbLEBfv5vCtMDDHrC4ZiYk4s3kzoo8eRWpMjErzCgxEoNa5rdKqFdzs8R4IZ4dJPP8VspK3qb+NHvUQUH1isYggDnKLIea6rYHHZsFQPuesJIXFcmA9rMtmwHB4k/qb+elfLB4RxIESFtIzsq0saGHh5uqqApQ6SE/PxKnT5xAVFY/4hESVVq6cH4KDyqFaWAW4u1+a8YoCRUZmJsJTLBh62AOV3KzFLigUpszchrFDaPVBaw/unwvTOT2uw62G/BdlFgRBEATh2hEhRBAEQSgTOMcMIa6+HeEZ2BWefk3tKQWTmrATqTF/IjNxjT3l2mOCXAnL5Pugt4sXxNy2D3BrXxhCwoCgKvbU/LGsWQSsXZwzj3Z9ijxDTFFwjr9BODOLi4sRRkPh4mOYzJyW1qRmu3HwS5wb+le5JDgUN6WxzIIgCIIgXD0ihAjCdcQ240CSmiaSI4uCIPy7MKZHUuQ3sNhdZYjeGAijZyO4eNaA0TUUOoOXSreak2HKjERW6gmYUvfBYrJZihC6wniHDLiq2WGKivNsMs5Y6raGtV5r6IKqwhpsm7ZVF3UGFlihO7gJusObcvyGrjDoPf6qZocpKoylkZ6Zpd5xDvQ6nXIjMRj02rqeHkc2tCaERVvMZouyzOC6A1pmuLnmtLr4tyiNZRYEQRAE4eoQIUQQrjOLlyzFoUOH8OLEF1SDWxCEf5+kqJVIjf0j212msNANxiOgG3yCu9tT/jvMq78F1i2BLjriMlGkIExt+0BXvw0MnfrbU/47aCFBSwuH60lh4bvQ1YUzzPz3YkJpLLMgCIIgCEVDhBBBuM5ERl7EU08/g5cmvYh69eraUwVB+C/ITAtHWsJ2ZKUegjnjDCxZ0bBaUtV3Or0n9C5BMLhVgYtnPXj43QJXj6rqu+sJLRYs+9dDt24JEB2RHUfEIY4oy4+gyrDWbw19g3bQX2VckeKEZab7CC0oVPm1ZoOj6cD4GbS80Ov1yvKC7ihcv96UxjILgiAIglA4RAgRhOsMH5933pkJD08PjB41UoLqCYIgCIIgCIIg/IsUh1YhQyCCkAeccnHy5Lfw88+/YP2GDRgyZDgeeKAfPvv8C6Smptm3so0s3tL8FmzevAVJSUn2VEEQBEEQBEEQBKGkIkKIIOQBTamjo6OxZOn3+PmnX/DwwIfQv/+D+OKL+Zg1a3YO//PKlSshIT4BFyIj7SmCIAiCIAiCIAhCSUWEEEEoAD8/P7z00ou4rXMn3Hdfb7zy8iRs2LgRUdHR9i2AwIAAZRkSFxtnTxEEQRAEQRAEQRBKKiKECEIBNL35Znh6etr/AqpXr66myk1OSranaA+RXg+9QY+UVFuQRkEQBEEQBEEQBKHkIkKIIBSAl7eXfe3KZKSn29cEQRAEQRAEQRCEkooIIYJQTAQEyCxLgiAIgiAIgiAIJR0RQgThGomJiUV6ega8vb3tKYIgCIIgCIIgCEJJRYQQQbhGIi9GwtPTAxUqhNpTBEEQBEEQBEEQhJKKCCGCcI3s2rUbzZo2VTPMCIIgCIIgCIIgCCUbnVXDvp6DyKhYhARLzANBKIj4+ASMG/8UnnxyNG5p1syeKgiCIAiCIAiCIPwbFIdWIRYhgnAN7Ni5E5UrV0LjRo3sKYIgCIIgCIIgCEJJRoQQQbhKTCYTAvz9MebJJ+Hq6mpPFQRBEARBEARBEEoyIoQIwlViNBpx881NUL58sD1FEARBEARBEARBKOmIECIIgiAIgiAIgiAIQplBhBBBEARBEARBEARBEMoMIoQIgiAIgiAIgiAIglBmECFEEARBEARBEARBEIQygwghgiAIgiAIgiAIgiCUGUQIEQRBEARBEARBEAShzCBCiCAIgiAIgiAIgiAIZQYRQgRBEARBEARBEARBKDOIECIIgiAIgiAIgiAIQplBhBBBEARBEARBEARBEMoMIoQIgiAIgiAIgiAIglBm0Fk17Os5iIyKta8JgiAIgiAIgiAIgiCUDEKCA+xrV0eBQsi1Zi4IgiAIgiAIgiAIglBcFIdWIa4xgiAIgiAIgiAIgiCUGUQIEQRBEARBEARBEAShjAD8H9HsD4FueZ0TAAAAAElFTkSuQmCC)"
      ],
      "metadata": {
        "id": "2MaiaBQHupyw"
      }
    }
  ]
}