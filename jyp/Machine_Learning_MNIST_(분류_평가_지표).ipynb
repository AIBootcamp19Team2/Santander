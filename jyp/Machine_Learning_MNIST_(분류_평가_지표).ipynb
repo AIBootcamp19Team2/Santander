{
  "cells": [
    {
      "cell_type": "markdown",
      "id": "9fdb2d70",
      "metadata": {
        "id": "9fdb2d70"
      },
      "source": [
        "# 분류 평가 지표"
      ]
    },
    {
      "cell_type": "markdown",
      "id": "57bf1024",
      "metadata": {
        "id": "57bf1024"
      },
      "source": [
        "### MNIST Dataset"
      ]
    },
    {
      "cell_type": "code",
      "execution_count": 1,
      "id": "188d0fb4",
      "metadata": {
        "id": "188d0fb4"
      },
      "outputs": [],
      "source": [
        "import numpy as np\n",
        "from sklearn.datasets import fetch_openml\n",
        "import matplotlib.pyplot as plt"
      ]
    },
    {
      "cell_type": "code",
      "execution_count": 2,
      "id": "564805fb",
      "metadata": {
        "colab": {
          "base_uri": "https://localhost:8080/"
        },
        "id": "564805fb",
        "outputId": "2740a60f-af16-477c-b0e3-5c89f6428851"
      },
      "outputs": [
        {
          "output_type": "stream",
          "name": "stdout",
          "text": [
            "<class 'sklearn.utils.Bunch'>\n",
            "dict_keys(['data', 'target', 'frame', 'categories', 'feature_names', 'target_names', 'DESCR', 'details', 'url'])\n"
          ]
        }
      ],
      "source": [
        "mnist = fetch_openml(\"mnist_784\", version=1, as_frame=False)\n",
        "\n",
        "print(type(mnist))\n",
        "print(mnist.keys())"
      ]
    },
    {
      "cell_type": "code",
      "execution_count": 3,
      "id": "365df30b",
      "metadata": {
        "colab": {
          "base_uri": "https://localhost:8080/"
        },
        "id": "365df30b",
        "outputId": "492601af-b490-45dc-c32a-073b9177bdcb"
      },
      "outputs": [
        {
          "output_type": "stream",
          "name": "stdout",
          "text": [
            "(70000, 784) (70000,)\n",
            "784\n"
          ]
        }
      ],
      "source": [
        "X = mnist[\"data\"]\n",
        "y = mnist[\"target\"]\n",
        "\n",
        "print(X.shape, y.shape)\n",
        "print(28 * 28)"
      ]
    },
    {
      "cell_type": "code",
      "execution_count": 4,
      "id": "b43196f9",
      "metadata": {
        "colab": {
          "base_uri": "https://localhost:8080/"
        },
        "id": "b43196f9",
        "outputId": "918ad2ae-e7f8-4f4c-e21c-c97988fe9bef"
      },
      "outputs": [
        {
          "output_type": "stream",
          "name": "stdout",
          "text": [
            "(784,)\n",
            "(28, 28)\n"
          ]
        }
      ],
      "source": [
        "some_digit = X[0]\n",
        "print(some_digit.shape)\n",
        "some_digit_img = some_digit.reshape(28, 28)\n",
        "print(some_digit_img.shape)"
      ]
    },
    {
      "cell_type": "code",
      "execution_count": 5,
      "id": "ee2a3658",
      "metadata": {
        "colab": {
          "base_uri": "https://localhost:8080/",
          "height": 284
        },
        "id": "ee2a3658",
        "outputId": "ac785501-adcc-4ec5-fa9d-2b14665f31fe"
      },
      "outputs": [
        {
          "output_type": "execute_result",
          "data": {
            "text/plain": [
              "<matplotlib.image.AxesImage at 0x7f83c7b61850>"
            ]
          },
          "metadata": {},
          "execution_count": 5
        },
        {
          "output_type": "display_data",
          "data": {
            "text/plain": [
              "<Figure size 432x288 with 1 Axes>"
            ],
            "image/png": "[encoded data removed]"
          },
          "metadata": {
            "needs_background": "light"
          }
        }
      ],
      "source": [
        "plt.imshow(some_digit_img, cmap=\"binary\")"
      ]
    },
    {
      "cell_type": "code",
      "execution_count": 6,
      "id": "2b8933b0",
      "metadata": {
        "colab": {
          "base_uri": "https://localhost:8080/",
          "height": 36
        },
        "id": "2b8933b0",
        "outputId": "38b29cfd-a62a-49b1-9564-2f92a3f9c478"
      },
      "outputs": [
        {
          "output_type": "execute_result",
          "data": {
            "text/plain": [
              "'5'"
            ],
            "application/vnd.google.colaboratory.intrinsic+json": {
              "type": "string"
            }
          },
          "metadata": {},
          "execution_count": 6
        }
      ],
      "source": [
        "y[0]"
      ]
    },
    {
      "cell_type": "code",
      "execution_count": 7,
      "id": "a876c33d",
      "metadata": {
        "id": "a876c33d"
      },
      "outputs": [],
      "source": [
        "y = y.astype(np.uint8)"
      ]
    },
    {
      "cell_type": "code",
      "execution_count": 8,
      "id": "78467f5c",
      "metadata": {
        "id": "78467f5c"
      },
      "outputs": [],
      "source": [
        "X_train, X_test, y_train, y_test = X[:60000], X[60000:], y[:60000], y[60000:]"
      ]
    },
    {
      "cell_type": "code",
      "execution_count": 9,
      "id": "5a387af3",
      "metadata": {
        "colab": {
          "base_uri": "https://localhost:8080/"
        },
        "id": "5a387af3",
        "outputId": "950002de-d7df-456d-c648-6feb604ce178"
      },
      "outputs": [
        {
          "output_type": "stream",
          "name": "stdout",
          "text": [
            "label 분포 0 5923\n",
            "label 분포 1 6742\n",
            "label 분포 2 5958\n",
            "label 분포 3 6131\n",
            "label 분포 4 5842\n",
            "label 분포 5 5421\n",
            "label 분포 6 5918\n",
            "label 분포 7 6265\n",
            "label 분포 8 5851\n",
            "label 분포 9 5949\n"
          ]
        }
      ],
      "source": [
        "for i in range(10):\n",
        "    print(\"label 분포\",i, (y_train == i).sum())"
      ]
    },
    {
      "cell_type": "markdown",
      "id": "739ce5d8",
      "metadata": {
        "id": "739ce5d8"
      },
      "source": [
        "### 이진 분류"
      ]
    },
    {
      "cell_type": "code",
      "source": [
        "y_train, y_test"
      ],
      "metadata": {
        "colab": {
          "base_uri": "https://localhost:8080/"
        },
        "id": "FX6-nmd28xmp",
        "outputId": "0b78a4b2-5ccf-48b3-f230-4b8cb4621fb3"
      },
      "id": "FX6-nmd28xmp",
      "execution_count": 13,
      "outputs": [
        {
          "output_type": "execute_result",
          "data": {
            "text/plain": [
              "(array([5, 0, 4, ..., 5, 6, 8], dtype=uint8),\n",
              " array([7, 2, 1, ..., 4, 5, 6], dtype=uint8))"
            ]
          },
          "metadata": {},
          "execution_count": 13
        }
      ]
    },
    {
      "cell_type": "code",
      "execution_count": 10,
      "id": "b8537ee4",
      "metadata": {
        "id": "b8537ee4"
      },
      "outputs": [],
      "source": [
        "y_train_5 = (y_train == 5).astype(np.uint8) # 5인지 아닌지를 분류 : \"5\"이면 1, \"5\"가 아니면 0\n",
        "y_test_5 = (y_test == 5).astype(np.uint8)"
      ]
    },
    {
      "cell_type": "code",
      "execution_count": 11,
      "id": "941a8d22",
      "metadata": {
        "colab": {
          "base_uri": "https://localhost:8080/"
        },
        "id": "941a8d22",
        "outputId": "65110b71-e021-4884-ae44-f747873890d2"
      },
      "outputs": [
        {
          "output_type": "execute_result",
          "data": {
            "text/plain": [
              "(array([1, 0, 0, ..., 1, 0, 0], dtype=uint8),\n",
              " array([0, 0, 0, ..., 0, 1, 0], dtype=uint8))"
            ]
          },
          "metadata": {},
          "execution_count": 11
        }
      ],
      "source": [
        "y_train_5, y_test_5"
      ]
    },
    {
      "cell_type": "code",
      "execution_count": 14,
      "id": "4a1b9f92",
      "metadata": {
        "colab": {
          "base_uri": "https://localhost:8080/"
        },
        "id": "4a1b9f92",
        "outputId": "e3aac3db-32c2-4454-bdd4-83fff038ca31"
      },
      "outputs": [
        {
          "output_type": "execute_result",
          "data": {
            "text/plain": [
              "(5421, 54579)"
            ]
          },
          "metadata": {},
          "execution_count": 14
        }
      ],
      "source": [
        "(y_train_5 == 1).sum(), (y_train_5 == 0).sum() # 10%:90%의 불균형한 데이터셋"
      ]
    },
    {
      "cell_type": "code",
      "execution_count": 16,
      "id": "b47fae77",
      "metadata": {
        "id": "b47fae77"
      },
      "outputs": [],
      "source": [
        "from sklearn.linear_model import SGDClassifier"
      ]
    },
    {
      "cell_type": "code",
      "execution_count": 17,
      "id": "32f25c08",
      "metadata": {
        "colab": {
          "base_uri": "https://localhost:8080/"
        },
        "id": "32f25c08",
        "outputId": "b944fbe3-5460-463d-e248-b12b5ebd6d04"
      },
      "outputs": [
        {
          "output_type": "execute_result",
          "data": {
            "text/plain": [
              "((60000, 784), (60000,))"
            ]
          },
          "metadata": {},
          "execution_count": 17
        }
      ],
      "source": [
        "X_train.shape, y_train_5.shape"
      ]
    },
    {
      "cell_type": "code",
      "execution_count": 18,
      "id": "69ee5e10",
      "metadata": {
        "colab": {
          "base_uri": "https://localhost:8080/"
        },
        "id": "69ee5e10",
        "outputId": "a74d6d3b-239b-4d66-e839-bfd62562b00f"
      },
      "outputs": [
        {
          "output_type": "execute_result",
          "data": {
            "text/plain": [
              "SGDClassifier(random_state=42)"
            ]
          },
          "metadata": {},
          "execution_count": 18
        }
      ],
      "source": [
        "sgd_clf = SGDClassifier(random_state=42)\n",
        "sgd_clf.fit(X_train, y_train_5)"
      ]
    },
    {
      "cell_type": "code",
      "execution_count": 19,
      "id": "fb3efe79",
      "metadata": {
        "id": "fb3efe79"
      },
      "outputs": [],
      "source": [
        "from sklearn.model_selection import cross_val_score"
      ]
    },
    {
      "cell_type": "code",
      "execution_count": 20,
      "id": "e3772165",
      "metadata": {
        "colab": {
          "base_uri": "https://localhost:8080/"
        },
        "id": "e3772165",
        "outputId": "d3f5acf5-9a06-49ee-c357-d89dbb691b83"
      },
      "outputs": [
        {
          "output_type": "execute_result",
          "data": {
            "text/plain": [
              "array([0.95035, 0.96035, 0.9604 ])"
            ]
          },
          "metadata": {},
          "execution_count": 20
        }
      ],
      "source": [
        "cross_val_score(sgd_clf, X_train, y_train_5, cv=3, scoring=\"accuracy\")  # 정확도를 과연 신뢰할 수 있을까?"
      ]
    },
    {
      "cell_type": "code",
      "execution_count": 21,
      "id": "2f73d6ce",
      "metadata": {
        "id": "2f73d6ce"
      },
      "outputs": [],
      "source": [
        "# 나만의 분류기\n",
        "from sklearn.base import BaseEstimator\n",
        "\n",
        "class Nerver5Classifier(BaseEstimator):\n",
        "    def fit(self, X, y=None):\n",
        "        return self\n",
        "    def predict(self, X):\n",
        "        return np.zeros((len(X), 1), dtype=np.uint8) # 0을 return : 무조건 5가 아니라고 예측"
      ]
    },
    {
      "cell_type": "code",
      "execution_count": 25,
      "id": "f7c1f75e",
      "metadata": {
        "colab": {
          "base_uri": "https://localhost:8080/"
        },
        "id": "f7c1f75e",
        "outputId": "35b5c5cb-fd5a-4d82-c47a-2fb21c72eb8c"
      },
      "outputs": [
        {
          "output_type": "execute_result",
          "data": {
            "text/plain": [
              "array([0.91125, 0.90855, 0.90915])"
            ]
          },
          "metadata": {},
          "execution_count": 25
        }
      ],
      "source": [
        "never_5_clf = Nerver5Classifier()\n",
        "\n",
        "cross_val_score(never_5_clf, X_train, y_train_5, cv=3, scoring=\"accuracy\")  \n",
        "# 가짜 분류기에도 90%의 성능이 나오므로 이 예측기는 신뢰할 수 없음"
      ]
    },
    {
      "cell_type": "markdown",
      "source": [
        "---"
      ],
      "metadata": {
        "id": "zcqmyP55Dt-R"
      },
      "id": "zcqmyP55Dt-R"
    },
    {
      "cell_type": "code",
      "execution_count": 26,
      "id": "767d3b3f",
      "metadata": {
        "id": "767d3b3f"
      },
      "outputs": [],
      "source": [
        "from sklearn.model_selection import cross_val_predict\n",
        "\n",
        "y_train_pred = cross_val_predict(sgd_clf, X_train, y_train_5, cv=3) "
      ]
    },
    {
      "cell_type": "code",
      "execution_count": 27,
      "id": "8b48ed1a",
      "metadata": {
        "colab": {
          "base_uri": "https://localhost:8080/"
        },
        "id": "8b48ed1a",
        "outputId": "97c45adf-00d8-4a50-ef98-d7d95b8a274e"
      },
      "outputs": [
        {
          "output_type": "execute_result",
          "data": {
            "text/plain": [
              "array([1, 0, 0, ..., 1, 0, 0], dtype=uint8)"
            ]
          },
          "metadata": {},
          "execution_count": 27
        }
      ],
      "source": [
        "y_train_pred"
      ]
    },
    {
      "cell_type": "code",
      "execution_count": 28,
      "id": "e2cec819",
      "metadata": {
        "colab": {
          "base_uri": "https://localhost:8080/"
        },
        "id": "e2cec819",
        "outputId": "a4504910-3339-4fe1-cdc8-8b02aaa59ffd"
      },
      "outputs": [
        {
          "output_type": "execute_result",
          "data": {
            "text/plain": [
              "(60000,)"
            ]
          },
          "metadata": {},
          "execution_count": 28
        }
      ],
      "source": [
        "y_train_pred.shape"
      ]
    },
    {
      "cell_type": "markdown",
      "id": "6793bcab",
      "metadata": {
        "id": "6793bcab"
      },
      "source": [
        "#### 오차행렬"
      ]
    },
    {
      "cell_type": "code",
      "execution_count": 29,
      "id": "b3c8973a",
      "metadata": {
        "id": "b3c8973a"
      },
      "outputs": [],
      "source": [
        "from sklearn.metrics import confusion_matrix\n",
        "from sklearn.metrics import precision_score, recall_score, f1_score # precision_score(정밀도), recall_score(재현율), f1_score(정밀도와 재현율 조화)"
      ]
    },
    {
      "cell_type": "code",
      "execution_count": 30,
      "id": "15c35bf9",
      "metadata": {
        "colab": {
          "base_uri": "https://localhost:8080/"
        },
        "id": "15c35bf9",
        "outputId": "f28ac860-9c27-402a-8302-a2459f61af68"
      },
      "outputs": [
        {
          "output_type": "execute_result",
          "data": {
            "text/plain": [
              "array([[53892,   687],\n",
              "       [ 1891,  3530]])"
            ]
          },
          "metadata": {},
          "execution_count": 30
        }
      ],
      "source": [
        "confusion_matrix(y_train_5, y_train_pred)"
      ]
    },
    {
      "cell_type": "code",
      "execution_count": 31,
      "id": "2c8280b9",
      "metadata": {
        "colab": {
          "base_uri": "https://localhost:8080/"
        },
        "id": "2c8280b9",
        "outputId": "c52b0e23-87c2-494a-ce13-c0984c629349"
      },
      "outputs": [
        {
          "output_type": "execute_result",
          "data": {
            "text/plain": [
              "0.8370879772350012"
            ]
          },
          "metadata": {},
          "execution_count": 31
        }
      ],
      "source": [
        "precision_score(y_train_5, y_train_pred) # 정밀도 3530 / (687 + 3530)"
      ]
    },
    {
      "cell_type": "code",
      "execution_count": 32,
      "id": "f9808fd7",
      "metadata": {
        "colab": {
          "base_uri": "https://localhost:8080/"
        },
        "id": "f9808fd7",
        "outputId": "2b2f31e5-d8c8-41dd-c4f3-07dfbfb9ecf2"
      },
      "outputs": [
        {
          "output_type": "execute_result",
          "data": {
            "text/plain": [
              "0.6511713705958311"
            ]
          },
          "metadata": {},
          "execution_count": 32
        }
      ],
      "source": [
        "recall_score(y_train_5, y_train_pred) # 재현율 3530 / (1891 + 3530)"
      ]
    },
    {
      "cell_type": "code",
      "execution_count": 33,
      "id": "921cf567",
      "metadata": {
        "colab": {
          "base_uri": "https://localhost:8080/"
        },
        "id": "921cf567",
        "outputId": "94a0762f-31d6-4075-aaa9-8f17cc0bbccd"
      },
      "outputs": [
        {
          "output_type": "execute_result",
          "data": {
            "text/plain": [
              "0.7325171197343846"
            ]
          },
          "metadata": {},
          "execution_count": 33
        }
      ],
      "source": [
        "f1_score(y_train_5, y_train_pred)"
      ]
    },
    {
      "cell_type": "markdown",
      "source": [
        "---"
      ],
      "metadata": {
        "id": "e5czptpHRjOR"
      },
      "id": "e5czptpHRjOR"
    },
    {
      "cell_type": "code",
      "execution_count": 34,
      "id": "ce8e1eae",
      "metadata": {
        "id": "ce8e1eae"
      },
      "outputs": [],
      "source": [
        "y_score = cross_val_predict(sgd_clf, X_train, y_train_5, cv=3, method=\"decision_function\") # method=\"decision_function\" 지정함으로 확신의 점수를 얻어 낼 수 있음"
      ]
    },
    {
      "cell_type": "code",
      "execution_count": 35,
      "id": "c5a95769",
      "metadata": {
        "colab": {
          "base_uri": "https://localhost:8080/"
        },
        "id": "c5a95769",
        "outputId": "e3745784-2cfa-4eda-fea7-73d02ad11b5a"
      },
      "outputs": [
        {
          "output_type": "execute_result",
          "data": {
            "text/plain": [
              "array([  1200.93051237, -26883.79202424, -33072.03475406, ...,\n",
              "        13272.12718981,  -7258.47203373, -16877.50840447])"
            ]
          },
          "metadata": {},
          "execution_count": 35
        }
      ],
      "source": [
        "y_score # 60000개 데이터의 확신 점수"
      ]
    },
    {
      "cell_type": "code",
      "execution_count": 36,
      "id": "1a81e918",
      "metadata": {
        "colab": {
          "base_uri": "https://localhost:8080/"
        },
        "id": "1a81e918",
        "outputId": "b770a5f0-a172-4682-a44e-813cb282bcc3"
      },
      "outputs": [
        {
          "output_type": "execute_result",
          "data": {
            "text/plain": [
              "array([1, 0, 0, ..., 1, 0, 0], dtype=uint8)"
            ]
          },
          "metadata": {},
          "execution_count": 36
        }
      ],
      "source": [
        "y_train_pred # 60000개 데이터의 예측 결과"
      ]
    },
    {
      "cell_type": "code",
      "execution_count": 37,
      "id": "ac374580",
      "metadata": {
        "colab": {
          "base_uri": "https://localhost:8080/"
        },
        "id": "ac374580",
        "outputId": "5f9e1f3e-fb67-4497-b2c9-6f2df433b591"
      },
      "outputs": [
        {
          "output_type": "execute_result",
          "data": {
            "text/plain": [
              "array([1], dtype=uint8)"
            ]
          },
          "metadata": {},
          "execution_count": 37
        }
      ],
      "source": [
        "## 샘플의 확신 점수 알아보기\n",
        "threshold = 0"
      ]
    },
    {
      "cell_type": "code",
      "source": [
        "y_score > threshold"
      ],
      "metadata": {
        "colab": {
          "base_uri": "https://localhost:8080/"
        },
        "id": "MA2pGzdzT3wC",
        "outputId": "f9a0295d-7cb7-4d5c-b10f-b9a66ec8a51f"
      },
      "id": "MA2pGzdzT3wC",
      "execution_count": 38,
      "outputs": [
        {
          "output_type": "execute_result",
          "data": {
            "text/plain": [
              "array([ True, False, False, ...,  True, False, False])"
            ]
          },
          "metadata": {},
          "execution_count": 38
        }
      ]
    },
    {
      "cell_type": "code",
      "source": [
        "sgd_clf.decision_function([some_digit]) # 예측의 과정 (확신점수)"
      ],
      "metadata": {
        "colab": {
          "base_uri": "https://localhost:8080/"
        },
        "id": "BIsb4TRtT3sT",
        "outputId": "c6e3f92b-3adc-4f18-b505-d8d05137cc45"
      },
      "id": "BIsb4TRtT3sT",
      "execution_count": 39,
      "outputs": [
        {
          "output_type": "execute_result",
          "data": {
            "text/plain": [
              "array([2164.22030239])"
            ]
          },
          "metadata": {},
          "execution_count": 39
        }
      ]
    },
    {
      "cell_type": "code",
      "source": [
        "sgd_clf.predict([some_digit]) # 예측의 결과"
      ],
      "metadata": {
        "id": "Q6NNbfMuT3nq"
      },
      "id": "Q6NNbfMuT3nq",
      "execution_count": null,
      "outputs": []
    },
    {
      "cell_type": "code",
      "source": [
        ""
      ],
      "metadata": {
        "id": "j4SVMqNHT3ih"
      },
      "id": "j4SVMqNHT3ih",
      "execution_count": null,
      "outputs": []
    },
    {
      "cell_type": "code",
      "execution_count": 40,
      "id": "b059f78c",
      "metadata": {
        "colab": {
          "base_uri": "https://localhost:8080/"
        },
        "id": "b059f78c",
        "outputId": "fb010d0e-0c5f-4b89-cb4e-000215fb150b"
      },
      "outputs": [
        {
          "output_type": "execute_result",
          "data": {
            "text/plain": [
              "array([False, False, False, ...,  True, False, False])"
            ]
          },
          "metadata": {},
          "execution_count": 40
        }
      ],
      "source": [
        "## 임계값 변경 (확신 점수에 대한 임계값을 올리므로 \"5\"에 대한 예측이 정밀해짐)\n",
        "\n",
        "threshold = 8000\n",
        "\n",
        "y_train_pred_th8000 = y_score > threshold\n",
        "y_train_pred_th8000"
      ]
    },
    {
      "cell_type": "code",
      "source": [
        "confusion_matrix(y_train_5, y_train_pred_th8000)"
      ],
      "metadata": {
        "colab": {
          "base_uri": "https://localhost:8080/"
        },
        "id": "-AM0JCkjVkAR",
        "outputId": "66cd8b3f-1c0f-49b5-ec0c-c98c9ae3fd91"
      },
      "id": "-AM0JCkjVkAR",
      "execution_count": 41,
      "outputs": [
        {
          "output_type": "execute_result",
          "data": {
            "text/plain": [
              "array([[54470,   109],\n",
              "       [ 3863,  1558]])"
            ]
          },
          "metadata": {},
          "execution_count": 41
        }
      ]
    },
    {
      "cell_type": "code",
      "source": [
        "precision_score(y_train_5, y_train_pred_th8000) # threshold 적용 전 0.8370879772350012"
      ],
      "metadata": {
        "colab": {
          "base_uri": "https://localhost:8080/"
        },
        "id": "cJm-wEkuVze8",
        "outputId": "73ad7459-2a32-40d6-dba2-39e63cd63dc5"
      },
      "id": "cJm-wEkuVze8",
      "execution_count": 42,
      "outputs": [
        {
          "output_type": "execute_result",
          "data": {
            "text/plain": [
              "0.9346130773845231"
            ]
          },
          "metadata": {},
          "execution_count": 42
        }
      ]
    },
    {
      "cell_type": "code",
      "source": [
        "recall_score(y_train_5, y_train_pred_th8000) # threshold 적용 전 0.6511713705958311"
      ],
      "metadata": {
        "colab": {
          "base_uri": "https://localhost:8080/"
        },
        "id": "y6WUFph2VPAs",
        "outputId": "ef0a6db0-811a-4f8a-9caa-0c3cbe73e983"
      },
      "id": "y6WUFph2VPAs",
      "execution_count": 43,
      "outputs": [
        {
          "output_type": "execute_result",
          "data": {
            "text/plain": [
              "0.2874008485519277"
            ]
          },
          "metadata": {},
          "execution_count": 43
        }
      ]
    },
    {
      "cell_type": "code",
      "source": [
        ""
      ],
      "metadata": {
        "id": "8RiWjBDnVO0i"
      },
      "id": "8RiWjBDnVO0i",
      "execution_count": null,
      "outputs": []
    },
    {
      "cell_type": "code",
      "execution_count": 44,
      "id": "e68b027d",
      "metadata": {
        "id": "e68b027d"
      },
      "outputs": [],
      "source": [
        "from sklearn.metrics import precision_recall_curve"
      ]
    },
    {
      "cell_type": "code",
      "execution_count": 45,
      "id": "d99d9173",
      "metadata": {
        "id": "d99d9173"
      },
      "outputs": [],
      "source": [
        "precisions, recalls, thresholds = precision_recall_curve(y_train_5, y_score)"
      ]
    },
    {
      "cell_type": "code",
      "source": [
        "precisions.shape"
      ],
      "metadata": {
        "colab": {
          "base_uri": "https://localhost:8080/"
        },
        "id": "bMFIfKu3W4OL",
        "outputId": "f99791a4-2cb8-439a-c461-46cc065b5454"
      },
      "id": "bMFIfKu3W4OL",
      "execution_count": 46,
      "outputs": [
        {
          "output_type": "execute_result",
          "data": {
            "text/plain": [
              "(59967,)"
            ]
          },
          "metadata": {},
          "execution_count": 46
        }
      ]
    },
    {
      "cell_type": "code",
      "execution_count": 47,
      "id": "c52deaf8",
      "metadata": {
        "scrolled": true,
        "colab": {
          "base_uri": "https://localhost:8080/",
          "height": 265
        },
        "id": "c52deaf8",
        "outputId": "baab4f08-9c98-4791-92e5-e7c44a165b1c"
      },
      "outputs": [
        {
          "output_type": "display_data",
          "data": {
            "text/plain": [
              "<Figure size 432x288 with 1 Axes>"
            ],
            "image/png": "[encoded data removed]"
          },
          "metadata": {
            "needs_background": "light"
          }
        }
      ],
      "source": [
        "plt.plot(thresholds, precisions[:-1], \"b--\", label=\"Precision\")\n",
        "plt.plot(thresholds, recalls[:-1], \"g-\", label=\"Recall\")\n",
        "plt.legend(loc=\"center right\")\n",
        "plt.show()"
      ]
    },
    {
      "cell_type": "code",
      "source": [
        "precisions >= 0.9"
      ],
      "metadata": {
        "colab": {
          "base_uri": "https://localhost:8080/"
        },
        "id": "b_IrFeDIXr6S",
        "outputId": "b944c80d-9a56-45ec-d632-5bb17777cd65"
      },
      "id": "b_IrFeDIXr6S",
      "execution_count": 48,
      "outputs": [
        {
          "output_type": "execute_result",
          "data": {
            "text/plain": [
              "array([False, False, False, ...,  True,  True,  True])"
            ]
          },
          "metadata": {},
          "execution_count": 48
        }
      ]
    },
    {
      "cell_type": "code",
      "execution_count": null,
      "id": "2daf8bea",
      "metadata": {
        "id": "2daf8bea",
        "outputId": "ed9ad6de-d05f-4756-e18d-fca3994e438d"
      },
      "outputs": [
        {
          "data": {
            "text/plain": [
              "3370.0194991439557"
            ]
          },
          "execution_count": 134,
          "metadata": {},
          "output_type": "execute_result"
        }
      ],
      "source": [
        "thresholds[np.argmax(precisions >= 0.9)]"
      ]
    },
    {
      "cell_type": "code",
      "execution_count": 49,
      "id": "25ff78ac",
      "metadata": {
        "colab": {
          "base_uri": "https://localhost:8080/"
        },
        "id": "25ff78ac",
        "outputId": "fbb1a54a-bd98-4129-8ae5-6b0ed0fbd9f5"
      },
      "outputs": [
        {
          "output_type": "stream",
          "name": "stdout",
          "text": [
            "Precision: 0.9000345901072293\n",
            "Recall: 0.4799852425751706\n"
          ]
        }
      ],
      "source": [
        "## 임계값 변경 (확신 점수에 대한 임계값을 올리므로 \"5\"에 대한 예측이 정밀해짐)\n",
        "\n",
        "threshold = 3370\n",
        "\n",
        "y_train_pred_90 = y_score > threshold\n",
        "\n",
        "\n",
        "print(\"Precision:\", precision_score(y_train_5, y_train_pred_90))\n",
        "\n",
        "print(\"Recall:\", recall_score(y_train_5, y_train_pred_90))"
      ]
    },
    {
      "cell_type": "markdown",
      "id": "bb78f423",
      "metadata": {
        "id": "bb78f423"
      },
      "source": [
        "#### ROC 곡선"
      ]
    },
    {
      "cell_type": "code",
      "execution_count": 50,
      "id": "42fcc873",
      "metadata": {
        "id": "42fcc873"
      },
      "outputs": [],
      "source": [
        "from sklearn.metrics import roc_curve\n",
        "from sklearn.metrics import plot_roc_curve\n",
        "from sklearn.metrics import roc_auc_score"
      ]
    },
    {
      "cell_type": "code",
      "execution_count": 51,
      "id": "8e5f4af5",
      "metadata": {
        "id": "8e5f4af5"
      },
      "outputs": [],
      "source": [
        "fpr, tpr, thresholds = roc_curve(y_train_5, y_score)"
      ]
    },
    {
      "cell_type": "code",
      "execution_count": 53,
      "id": "75ef2ae6",
      "metadata": {
        "colab": {
          "base_uri": "https://localhost:8080/",
          "height": 355
        },
        "id": "75ef2ae6",
        "outputId": "34d64b87-e322-4d94-877c-034413753529"
      },
      "outputs": [
        {
          "output_type": "stream",
          "name": "stderr",
          "text": [
            "/usr/local/lib/python3.7/dist-packages/sklearn/utils/deprecation.py:87: FutureWarning: Function plot_roc_curve is deprecated; Function :func:`plot_roc_curve` is deprecated in 1.0 and will be removed in 1.2. Use one of the class methods: :meth:`sklearn.metric.RocCurveDisplay.from_predictions` or :meth:`sklearn.metric.RocCurveDisplay.from_estimator`.\n",
            "  warnings.warn(msg, category=FutureWarning)\n"
          ]
        },
        {
          "output_type": "execute_result",
          "data": {
            "text/plain": [
              "<sklearn.metrics._plot.roc_curve.RocCurveDisplay at 0x7f83c3ded890>"
            ]
          },
          "metadata": {},
          "execution_count": 53
        },
        {
          "output_type": "display_data",
          "data": {
            "text/plain": [
              "<Figure size 432x288 with 1 Axes>"
            ],
            "image/png": "[encoded data removed]"
          },
          "metadata": {
            "needs_background": "light"
          }
        }
      ],
      "source": [
        "plot_roc_curve(sgd_clf, X_train, y_train_5) # 모델, Train의 특성과 정답"
      ]
    },
    {
      "cell_type": "code",
      "execution_count": 55,
      "id": "df14b52c",
      "metadata": {
        "colab": {
          "base_uri": "https://localhost:8080/"
        },
        "id": "df14b52c",
        "outputId": "33b6f46e-732e-4311-dcd2-0cd779df800e"
      },
      "outputs": [
        {
          "output_type": "execute_result",
          "data": {
            "text/plain": [
              "0.9604938554008616"
            ]
          },
          "metadata": {},
          "execution_count": 55
        }
      ],
      "source": [
        "roc_auc_score(y_train_5, y_score) # AUC(면적) Score가 클수록 좋은 모델, SGDClassifier 모델의 학습결과"
      ]
    },
    {
      "cell_type": "markdown",
      "id": "56a527b1",
      "metadata": {
        "id": "56a527b1"
      },
      "source": [
        "### 다중 분류"
      ]
    },
    {
      "cell_type": "markdown",
      "id": "a0d761db",
      "metadata": {
        "id": "a0d761db"
      },
      "source": [
        "#### SVM Classifier"
      ]
    },
    {
      "cell_type": "code",
      "execution_count": 56,
      "id": "66b436dc",
      "metadata": {
        "colab": {
          "base_uri": "https://localhost:8080/"
        },
        "id": "66b436dc",
        "outputId": "601abf2d-7114-482b-ad3e-e6e709ef2807"
      },
      "outputs": [
        {
          "output_type": "execute_result",
          "data": {
            "text/plain": [
              "SVC(gamma='auto', random_state=42)"
            ]
          },
          "metadata": {},
          "execution_count": 56
        }
      ],
      "source": [
        "from sklearn.svm import SVC\n",
        "\n",
        "svm_clf = SVC(gamma=\"auto\", random_state=42)\n",
        "svm_clf.fit(X_train[:1000], y_train[:1000])"
      ]
    },
    {
      "cell_type": "code",
      "execution_count": 57,
      "id": "77b8d772",
      "metadata": {
        "colab": {
          "base_uri": "https://localhost:8080/"
        },
        "id": "77b8d772",
        "outputId": "917707d1-a01b-41a1-8e5e-eba28a868eb8"
      },
      "outputs": [
        {
          "output_type": "execute_result",
          "data": {
            "text/plain": [
              "array([5], dtype=uint8)"
            ]
          },
          "metadata": {},
          "execution_count": 57
        }
      ],
      "source": [
        "svm_clf.predict([some_digit])  # '5' image"
      ]
    },
    {
      "cell_type": "code",
      "execution_count": 58,
      "id": "c1672fe1",
      "metadata": {
        "id": "c1672fe1"
      },
      "outputs": [],
      "source": [
        "some_digit_scores = svm_clf.decision_function([some_digit]) # 과정"
      ]
    },
    {
      "cell_type": "code",
      "source": [
        "some_digit_scores"
      ],
      "metadata": {
        "colab": {
          "base_uri": "https://localhost:8080/"
        },
        "id": "FlW0flFevkMA",
        "outputId": "7e3a2dba-7c00-40c5-aaa4-8b3efe757bf2"
      },
      "id": "FlW0flFevkMA",
      "execution_count": 59,
      "outputs": [
        {
          "output_type": "execute_result",
          "data": {
            "text/plain": [
              "array([[ 2.81585438,  7.09167958,  3.82972099,  0.79365551,  5.8885703 ,\n",
              "         9.29718395,  1.79862509,  8.10392157, -0.228207  ,  4.83753243]])"
            ]
          },
          "metadata": {},
          "execution_count": 59
        }
      ]
    },
    {
      "cell_type": "code",
      "execution_count": 60,
      "id": "b7ed34f8",
      "metadata": {
        "colab": {
          "base_uri": "https://localhost:8080/"
        },
        "id": "b7ed34f8",
        "outputId": "1a73e019-565c-4e34-d4d8-7fd93a60db82"
      },
      "outputs": [
        {
          "output_type": "execute_result",
          "data": {
            "text/plain": [
              "5"
            ]
          },
          "metadata": {},
          "execution_count": 60
        }
      ],
      "source": [
        "np.argmax(some_digit_scores)"
      ]
    },
    {
      "cell_type": "code",
      "source": [
        "svm_clf.predict([some_digit]) # 결과"
      ],
      "metadata": {
        "colab": {
          "base_uri": "https://localhost:8080/"
        },
        "id": "syXxq64Vv058",
        "outputId": "39194cba-904f-433c-9ae6-05b20ed22d9c"
      },
      "id": "syXxq64Vv058",
      "execution_count": 61,
      "outputs": [
        {
          "output_type": "execute_result",
          "data": {
            "text/plain": [
              "array([5], dtype=uint8)"
            ]
          },
          "metadata": {},
          "execution_count": 61
        }
      ]
    },
    {
      "cell_type": "code",
      "execution_count": 62,
      "id": "1db43f25",
      "metadata": {
        "colab": {
          "base_uri": "https://localhost:8080/"
        },
        "id": "1db43f25",
        "outputId": "c73dae35-bbbe-4dfb-bad3-16bcbf6e26c1"
      },
      "outputs": [
        {
          "output_type": "execute_result",
          "data": {
            "text/plain": [
              "array([0, 1, 2, 3, 4, 5, 6, 7, 8, 9], dtype=uint8)"
            ]
          },
          "metadata": {},
          "execution_count": 62
        }
      ],
      "source": [
        "svm_clf.classes_"
      ]
    },
    {
      "cell_type": "markdown",
      "id": "cfb67064",
      "metadata": {
        "id": "cfb67064"
      },
      "source": [
        "#### SGD Classifier"
      ]
    },
    {
      "cell_type": "code",
      "execution_count": 63,
      "id": "6c0585ae",
      "metadata": {
        "colab": {
          "base_uri": "https://localhost:8080/"
        },
        "id": "6c0585ae",
        "outputId": "0d5b2641-cbae-439c-860c-5cf2960942b3"
      },
      "outputs": [
        {
          "output_type": "execute_result",
          "data": {
            "text/plain": [
              "SGDClassifier(random_state=42)"
            ]
          },
          "metadata": {},
          "execution_count": 63
        }
      ],
      "source": [
        "sgd_clf.fit(X_train, y_train)"
      ]
    },
    {
      "cell_type": "code",
      "execution_count": 64,
      "id": "b665aa74",
      "metadata": {
        "colab": {
          "base_uri": "https://localhost:8080/"
        },
        "id": "b665aa74",
        "outputId": "4c2cea82-88b8-4154-f60d-9d7384bc0527"
      },
      "outputs": [
        {
          "output_type": "execute_result",
          "data": {
            "text/plain": [
              "array([3], dtype=uint8)"
            ]
          },
          "metadata": {},
          "execution_count": 64
        }
      ],
      "source": [
        "sgd_clf.predict([some_digit])"
      ]
    },
    {
      "cell_type": "code",
      "execution_count": 66,
      "id": "c23819ad",
      "metadata": {
        "colab": {
          "base_uri": "https://localhost:8080/"
        },
        "id": "c23819ad",
        "outputId": "354aee12-e975-4a49-d390-071e42abdb23"
      },
      "outputs": [
        {
          "output_type": "execute_result",
          "data": {
            "text/plain": [
              "array([0.87365, 0.85835, 0.8689 ])"
            ]
          },
          "metadata": {},
          "execution_count": 66
        }
      ],
      "source": [
        "# scale 전\n",
        "cross_val_score(sgd_clf, X_train, y_train, cv=3, scoring=\"accuracy\")"
      ]
    },
    {
      "cell_type": "code",
      "execution_count": 67,
      "id": "0f6b202b",
      "metadata": {
        "id": "0f6b202b"
      },
      "outputs": [],
      "source": [
        "from sklearn.preprocessing import StandardScaler\n",
        "scaler = StandardScaler()\n",
        "X_train_scaled = scaler.fit_transform(X_train.astype(np.float64))"
      ]
    },
    {
      "cell_type": "code",
      "execution_count": 69,
      "id": "9823b3ab",
      "metadata": {
        "colab": {
          "base_uri": "https://localhost:8080/"
        },
        "id": "9823b3ab",
        "outputId": "24cac07d-1be9-48dd-8ef4-576a87636355"
      },
      "outputs": [
        {
          "output_type": "execute_result",
          "data": {
            "text/plain": [
              "array([0.8983, 0.891 , 0.9018])"
            ]
          },
          "metadata": {},
          "execution_count": 69
        }
      ],
      "source": [
        "# scale 후\n",
        "cross_val_score(sgd_clf, X_train_scaled, y_train, cv=3, scoring=\"accuracy\")"
      ]
    },
    {
      "cell_type": "code",
      "execution_count": null,
      "id": "d1cac4f2",
      "metadata": {
        "id": "d1cac4f2"
      },
      "outputs": [],
      "source": [
        "y_train_pred = cross_val_predict(sgd_clf, X_train_scaled, y_train, cv=3)"
      ]
    },
    {
      "cell_type": "code",
      "execution_count": null,
      "id": "7eff1ac7",
      "metadata": {
        "id": "7eff1ac7",
        "outputId": "38372675-47f6-4adb-d909-2cd49f825c4c"
      },
      "outputs": [
        {
          "data": {
            "text/plain": [
              "array([[5577,    0,   22,    5,    8,   43,   36,    6,  225,    1],\n",
              "       [   0, 6400,   37,   24,    4,   44,    4,    7,  212,   10],\n",
              "       [  27,   27, 5220,   92,   73,   27,   67,   36,  378,   11],\n",
              "       [  22,   17,  117, 5227,    2,  203,   27,   40,  403,   73],\n",
              "       [  12,   14,   41,    9, 5182,   12,   34,   27,  347,  164],\n",
              "       [  27,   15,   30,  168,   53, 4444,   75,   14,  535,   60],\n",
              "       [  30,   15,   42,    3,   44,   97, 5552,    3,  131,    1],\n",
              "       [  21,   10,   51,   30,   49,   12,    3, 5684,  195,  210],\n",
              "       [  17,   63,   48,   86,    3,  126,   25,   10, 5429,   44],\n",
              "       [  25,   18,   30,   64,  118,   36,    1,  179,  371, 5107]],\n",
              "      dtype=int64)"
            ]
          },
          "execution_count": 167,
          "metadata": {},
          "output_type": "execute_result"
        }
      ],
      "source": [
        "conf_mx = confusion_matrix(y_train, y_train_pred)\n",
        "conf_mx"
      ]
    },
    {
      "cell_type": "code",
      "execution_count": 70,
      "id": "38f622d2",
      "metadata": {
        "id": "38f622d2"
      },
      "outputs": [],
      "source": [
        "import seaborn as sns"
      ]
    },
    {
      "cell_type": "code",
      "execution_count": null,
      "id": "db71af41",
      "metadata": {
        "id": "db71af41",
        "outputId": "59ddca23-6c03-4461-e1ec-6aa2c696eb32"
      },
      "outputs": [
        {
          "data": {
            "text/plain": [
              "<AxesSubplot:>"
            ]
          },
          "execution_count": 169,
          "metadata": {},
          "output_type": "execute_result"
        },
        {
          "data": {
            "image/png": "[encoded data removed]",
            "text/plain": [
              "<Figure size 864x432 with 2 Axes>"
            ]
          },
          "metadata": {
            "needs_background": "light"
          },
          "output_type": "display_data"
        }
      ],
      "source": [
        "plt.figure(figsize=(12, 6))\n",
        "sns.heatmap(conf_mx, cmap=\"Blues\", annot=True, fmt='.0f')"
      ]
    },
    {
      "cell_type": "code",
      "execution_count": null,
      "id": "8085cf63",
      "metadata": {
        "id": "8085cf63"
      },
      "outputs": [],
      "source": [
        "row_sums = conf_mx.sum(axis=1)\n",
        "norm_conf_mx = conf_mx / row_sums"
      ]
    },
    {
      "cell_type": "code",
      "execution_count": null,
      "id": "bf04428d",
      "metadata": {
        "id": "bf04428d",
        "outputId": "146710ea-7f2d-4de2-835b-20d975ffb031"
      },
      "outputs": [
        {
          "data": {
            "text/plain": [
              "<AxesSubplot:>"
            ]
          },
          "execution_count": 175,
          "metadata": {},
          "output_type": "execute_result"
        },
        {
          "data": {
            "image/png": "[encoded data removed]",
            "text/plain": [
              "<Figure size 864x432 with 2 Axes>"
            ]
          },
          "metadata": {
            "needs_background": "light"
          },
          "output_type": "display_data"
        }
      ],
      "source": [
        "plt.figure(figsize=(12, 6))\n",
        "sns.heatmap(norm_conf_mx, cmap=\"Reds\", annot=True, fmt='.2f')"
      ]
    },
    {
      "cell_type": "code",
      "execution_count": null,
      "id": "63e41a97",
      "metadata": {
        "id": "63e41a97"
      },
      "outputs": [],
      "source": [
        ""
      ]
    }
  ],
  "metadata": {
    "kernelspec": {
      "display_name": "Python 3 (ipykernel)",
      "language": "python",
      "name": "python3"
    },
    "language_info": {
      "codemirror_mode": {
        "name": "ipython",
        "version": 3
      },
      "file_extension": ".py",
      "mimetype": "text/x-python",
      "name": "python",
      "nbconvert_exporter": "python",
      "pygments_lexer": "ipython3",
      "version": "3.9.5"
    },
    "colab": {
      "name": "Machine Learning - MNIST (분류 평가 지표).ipynb",
      "provenance": []
    }
  },
  "nbformat": 4,
  "nbformat_minor": 5
}