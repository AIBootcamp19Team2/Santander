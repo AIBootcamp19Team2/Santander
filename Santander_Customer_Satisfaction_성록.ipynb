{
  "nbformat": 4,
  "nbformat_minor": 0,
  "metadata": {
    "colab": {
      "name": "Santander Customer Satisfaction_2의 사본",
      "provenance": [],
      "collapsed_sections": [
        "T_WoE0wsbrT7",
        "sgCRMtntc92y",
        "EcMqnGwrebKJ",
        "Ie-Hid_HfIv2"
      ]
    },
    "kernelspec": {
      "name": "python3",
      "display_name": "Python 3"
    },
    "language_info": {
      "name": "python"
    }
  },
  "cells": [
    {
      "cell_type": "markdown",
      "source": [
        "출처<br>[전체](https://medium.com/@nissanttiwari/santander-customer-satisfaction-82eacb41a2b3) <br> \n",
        "[특성 고르기](https://www.kaggle.com/code/solegalli/feature-selection-with-feature-engine/notebook#Table-of-Contents)"
      ],
      "metadata": {
        "id": "nuiGWzTUhbsE"
      }
    },
    {
      "cell_type": "code",
      "source": [
        "from google.colab import drive\n",
        "drive.mount('/content/drive')"
      ],
      "metadata": {
        "colab": {
          "base_uri": "https://localhost:8080/"
        },
        "id": "Ch7yAEOoR94c",
        "outputId": "6fb22278-f543-4ff0-f9ca-bd3513f760fc"
      },
      "execution_count": 1,
      "outputs": [
        {
          "output_type": "stream",
          "name": "stdout",
          "text": [
            "Mounted at /content/drive\n"
          ]
        }
      ]
    },
    {
      "cell_type": "code",
      "execution_count": 3,
      "metadata": {
        "id": "md3zMblpGms3"
      },
      "outputs": [],
      "source": [
        "import numpy as np # 넘파이\n",
        "import pandas as pd # 판다스\n",
        "import sklearn #사이킷런\n",
        "import matplotlib.pyplot as plt #그래프1\n",
        "import seaborn as sns  # 그래프2\n",
        "from sklearn.ensemble import RandomForestClassifier # 모델1\n",
        "from sklearn.linear_model import LogisticRegression  # 모델2\n",
        "from sklearn.metrics import roc_auc_score #성능평가\n",
        "from sklearn.model_selection import train_test_split, cross_validate #데이터분리, 교차검증\n",
        "from sklearn.pipeline import Pipeline #파이프라인\n",
        "from sklearn.preprocessing import StandardScaler #스케일링"
      ]
    },
    {
      "cell_type": "code",
      "source": [
        "!pip install feature-engine # 특성 추출 모듈 "
      ],
      "metadata": {
        "colab": {
          "base_uri": "https://localhost:8080/",
          "height": 544
        },
        "id": "TuYiXqSWVnNa",
        "outputId": "5e47dd3c-fada-492b-f796-c33ad4ea24b3"
      },
      "execution_count": 4,
      "outputs": [
        {
          "output_type": "stream",
          "name": "stdout",
          "text": [
            "Collecting feature-engine\n",
            "  Downloading feature_engine-1.2.0-py2.py3-none-any.whl (205 kB)\n",
            "\u001b[K     |████████████████████████████████| 205 kB 4.1 MB/s \n",
            "\u001b[?25hRequirement already satisfied: numpy>=1.18.2 in /usr/local/lib/python3.7/dist-packages (from feature-engine) (1.21.6)\n",
            "Requirement already satisfied: scikit-learn>=0.22.2 in /usr/local/lib/python3.7/dist-packages (from feature-engine) (1.0.2)\n",
            "Requirement already satisfied: pandas>=1.0.3 in /usr/local/lib/python3.7/dist-packages (from feature-engine) (1.3.5)\n",
            "Collecting statsmodels>=0.11.1\n",
            "  Downloading statsmodels-0.13.2-cp37-cp37m-manylinux_2_17_x86_64.manylinux2014_x86_64.whl (9.8 MB)\n",
            "\u001b[K     |████████████████████████████████| 9.8 MB 32.3 MB/s \n",
            "\u001b[?25hRequirement already satisfied: scipy>=1.4.1 in /usr/local/lib/python3.7/dist-packages (from feature-engine) (1.4.1)\n",
            "Requirement already satisfied: python-dateutil>=2.7.3 in /usr/local/lib/python3.7/dist-packages (from pandas>=1.0.3->feature-engine) (2.8.2)\n",
            "Requirement already satisfied: pytz>=2017.3 in /usr/local/lib/python3.7/dist-packages (from pandas>=1.0.3->feature-engine) (2022.1)\n",
            "Requirement already satisfied: six>=1.5 in /usr/local/lib/python3.7/dist-packages (from python-dateutil>=2.7.3->pandas>=1.0.3->feature-engine) (1.15.0)\n",
            "Requirement already satisfied: threadpoolctl>=2.0.0 in /usr/local/lib/python3.7/dist-packages (from scikit-learn>=0.22.2->feature-engine) (3.1.0)\n",
            "Requirement already satisfied: joblib>=0.11 in /usr/local/lib/python3.7/dist-packages (from scikit-learn>=0.22.2->feature-engine) (1.1.0)\n",
            "Requirement already satisfied: patsy>=0.5.2 in /usr/local/lib/python3.7/dist-packages (from statsmodels>=0.11.1->feature-engine) (0.5.2)\n",
            "Requirement already satisfied: packaging>=21.3 in /usr/local/lib/python3.7/dist-packages (from statsmodels>=0.11.1->feature-engine) (21.3)\n",
            "Requirement already satisfied: pyparsing!=3.0.5,>=2.0.2 in /usr/local/lib/python3.7/dist-packages (from packaging>=21.3->statsmodels>=0.11.1->feature-engine) (3.0.8)\n",
            "Installing collected packages: statsmodels, feature-engine\n",
            "  Attempting uninstall: statsmodels\n",
            "    Found existing installation: statsmodels 0.10.2\n",
            "    Uninstalling statsmodels-0.10.2:\n",
            "      Successfully uninstalled statsmodels-0.10.2\n",
            "Successfully installed feature-engine-1.2.0 statsmodels-0.13.2\n"
          ]
        },
        {
          "output_type": "display_data",
          "data": {
            "application/vnd.colab-display-data+json": {
              "pip_warning": {
                "packages": [
                  "statsmodels"
                ]
              }
            }
          },
          "metadata": {}
        }
      ]
    },
    {
      "cell_type": "code",
      "source": [
        "from feature_engine.selection import (\n",
        "    DropDuplicateFeatures,\n",
        "    DropConstantFeatures,\n",
        "    DropDuplicateFeatures,\n",
        "    DropCorrelatedFeatures,\n",
        "    SmartCorrelatedSelection,\n",
        "    SelectByShuffling,\n",
        "    SelectBySingleFeaturePerformance,\n",
        "    RecursiveFeatureElimination,\n",
        ")"
      ],
      "metadata": {
        "id": "sMKUyeniVys-"
      },
      "execution_count": 5,
      "outputs": []
    },
    {
      "cell_type": "code",
      "source": [
        "train_df = pd.read_csv('/content/drive/MyDrive/DATA/Santander Customer Satisfaction_train.csv')\n",
        "test_df = pd.read_csv('/content/drive/MyDrive/DATA/Santander Customer Satisfaction_test.csv') "
      ],
      "metadata": {
        "id": "mUztuurTTB__"
      },
      "execution_count": 10,
      "outputs": []
    },
    {
      "cell_type": "code",
      "source": [
        "train_df.shape, test_df.shape"
      ],
      "metadata": {
        "colab": {
          "base_uri": "https://localhost:8080/"
        },
        "id": "KbDvS8TkUoaE",
        "outputId": "37f8679d-6292-4d99-899b-c994358097b9"
      },
      "execution_count": 62,
      "outputs": [
        {
          "output_type": "execute_result",
          "data": {
            "text/plain": [
              "((76020, 370), (75818, 369))"
            ]
          },
          "metadata": {},
          "execution_count": 62
        }
      ]
    },
    {
      "cell_type": "code",
      "source": [
        "train_id= train_df['ID']\n",
        "test_id= test_df['ID']\n",
        "\n",
        "train_df.drop(['ID'], axis=1, inplace= True)\n",
        "test_df.drop(['ID'], axis=1, inplace= True)"
      ],
      "metadata": {
        "id": "1zBElkeTSRQB"
      },
      "execution_count": 11,
      "outputs": []
    },
    {
      "cell_type": "code",
      "source": [
        "y_train= train_df['TARGET']\n",
        "X_train= train_df.drop('TARGET', axis=1)\n",
        "X_test = test_df"
      ],
      "metadata": {
        "id": "pUuqtRz5SUFr"
      },
      "execution_count": 21,
      "outputs": []
    },
    {
      "cell_type": "code",
      "source": [
        "zero= train_df['TARGET'].value_counts()[0]\n",
        "one= train_df['TARGET'].value_counts()[1]\n",
        "my_labels=[0,1]\n",
        "plt.rcParams[\"figure.figsize\"] = (8,8)\n",
        "\n",
        "plt.pie([zero,one], labels= my_labels, autopct='%1.3f%%')\n",
        "plt.show()\n",
        "\n",
        "print(\"Number of Positive data points are: {}  ({:.3f}{})\".format(one, one/(one+zero)*100, \"%\"))\n",
        "print(\"Number of Negative data points are: {} ({:.3f}{})\".format(zero, zero/(one+zero)*100, \"%\"))"
      ],
      "metadata": {
        "colab": {
          "base_uri": "https://localhost:8080/",
          "height": 502
        },
        "id": "PrXoqCwxPMU7",
        "outputId": "7f666c04-d87d-4d6c-9a99-6ad40ab721e8"
      },
      "execution_count": 12,
      "outputs": [
        {
          "output_type": "display_data",
          "data": {
            "text/plain": [
              "<Figure size 576x576 with 1 Axes>"
            ],
            "image/png": "[encoded data removed]"
          },
          "metadata": {}
        },
        {
          "output_type": "stream",
          "name": "stdout",
          "text": [
            "Number of Positive data points are: 3008  (3.957%)\n",
            "Number of Negative data points are: 73012 (96.043%)\n"
          ]
        }
      ]
    },
    {
      "cell_type": "markdown",
      "source": [
        "## 일정한 데이터로된 컬럼 거르기\n",
        "- 38개"
      ],
      "metadata": {
        "id": "faEKaKieWsba"
      }
    },
    {
      "cell_type": "code",
      "source": [
        "# with tol=1 we tell the transformer to remove constant features\n",
        "constant = DropConstantFeatures(tol=1)\n",
        "\n",
        "# finds the constant features on the train set\n",
        "constant.fit(X_train)"
      ],
      "metadata": {
        "colab": {
          "base_uri": "https://localhost:8080/"
        },
        "id": "lPHXtil5WqTA",
        "outputId": "8c4a6b25-a20f-4e4c-d9d3-560714ed78f2"
      },
      "execution_count": 22,
      "outputs": [
        {
          "output_type": "execute_result",
          "data": {
            "text/plain": [
              "DropConstantFeatures()"
            ]
          },
          "metadata": {},
          "execution_count": 22
        }
      ]
    },
    {
      "cell_type": "code",
      "source": [
        "len(constant.features_to_drop_)"
      ],
      "metadata": {
        "colab": {
          "base_uri": "https://localhost:8080/"
        },
        "id": "AuRC1F3RW1Bx",
        "outputId": "51d77b4f-bb03-4318-bdd0-6bff56d5344e"
      },
      "execution_count": null,
      "outputs": [
        {
          "output_type": "execute_result",
          "data": {
            "text/plain": [
              "38"
            ]
          },
          "metadata": {},
          "execution_count": 148
        }
      ]
    },
    {
      "cell_type": "code",
      "source": [
        "print('Number of variables before removing constant: ', X_train.shape[1])"
      ],
      "metadata": {
        "colab": {
          "base_uri": "https://localhost:8080/"
        },
        "id": "B7friX6ZXD-e",
        "outputId": "295cd4ed-ef27-4554-fa8f-c68ce7305c8b"
      },
      "execution_count": 23,
      "outputs": [
        {
          "output_type": "stream",
          "name": "stdout",
          "text": [
            "Number of variables before removing constant:  369\n"
          ]
        }
      ]
    },
    {
      "cell_type": "code",
      "source": [
        "# remove constant features - transform method\n",
        "X_train = constant.transform(X_train)\n",
        "X_test = constant.transform(X_test)\n",
        "\n",
        "print('Number of variables after removing constant: ', X_train.shape[1])"
      ],
      "metadata": {
        "colab": {
          "base_uri": "https://localhost:8080/"
        },
        "id": "cJqaZwPVXBen",
        "outputId": "52d03b05-3506-48c3-cc45-ddb8b6de9f7e"
      },
      "execution_count": 24,
      "outputs": [
        {
          "output_type": "stream",
          "name": "stdout",
          "text": [
            "Number of variables after removing constant:  335\n"
          ]
        }
      ]
    },
    {
      "cell_type": "code",
      "source": [
        "X_train.shape, X_test.shape"
      ],
      "metadata": {
        "colab": {
          "base_uri": "https://localhost:8080/"
        },
        "id": "wB2EFgmMZ5gW",
        "outputId": "bcdc457d-45e5-4aee-f6ba-d7a3aadb192b"
      },
      "execution_count": 17,
      "outputs": [
        {
          "output_type": "execute_result",
          "data": {
            "text/plain": [
              "(76020, 335)"
            ]
          },
          "metadata": {},
          "execution_count": 17
        }
      ]
    },
    {
      "cell_type": "markdown",
      "source": [
        "## 거의 일정한 데이터 삭제 \n",
        "- 139개"
      ],
      "metadata": {
        "id": "ytl1E2tsXOCA"
      }
    },
    {
      "cell_type": "code",
      "source": [
        "quasi_constant = DropConstantFeatures(tol=0.9995)\n",
        "# find quasi-constant features in the train set\n",
        "quasi_constant.fit(X_train)"
      ],
      "metadata": {
        "colab": {
          "base_uri": "https://localhost:8080/"
        },
        "id": "QIHwESoXXZ1w",
        "outputId": "fd5e0cc0-e609-417a-ee8d-3f77db16426c"
      },
      "execution_count": 25,
      "outputs": [
        {
          "output_type": "execute_result",
          "data": {
            "text/plain": [
              "DropConstantFeatures(tol=0.9995)"
            ]
          },
          "metadata": {},
          "execution_count": 25
        }
      ]
    },
    {
      "cell_type": "code",
      "source": [
        "print('Number of variables before removing quasi-constant: ', X_train.shape[1])"
      ],
      "metadata": {
        "colab": {
          "base_uri": "https://localhost:8080/"
        },
        "id": "G-RN5OZZXgMv",
        "outputId": "1cdd9ef3-105d-4a52-ce65-bd621e849e16"
      },
      "execution_count": null,
      "outputs": [
        {
          "output_type": "stream",
          "name": "stdout",
          "text": [
            "Number of variables before removing quasi-constant:  331\n"
          ]
        }
      ]
    },
    {
      "cell_type": "code",
      "source": [
        "# remove quasi-constant features - transform method\n",
        "X_train = quasi_constant.transform(X_train)\n",
        "X_test = quasi_constant.transform(X_test)\n",
        "\n",
        "print('Number of variables after removing quasi-constant: ', X_train.shape[1])"
      ],
      "metadata": {
        "colab": {
          "base_uri": "https://localhost:8080/"
        },
        "id": "Dt0-0vTIXfHv",
        "outputId": "481eb776-e2ed-4a3c-f30e-b553c88edffa"
      },
      "execution_count": 26,
      "outputs": [
        {
          "output_type": "stream",
          "name": "stdout",
          "text": [
            "Number of variables after removing quasi-constant:  242\n"
          ]
        }
      ]
    },
    {
      "cell_type": "code",
      "source": [
        "X_train.shape, X_test.shape"
      ],
      "metadata": {
        "colab": {
          "base_uri": "https://localhost:8080/"
        },
        "id": "mwSYLWyIaBex",
        "outputId": "c2de8f36-3382-41db-f6cf-abd256e7134e"
      },
      "execution_count": 27,
      "outputs": [
        {
          "output_type": "execute_result",
          "data": {
            "text/plain": [
              "((76020, 242), (75818, 242))"
            ]
          },
          "metadata": {},
          "execution_count": 27
        }
      ]
    },
    {
      "cell_type": "markdown",
      "source": [
        "## 중복값 삭제"
      ],
      "metadata": {
        "id": "zxcP8aDdXtNF"
      }
    },
    {
      "cell_type": "code",
      "source": [
        "duplicates = DropDuplicateFeatures()\n",
        "\n",
        "# find duplicated features in the train set\n",
        "duplicates.fit(X_train)"
      ],
      "metadata": {
        "colab": {
          "base_uri": "https://localhost:8080/"
        },
        "id": "-A9q_k50XwSl",
        "outputId": "6658043d-05bc-4f9f-c158-b7ed01891aa4"
      },
      "execution_count": 28,
      "outputs": [
        {
          "output_type": "execute_result",
          "data": {
            "text/plain": [
              "DropDuplicateFeatures()"
            ]
          },
          "metadata": {},
          "execution_count": 28
        }
      ]
    },
    {
      "cell_type": "code",
      "source": [
        "duplicates.duplicated_feature_sets_ #중복값 특성들 나열"
      ],
      "metadata": {
        "colab": {
          "base_uri": "https://localhost:8080/"
        },
        "id": "Sm4I5VD_X2cV",
        "outputId": "162f581f-9368-4f30-d240-6cca5cbc8cb7"
      },
      "execution_count": 29,
      "outputs": [
        {
          "output_type": "execute_result",
          "data": {
            "text/plain": [
              "[{'ind_var26', 'ind_var26_0'},\n",
              " {'ind_var25', 'ind_var25_0'},\n",
              " {'ind_var32', 'ind_var32_0'},\n",
              " {'ind_var37', 'ind_var37_0'},\n",
              " {'ind_var39', 'ind_var40'},\n",
              " {'num_var26', 'num_var26_0'},\n",
              " {'num_var25', 'num_var25_0'},\n",
              " {'num_var32', 'num_var32_0'},\n",
              " {'num_var37', 'num_var37_0'},\n",
              " {'num_var39', 'num_var40'}]"
            ]
          },
          "metadata": {},
          "execution_count": 29
        }
      ]
    },
    {
      "cell_type": "code",
      "source": [
        "X_train['ind_var26'].equals(X_train['ind_var26_0']) # 100프로 중복 "
      ],
      "metadata": {
        "colab": {
          "base_uri": "https://localhost:8080/"
        },
        "id": "wbXXFyhoX5XD",
        "outputId": "67c65ddd-f22e-467f-bdc8-209b173ac7ee"
      },
      "execution_count": 30,
      "outputs": [
        {
          "output_type": "execute_result",
          "data": {
            "text/plain": [
              "True"
            ]
          },
          "metadata": {},
          "execution_count": 30
        }
      ]
    },
    {
      "cell_type": "code",
      "source": [
        "duplicates.features_to_drop_"
      ],
      "metadata": {
        "colab": {
          "base_uri": "https://localhost:8080/"
        },
        "id": "i772a9obYB-z",
        "outputId": "8388cfe9-bd74-473a-b414-b6b2930dae1a"
      },
      "execution_count": 31,
      "outputs": [
        {
          "output_type": "execute_result",
          "data": {
            "text/plain": [
              "{'ind_var25',\n",
              " 'ind_var26',\n",
              " 'ind_var32',\n",
              " 'ind_var37',\n",
              " 'ind_var39',\n",
              " 'num_var25',\n",
              " 'num_var26',\n",
              " 'num_var32',\n",
              " 'num_var37',\n",
              " 'num_var39'}"
            ]
          },
          "metadata": {},
          "execution_count": 31
        }
      ]
    },
    {
      "cell_type": "code",
      "source": [
        "print('Number of variables before removing duplicates: ', X_train.shape[1])"
      ],
      "metadata": {
        "colab": {
          "base_uri": "https://localhost:8080/"
        },
        "id": "XEV6iO_FYPih",
        "outputId": "85c7cf21-734e-459f-f623-b16d5ea9e1c0"
      },
      "execution_count": null,
      "outputs": [
        {
          "output_type": "stream",
          "name": "stdout",
          "text": [
            "Number of variables before removing duplicates:  242\n"
          ]
        }
      ]
    },
    {
      "cell_type": "code",
      "source": [
        "X_train = duplicates.transform(X_train)\n",
        "X_test = duplicates.transform(X_test)\n",
        "\n",
        "print('Number of variables after removing duplicates: ', X_train.shape[1])"
      ],
      "metadata": {
        "colab": {
          "base_uri": "https://localhost:8080/"
        },
        "id": "JBUdYbNOYNlE",
        "outputId": "32ff46f8-4f63-4e1c-d900-a68585abf025"
      },
      "execution_count": 32,
      "outputs": [
        {
          "output_type": "stream",
          "name": "stdout",
          "text": [
            "Number of variables after removing duplicates:  232\n"
          ]
        }
      ]
    },
    {
      "cell_type": "code",
      "source": [
        "X_train.shape, X_test.shape"
      ],
      "metadata": {
        "colab": {
          "base_uri": "https://localhost:8080/"
        },
        "id": "U_SbW0xPzF3B",
        "outputId": "000fcb32-aae0-4978-e2e3-3ca7fc4d0046"
      },
      "execution_count": 33,
      "outputs": [
        {
          "output_type": "execute_result",
          "data": {
            "text/plain": [
              "((76020, 232), (75818, 232))"
            ]
          },
          "metadata": {},
          "execution_count": 33
        }
      ]
    },
    {
      "cell_type": "markdown",
      "source": [
        "## 상관관계 \n",
        "- 103개"
      ],
      "metadata": {
        "id": "cBvBa6H8YnJY"
      }
    },
    {
      "cell_type": "code",
      "source": [
        "correlated = DropCorrelatedFeatures(variables=None, method='pearson', threshold=0.98)\n",
        "\n",
        "# find correlated variables in the train set\n",
        "correlated.fit(X_train)"
      ],
      "metadata": {
        "colab": {
          "base_uri": "https://localhost:8080/"
        },
        "id": "NAYROOKJYmDO",
        "outputId": "2cba845f-5f0e-4395-9d70-2f650dfa8cb6"
      },
      "execution_count": 34,
      "outputs": [
        {
          "output_type": "execute_result",
          "data": {
            "text/plain": [
              "DropCorrelatedFeatures(threshold=0.98)"
            ]
          },
          "metadata": {},
          "execution_count": 34
        }
      ]
    },
    {
      "cell_type": "code",
      "source": [
        "correlated.correlated_feature_sets_"
      ],
      "metadata": {
        "colab": {
          "base_uri": "https://localhost:8080/"
        },
        "id": "bfkQwZKiYxx2",
        "outputId": "606fc80e-0d72-4d91-a891-7b66d33ef2fb"
      },
      "execution_count": 38,
      "outputs": [
        {
          "output_type": "execute_result",
          "data": {
            "text/plain": [
              "[{'imp_op_var39_efect_ult1', 'imp_op_var41_efect_ult1'},\n",
              " {'imp_op_var39_efect_ult3', 'imp_op_var41_efect_ult3'},\n",
              " {'imp_op_var39_ult1', 'imp_op_var41_ult1'},\n",
              " {'ind_var1_0', 'ind_var40_0', 'num_var1_0', 'num_var40_0'},\n",
              " {'ind_var1', 'ind_var40', 'num_var1', 'num_var40'},\n",
              " {'ind_var5', 'num_var5'},\n",
              " {'ind_var8_0', 'num_var8_0'},\n",
              " {'ind_var8', 'num_var8'},\n",
              " {'ind_var12', 'num_var12'},\n",
              " {'ind_var13', 'ind_var13_0'},\n",
              " {'ind_var13_corto',\n",
              "  'ind_var13_corto_0',\n",
              "  'num_var13_corto',\n",
              "  'num_var13_corto_0'},\n",
              " {'ind_var13_largo', 'ind_var13_largo_0'},\n",
              " {'ind_var14', 'num_var14'},\n",
              " {'ind_var20_0', 'num_var20_0'},\n",
              " {'ind_var20', 'num_var20'},\n",
              " {'ind_var24_0', 'num_var24_0'},\n",
              " {'ind_var24', 'num_var24'},\n",
              " {'ind_var39_0', 'ind_var41_0'},\n",
              " {'ind_var44_0', 'num_var44_0'},\n",
              " {'ind_var44', 'num_var44'},\n",
              " {'num_var35', 'num_var4'},\n",
              " {'num_op_var39_hace2', 'num_op_var41_hace2'},\n",
              " {'num_op_var39_hace3', 'num_op_var41_hace3'},\n",
              " {'num_op_var39_ult1', 'num_op_var41_ult1'},\n",
              " {'num_op_var39_ult3', 'num_op_var41_ult3'},\n",
              " {'saldo_medio_var12_ult1', 'saldo_var12', 'saldo_var24'},\n",
              " {'saldo_medio_var13_corto_ult1',\n",
              "  'saldo_medio_var13_corto_ult3',\n",
              "  'saldo_var13_corto'},\n",
              " {'saldo_medio_var17_hace2',\n",
              "  'saldo_medio_var17_ult1',\n",
              "  'saldo_medio_var17_ult3',\n",
              "  'saldo_var17'},\n",
              " {'saldo_var25', 'saldo_var26'},\n",
              " {'saldo_medio_var33_ult1', 'saldo_medio_var33_ult3', 'saldo_var33'},\n",
              " {'delta_imp_aport_var13_1y3', 'delta_num_aport_var13_1y3'},\n",
              " {'delta_imp_aport_var17_1y3', 'delta_num_aport_var17_1y3'},\n",
              " {'delta_imp_compra_var44_1y3', 'delta_num_compra_var44_1y3'},\n",
              " {'delta_imp_venta_var44_1y3', 'delta_num_venta_var44_1y3'},\n",
              " {'num_med_var45_ult3', 'num_var45_ult3'},\n",
              " {'num_op_var39_efect_ult1', 'num_op_var41_efect_ult1'},\n",
              " {'num_op_var39_efect_ult3', 'num_op_var41_efect_ult3'},\n",
              " {'saldo_medio_var13_largo_ult1', 'saldo_medio_var13_largo_ult3'}]"
            ]
          },
          "metadata": {},
          "execution_count": 38
        }
      ]
    },
    {
      "cell_type": "code",
      "source": [
        "corrmat = X_train[[\n",
        "    'imp_op_var39_comer_ult1',\n",
        "    'imp_op_var39_comer_ult3',\n",
        "    'imp_op_var41_comer_ult1',\n",
        "    'imp_op_var41_comer_ult3']].corr(method='pearson')"
      ],
      "metadata": {
        "id": "2aYCWT50Za-E"
      },
      "execution_count": 40,
      "outputs": []
    },
    {
      "cell_type": "code",
      "source": [
        "plt.figure(figsize=(10,8))\n",
        "plt.title('Correlation Heatmap of Santander Customer Satisfaction')\n",
        "a = sns.heatmap(corrmat, square=True, annot=True, fmt='.2f', linecolor='black')\n",
        "a.set_xticklabels(a.get_xticklabels(), rotation=30)\n",
        "a.set_yticklabels(a.get_yticklabels(), rotation=30)           \n",
        "plt.show()    # 0.8 이상의 상관성을 알 수 있다."
      ],
      "metadata": {
        "colab": {
          "base_uri": "https://localhost:8080/",
          "height": 564
        },
        "id": "gEfdTHazZGBc",
        "outputId": "d2e564e9-6fa4-4e17-afc7-a1282cce4a9f"
      },
      "execution_count": 41,
      "outputs": [
        {
          "output_type": "display_data",
          "data": {
            "text/plain": [
              "<Figure size 720x576 with 2 Axes>"
            ],
            "image/png": "[encoded data removed]"
          },
          "metadata": {
            "needs_background": "light"
          }
        }
      ]
    },
    {
      "cell_type": "code",
      "source": [
        "len(correlated.features_to_drop_)"
      ],
      "metadata": {
        "colab": {
          "base_uri": "https://localhost:8080/"
        },
        "id": "UzoqS3nvZtda",
        "outputId": "6dba5d44-8831-44bc-f2c0-1ccad6a890d4"
      },
      "execution_count": 43,
      "outputs": [
        {
          "output_type": "execute_result",
          "data": {
            "text/plain": [
              "49"
            ]
          },
          "metadata": {},
          "execution_count": 43
        }
      ]
    },
    {
      "cell_type": "code",
      "source": [
        "print('Number of variables before removing correlated: ', X_train.shape[1])"
      ],
      "metadata": {
        "colab": {
          "base_uri": "https://localhost:8080/"
        },
        "id": "MLSkzGCfZ2vo",
        "outputId": "533069ab-2a52-44c3-b47f-2f2ced3bf4b4"
      },
      "execution_count": 48,
      "outputs": [
        {
          "output_type": "stream",
          "name": "stdout",
          "text": [
            "Number of variables before removing correlated:  183\n"
          ]
        }
      ]
    },
    {
      "cell_type": "code",
      "source": [
        "# remove correlated variables\n",
        "X_train = correlated.transform(X_train)\n",
        "X_test = correlated.transform(X_test)\n",
        "\n",
        "print('Number of variables after removing correlated: ', X_train.shape[1])"
      ],
      "metadata": {
        "colab": {
          "base_uri": "https://localhost:8080/",
          "height": 397
        },
        "id": "KCZNdsR4Z1Ni",
        "outputId": "af0148d4-74c1-4da9-bb7f-b9ba26a0dafd"
      },
      "execution_count": 49,
      "outputs": [
        {
          "output_type": "error",
          "ename": "ValueError",
          "evalue": "ignored",
          "traceback": [
            "\u001b[0;31m---------------------------------------------------------------------------\u001b[0m",
            "\u001b[0;31mValueError\u001b[0m                                Traceback (most recent call last)",
            "\u001b[0;32m<ipython-input-49-5b600a9610ba>\u001b[0m in \u001b[0;36m<module>\u001b[0;34m()\u001b[0m\n\u001b[1;32m      1\u001b[0m \u001b[0;31m# remove correlated variables\u001b[0m\u001b[0;34m\u001b[0m\u001b[0;34m\u001b[0m\u001b[0;34m\u001b[0m\u001b[0m\n\u001b[0;32m----> 2\u001b[0;31m \u001b[0mX_train\u001b[0m \u001b[0;34m=\u001b[0m \u001b[0mcorrelated\u001b[0m\u001b[0;34m.\u001b[0m\u001b[0mtransform\u001b[0m\u001b[0;34m(\u001b[0m\u001b[0mX_train\u001b[0m\u001b[0;34m)\u001b[0m\u001b[0;34m\u001b[0m\u001b[0;34m\u001b[0m\u001b[0m\n\u001b[0m\u001b[1;32m      3\u001b[0m \u001b[0mX_test\u001b[0m \u001b[0;34m=\u001b[0m \u001b[0mcorrelated\u001b[0m\u001b[0;34m.\u001b[0m\u001b[0mtransform\u001b[0m\u001b[0;34m(\u001b[0m\u001b[0mX_test\u001b[0m\u001b[0;34m)\u001b[0m\u001b[0;34m\u001b[0m\u001b[0;34m\u001b[0m\u001b[0m\n\u001b[1;32m      4\u001b[0m \u001b[0;34m\u001b[0m\u001b[0m\n\u001b[1;32m      5\u001b[0m \u001b[0mprint\u001b[0m\u001b[0;34m(\u001b[0m\u001b[0;34m'Number of variables after removing correlated: '\u001b[0m\u001b[0;34m,\u001b[0m \u001b[0mX_train\u001b[0m\u001b[0;34m.\u001b[0m\u001b[0mshape\u001b[0m\u001b[0;34m[\u001b[0m\u001b[0;36m1\u001b[0m\u001b[0;34m]\u001b[0m\u001b[0;34m)\u001b[0m\u001b[0;34m\u001b[0m\u001b[0;34m\u001b[0m\u001b[0m\n",
            "\u001b[0;32m/usr/local/lib/python3.7/dist-packages/feature_engine/selection/drop_correlated_features.py\u001b[0m in \u001b[0;36mtransform\u001b[0;34m(self, X)\u001b[0m\n\u001b[1;32m    183\u001b[0m     \u001b[0;31m# Ugly work around to import the docstring for Sphinx, otherwise not necessary\u001b[0m\u001b[0;34m\u001b[0m\u001b[0;34m\u001b[0m\u001b[0;34m\u001b[0m\u001b[0m\n\u001b[1;32m    184\u001b[0m     \u001b[0;32mdef\u001b[0m \u001b[0mtransform\u001b[0m\u001b[0;34m(\u001b[0m\u001b[0mself\u001b[0m\u001b[0;34m,\u001b[0m \u001b[0mX\u001b[0m\u001b[0;34m:\u001b[0m \u001b[0mpd\u001b[0m\u001b[0;34m.\u001b[0m\u001b[0mDataFrame\u001b[0m\u001b[0;34m)\u001b[0m \u001b[0;34m->\u001b[0m \u001b[0mpd\u001b[0m\u001b[0;34m.\u001b[0m\u001b[0mDataFrame\u001b[0m\u001b[0;34m:\u001b[0m\u001b[0;34m\u001b[0m\u001b[0;34m\u001b[0m\u001b[0m\n\u001b[0;32m--> 185\u001b[0;31m         \u001b[0mX\u001b[0m \u001b[0;34m=\u001b[0m \u001b[0msuper\u001b[0m\u001b[0;34m(\u001b[0m\u001b[0;34m)\u001b[0m\u001b[0;34m.\u001b[0m\u001b[0mtransform\u001b[0m\u001b[0;34m(\u001b[0m\u001b[0mX\u001b[0m\u001b[0;34m)\u001b[0m\u001b[0;34m\u001b[0m\u001b[0;34m\u001b[0m\u001b[0m\n\u001b[0m\u001b[1;32m    186\u001b[0m \u001b[0;34m\u001b[0m\u001b[0m\n\u001b[1;32m    187\u001b[0m         \u001b[0;32mreturn\u001b[0m \u001b[0mX\u001b[0m\u001b[0;34m\u001b[0m\u001b[0;34m\u001b[0m\u001b[0m\n",
            "\u001b[0;32m/usr/local/lib/python3.7/dist-packages/feature_engine/selection/base_selector.py\u001b[0m in \u001b[0;36mtransform\u001b[0;34m(self, X)\u001b[0m\n\u001b[1;32m     56\u001b[0m \u001b[0;34m\u001b[0m\u001b[0m\n\u001b[1;32m     57\u001b[0m         \u001b[0;31m# check if number of columns in test dataset matches to train dataset\u001b[0m\u001b[0;34m\u001b[0m\u001b[0;34m\u001b[0m\u001b[0;34m\u001b[0m\u001b[0m\n\u001b[0;32m---> 58\u001b[0;31m         \u001b[0m_check_input_matches_training_df\u001b[0m\u001b[0;34m(\u001b[0m\u001b[0mX\u001b[0m\u001b[0;34m,\u001b[0m \u001b[0mself\u001b[0m\u001b[0;34m.\u001b[0m\u001b[0mn_features_in_\u001b[0m\u001b[0;34m)\u001b[0m\u001b[0;34m\u001b[0m\u001b[0;34m\u001b[0m\u001b[0m\n\u001b[0m\u001b[1;32m     59\u001b[0m \u001b[0;34m\u001b[0m\u001b[0m\n\u001b[1;32m     60\u001b[0m         \u001b[0;31m# return the dataframe with the selected features\u001b[0m\u001b[0;34m\u001b[0m\u001b[0;34m\u001b[0m\u001b[0;34m\u001b[0m\u001b[0m\n",
            "\u001b[0;32m/usr/local/lib/python3.7/dist-packages/feature_engine/dataframe_checks.py\u001b[0m in \u001b[0;36m_check_input_matches_training_df\u001b[0;34m(X, reference)\u001b[0m\n\u001b[1;32m     79\u001b[0m     \u001b[0;32mif\u001b[0m \u001b[0mX\u001b[0m\u001b[0;34m.\u001b[0m\u001b[0mshape\u001b[0m\u001b[0;34m[\u001b[0m\u001b[0;36m1\u001b[0m\u001b[0;34m]\u001b[0m \u001b[0;34m!=\u001b[0m \u001b[0mreference\u001b[0m\u001b[0;34m:\u001b[0m\u001b[0;34m\u001b[0m\u001b[0;34m\u001b[0m\u001b[0m\n\u001b[1;32m     80\u001b[0m         raise ValueError(\n\u001b[0;32m---> 81\u001b[0;31m             \u001b[0;34m\"The number of columns in this dataset is different from the one used to \"\u001b[0m\u001b[0;34m\u001b[0m\u001b[0;34m\u001b[0m\u001b[0m\n\u001b[0m\u001b[1;32m     82\u001b[0m             \u001b[0;34m\"fit this transformer (when using the fit() method).\"\u001b[0m\u001b[0;34m\u001b[0m\u001b[0;34m\u001b[0m\u001b[0m\n\u001b[1;32m     83\u001b[0m         )\n",
            "\u001b[0;31mValueError\u001b[0m: The number of columns in this dataset is different from the one used to fit this transformer (when using the fit() method)."
          ]
        }
      ]
    },
    {
      "cell_type": "code",
      "source": [
        "X_train.shape, X_test.shape"
      ],
      "metadata": {
        "colab": {
          "base_uri": "https://localhost:8080/"
        },
        "id": "5ddVIdrgzMcy",
        "outputId": "27db2093-1792-4d14-ac45-a628b8c36b85"
      },
      "execution_count": 47,
      "outputs": [
        {
          "output_type": "execute_result",
          "data": {
            "text/plain": [
              "((76020, 183), (75818, 183))"
            ]
          },
          "metadata": {},
          "execution_count": 47
        }
      ]
    },
    {
      "cell_type": "markdown",
      "source": [
        "## 모듈을 이용해 한번더 상관성 파악 후 drop\n",
        "- 17개"
      ],
      "metadata": {
        "id": "O19BC8fjaHvq"
      }
    },
    {
      "cell_type": "code",
      "source": [
        "X_train.shape, X_test.shape"
      ],
      "metadata": {
        "id": "8hgB_9D2VJxJ"
      },
      "execution_count": null,
      "outputs": []
    },
    {
      "cell_type": "code",
      "source": [
        "smart_corr = SmartCorrelatedSelection(\n",
        "    variables=None, # examines all variables\n",
        "    method=\"pearson\", # the correlation method\n",
        "    threshold=0.98, # the correlation coefficient threshold\n",
        "    missing_values=\"ignore\",\n",
        "    selection_method=\"model_performance\", # how to select the features\n",
        "    estimator=RandomForestClassifier(n_estimators=10, random_state=1), # the model from which to derive the importance\n",
        ")\n",
        "\n",
        "# find correlated features and select the best from each group\n",
        "\n",
        "# the method builds a random forest using each single feature from the correlated feature group\n",
        "# and retains the feature from the group with the best performance\n",
        "\n",
        "smart_corr.fit(X_train, X_test)"
      ],
      "metadata": {
        "colab": {
          "base_uri": "https://localhost:8080/"
        },
        "id": "jvYrW1vyab1j",
        "outputId": "61cc515b-dd61-4488-bcfe-f4684a08ea2e"
      },
      "execution_count": 65,
      "outputs": [
        {
          "output_type": "execute_result",
          "data": {
            "text/plain": [
              "SmartCorrelatedSelection(estimator=RandomForestClassifier(n_estimators=10,\n",
              "                                                          random_state=1),\n",
              "                         selection_method='model_performance', threshold=0.98)"
            ]
          },
          "metadata": {},
          "execution_count": 65
        }
      ]
    },
    {
      "cell_type": "code",
      "source": [
        "# the correlated feature groups\n",
        "\n",
        "smart_corr.correlated_feature_sets_"
      ],
      "metadata": {
        "colab": {
          "base_uri": "https://localhost:8080/"
        },
        "id": "zdEqpoWfahKE",
        "outputId": "6af2d390-b037-4254-bab0-8972a12e6c34"
      },
      "execution_count": 66,
      "outputs": [
        {
          "output_type": "execute_result",
          "data": {
            "text/plain": [
              "[]"
            ]
          },
          "metadata": {},
          "execution_count": 66
        }
      ]
    },
    {
      "cell_type": "code",
      "source": [
        "# lets examine the performace of a random forest based on\n",
        "# each feature from the fifth group from above, to understand\n",
        "# what the transformer is doing\n",
        "\n",
        "# select fifth group of correlated features\n",
        "group = smart_corr.correlated_feature_sets_[4]\n",
        "\n",
        "# build random forest with cross validation for\n",
        "# each feature\n",
        "\n",
        "for f in group:\n",
        "    model = cross_validate(\n",
        "        RandomForestClassifier(n_estimators=10, random_state=1),\n",
        "        X_train[f].to_frame(),\n",
        "        y_train,\n",
        "        cv=3,\n",
        "        return_estimator=False,\n",
        "        scoring='roc_auc',\n",
        "    )\n",
        "\n",
        "    print(f, model[\"test_score\"].mean())"
      ],
      "metadata": {
        "colab": {
          "base_uri": "https://localhost:8080/",
          "height": 245
        },
        "id": "PTMwNGW2apIZ",
        "outputId": "0f19cd5b-92c7-4703-881e-449026d41043"
      },
      "execution_count": 67,
      "outputs": [
        {
          "output_type": "error",
          "ename": "IndexError",
          "evalue": "ignored",
          "traceback": [
            "\u001b[0;31m---------------------------------------------------------------------------\u001b[0m",
            "\u001b[0;31mIndexError\u001b[0m                                Traceback (most recent call last)",
            "\u001b[0;32m<ipython-input-67-bd13b1766c99>\u001b[0m in \u001b[0;36m<module>\u001b[0;34m()\u001b[0m\n\u001b[1;32m      4\u001b[0m \u001b[0;34m\u001b[0m\u001b[0m\n\u001b[1;32m      5\u001b[0m \u001b[0;31m# select fifth group of correlated features\u001b[0m\u001b[0;34m\u001b[0m\u001b[0;34m\u001b[0m\u001b[0;34m\u001b[0m\u001b[0m\n\u001b[0;32m----> 6\u001b[0;31m \u001b[0mgroup\u001b[0m \u001b[0;34m=\u001b[0m \u001b[0msmart_corr\u001b[0m\u001b[0;34m.\u001b[0m\u001b[0mcorrelated_feature_sets_\u001b[0m\u001b[0;34m[\u001b[0m\u001b[0;36m4\u001b[0m\u001b[0;34m]\u001b[0m\u001b[0;34m\u001b[0m\u001b[0;34m\u001b[0m\u001b[0m\n\u001b[0m\u001b[1;32m      7\u001b[0m \u001b[0;34m\u001b[0m\u001b[0m\n\u001b[1;32m      8\u001b[0m \u001b[0;31m# build random forest with cross validation for\u001b[0m\u001b[0;34m\u001b[0m\u001b[0;34m\u001b[0m\u001b[0;34m\u001b[0m\u001b[0m\n",
            "\u001b[0;31mIndexError\u001b[0m: list index out of range"
          ]
        }
      ]
    },
    {
      "cell_type": "code",
      "source": [
        "# this variable will be dropped, and thus it is in the features_to_drop_ attribute\n",
        "for i in group:\n",
        "  print(i, i in smart_corr.features_to_drop_)"
      ],
      "metadata": {
        "colab": {
          "base_uri": "https://localhost:8080/",
          "height": 208
        },
        "id": "KcMTo5BqbGjW",
        "outputId": "650d5a02-bc02-4f8a-c5d0-791f587e5a42"
      },
      "execution_count": 53,
      "outputs": [
        {
          "output_type": "error",
          "ename": "NameError",
          "evalue": "ignored",
          "traceback": [
            "\u001b[0;31m---------------------------------------------------------------------------\u001b[0m",
            "\u001b[0;31mNameError\u001b[0m                                 Traceback (most recent call last)",
            "\u001b[0;32m<ipython-input-53-bde821bad96c>\u001b[0m in \u001b[0;36m<module>\u001b[0;34m()\u001b[0m\n\u001b[1;32m      1\u001b[0m \u001b[0;31m# this variable will be dropped, and thus it is in the features_to_drop_ attribute\u001b[0m\u001b[0;34m\u001b[0m\u001b[0;34m\u001b[0m\u001b[0;34m\u001b[0m\u001b[0m\n\u001b[0;32m----> 2\u001b[0;31m \u001b[0;32mfor\u001b[0m \u001b[0mi\u001b[0m \u001b[0;32min\u001b[0m \u001b[0mgroup\u001b[0m\u001b[0;34m:\u001b[0m\u001b[0;34m\u001b[0m\u001b[0;34m\u001b[0m\u001b[0m\n\u001b[0m\u001b[1;32m      3\u001b[0m   \u001b[0mprint\u001b[0m\u001b[0;34m(\u001b[0m\u001b[0mi\u001b[0m\u001b[0;34m,\u001b[0m \u001b[0mi\u001b[0m \u001b[0;32min\u001b[0m \u001b[0msmart_corr\u001b[0m\u001b[0;34m.\u001b[0m\u001b[0mfeatures_to_drop_\u001b[0m\u001b[0;34m)\u001b[0m\u001b[0;34m\u001b[0m\u001b[0;34m\u001b[0m\u001b[0m\n",
            "\u001b[0;31mNameError\u001b[0m: name 'group' is not defined"
          ]
        }
      ]
    },
    {
      "cell_type": "code",
      "source": [
        "print('Number of variables before removing correlated: ', X_train.shape[1])"
      ],
      "metadata": {
        "colab": {
          "base_uri": "https://localhost:8080/"
        },
        "id": "-DaMGRCjbau5",
        "outputId": "24b40946-cbf5-44c7-eab4-7fde0fb3c074"
      },
      "execution_count": 54,
      "outputs": [
        {
          "output_type": "stream",
          "name": "stdout",
          "text": [
            "Number of variables before removing correlated:  183\n"
          ]
        }
      ]
    },
    {
      "cell_type": "code",
      "source": [
        "# remove correlated variables\n",
        "X_train = smart_corr.transform(X_train)\n",
        "X_test = smart_corr.transform(X_test)\n",
        "print('Number of variables after removing correlated: ', X_train.shape[1])"
      ],
      "metadata": {
        "colab": {
          "base_uri": "https://localhost:8080/"
        },
        "id": "JMbYMFolbZqE",
        "outputId": "17cd9214-b55c-4629-e0e5-10d7288a9329"
      },
      "execution_count": 68,
      "outputs": [
        {
          "output_type": "stream",
          "name": "stdout",
          "text": [
            "Number of variables after removing correlated:  183\n"
          ]
        }
      ]
    },
    {
      "cell_type": "code",
      "source": [
        "X_train.shape, X_test.shape"
      ],
      "metadata": {
        "colab": {
          "base_uri": "https://localhost:8080/"
        },
        "id": "iEUyJ9M_zRwe",
        "outputId": "6f441e64-de90-41c1-cbc3-ceadf03a2684"
      },
      "execution_count": 63,
      "outputs": [
        {
          "output_type": "execute_result",
          "data": {
            "text/plain": [
              "((76020, 183), (75818, 183))"
            ]
          },
          "metadata": {},
          "execution_count": 63
        }
      ]
    },
    {
      "cell_type": "code",
      "source": [
        "X_train1 = X_train\n",
        "X_test1 = X_test"
      ],
      "metadata": {
        "id": "NLzNXs_K362Y"
      },
      "execution_count": 58,
      "outputs": []
    },
    {
      "cell_type": "code",
      "source": [
        "X_train = X_train1\n",
        "X_test = X_test1"
      ],
      "metadata": {
        "id": "sACEKG5m4WAp"
      },
      "execution_count": null,
      "outputs": []
    },
    {
      "cell_type": "markdown",
      "source": [
        "# 1. 파이프라인 형성하기"
      ],
      "metadata": {
        "id": "T_WoE0wsbrT7"
      }
    },
    {
      "cell_type": "code",
      "source": [
        "# load data again\n",
        "data = pd.read_csv('/content/drive/MyDrive/DATA/Santander Customer Satisfaction_train.csv')\n",
        "\n",
        "# separate dataset into train and test sets\n",
        "\n",
        "X_train, X_test, y_train, y_test = train_test_split(\n",
        "    data.drop(labels=['ID','TARGET'], axis=1),\n",
        "    data['TARGET'],\n",
        "    test_size=0.3,\n",
        "    random_state=0)\n",
        "\n",
        "X_train.shape, X_test.shape"
      ],
      "metadata": {
        "colab": {
          "base_uri": "https://localhost:8080/"
        },
        "id": "slUCHHc6bym5",
        "outputId": "a11435e9-c62c-4c36-b68c-6e503c66a33f"
      },
      "execution_count": null,
      "outputs": [
        {
          "output_type": "execute_result",
          "data": {
            "text/plain": [
              "((53214, 369), (22806, 369))"
            ]
          },
          "metadata": {},
          "execution_count": 197
        }
      ]
    },
    {
      "cell_type": "markdown",
      "source": [
        "나만의 파이프라인"
      ],
      "metadata": {
        "id": "mwfNZHA6j7pi"
      }
    },
    {
      "cell_type": "code",
      "source": [
        "def remove_sparse_feats(self, train= train, test= test, threshold= 0.998):\n",
        "  zeros = (train == 0 ).astype(int).sum()\n",
        "  not_zeros= (train != 0 ).astype(int).sum()\n",
        "\n",
        "  sparse_columns=[]\n",
        "\n",
        "  for i in range(len(train.columns)):\n",
        "    if (zeros[i]/(zeros[i]+not_zeros[i]) > threshold:\n",
        "        sparse_columns.append(train.columns[i])\n",
        "  print('Number of columns before: ', train.shape[1])\n",
        "  print('Number of columns before: ', teast.shape[1])\n",
        "\n",
        "  train.drop(sparse_columns, axis=1, inplace=True)\n",
        "  test.drop(sparse_columns, axis=1, inplace=True)\n",
        "  print('Number of columns after: ', train.shape[1])\n",
        "  print('Number of columns after: ', teast.shape[1])\n",
        "\n"
      ],
      "metadata": {
        "id": "2qoLntaGh8Tt"
      },
      "execution_count": null,
      "outputs": []
    },
    {
      "cell_type": "code",
      "source": [
        "pipe = Pipeline([\n",
        "    ('constant', DropConstantFeatures(tol=0.9995)), # drops constand and quasi-constant altogether\n",
        "    ('duplicated', DropDuplicateFeatures()), # drops duplicates\n",
        "    ('correlation', SmartCorrelatedSelection( # drops correlated\n",
        "        threshold=0.98,\n",
        "        selection_method=\"model_performance\",\n",
        "        estimator=RandomForestClassifier(n_estimators=10, random_state=1),\n",
        "    )),\n",
        "])\n",
        "# find features to remove\n",
        "\n",
        "pipe.fit(X_train, y_train)"
      ],
      "metadata": {
        "colab": {
          "base_uri": "https://localhost:8080/"
        },
        "id": "7QpoSBTQcA2Z",
        "outputId": "0a891d43-80c2-432c-bf4e-652d9290a46e"
      },
      "execution_count": null,
      "outputs": [
        {
          "output_type": "execute_result",
          "data": {
            "text/plain": [
              "Pipeline(steps=[('constant', DropConstantFeatures(tol=0.9995)),\n",
              "                ('duplicated', DropDuplicateFeatures()),\n",
              "                ('correlation',\n",
              "                 SmartCorrelatedSelection(estimator=RandomForestClassifier(n_estimators=10,\n",
              "                                                                           random_state=1),\n",
              "                                          selection_method='model_performance',\n",
              "                                          threshold=0.98))])"
            ]
          },
          "metadata": {},
          "execution_count": 198
        }
      ]
    },
    {
      "cell_type": "code",
      "source": [
        "print('Number of original variables: ', X_train.shape[1]) # drop 전 컬럼 수 \n",
        "print('Number of original variables: ', X_train.shape[1]) # drop 전 컬럼 수 "
      ],
      "metadata": {
        "colab": {
          "base_uri": "https://localhost:8080/"
        },
        "id": "X8JIEnSscId2",
        "outputId": "d8b2b380-ccbe-4cdd-e306-20839ae93b87"
      },
      "execution_count": null,
      "outputs": [
        {
          "output_type": "stream",
          "name": "stdout",
          "text": [
            "Number of original variables:  369\n"
          ]
        }
      ]
    },
    {
      "cell_type": "code",
      "source": [
        "# remove variables\n",
        "X_train = pipe.transform(X_train)\n",
        "X_test = pipe.transform(X_test)\n",
        "\n",
        "\n",
        "print('Number of variables after selection: ', X_train.shape[1])"
      ],
      "metadata": {
        "colab": {
          "base_uri": "https://localhost:8080/"
        },
        "id": "WbVuGTilcGzy",
        "outputId": "35a3fd08-d42f-45aa-ada0-2a03b64f9d5e"
      },
      "execution_count": null,
      "outputs": [
        {
          "output_type": "stream",
          "name": "stdout",
          "text": [
            "Number of variables after selection:  182\n"
          ]
        }
      ]
    },
    {
      "cell_type": "code",
      "source": [
        "test_pred = pipe.transform(test_pred)"
      ],
      "metadata": {
        "id": "HFu_sdh-fMgY"
      },
      "execution_count": null,
      "outputs": []
    },
    {
      "cell_type": "code",
      "source": [
        "X_test.shape, X_train.shape, test_pred.shape"
      ],
      "metadata": {
        "colab": {
          "base_uri": "https://localhost:8080/"
        },
        "id": "-TXuHEvCzcsk",
        "outputId": "40d84059-14bc-4fd5-a3cf-86d9f5ac6998"
      },
      "execution_count": null,
      "outputs": [
        {
          "output_type": "execute_result",
          "data": {
            "text/plain": [
              "((22806, 182), (53214, 182), (75818, 182))"
            ]
          },
          "metadata": {},
          "execution_count": 208
        }
      ]
    },
    {
      "cell_type": "markdown",
      "source": [
        "# 1) Shuffling으로 특성 고르기 "
      ],
      "metadata": {
        "id": "sgCRMtntc92y"
      }
    },
    {
      "cell_type": "code",
      "source": [
        "X_train, X_test, y_train, y_test = train_test_split(\n",
        "    data.drop(labels=['ID','TARGET'], axis=1),\n",
        "    data['TARGET'],\n",
        "    test_size=0.3,\n",
        "    random_state=0)"
      ],
      "metadata": {
        "id": "e3kDLgtsdLYm"
      },
      "execution_count": null,
      "outputs": []
    },
    {
      "cell_type": "code",
      "source": [
        "pipe = Pipeline([\n",
        "    ('constant', DropConstantFeatures(tol=0.998)), # drops constand and quasi-constant altogether\n",
        "    ('duplicated', DropDuplicateFeatures()),\n",
        "])\n",
        "\n",
        "# find features to remove\n",
        "pipe.fit(X_train, y_train)\n",
        "\n",
        "# remove variables\n",
        "\n",
        "X_train = pipe.transform(X_train)\n",
        "X_test = pipe.transform(X_test)"
      ],
      "metadata": {
        "id": "Ok28rlq6dSSa"
      },
      "execution_count": null,
      "outputs": []
    },
    {
      "cell_type": "code",
      "source": [
        "shuffle = SelectByShuffling(\n",
        "    estimator = RandomForestClassifier(n_estimators=10, max_depth=2, random_state=1), # the model\n",
        "    scoring=\"roc_auc\", # the metric to determine model performance\n",
        "    cv=3, # the cross-validation fold\n",
        ")\n",
        "\n",
        "shuffle.fit(X_train, y_train)"
      ],
      "metadata": {
        "colab": {
          "base_uri": "https://localhost:8080/"
        },
        "id": "fPszhOmJdUS2",
        "outputId": "591c1f04-a6a1-42e3-ca58-2332aeb3d81e"
      },
      "execution_count": null,
      "outputs": [
        {
          "output_type": "execute_result",
          "data": {
            "text/plain": [
              "SelectByShuffling(estimator=RandomForestClassifier(max_depth=2, n_estimators=10,\n",
              "                                                   random_state=1))"
            ]
          },
          "metadata": {},
          "execution_count": 44
        }
      ]
    },
    {
      "cell_type": "code",
      "source": [
        "shuffle.initial_model_performance_"
      ],
      "metadata": {
        "colab": {
          "base_uri": "https://localhost:8080/"
        },
        "id": "U8m8p6MPdZ1a",
        "outputId": "23f4fc21-e8b6-4f83-f774-60bde407effb"
      },
      "execution_count": null,
      "outputs": [
        {
          "output_type": "execute_result",
          "data": {
            "text/plain": [
              "0.7675761929904802"
            ]
          },
          "metadata": {},
          "execution_count": 45
        }
      ]
    },
    {
      "cell_type": "code",
      "source": [
        "shuffle.performance_drifts_"
      ],
      "metadata": {
        "colab": {
          "base_uri": "https://localhost:8080/"
        },
        "id": "zTBcpw20dceg",
        "outputId": "9575ee31-0e15-49f7-b705-d571bfc7571d"
      },
      "execution_count": null,
      "outputs": [
        {
          "output_type": "execute_result",
          "data": {
            "text/plain": [
              "{'delta_imp_aport_var13_1y3': -0.0039048335433380377,\n",
              " 'delta_num_aport_var13_1y3': -0.0039048335433380377,\n",
              " 'imp_aport_var13_hace3': -0.0039048335433380377,\n",
              " 'imp_aport_var13_ult1': -0.0039048335433380377,\n",
              " 'imp_ent_var16_ult1': -0.0039048335433380377,\n",
              " 'imp_op_var39_comer_ult1': -0.0039048335433380377,\n",
              " 'imp_op_var39_comer_ult3': -0.0039048335433380377,\n",
              " 'imp_op_var39_efect_ult1': -0.0039048335433380377,\n",
              " 'imp_op_var39_efect_ult3': -0.002194636699535124,\n",
              " 'imp_op_var39_ult1': -0.0039048335433380377,\n",
              " 'imp_op_var40_comer_ult1': -0.0039048335433380377,\n",
              " 'imp_op_var40_comer_ult3': -0.0039048335433380377,\n",
              " 'imp_op_var40_ult1': -0.0039048335433380377,\n",
              " 'imp_op_var41_comer_ult1': -0.0039048335433380377,\n",
              " 'imp_op_var41_comer_ult3': -0.0040306556876368305,\n",
              " 'imp_op_var41_efect_ult1': -0.003336295319762761,\n",
              " 'imp_op_var41_efect_ult3': -0.0003856965949363689,\n",
              " 'imp_op_var41_ult1': -0.003916347362536765,\n",
              " 'imp_trans_var37_ult1': -0.003816794475509311,\n",
              " 'imp_var43_emit_ult1': -0.0039048335433380377,\n",
              " 'imp_var7_recib_ult1': -0.0039048335433380377,\n",
              " 'ind_var1': -0.0039048335433380377,\n",
              " 'ind_var10_ult1': -0.0039048335433380377,\n",
              " 'ind_var10cte_ult1': -0.0039048335433380377,\n",
              " 'ind_var12': -0.0039048335433380377,\n",
              " 'ind_var12_0': -0.0039048335433380377,\n",
              " 'ind_var13': -0.0039048335433380377,\n",
              " 'ind_var13_0': -0.0039048335433380377,\n",
              " 'ind_var13_corto': -0.0039048335433380377,\n",
              " 'ind_var13_corto_0': -0.0039048335433380377,\n",
              " 'ind_var13_largo': -0.0039048335433380377,\n",
              " 'ind_var13_largo_0': -0.0039048335433380377,\n",
              " 'ind_var14': -0.0039048335433380377,\n",
              " 'ind_var14_0': -0.0039048335433380377,\n",
              " 'ind_var19': -0.0039048335433380377,\n",
              " 'ind_var1_0': -0.0039048335433380377,\n",
              " 'ind_var20': -0.0039048335433380377,\n",
              " 'ind_var20_0': -0.0039048335433380377,\n",
              " 'ind_var24': -0.0039048335433380377,\n",
              " 'ind_var24_0': -0.0039048335433380377,\n",
              " 'ind_var25_0': -0.0039048335433380377,\n",
              " 'ind_var25_cte': -0.0033592015142254184,\n",
              " 'ind_var26_0': -0.0039048335433380377,\n",
              " 'ind_var26_cte': -0.0039048335433380377,\n",
              " 'ind_var30': -0.0039048335433380377,\n",
              " 'ind_var30_0': -0.0039048335433380377,\n",
              " 'ind_var31': -0.0039048335433380377,\n",
              " 'ind_var31_0': -0.0039048335433380377,\n",
              " 'ind_var37_0': -0.0039048335433380377,\n",
              " 'ind_var37_cte': -0.0039048335433380377,\n",
              " 'ind_var39_0': -0.0039048335433380377,\n",
              " 'ind_var40': -0.003849945555749912,\n",
              " 'ind_var40_0': -0.0039048335433380377,\n",
              " 'ind_var41_0': -0.0039048335433380377,\n",
              " 'ind_var43_emit_ult1': -0.0039048335433380377,\n",
              " 'ind_var43_recib_ult1': -0.0039048335433380377,\n",
              " 'ind_var5': 0.017658147405783087,\n",
              " 'ind_var5_0': -0.0039048335433380377,\n",
              " 'ind_var7_recib_ult1': -0.0039048335433380377,\n",
              " 'ind_var8': -0.0039048335433380377,\n",
              " 'ind_var8_0': -0.0039048335433380377,\n",
              " 'ind_var9_cte_ult1': -0.0039048335433380377,\n",
              " 'ind_var9_ult1': -0.0039048335433380377,\n",
              " 'num_aport_var13_hace3': -0.0039048335433380377,\n",
              " 'num_aport_var13_ult1': -0.0039048335433380377,\n",
              " 'num_ent_var16_ult1': -0.0039048335433380377,\n",
              " 'num_med_var22_ult3': -0.003716567418946548,\n",
              " 'num_med_var45_ult3': -0.0034914446173308633,\n",
              " 'num_meses_var12_ult3': -0.000944994180655967,\n",
              " 'num_meses_var13_corto_ult3': -0.0039048335433380377,\n",
              " 'num_meses_var13_largo_ult3': -0.0039048335433380377,\n",
              " 'num_meses_var39_vig_ult3': -0.0039048335433380377,\n",
              " 'num_meses_var5_ult3': -0.0039048335433380377,\n",
              " 'num_meses_var8_ult3': -0.0039048335433380377,\n",
              " 'num_op_var39_comer_ult1': -0.004077472324484299,\n",
              " 'num_op_var39_comer_ult3': -0.0039048335433380377,\n",
              " 'num_op_var39_efect_ult1': -0.0039048335433380377,\n",
              " 'num_op_var39_efect_ult3': -0.0039048335433380377,\n",
              " 'num_op_var39_hace2': -0.0039048335433380377,\n",
              " 'num_op_var39_hace3': -0.0039048335433380377,\n",
              " 'num_op_var39_ult1': -0.0039048335433380377,\n",
              " 'num_op_var39_ult3': -0.0039048335433380377,\n",
              " 'num_op_var40_comer_ult1': -0.0039048335433380377,\n",
              " 'num_op_var40_comer_ult3': -0.0039048335433380377,\n",
              " 'num_op_var40_ult1': -0.0039048335433380377,\n",
              " 'num_op_var40_ult3': -0.0039048335433380377,\n",
              " 'num_op_var41_comer_ult1': -0.0039048335433380377,\n",
              " 'num_op_var41_comer_ult3': -0.0039048335433380377,\n",
              " 'num_op_var41_efect_ult1': -0.0039048335433380377,\n",
              " 'num_op_var41_efect_ult3': -0.0039048335433380377,\n",
              " 'num_op_var41_hace2': -0.0039048335433380377,\n",
              " 'num_op_var41_hace3': -0.0039048335433380377,\n",
              " 'num_op_var41_ult1': -0.0039048335433380377,\n",
              " 'num_op_var41_ult3': -0.0039048335433380377,\n",
              " 'num_trasp_var11_ult1': -0.0039048335433380377,\n",
              " 'num_var1': -0.0039048335433380377,\n",
              " 'num_var12': -0.0039048335433380377,\n",
              " 'num_var12_0': -0.004205452434085322,\n",
              " 'num_var13': -0.0039048335433380377,\n",
              " 'num_var13_0': -0.0039048335433380377,\n",
              " 'num_var13_corto': -0.0039048335433380377,\n",
              " 'num_var13_corto_0': -0.0039048335433380377,\n",
              " 'num_var13_largo': -0.0039048335433380377,\n",
              " 'num_var13_largo_0': -0.0039048335433380377,\n",
              " 'num_var14': -0.0039048335433380377,\n",
              " 'num_var14_0': -0.0039048335433380377,\n",
              " 'num_var1_0': -0.0039048335433380377,\n",
              " 'num_var20': -0.0039048335433380377,\n",
              " 'num_var20_0': -0.0039048335433380377,\n",
              " 'num_var22_hace2': -0.0039048335433380377,\n",
              " 'num_var22_hace3': -0.0039048335433380377,\n",
              " 'num_var22_ult1': -0.0039048335433380377,\n",
              " 'num_var22_ult3': -0.0032218577658602587,\n",
              " 'num_var24': -0.0039048335433380377,\n",
              " 'num_var24_0': -0.0039048335433380377,\n",
              " 'num_var25_0': -0.0039048335433380377,\n",
              " 'num_var26_0': -0.0039048335433380377,\n",
              " 'num_var30': 0.023104828473831995,\n",
              " 'num_var30_0': 0.0015100043022291398,\n",
              " 'num_var31': -0.0039048335433380377,\n",
              " 'num_var31_0': -0.0039048335433380377,\n",
              " 'num_var35': -0.003981492691690902,\n",
              " 'num_var37_0': -0.0039048335433380377,\n",
              " 'num_var37_med_ult2': -0.003864549967390829,\n",
              " 'num_var39_0': -0.0039048335433380377,\n",
              " 'num_var4': 0.008346695280103233,\n",
              " 'num_var40': -0.0039048335433380377,\n",
              " 'num_var40_0': -0.0039048335433380377,\n",
              " 'num_var41_0': -0.0039048335433380377,\n",
              " 'num_var42': -0.0039048335433380377,\n",
              " 'num_var42_0': -0.0039048335433380377,\n",
              " 'num_var43_emit_ult1': -0.0039048335433380377,\n",
              " 'num_var43_recib_ult1': -0.0039048335433380377,\n",
              " 'num_var45_hace2': -0.0039048335433380377,\n",
              " 'num_var45_hace3': -0.0038929678481232077,\n",
              " 'num_var45_ult1': -0.003887882772598772,\n",
              " 'num_var45_ult3': -0.0039048335433380377,\n",
              " 'num_var5': 0.0020665242471844536,\n",
              " 'num_var5_0': -0.0039048335433380377,\n",
              " 'num_var7_recib_ult1': -0.0039048335433380377,\n",
              " 'num_var8': -0.0039048335433380377,\n",
              " 'num_var8_0': -0.0039048335433380377,\n",
              " 'saldo_medio_var12_hace2': -0.0039048335433380377,\n",
              " 'saldo_medio_var12_hace3': -0.0039048335433380377,\n",
              " 'saldo_medio_var12_ult1': -0.0039048335433380377,\n",
              " 'saldo_medio_var12_ult3': -0.0039048335433380377,\n",
              " 'saldo_medio_var13_corto_hace2': -0.0039048335433380377,\n",
              " 'saldo_medio_var13_corto_hace3': -0.0039048335433380377,\n",
              " 'saldo_medio_var13_corto_ult1': -0.0039048335433380377,\n",
              " 'saldo_medio_var13_corto_ult3': -0.0039048335433380377,\n",
              " 'saldo_medio_var13_largo_hace2': -0.0039048335433380377,\n",
              " 'saldo_medio_var13_largo_hace3': -0.0039048335433380377,\n",
              " 'saldo_medio_var13_largo_ult1': -0.0039048335433380377,\n",
              " 'saldo_medio_var13_largo_ult3': -0.0039048335433380377,\n",
              " 'saldo_medio_var5_hace2': -0.0039048335433380377,\n",
              " 'saldo_medio_var5_hace3': -0.0033814241973117998,\n",
              " 'saldo_medio_var5_ult1': 0.00727032055967336,\n",
              " 'saldo_medio_var5_ult3': -0.0039048335433380377,\n",
              " 'saldo_medio_var8_hace2': -0.0039048335433380377,\n",
              " 'saldo_medio_var8_hace3': -0.0039048335433380377,\n",
              " 'saldo_medio_var8_ult1': -0.0038388178659847227,\n",
              " 'saldo_medio_var8_ult3': -0.0039048335433380377,\n",
              " 'saldo_var1': -0.0039048335433380377,\n",
              " 'saldo_var12': -0.0039048335433380377,\n",
              " 'saldo_var13': -0.0039048335433380377,\n",
              " 'saldo_var13_corto': -0.0039048335433380377,\n",
              " 'saldo_var13_largo': -0.0039048335433380377,\n",
              " 'saldo_var14': -0.0039048335433380377,\n",
              " 'saldo_var20': -0.0039048335433380377,\n",
              " 'saldo_var24': -0.0039048335433380377,\n",
              " 'saldo_var25': -0.0039048335433380377,\n",
              " 'saldo_var26': -0.0039048335433380377,\n",
              " 'saldo_var30': 0.0027413944205042506,\n",
              " 'saldo_var31': -0.0039048335433380377,\n",
              " 'saldo_var37': -0.003849395944096612,\n",
              " 'saldo_var40': -0.0039048335433380377,\n",
              " 'saldo_var42': 0.0038657986601556837,\n",
              " 'saldo_var5': -0.0039048335433380377,\n",
              " 'saldo_var8': -0.0039048335433380377,\n",
              " 'var15': 0.05233118172048301,\n",
              " 'var21': -0.0039048335433380377,\n",
              " 'var3': -0.003434987200432338,\n",
              " 'var36': 0.0080568086078463,\n",
              " 'var38': 0.007788182409038891}"
            ]
          },
          "metadata": {},
          "execution_count": 46
        }
      ]
    },
    {
      "cell_type": "code",
      "source": [
        "pd.Series(shuffle.performance_drifts_).plot.bar(figsize=(20,5))\n",
        "plt.ylabel('Performance drift after shuffling')\n",
        "plt.show()"
      ],
      "metadata": {
        "colab": {
          "base_uri": "https://localhost:8080/"
        },
        "id": "WeFwzn6ZdiEx",
        "outputId": "adf58868-a0c3-4790-b123-21f5778a03e0"
      },
      "execution_count": null,
      "outputs": [
        {
          "output_type": "display_data",
          "data": {
            "text/plain": [
              "<Figure size 1440x360 with 1 Axes>"
            ],
            "image/png": "[encoded data removed]"
          },
          "metadata": {
            "needs_background": "light"
          }
        }
      ]
    },
    {
      "cell_type": "code",
      "source": [
        "# here we find the attributes that will be dropped\n",
        "\n",
        "len(shuffle.features_to_drop_)"
      ],
      "metadata": {
        "colab": {
          "base_uri": "https://localhost:8080/"
        },
        "id": "4WRhCC-td7Hw",
        "outputId": "be993f20-8996-4f65-c57d-b29f10efd981"
      },
      "execution_count": null,
      "outputs": [
        {
          "output_type": "execute_result",
          "data": {
            "text/plain": [
              "170"
            ]
          },
          "metadata": {},
          "execution_count": 48
        }
      ]
    },
    {
      "cell_type": "code",
      "source": [
        "X_train = shuffle.transform(X_train)\n",
        "X_test = shuffle.transform(X_test)\n",
        "\n",
        "print('Number of variables after removing non important: ', X_train.shape[1])"
      ],
      "metadata": {
        "colab": {
          "base_uri": "https://localhost:8080/"
        },
        "id": "qjymxkCzdme7",
        "outputId": "25bc4ca9-98dd-4537-e2b4-5709d23bf09f"
      },
      "execution_count": null,
      "outputs": [
        {
          "output_type": "stream",
          "name": "stdout",
          "text": [
            "Number of variables after removing non important:  14\n"
          ]
        }
      ]
    },
    {
      "cell_type": "code",
      "source": [
        "# we can go ahead and train a random forest using the selected features and evaluate\n",
        "# its performance\n",
        "\n",
        "rf = RandomForestClassifier(n_estimators=10, max_depth=3, random_state=1)\n",
        "\n",
        "rf.fit(X_train, y_train)\n",
        "\n",
        "pred = rf.predict_proba(X_train)\n",
        "print('Train roc-auc: {}'.format(roc_auc_score(y_train, pred[:,1])))\n",
        "\n",
        "pred = rf.predict_proba(X_test)\n",
        "print('Test roc-auc: {}'.format(roc_auc_score(y_test, pred[:,1])))"
      ],
      "metadata": {
        "colab": {
          "base_uri": "https://localhost:8080/"
        },
        "id": "VgtI7D-CeGXF",
        "outputId": "e1e0507b-1c6d-47ed-a44d-7a2dc0c49959"
      },
      "execution_count": null,
      "outputs": [
        {
          "output_type": "stream",
          "name": "stdout",
          "text": [
            "Train roc-auc: 0.7987048798415026\n",
            "Test roc-auc: 0.7956725896493668\n"
          ]
        }
      ]
    },
    {
      "cell_type": "markdown",
      "source": [
        "# 2) 일변양으로 특성 고르기"
      ],
      "metadata": {
        "id": "EcMqnGwrebKJ"
      }
    },
    {
      "cell_type": "code",
      "source": [
        "X_train, X_test, y_train, y_test = train_test_split(\n",
        "    data.drop(labels=['ID','TARGET'], axis=1),\n",
        "    data['TARGET'],\n",
        "    test_size=0.3,\n",
        "    random_state=0)\n",
        "\n",
        "pipe = Pipeline([\n",
        "    ('constant', DropConstantFeatures(tol=0.998)), # drops constand and quasi-constant altogether\n",
        "    ('duplicated', DropDuplicateFeatures()),\n",
        "])\n",
        "\n",
        "# find features to remove\n",
        "pipe.fit(X_train, y_train)\n",
        "\n",
        "# remove variables\n",
        "\n",
        "X_train = pipe.transform(X_train)\n",
        "X_test = pipe.transform(X_test)"
      ],
      "metadata": {
        "id": "j4DkutKZedXi"
      },
      "execution_count": null,
      "outputs": []
    },
    {
      "cell_type": "code",
      "source": [
        "sel = SelectBySingleFeaturePerformance(\n",
        "    estimator = RandomForestClassifier(n_estimators=10, max_depth=2, random_state=1), # the model\n",
        "    scoring=\"roc_auc\", # the metric to determine model performance\n",
        "    cv=3, # the cross-validation fold,\n",
        "    threshold=None, # the performance threshold\n",
        ")\n",
        "\n",
        "sel.fit(X_train, y_train)"
      ],
      "metadata": {
        "colab": {
          "base_uri": "https://localhost:8080/"
        },
        "id": "yz8mKhTXeo1r",
        "outputId": "a80827f4-2a01-4395-bfdb-e11786de31b8"
      },
      "execution_count": null,
      "outputs": [
        {
          "output_type": "execute_result",
          "data": {
            "text/plain": [
              "SelectBySingleFeaturePerformance(estimator=RandomForestClassifier(max_depth=2,\n",
              "                                                                  n_estimators=10,\n",
              "                                                                  random_state=1))"
            ]
          },
          "metadata": {},
          "execution_count": 52
        }
      ]
    },
    {
      "cell_type": "code",
      "source": [
        "pd.Series(sel.feature_performance_).plot.bar(figsize=(20,5))\n",
        "plt.ylabel('roc-auc')\n",
        "plt.show()"
      ],
      "metadata": {
        "colab": {
          "base_uri": "https://localhost:8080/"
        },
        "id": "QZUEKzmpeziR",
        "outputId": "438569b5-297c-4777-d002-1c87bbf12b17"
      },
      "execution_count": null,
      "outputs": [
        {
          "output_type": "display_data",
          "data": {
            "text/plain": [
              "<Figure size 1440x360 with 1 Axes>"
            ],
            "image/png": "[encoded data removed]"
          },
          "metadata": {
            "needs_background": "light"
          }
        }
      ]
    },
    {
      "cell_type": "code",
      "source": [
        "len(sel.features_to_drop_)"
      ],
      "metadata": {
        "colab": {
          "base_uri": "https://localhost:8080/"
        },
        "id": "hrJW_U7Fe5Kb",
        "outputId": "96cf21ab-f564-47af-b2a0-321fa9fe7776"
      },
      "execution_count": null,
      "outputs": [
        {
          "output_type": "execute_result",
          "data": {
            "text/plain": [
              "156"
            ]
          },
          "metadata": {},
          "execution_count": 54
        }
      ]
    },
    {
      "cell_type": "code",
      "source": [
        "X_train = sel.transform(X_train)\n",
        "X_test = sel.transform(X_test)\n",
        "\n",
        "print('Number of variables after removing non important: ', X_train.shape[1])"
      ],
      "metadata": {
        "colab": {
          "base_uri": "https://localhost:8080/"
        },
        "id": "tk8P0Ja8e8k8",
        "outputId": "ffa18a50-f64a-45f7-847a-a117eeb60ffd"
      },
      "execution_count": null,
      "outputs": [
        {
          "output_type": "stream",
          "name": "stdout",
          "text": [
            "Number of variables after removing non important:  28\n"
          ]
        }
      ]
    },
    {
      "cell_type": "markdown",
      "source": [
        "# 3) 재귀적으로 기능 선택\n",
        "- 이 방법은 모든 기능을 갖춘 모델을 구축하는 것으로 시작합니다.\n",
        "- 그런 다음 모델에서 파생된 중요도에 따라 가장 중요한 것부터 가장 덜 중요한 것순으로 기능의 순위를 지정합니다.\n",
        "- 그런 다음 가장 중요하지 않은 기능을 제거합니다.\n",
        "- 새 모델을 학습하고 성능을 결정합니다.\n",
        "- 성능 저하가 크면 기능을 유지하고 그렇지 않으면 제거합니다.\n",
        "- 모든 기능이 검사될 때까지 3-5단계를 반복합니다."
      ],
      "metadata": {
        "id": "Ie-Hid_HfIv2"
      }
    },
    {
      "cell_type": "code",
      "source": [
        "X_train, X_test, y_train, y_test = train_test_split(\n",
        "    data.drop(labels=['ID','TARGET'], axis=1),\n",
        "    data['TARGET'],\n",
        "    test_size=0.3,\n",
        "    random_state=0)\n",
        "\n",
        "# let's remove constant, quasi-constant and duplicates to speed things up\n",
        "\n",
        "pipe = Pipeline([\n",
        "    ('constant', DropConstantFeatures(tol=0.998)), # drops constand and quasi-constant altogether\n",
        "    ('duplicated', DropDuplicateFeatures()),\n",
        "])\n",
        "\n",
        "# find features to remove\n",
        "pipe.fit(X_train, y_train)\n",
        "\n",
        "# remove variables\n",
        "\n",
        "X_train = pipe.transform(X_train)\n",
        "X_test = pipe.transform(X_test)\n",
        "test_pred = pipe.transform(test_pred)"
      ],
      "metadata": {
        "id": "rnC6ct7SfR9N",
        "colab": {
          "base_uri": "https://localhost:8080/",
          "height": 360
        },
        "outputId": "9c8b21de-ec48-4717-acc1-6b4ca26b79a9"
      },
      "execution_count": null,
      "outputs": [
        {
          "output_type": "error",
          "ename": "ValueError",
          "evalue": "ignored",
          "traceback": [
            "\u001b[0;31m---------------------------------------------------------------------------\u001b[0m",
            "\u001b[0;31mValueError\u001b[0m                                Traceback (most recent call last)",
            "\u001b[0;32m<ipython-input-338-ff11dfbd61eb>\u001b[0m in \u001b[0;36m<module>\u001b[0;34m()\u001b[0m\n\u001b[1;32m     19\u001b[0m \u001b[0mX_train\u001b[0m \u001b[0;34m=\u001b[0m \u001b[0mpipe\u001b[0m\u001b[0;34m.\u001b[0m\u001b[0mtransform\u001b[0m\u001b[0;34m(\u001b[0m\u001b[0mX_train\u001b[0m\u001b[0;34m)\u001b[0m\u001b[0;34m\u001b[0m\u001b[0;34m\u001b[0m\u001b[0m\n\u001b[1;32m     20\u001b[0m \u001b[0mX_test\u001b[0m \u001b[0;34m=\u001b[0m \u001b[0mpipe\u001b[0m\u001b[0;34m.\u001b[0m\u001b[0mtransform\u001b[0m\u001b[0;34m(\u001b[0m\u001b[0mX_test\u001b[0m\u001b[0;34m)\u001b[0m\u001b[0;34m\u001b[0m\u001b[0;34m\u001b[0m\u001b[0m\n\u001b[0;32m---> 21\u001b[0;31m \u001b[0mtest_pred\u001b[0m \u001b[0;34m=\u001b[0m \u001b[0mpipe\u001b[0m\u001b[0;34m.\u001b[0m\u001b[0mtransform\u001b[0m\u001b[0;34m(\u001b[0m\u001b[0mtest_pred\u001b[0m\u001b[0;34m)\u001b[0m\u001b[0;34m\u001b[0m\u001b[0;34m\u001b[0m\u001b[0m\n\u001b[0m",
            "\u001b[0;32m/usr/local/lib/python3.7/dist-packages/sklearn/utils/metaestimators.py\u001b[0m in \u001b[0;36m<lambda>\u001b[0;34m(*args, **kwargs)\u001b[0m\n\u001b[1;32m    111\u001b[0m \u001b[0;34m\u001b[0m\u001b[0m\n\u001b[1;32m    112\u001b[0m             \u001b[0;31m# lambda, but not partial, allows help() to work with update_wrapper\u001b[0m\u001b[0;34m\u001b[0m\u001b[0;34m\u001b[0m\u001b[0;34m\u001b[0m\u001b[0m\n\u001b[0;32m--> 113\u001b[0;31m             \u001b[0mout\u001b[0m \u001b[0;34m=\u001b[0m \u001b[0;32mlambda\u001b[0m \u001b[0;34m*\u001b[0m\u001b[0margs\u001b[0m\u001b[0;34m,\u001b[0m \u001b[0;34m**\u001b[0m\u001b[0mkwargs\u001b[0m\u001b[0;34m:\u001b[0m \u001b[0mself\u001b[0m\u001b[0;34m.\u001b[0m\u001b[0mfn\u001b[0m\u001b[0;34m(\u001b[0m\u001b[0mobj\u001b[0m\u001b[0;34m,\u001b[0m \u001b[0;34m*\u001b[0m\u001b[0margs\u001b[0m\u001b[0;34m,\u001b[0m \u001b[0;34m**\u001b[0m\u001b[0mkwargs\u001b[0m\u001b[0;34m)\u001b[0m  \u001b[0;31m# noqa\u001b[0m\u001b[0;34m\u001b[0m\u001b[0;34m\u001b[0m\u001b[0m\n\u001b[0m\u001b[1;32m    114\u001b[0m         \u001b[0;32melse\u001b[0m\u001b[0;34m:\u001b[0m\u001b[0;34m\u001b[0m\u001b[0;34m\u001b[0m\u001b[0m\n\u001b[1;32m    115\u001b[0m \u001b[0;34m\u001b[0m\u001b[0m\n",
            "\u001b[0;32m/usr/local/lib/python3.7/dist-packages/sklearn/pipeline.py\u001b[0m in \u001b[0;36mtransform\u001b[0;34m(self, X)\u001b[0m\n\u001b[1;32m    645\u001b[0m         \u001b[0mXt\u001b[0m \u001b[0;34m=\u001b[0m \u001b[0mX\u001b[0m\u001b[0;34m\u001b[0m\u001b[0;34m\u001b[0m\u001b[0m\n\u001b[1;32m    646\u001b[0m         \u001b[0;32mfor\u001b[0m \u001b[0m_\u001b[0m\u001b[0;34m,\u001b[0m \u001b[0m_\u001b[0m\u001b[0;34m,\u001b[0m \u001b[0mtransform\u001b[0m \u001b[0;32min\u001b[0m \u001b[0mself\u001b[0m\u001b[0;34m.\u001b[0m\u001b[0m_iter\u001b[0m\u001b[0;34m(\u001b[0m\u001b[0;34m)\u001b[0m\u001b[0;34m:\u001b[0m\u001b[0;34m\u001b[0m\u001b[0;34m\u001b[0m\u001b[0m\n\u001b[0;32m--> 647\u001b[0;31m             \u001b[0mXt\u001b[0m \u001b[0;34m=\u001b[0m \u001b[0mtransform\u001b[0m\u001b[0;34m.\u001b[0m\u001b[0mtransform\u001b[0m\u001b[0;34m(\u001b[0m\u001b[0mXt\u001b[0m\u001b[0;34m)\u001b[0m\u001b[0;34m\u001b[0m\u001b[0;34m\u001b[0m\u001b[0m\n\u001b[0m\u001b[1;32m    648\u001b[0m         \u001b[0;32mreturn\u001b[0m \u001b[0mXt\u001b[0m\u001b[0;34m\u001b[0m\u001b[0;34m\u001b[0m\u001b[0m\n\u001b[1;32m    649\u001b[0m \u001b[0;34m\u001b[0m\u001b[0m\n",
            "\u001b[0;32m/usr/local/lib/python3.7/dist-packages/feature_engine/selection/drop_constant_features.py\u001b[0m in \u001b[0;36mtransform\u001b[0;34m(self, X)\u001b[0m\n\u001b[1;32m    153\u001b[0m     \u001b[0;31m# Ugly work around to import the docstring for Sphinx, otherwise not necessary\u001b[0m\u001b[0;34m\u001b[0m\u001b[0;34m\u001b[0m\u001b[0;34m\u001b[0m\u001b[0m\n\u001b[1;32m    154\u001b[0m     \u001b[0;32mdef\u001b[0m \u001b[0mtransform\u001b[0m\u001b[0;34m(\u001b[0m\u001b[0mself\u001b[0m\u001b[0;34m,\u001b[0m \u001b[0mX\u001b[0m\u001b[0;34m:\u001b[0m \u001b[0mpd\u001b[0m\u001b[0;34m.\u001b[0m\u001b[0mDataFrame\u001b[0m\u001b[0;34m)\u001b[0m \u001b[0;34m->\u001b[0m \u001b[0mpd\u001b[0m\u001b[0;34m.\u001b[0m\u001b[0mDataFrame\u001b[0m\u001b[0;34m:\u001b[0m\u001b[0;34m\u001b[0m\u001b[0;34m\u001b[0m\u001b[0m\n\u001b[0;32m--> 155\u001b[0;31m         \u001b[0mX\u001b[0m \u001b[0;34m=\u001b[0m \u001b[0msuper\u001b[0m\u001b[0;34m(\u001b[0m\u001b[0;34m)\u001b[0m\u001b[0;34m.\u001b[0m\u001b[0mtransform\u001b[0m\u001b[0;34m(\u001b[0m\u001b[0mX\u001b[0m\u001b[0;34m)\u001b[0m\u001b[0;34m\u001b[0m\u001b[0;34m\u001b[0m\u001b[0m\n\u001b[0m\u001b[1;32m    156\u001b[0m \u001b[0;34m\u001b[0m\u001b[0m\n\u001b[1;32m    157\u001b[0m         \u001b[0;32mreturn\u001b[0m \u001b[0mX\u001b[0m\u001b[0;34m\u001b[0m\u001b[0;34m\u001b[0m\u001b[0m\n",
            "\u001b[0;32m/usr/local/lib/python3.7/dist-packages/feature_engine/selection/base_selector.py\u001b[0m in \u001b[0;36mtransform\u001b[0;34m(self, X)\u001b[0m\n\u001b[1;32m     56\u001b[0m \u001b[0;34m\u001b[0m\u001b[0m\n\u001b[1;32m     57\u001b[0m         \u001b[0;31m# check if number of columns in test dataset matches to train dataset\u001b[0m\u001b[0;34m\u001b[0m\u001b[0;34m\u001b[0m\u001b[0;34m\u001b[0m\u001b[0m\n\u001b[0;32m---> 58\u001b[0;31m         \u001b[0m_check_input_matches_training_df\u001b[0m\u001b[0;34m(\u001b[0m\u001b[0mX\u001b[0m\u001b[0;34m,\u001b[0m \u001b[0mself\u001b[0m\u001b[0;34m.\u001b[0m\u001b[0mn_features_in_\u001b[0m\u001b[0;34m)\u001b[0m\u001b[0;34m\u001b[0m\u001b[0;34m\u001b[0m\u001b[0m\n\u001b[0m\u001b[1;32m     59\u001b[0m \u001b[0;34m\u001b[0m\u001b[0m\n\u001b[1;32m     60\u001b[0m         \u001b[0;31m# return the dataframe with the selected features\u001b[0m\u001b[0;34m\u001b[0m\u001b[0;34m\u001b[0m\u001b[0;34m\u001b[0m\u001b[0m\n",
            "\u001b[0;32m/usr/local/lib/python3.7/dist-packages/feature_engine/dataframe_checks.py\u001b[0m in \u001b[0;36m_check_input_matches_training_df\u001b[0;34m(X, reference)\u001b[0m\n\u001b[1;32m     79\u001b[0m     \u001b[0;32mif\u001b[0m \u001b[0mX\u001b[0m\u001b[0;34m.\u001b[0m\u001b[0mshape\u001b[0m\u001b[0;34m[\u001b[0m\u001b[0;36m1\u001b[0m\u001b[0;34m]\u001b[0m \u001b[0;34m!=\u001b[0m \u001b[0mreference\u001b[0m\u001b[0;34m:\u001b[0m\u001b[0;34m\u001b[0m\u001b[0;34m\u001b[0m\u001b[0m\n\u001b[1;32m     80\u001b[0m         raise ValueError(\n\u001b[0;32m---> 81\u001b[0;31m             \u001b[0;34m\"The number of columns in this dataset is different from the one used to \"\u001b[0m\u001b[0;34m\u001b[0m\u001b[0;34m\u001b[0m\u001b[0m\n\u001b[0m\u001b[1;32m     82\u001b[0m             \u001b[0;34m\"fit this transformer (when using the fit() method).\"\u001b[0m\u001b[0;34m\u001b[0m\u001b[0;34m\u001b[0m\u001b[0m\n\u001b[1;32m     83\u001b[0m         )\n",
            "\u001b[0;31mValueError\u001b[0m: The number of columns in this dataset is different from the one used to fit this transformer (when using the fit() method)."
          ]
        }
      ]
    },
    {
      "cell_type": "code",
      "source": [
        "rfe = RecursiveFeatureElimination(\n",
        "    estimator = RandomForestClassifier(n_estimators=10,, max_depth=3,colsample_bytree=0.5, min_child_weight=3), # the model\n",
        "    scoring=\"roc_auc\", # the metric to determine model performance\n",
        "    cv=3, # the cross-validation fold\n",
        "    threshold = 0.04, \n",
        ")\n",
        "\n",
        "rfe.fit(X_train, y_train)"
      ],
      "metadata": {
        "id": "NkjHOgfofZOf"
      },
      "execution_count": null,
      "outputs": []
    },
    {
      "cell_type": "code",
      "source": [
        "rfe.feature_importances_"
      ],
      "metadata": {
        "id": "YfEc2HokfdR5"
      },
      "execution_count": null,
      "outputs": []
    },
    {
      "cell_type": "code",
      "source": [
        "# plot of feature importance, derived from the Random Forests\n",
        "pd.Series(rfe.feature_importances_).plot.bar(figsize=(20,5))\n",
        "plt.ylabel('Feature importance derived from the random forests')\n",
        "plt.show()"
      ],
      "metadata": {
        "id": "wF4FhOSdfpl6"
      },
      "execution_count": null,
      "outputs": []
    },
    {
      "cell_type": "code",
      "source": [
        "# the number of features that will be dropped\n",
        "len(rfe.features_to_drop_)"
      ],
      "metadata": {
        "id": "xsiNnMOrf8Nw"
      },
      "execution_count": null,
      "outputs": []
    },
    {
      "cell_type": "code",
      "source": [
        "X_train = rfe.transform(X_train)\n",
        "X_test = rfe.transform(X_test)\n",
        "\n",
        "print('Number of variables after removing non important: ', X_train.shape[1])"
      ],
      "metadata": {
        "id": "BA_kipbSf924"
      },
      "execution_count": null,
      "outputs": []
    },
    {
      "cell_type": "markdown",
      "source": [
        "# 성능평가(AUC ROC)"
      ],
      "metadata": {
        "id": "4Rn0GmeJnf3l"
      }
    },
    {
      "cell_type": "markdown",
      "source": [
        "# EDA (탐색적 데이터 분석)"
      ],
      "metadata": {
        "id": "KmNYWtR06A-r"
      }
    },
    {
      "cell_type": "markdown",
      "source": [
        "### 일변량 분석"
      ],
      "metadata": {
        "id": "LHOpiIiS6Phe"
      }
    },
    {
      "cell_type": "markdown",
      "source": [
        "- 1)  var15는 연령일 가능성이 높다\n",
        "  - 5~105 사이의 고유한 값을 가진다.\n",
        "  - 그렇다면 주고객은 30세 미만이고 23세 미만 고객은 결코 불만족을 누르지 않는다.\n",
        "  - 23세 미만 여부에 따라 새로운 특성을 넣을 수 있다. \n",
        "- 2)  num_var4는 고객이 은행에서 가지고 있는 은행 상품 수일 가능성이 높다.\n",
        "  - 불만족한 고객은 은행 상품을 구매하지 않았고 2개 이상 상품을 구매한 고객은 거의 모두 만족을 골랐다. \n",
        "  - 'num_var4'이  6 이상인 고객은 모두 만족했다"
      ],
      "metadata": {
        "id": "cKFy-KKuMqK2"
      }
    },
    {
      "cell_type": "code",
      "source": [
        "#1) var15\n",
        "counts, bins = np.histogram(train)\n",
        "g = sns.FacetGrid(train, hue='TARGET', height=9, aspect=2.5).map(plt.hist, 'var15').add_legend()\n",
        "g.set(xticks=train.var15)\n",
        "\n",
        "plt.title('Age of customers')\n",
        "plt.show()"
      ],
      "metadata": {
        "colab": {
          "base_uri": "https://localhost:8080/",
          "height": 693
        },
        "id": "WkaGtSmzMNWD",
        "outputId": "4346bc95-92f7-4106-b90f-9fe1e6c59ab1"
      },
      "execution_count": null,
      "outputs": [
        {
          "output_type": "display_data",
          "data": {
            "text/plain": [
              "<Figure size 1667x648 with 1 Axes>"
            ],
            "image/png": "[encoded data removed]"
          },
          "metadata": {
            "needs_background": "light"
          }
        }
      ]
    },
    {
      "cell_type": "code",
      "source": [
        "# 2) num_var4\n",
        "train['num_var4'].value_counts()"
      ],
      "metadata": {
        "colab": {
          "base_uri": "https://localhost:8080/"
        },
        "id": "-Aqua-D-N0cb",
        "outputId": "a38cfa8e-1d78-4fb6-b4cd-278cea7a3174"
      },
      "execution_count": null,
      "outputs": [
        {
          "output_type": "execute_result",
          "data": {
            "text/plain": [
              "1    38147\n",
              "0    19528\n",
              "2    12692\n",
              "3     4377\n",
              "4     1031\n",
              "5      203\n",
              "6       36\n",
              "7        6\n",
              "Name: num_var4, dtype: int64"
            ]
          },
          "metadata": {},
          "execution_count": 145
        }
      ]
    },
    {
      "cell_type": "code",
      "source": [
        "train.loc[train['TARGET']==0]['num_var4'].value_counts()"
      ],
      "metadata": {
        "colab": {
          "base_uri": "https://localhost:8080/"
        },
        "id": "hI4MCCsqOCad",
        "outputId": "32854632-4261-41d3-d7c1-25ba286ee0b5"
      },
      "execution_count": null,
      "outputs": [
        {
          "output_type": "execute_result",
          "data": {
            "text/plain": [
              "1    37455\n",
              "0    17791\n",
              "2    12359\n",
              "3     4195\n",
              "4      973\n",
              "5      197\n",
              "6       36\n",
              "7        6\n",
              "Name: num_var4, dtype: int64"
            ]
          },
          "metadata": {},
          "execution_count": 146
        }
      ]
    },
    {
      "cell_type": "code",
      "source": [
        "g = sns.FacetGrid(train, hue='TARGET', height=8, aspect=1).map(plt.hist, 'num_var4').add_legend()\n",
        "g.set(xticks=train.num_var4)\n",
        "\n",
        "plt.title('Number of banking product')\n",
        "plt.show()"
      ],
      "metadata": {
        "colab": {
          "base_uri": "https://localhost:8080/",
          "height": 601
        },
        "id": "DkAAjae5POjQ",
        "outputId": "be436f6f-be4c-4594-b17c-197b1738d1d1"
      },
      "execution_count": null,
      "outputs": [
        {
          "output_type": "display_data",
          "data": {
            "text/plain": [
              "<Figure size 623x576 with 1 Axes>"
            ],
            "image/png": "[encoded data removed]"
          },
          "metadata": {
            "needs_background": "light"
          }
        }
      ]
    },
    {
      "cell_type": "code",
      "source": [
        "# decissiontree for feature importance:\n",
        "from sklearn.tree import DecisionTreeRegressor\n",
        "from sklearn.tree import DecisionTreeClassifier\n",
        "\n",
        "model = DecisionTreeClassifier()\n",
        "model.fit(X_train, y_train)\n",
        "\n",
        "# get importance\n",
        "importance_dt = model.feature_importances_\n",
        "\n",
        "# before feat engg\n",
        "sorted_idx = importance_dt.argsort()[-15:]\n",
        "plt.barh(X_train.columns[sorted_idx], importance_dt[sorted_idx])\n",
        "plt.xlabel(\"Random Forest Feature Importance\")"
      ],
      "metadata": {
        "colab": {
          "base_uri": "https://localhost:8080/",
          "height": 515
        },
        "id": "x6UDoX7BQLRu",
        "outputId": "22d17da1-987c-445b-c34c-0410d0b6e28e"
      },
      "execution_count": 61,
      "outputs": [
        {
          "output_type": "execute_result",
          "data": {
            "text/plain": [
              "Text(0.5, 0, 'Random Forest Feature Importance')"
            ]
          },
          "metadata": {},
          "execution_count": 61
        },
        {
          "output_type": "display_data",
          "data": {
            "text/plain": [
              "<Figure size 576x576 with 1 Axes>"
            ],
            "image/png": "[encoded data removed]"
          },
          "metadata": {
            "needs_background": "light"
          }
        }
      ]
    },
    {
      "cell_type": "markdown",
      "source": [
        "# 데이터 보존 "
      ],
      "metadata": {
        "id": "kXqrzYn100Se"
      }
    },
    {
      "cell_type": "code",
      "source": [
        "X_train = X_train1\n",
        "X_test = X_test1\n",
        "test_pred = test_pred1"
      ],
      "metadata": {
        "id": "CWksXnq_0vj7"
      },
      "execution_count": null,
      "outputs": []
    },
    {
      "cell_type": "markdown",
      "source": [
        "# Feature Engineering"
      ],
      "metadata": {
        "id": "WC4FEiukNBR5"
      }
    },
    {
      "cell_type": "markdown",
      "source": [
        "1) 연령에 따른 특성 추가 \n",
        "- 'var15'는 연령을 나타내는 컬럼으로 그 중 23세 이하는 항상 만족하는 경향이 있음\n",
        "- 23세 이하인지 판단하여 below_23 특성을 추가한다.\n",
        "- 반대로 80세 이상은 대부분 불만족하는 경향이 있어 above_80 특성을 추가한다.\n",
        "\n",
        "2) 상품 구매 수에 따른 특성 추가\n",
        "- 'saldo_var30' 은 상품 구매수를 나타내는 특성으로 추정한다\n",
        "- 구매한 상품 수가 0~3"
      ],
      "metadata": {
        "id": "mwvWr826UpVt"
      }
    },
    {
      "cell_type": "code",
      "source": [
        "X_train['below_23']=X_train['var15'][X_train['var15'] <= 23]"
      ],
      "metadata": {
        "id": "dXGY1LMZVa4T"
      },
      "execution_count": null,
      "outputs": []
    },
    {
      "cell_type": "code",
      "source": [
        "X_train['var15'][X_train['var15'] >= 80]"
      ],
      "metadata": {
        "colab": {
          "base_uri": "https://localhost:8080/"
        },
        "id": "g1yg1rrrlkTR",
        "outputId": "623b0d62-8bdc-4a01-db4d-c2adc4f829c6"
      },
      "execution_count": null,
      "outputs": [
        {
          "output_type": "execute_result",
          "data": {
            "text/plain": [
              "46194    83\n",
              "7418     83\n",
              "74953    89\n",
              "19430    84\n",
              "55704    86\n",
              "         ..\n",
              "50512    93\n",
              "75583    82\n",
              "40843    82\n",
              "47449    99\n",
              "49272    86\n",
              "Name: var15, Length: 435, dtype: int64"
            ]
          },
          "metadata": {},
          "execution_count": 174
        }
      ]
    },
    {
      "cell_type": "code",
      "source": [
        "X_train['above_80']=X_train['var15'][X_train['var15'] >= 80]"
      ],
      "metadata": {
        "id": "5eStt6I9ld7L"
      },
      "execution_count": null,
      "outputs": []
    },
    {
      "cell_type": "code",
      "source": [
        "train[['saldo_var30','TARGET']][train['saldo_var30']<3] #"
      ],
      "metadata": {
        "colab": {
          "base_uri": "https://localhost:8080/",
          "height": 423
        },
        "id": "lZRiEgxZlsdi",
        "outputId": "b8d607d7-a9df-48bf-e283-e176668793b5"
      },
      "execution_count": null,
      "outputs": [
        {
          "output_type": "execute_result",
          "data": {
            "text/plain": [
              "       saldo_var30  TARGET\n",
              "0              0.0       0\n",
              "5              0.0       0\n",
              "8              0.0       0\n",
              "11             0.0       0\n",
              "16             0.0       0\n",
              "...            ...     ...\n",
              "75998          0.0       0\n",
              "76007          0.0       1\n",
              "76010          0.0       0\n",
              "76015          0.0       0\n",
              "76019          0.0       0\n",
              "\n",
              "[21291 rows x 2 columns]"
            ],
            "text/html": [
              "\n",
              "  <div id=\"df-780ad8eb-0c11-43fb-b92c-3afafa6d1fff\">\n",
              "    <div class=\"colab-df-container\">\n",
              "      <div>\n",
              "<style scoped>\n",
              "    .dataframe tbody tr th:only-of-type {\n",
              "        vertical-align: middle;\n",
              "    }\n",
              "\n",
              "    .dataframe tbody tr th {\n",
              "        vertical-align: top;\n",
              "    }\n",
              "\n",
              "    .dataframe thead th {\n",
              "        text-align: right;\n",
              "    }\n",
              "</style>\n",
              "<table border=\"1\" class=\"dataframe\">\n",
              "  <thead>\n",
              "    <tr style=\"text-align: right;\">\n",
              "      <th></th>\n",
              "      <th>saldo_var30</th>\n",
              "      <th>TARGET</th>\n",
              "    </tr>\n",
              "  </thead>\n",
              "  <tbody>\n",
              "    <tr>\n",
              "      <th>0</th>\n",
              "      <td>0.0</td>\n",
              "      <td>0</td>\n",
              "    </tr>\n",
              "    <tr>\n",
              "      <th>5</th>\n",
              "      <td>0.0</td>\n",
              "      <td>0</td>\n",
              "    </tr>\n",
              "    <tr>\n",
              "      <th>8</th>\n",
              "      <td>0.0</td>\n",
              "      <td>0</td>\n",
              "    </tr>\n",
              "    <tr>\n",
              "      <th>11</th>\n",
              "      <td>0.0</td>\n",
              "      <td>0</td>\n",
              "    </tr>\n",
              "    <tr>\n",
              "      <th>16</th>\n",
              "      <td>0.0</td>\n",
              "      <td>0</td>\n",
              "    </tr>\n",
              "    <tr>\n",
              "      <th>...</th>\n",
              "      <td>...</td>\n",
              "      <td>...</td>\n",
              "    </tr>\n",
              "    <tr>\n",
              "      <th>75998</th>\n",
              "      <td>0.0</td>\n",
              "      <td>0</td>\n",
              "    </tr>\n",
              "    <tr>\n",
              "      <th>76007</th>\n",
              "      <td>0.0</td>\n",
              "      <td>1</td>\n",
              "    </tr>\n",
              "    <tr>\n",
              "      <th>76010</th>\n",
              "      <td>0.0</td>\n",
              "      <td>0</td>\n",
              "    </tr>\n",
              "    <tr>\n",
              "      <th>76015</th>\n",
              "      <td>0.0</td>\n",
              "      <td>0</td>\n",
              "    </tr>\n",
              "    <tr>\n",
              "      <th>76019</th>\n",
              "      <td>0.0</td>\n",
              "      <td>0</td>\n",
              "    </tr>\n",
              "  </tbody>\n",
              "</table>\n",
              "<p>21291 rows × 2 columns</p>\n",
              "</div>\n",
              "      <button class=\"colab-df-convert\" onclick=\"convertToInteractive('df-780ad8eb-0c11-43fb-b92c-3afafa6d1fff')\"\n",
              "              title=\"Convert this dataframe to an interactive table.\"\n",
              "              style=\"display:none;\">\n",
              "        \n",
              "  <svg xmlns=\"http://www.w3.org/2000/svg\" height=\"24px\"viewBox=\"0 0 24 24\"\n",
              "       width=\"24px\">\n",
              "    <path d=\"M0 0h24v24H0V0z\" fill=\"none\"/>\n",
              "    <path d=\"M18.56 5.44l.94 2.06.94-2.06 2.06-.94-2.06-.94-.94-2.06-.94 2.06-2.06.94zm-11 1L8.5 8.5l.94-2.06 2.06-.94-2.06-.94L8.5 2.5l-.94 2.06-2.06.94zm10 10l.94 2.06.94-2.06 2.06-.94-2.06-.94-.94-2.06-.94 2.06-2.06.94z\"/><path d=\"M17.41 7.96l-1.37-1.37c-.4-.4-.92-.59-1.43-.59-.52 0-1.04.2-1.43.59L10.3 9.45l-7.72 7.72c-.78.78-.78 2.05 0 2.83L4 21.41c.39.39.9.59 1.41.59.51 0 1.02-.2 1.41-.59l7.78-7.78 2.81-2.81c.8-.78.8-2.07 0-2.86zM5.41 20L4 18.59l7.72-7.72 1.47 1.35L5.41 20z\"/>\n",
              "  </svg>\n",
              "      </button>\n",
              "      \n",
              "  <style>\n",
              "    .colab-df-container {\n",
              "      display:flex;\n",
              "      flex-wrap:wrap;\n",
              "      gap: 12px;\n",
              "    }\n",
              "\n",
              "    .colab-df-convert {\n",
              "      background-color: #E8F0FE;\n",
              "      border: none;\n",
              "      border-radius: 50%;\n",
              "      cursor: pointer;\n",
              "      display: none;\n",
              "      fill: #1967D2;\n",
              "      height: 32px;\n",
              "      padding: 0 0 0 0;\n",
              "      width: 32px;\n",
              "    }\n",
              "\n",
              "    .colab-df-convert:hover {\n",
              "      background-color: #E2EBFA;\n",
              "      box-shadow: 0px 1px 2px rgba(60, 64, 67, 0.3), 0px 1px 3px 1px rgba(60, 64, 67, 0.15);\n",
              "      fill: #174EA6;\n",
              "    }\n",
              "\n",
              "    [theme=dark] .colab-df-convert {\n",
              "      background-color: #3B4455;\n",
              "      fill: #D2E3FC;\n",
              "    }\n",
              "\n",
              "    [theme=dark] .colab-df-convert:hover {\n",
              "      background-color: #434B5C;\n",
              "      box-shadow: 0px 1px 3px 1px rgba(0, 0, 0, 0.15);\n",
              "      filter: drop-shadow(0px 1px 2px rgba(0, 0, 0, 0.3));\n",
              "      fill: #FFFFFF;\n",
              "    }\n",
              "  </style>\n",
              "\n",
              "      <script>\n",
              "        const buttonEl =\n",
              "          document.querySelector('#df-780ad8eb-0c11-43fb-b92c-3afafa6d1fff button.colab-df-convert');\n",
              "        buttonEl.style.display =\n",
              "          google.colab.kernel.accessAllowed ? 'block' : 'none';\n",
              "\n",
              "        async function convertToInteractive(key) {\n",
              "          const element = document.querySelector('#df-780ad8eb-0c11-43fb-b92c-3afafa6d1fff');\n",
              "          const dataTable =\n",
              "            await google.colab.kernel.invokeFunction('convertToInteractive',\n",
              "                                                     [key], {});\n",
              "          if (!dataTable) return;\n",
              "\n",
              "          const docLinkHtml = 'Like what you see? Visit the ' +\n",
              "            '<a target=\"_blank\" href=https://colab.research.google.com/notebooks/data_table.ipynb>data table notebook</a>'\n",
              "            + ' to learn more about interactive tables.';\n",
              "          element.innerHTML = '';\n",
              "          dataTable['output_type'] = 'display_data';\n",
              "          await google.colab.output.renderOutput(dataTable, element);\n",
              "          const docLink = document.createElement('div');\n",
              "          docLink.innerHTML = docLinkHtml;\n",
              "          element.appendChild(docLink);\n",
              "        }\n",
              "      </script>\n",
              "    </div>\n",
              "  </div>\n",
              "  "
            ]
          },
          "metadata": {},
          "execution_count": 189
        }
      ]
    },
    {
      "cell_type": "code",
      "source": [
        "X_train.shape,X_test.shape, test_pred.shape"
      ],
      "metadata": {
        "colab": {
          "base_uri": "https://localhost:8080/"
        },
        "id": "UiyK0d3Q2ePk",
        "outputId": "a39de508-defd-4ae7-fc4a-d3a135cb0926"
      },
      "execution_count": null,
      "outputs": [
        {
          "output_type": "execute_result",
          "data": {
            "text/plain": [
              "((53214, 109), (22806, 109), (75818, 182))"
            ]
          },
          "metadata": {},
          "execution_count": 287
        }
      ]
    },
    {
      "cell_type": "code",
      "source": [
        "i=0\n",
        "for col in X_train.columns: #reomving all sparse features\n",
        "    if np.percentile(train[col],99)==0:\n",
        "        i+=1\n",
        "        del X_train[col]\n",
        "        del X_test[col]\n",
        "        del test_pred[col]"
      ],
      "metadata": {
        "id": "5EZ421eF2ZFF"
      },
      "execution_count": null,
      "outputs": []
    },
    {
      "cell_type": "code",
      "source": [
        "def add_feature_no_zeros(train=X_train,test=X_test):\n",
        "    \"\"\"\n",
        "    Add feature which tells the no. of occurences of zeros,nonzeros across a datapoint\n",
        "    \"\"\"\n",
        "    col = [k for k in train.columns if k!='TARGET']\n",
        "    for df in [train,test]:\n",
        "        df['no_zeros'] = (df.loc[:,col]==0).sum(axis=1).values\n",
        "        df['no_nonzeros'] = (df.loc[:,col]!=0).sum(axis=1).values"
      ],
      "metadata": {
        "id": "a_9o867Q0O3d"
      },
      "execution_count": null,
      "outputs": []
    },
    {
      "cell_type": "code",
      "source": [
        "keywords = ['saldo' , 'ind', 'num', 'imp']\n",
        "def add_feature_no_zeros_keyword(keyword,train=X_train,test=X_test):\n",
        "    \"\"\"\n",
        "    Add feature which tells the no. of occurences of zeros,nonzeros across a datapoint\n",
        "    for a specific keyword\n",
        "    \"\"\"\n",
        "    col = [k for k in train.columns if keyword in k]\n",
        "    for df in [train,test]:\n",
        "        df['no_zeros_'+k] = (df.loc[:,col]==0).sum(axis=1).values\n",
        "        df['no_nonzeros_'+k] = (df.loc[:,col]!=0).sum(axis=1).values"
      ],
      "metadata": {
        "id": "76O9Pp5_0Vc2"
      },
      "execution_count": null,
      "outputs": []
    },
    {
      "cell_type": "code",
      "source": [
        "def average_col(col,features,train=X_train,test=X_test):\n",
        "  \"\"\"\n",
        "  Gets the average numerical values of features for each category in 'col' feature\n",
        "  and add it as feature \n",
        "  \"\"\"\n",
        "  for df in [train,test]:\n",
        "    unique_values = df[col].unique()\n",
        "    \n",
        "    for feature in features:\n",
        "      avg_value=[]\n",
        "      for value in unique_values:\n",
        "        avg = df.loc[df[col]==value,feature].mean() #taking average for each category for feature col\n",
        "        avg_value.append(avg)\n",
        "      avg_dict = dict(zip(unique_values,avg_value))\n",
        "      new_col = 'avg_'+col+'_'+feature\n",
        "      df[new_col] = np.zeros(df.shape[0])\n",
        "      for value in unique_values:\n",
        "        df.loc[df[col]==value,new_col] = avg_dict[value]\n",
        "\n",
        "features = [i for i in X_train.columns if ('saldo' in i) & ('no_zeros' not in i)]\n",
        "features.extend([i for i in X_train.columns if ('imp' in i) & ('no_zeros' not in i)])\n",
        "columns = [i for i in X_train.columns if (X_train[i].nunique()<=210) & (X_train[i].nunique()>50)] #categorical features\n",
        "\n",
        "for col in tqdm(columns):\n",
        "  average_col(col,features)"
      ],
      "metadata": {
        "colab": {
          "base_uri": "https://localhost:8080/",
          "height": 227
        },
        "id": "YaF5HvAv0aHu",
        "outputId": "fc60494c-9b90-42d4-bab8-91f98395ee5a"
      },
      "execution_count": null,
      "outputs": [
        {
          "output_type": "error",
          "ename": "NameError",
          "evalue": "ignored",
          "traceback": [
            "\u001b[0;31m---------------------------------------------------------------------------\u001b[0m",
            "\u001b[0;31mNameError\u001b[0m                                 Traceback (most recent call last)",
            "\u001b[0;32m<ipython-input-266-f53561519933>\u001b[0m in \u001b[0;36m<module>\u001b[0;34m()\u001b[0m\n\u001b[1;32m     22\u001b[0m \u001b[0mcolumns\u001b[0m \u001b[0;34m=\u001b[0m \u001b[0;34m[\u001b[0m\u001b[0mi\u001b[0m \u001b[0;32mfor\u001b[0m \u001b[0mi\u001b[0m \u001b[0;32min\u001b[0m \u001b[0mX_train\u001b[0m\u001b[0;34m.\u001b[0m\u001b[0mcolumns\u001b[0m \u001b[0;32mif\u001b[0m \u001b[0;34m(\u001b[0m\u001b[0mX_train\u001b[0m\u001b[0;34m[\u001b[0m\u001b[0mi\u001b[0m\u001b[0;34m]\u001b[0m\u001b[0;34m.\u001b[0m\u001b[0mnunique\u001b[0m\u001b[0;34m(\u001b[0m\u001b[0;34m)\u001b[0m\u001b[0;34m<=\u001b[0m\u001b[0;36m210\u001b[0m\u001b[0;34m)\u001b[0m \u001b[0;34m&\u001b[0m \u001b[0;34m(\u001b[0m\u001b[0mX_train\u001b[0m\u001b[0;34m[\u001b[0m\u001b[0mi\u001b[0m\u001b[0;34m]\u001b[0m\u001b[0;34m.\u001b[0m\u001b[0mnunique\u001b[0m\u001b[0;34m(\u001b[0m\u001b[0;34m)\u001b[0m\u001b[0;34m>\u001b[0m\u001b[0;36m50\u001b[0m\u001b[0;34m)\u001b[0m\u001b[0;34m]\u001b[0m \u001b[0;31m#categorical features\u001b[0m\u001b[0;34m\u001b[0m\u001b[0;34m\u001b[0m\u001b[0m\n\u001b[1;32m     23\u001b[0m \u001b[0;34m\u001b[0m\u001b[0m\n\u001b[0;32m---> 24\u001b[0;31m \u001b[0;32mfor\u001b[0m \u001b[0mcol\u001b[0m \u001b[0;32min\u001b[0m \u001b[0mtqdm\u001b[0m\u001b[0;34m(\u001b[0m\u001b[0mcolumns\u001b[0m\u001b[0;34m)\u001b[0m\u001b[0;34m:\u001b[0m\u001b[0;34m\u001b[0m\u001b[0;34m\u001b[0m\u001b[0m\n\u001b[0m\u001b[1;32m     25\u001b[0m   \u001b[0maverage_col\u001b[0m\u001b[0;34m(\u001b[0m\u001b[0mcol\u001b[0m\u001b[0;34m,\u001b[0m\u001b[0mfeatures\u001b[0m\u001b[0;34m)\u001b[0m\u001b[0;34m\u001b[0m\u001b[0;34m\u001b[0m\u001b[0m\n",
            "\u001b[0;31mNameError\u001b[0m: name 'tqdm' is not defined"
          ]
        }
      ]
    },
    {
      "cell_type": "code",
      "source": [
        "def add_kmeans_cluster(ncluster=[2,4,6,8,10],train=X_train,test=X_test):\n",
        "  for n in ncluster:\n",
        "    print(\"for n=%i:\"%(n))\n",
        "    feat_name = 'Kmeans_'+str(n)\n",
        "    kmeans = cluster.KMeans(n_clusters=n,n_jobs=-1,verbose=2,random_state=100)\n",
        "    train[feat_name] = kmeans.fit_predict(X_train)\n",
        "    test[feat_name] = kmeans.predict(X_test)"
      ],
      "metadata": {
        "id": "Has19rrF0gXG"
      },
      "execution_count": null,
      "outputs": []
    },
    {
      "cell_type": "code",
      "source": [
        "def apply_log(train,test,column):\n",
        "  \"\"\"\n",
        "  apply log transformation to all features in col variable\n",
        "  \"\"\"\n",
        "  tr = train.copy()\n",
        "  te = test.copy()\n",
        "  for df in [tr,te]:\n",
        "    for col in column:\n",
        "      df.loc[df[col]>=0,col] = np.log(df.loc[df[col]>=0,col].values)\n",
        "  \n",
        " return tr,te\n",
        "features = [i for i in X_train.columns if (('saldo' in i)|('imp' in i)|(i=='var38'))&((X_train[i].values>=0).all())]\n",
        "X_train_l,X_test_l = apply_log(X_train,X_test,features)"
      ],
      "metadata": {
        "colab": {
          "base_uri": "https://localhost:8080/",
          "height": 136
        },
        "id": "lkcWw-iA0mZA",
        "outputId": "a27af171-41b6-455a-d750-5c4695e47287"
      },
      "execution_count": null,
      "outputs": [
        {
          "output_type": "error",
          "ename": "IndentationError",
          "evalue": "ignored",
          "traceback": [
            "\u001b[0;36m  File \u001b[0;32m\"<ipython-input-268-ac704e71540f>\"\u001b[0;36m, line \u001b[0;32m11\u001b[0m\n\u001b[0;31m    return tr,te\u001b[0m\n\u001b[0m                ^\u001b[0m\n\u001b[0;31mIndentationError\u001b[0m\u001b[0;31m:\u001b[0m unindent does not match any outer indentation level\n"
          ]
        }
      ]
    },
    {
      "cell_type": "code",
      "source": [
        "X_train.shape,X_test.shape, test_pred.shape"
      ],
      "metadata": {
        "colab": {
          "base_uri": "https://localhost:8080/"
        },
        "id": "wkjwx6bw1c6s",
        "outputId": "14b44ce4-651b-4d9d-891e-860b460ad126"
      },
      "execution_count": null,
      "outputs": [
        {
          "output_type": "execute_result",
          "data": {
            "text/plain": [
              "((53214, 182), (22806, 182), (75818, 182))"
            ]
          },
          "metadata": {},
          "execution_count": 275
        }
      ]
    },
    {
      "cell_type": "markdown",
      "source": [
        "# 모델링"
      ],
      "metadata": {
        "id": "YAFtsC8ds_Zl"
      }
    },
    {
      "cell_type": "code",
      "source": [
        "\n",
        "from sklearn.metrics import roc_auc_score, roc_curve, auc\n",
        "from sklearn.model_selection import GridSearchCV\n",
        "from sklearn.model_selection import cross_val_score"
      ],
      "metadata": {
        "id": "-IFg3Uc8Q5m-"
      },
      "execution_count": null,
      "outputs": []
    },
    {
      "cell_type": "markdown",
      "source": [
        "## 랜덤포레스트"
      ],
      "metadata": {
        "id": "CWi6BoExvess"
      }
    },
    {
      "cell_type": "code",
      "source": [
        "from sklearn.ensemble import RandomForestClassifier\n",
        "\n",
        "clf_rf = RandomForestClassifier(max_depth=13,n_estimators=150, min_samples_split=5 ,min_samples_leaf=2)\n",
        "clf_rf.fit(X_train,y_train)\n",
        "y_train_pred = clf_rf.predict_proba(X_train)[:,1]\n",
        "train_fpr, train_tpr, tr_thresholds = roc_curve(y_train, y_train_pred)\n",
        "y_pred = clf_rf.predict(test_pred)\n",
        "\n",
        "plt.plot(train_fpr, train_tpr, label='train AUC = '+str(auc(train_fpr, train_tpr)))\n",
        "plt.legend()\n",
        "plt.xlabel('False Positive Rate')\n",
        "plt.ylabel('True Positive Rate')\n",
        "plt.title(\"Error plots\")\n",
        "plt.grid(True)\n",
        "plt.show()"
      ],
      "metadata": {
        "colab": {
          "base_uri": "https://localhost:8080/",
          "height": 295
        },
        "id": "PNfkdtD-vbjs",
        "outputId": "b3ba4754-3e15-4f0e-f1c7-d37c2ce1df5d"
      },
      "execution_count": null,
      "outputs": [
        {
          "output_type": "display_data",
          "data": {
            "text/plain": [
              "<Figure size 432x288 with 1 Axes>"
            ],
            "image/png": "[encoded data removed]"
          },
          "metadata": {
            "needs_background": "light"
          }
        }
      ]
    },
    {
      "cell_type": "markdown",
      "source": [
        "## XGBRF 분류기"
      ],
      "metadata": {
        "id": "n8tEK3XeytK7"
      }
    },
    {
      "cell_type": "code",
      "source": [
        "from sklearn.calibration import CalibratedClassifierCV\n",
        "from xgboost import XGBRFClassifier\n",
        "\n",
        "clf_xgbrf = XGBRFClassifier(missing=np.nan, max_depth=10,\n",
        "n_estimators=200, learning_rate=0.025, nthread=4, subsample=0.8,\n",
        "colsample_bytree=1)\n",
        "xgb_mdl = CalibratedClassifierCV(clf_xgbrf, method='isotonic', cv=10)\n",
        "xgb_mdl.fit(X_train,y_train)\n",
        "\n",
        "y_train_pred = xgb_mdl.predict_proba(X_train)[:,1]\n",
        "train_fpr, train_tpr, tr_thresholds = roc_curve(y_train, y_train_pred)\n",
        "\n",
        "plt.plot(train_fpr, train_tpr, label='train AUC = '+str(auc(train_fpr, train_tpr)))\n",
        "plt.legend()\n",
        "plt.xlabel('False Positive Rate')\n",
        "plt.ylabel('True Positive Rate')\n",
        "plt.title(\"Error plots\")\n",
        "plt.grid(True)\n",
        "plt.show()"
      ],
      "metadata": {
        "colab": {
          "base_uri": "https://localhost:8080/",
          "height": 397
        },
        "id": "V9S5tkspyxOJ",
        "outputId": "022217b7-b58c-4f73-abca-341e5c0e3069"
      },
      "execution_count": null,
      "outputs": [
        {
          "output_type": "error",
          "ename": "TypeError",
          "evalue": "ignored",
          "traceback": [
            "\u001b[0;31m---------------------------------------------------------------------------\u001b[0m",
            "\u001b[0;31mTypeError\u001b[0m                                 Traceback (most recent call last)",
            "\u001b[0;32m<ipython-input-221-1ea85f2a0dff>\u001b[0m in \u001b[0;36m<module>\u001b[0;34m()\u001b[0m\n\u001b[1;32m      6\u001b[0m colsample_bytree=1)\n\u001b[1;32m      7\u001b[0m \u001b[0mxgb_mdl\u001b[0m \u001b[0;34m=\u001b[0m \u001b[0mCalibratedClassifierCV\u001b[0m\u001b[0;34m(\u001b[0m\u001b[0mclf_xgbrf\u001b[0m\u001b[0;34m,\u001b[0m \u001b[0mmethod\u001b[0m\u001b[0;34m=\u001b[0m\u001b[0;34m'isotonic'\u001b[0m\u001b[0;34m,\u001b[0m \u001b[0mcv\u001b[0m\u001b[0;34m=\u001b[0m\u001b[0;36m10\u001b[0m\u001b[0;34m)\u001b[0m\u001b[0;34m\u001b[0m\u001b[0;34m\u001b[0m\u001b[0m\n\u001b[0;32m----> 8\u001b[0;31m \u001b[0mxgb_mdl\u001b[0m\u001b[0;34m.\u001b[0m\u001b[0mfit\u001b[0m\u001b[0;34m(\u001b[0m\u001b[0mX_train\u001b[0m\u001b[0;34m,\u001b[0m\u001b[0my_train\u001b[0m\u001b[0;34m)\u001b[0m\u001b[0;34m\u001b[0m\u001b[0;34m\u001b[0m\u001b[0m\n\u001b[0m\u001b[1;32m      9\u001b[0m \u001b[0;34m\u001b[0m\u001b[0m\n\u001b[1;32m     10\u001b[0m \u001b[0my_train_pred\u001b[0m \u001b[0;34m=\u001b[0m \u001b[0mxgb_mdl\u001b[0m\u001b[0;34m.\u001b[0m\u001b[0mpredict_proba\u001b[0m\u001b[0;34m(\u001b[0m\u001b[0mX_train\u001b[0m\u001b[0;34m)\u001b[0m\u001b[0;34m[\u001b[0m\u001b[0;34m:\u001b[0m\u001b[0;34m,\u001b[0m\u001b[0;36m1\u001b[0m\u001b[0;34m]\u001b[0m\u001b[0;34m\u001b[0m\u001b[0;34m\u001b[0m\u001b[0m\n",
            "\u001b[0;32m/usr/local/lib/python3.7/dist-packages/sklearn/calibration.py\u001b[0m in \u001b[0;36mfit\u001b[0;34m(self, X, y, sample_weight)\u001b[0m\n\u001b[1;32m    351\u001b[0m                         \u001b[0msample_weight\u001b[0m\u001b[0;34m=\u001b[0m\u001b[0msample_weight\u001b[0m\u001b[0;34m,\u001b[0m\u001b[0;34m\u001b[0m\u001b[0;34m\u001b[0m\u001b[0m\n\u001b[1;32m    352\u001b[0m                     )\n\u001b[0;32m--> 353\u001b[0;31m                     \u001b[0;32mfor\u001b[0m \u001b[0mtrain\u001b[0m\u001b[0;34m,\u001b[0m \u001b[0mtest\u001b[0m \u001b[0;32min\u001b[0m \u001b[0mcv\u001b[0m\u001b[0;34m.\u001b[0m\u001b[0msplit\u001b[0m\u001b[0;34m(\u001b[0m\u001b[0mX\u001b[0m\u001b[0;34m,\u001b[0m \u001b[0my\u001b[0m\u001b[0;34m)\u001b[0m\u001b[0;34m\u001b[0m\u001b[0;34m\u001b[0m\u001b[0m\n\u001b[0m\u001b[1;32m    354\u001b[0m                 )\n\u001b[1;32m    355\u001b[0m             \u001b[0;32melse\u001b[0m\u001b[0;34m:\u001b[0m\u001b[0;34m\u001b[0m\u001b[0;34m\u001b[0m\u001b[0m\n",
            "\u001b[0;32m/usr/local/lib/python3.7/dist-packages/joblib/parallel.py\u001b[0m in \u001b[0;36m__call__\u001b[0;34m(self, iterable)\u001b[0m\n\u001b[1;32m   1041\u001b[0m             \u001b[0;31m# remaining jobs.\u001b[0m\u001b[0;34m\u001b[0m\u001b[0;34m\u001b[0m\u001b[0;34m\u001b[0m\u001b[0m\n\u001b[1;32m   1042\u001b[0m             \u001b[0mself\u001b[0m\u001b[0;34m.\u001b[0m\u001b[0m_iterating\u001b[0m \u001b[0;34m=\u001b[0m \u001b[0;32mFalse\u001b[0m\u001b[0;34m\u001b[0m\u001b[0;34m\u001b[0m\u001b[0m\n\u001b[0;32m-> 1043\u001b[0;31m             \u001b[0;32mif\u001b[0m \u001b[0mself\u001b[0m\u001b[0;34m.\u001b[0m\u001b[0mdispatch_one_batch\u001b[0m\u001b[0;34m(\u001b[0m\u001b[0miterator\u001b[0m\u001b[0;34m)\u001b[0m\u001b[0;34m:\u001b[0m\u001b[0;34m\u001b[0m\u001b[0;34m\u001b[0m\u001b[0m\n\u001b[0m\u001b[1;32m   1044\u001b[0m                 \u001b[0mself\u001b[0m\u001b[0;34m.\u001b[0m\u001b[0m_iterating\u001b[0m \u001b[0;34m=\u001b[0m \u001b[0mself\u001b[0m\u001b[0;34m.\u001b[0m\u001b[0m_original_iterator\u001b[0m \u001b[0;32mis\u001b[0m \u001b[0;32mnot\u001b[0m \u001b[0;32mNone\u001b[0m\u001b[0;34m\u001b[0m\u001b[0;34m\u001b[0m\u001b[0m\n\u001b[1;32m   1045\u001b[0m \u001b[0;34m\u001b[0m\u001b[0m\n",
            "\u001b[0;32m/usr/local/lib/python3.7/dist-packages/joblib/parallel.py\u001b[0m in \u001b[0;36mdispatch_one_batch\u001b[0;34m(self, iterator)\u001b[0m\n\u001b[1;32m    859\u001b[0m                 \u001b[0;32mreturn\u001b[0m \u001b[0;32mFalse\u001b[0m\u001b[0;34m\u001b[0m\u001b[0;34m\u001b[0m\u001b[0m\n\u001b[1;32m    860\u001b[0m             \u001b[0;32melse\u001b[0m\u001b[0;34m:\u001b[0m\u001b[0;34m\u001b[0m\u001b[0;34m\u001b[0m\u001b[0m\n\u001b[0;32m--> 861\u001b[0;31m                 \u001b[0mself\u001b[0m\u001b[0;34m.\u001b[0m\u001b[0m_dispatch\u001b[0m\u001b[0;34m(\u001b[0m\u001b[0mtasks\u001b[0m\u001b[0;34m)\u001b[0m\u001b[0;34m\u001b[0m\u001b[0;34m\u001b[0m\u001b[0m\n\u001b[0m\u001b[1;32m    862\u001b[0m                 \u001b[0;32mreturn\u001b[0m \u001b[0;32mTrue\u001b[0m\u001b[0;34m\u001b[0m\u001b[0;34m\u001b[0m\u001b[0m\n\u001b[1;32m    863\u001b[0m \u001b[0;34m\u001b[0m\u001b[0m\n",
            "\u001b[0;32m/usr/local/lib/python3.7/dist-packages/joblib/parallel.py\u001b[0m in \u001b[0;36m_dispatch\u001b[0;34m(self, batch)\u001b[0m\n\u001b[1;32m    777\u001b[0m         \u001b[0;32mwith\u001b[0m \u001b[0mself\u001b[0m\u001b[0;34m.\u001b[0m\u001b[0m_lock\u001b[0m\u001b[0;34m:\u001b[0m\u001b[0;34m\u001b[0m\u001b[0;34m\u001b[0m\u001b[0m\n\u001b[1;32m    778\u001b[0m             \u001b[0mjob_idx\u001b[0m \u001b[0;34m=\u001b[0m \u001b[0mlen\u001b[0m\u001b[0;34m(\u001b[0m\u001b[0mself\u001b[0m\u001b[0;34m.\u001b[0m\u001b[0m_jobs\u001b[0m\u001b[0;34m)\u001b[0m\u001b[0;34m\u001b[0m\u001b[0;34m\u001b[0m\u001b[0m\n\u001b[0;32m--> 779\u001b[0;31m             \u001b[0mjob\u001b[0m \u001b[0;34m=\u001b[0m \u001b[0mself\u001b[0m\u001b[0;34m.\u001b[0m\u001b[0m_backend\u001b[0m\u001b[0;34m.\u001b[0m\u001b[0mapply_async\u001b[0m\u001b[0;34m(\u001b[0m\u001b[0mbatch\u001b[0m\u001b[0;34m,\u001b[0m \u001b[0mcallback\u001b[0m\u001b[0;34m=\u001b[0m\u001b[0mcb\u001b[0m\u001b[0;34m)\u001b[0m\u001b[0;34m\u001b[0m\u001b[0;34m\u001b[0m\u001b[0m\n\u001b[0m\u001b[1;32m    780\u001b[0m             \u001b[0;31m# A job can complete so quickly than its callback is\u001b[0m\u001b[0;34m\u001b[0m\u001b[0;34m\u001b[0m\u001b[0;34m\u001b[0m\u001b[0m\n\u001b[1;32m    781\u001b[0m             \u001b[0;31m# called before we get here, causing self._jobs to\u001b[0m\u001b[0;34m\u001b[0m\u001b[0;34m\u001b[0m\u001b[0;34m\u001b[0m\u001b[0m\n",
            "\u001b[0;32m/usr/local/lib/python3.7/dist-packages/joblib/_parallel_backends.py\u001b[0m in \u001b[0;36mapply_async\u001b[0;34m(self, func, callback)\u001b[0m\n\u001b[1;32m    206\u001b[0m     \u001b[0;32mdef\u001b[0m \u001b[0mapply_async\u001b[0m\u001b[0;34m(\u001b[0m\u001b[0mself\u001b[0m\u001b[0;34m,\u001b[0m \u001b[0mfunc\u001b[0m\u001b[0;34m,\u001b[0m \u001b[0mcallback\u001b[0m\u001b[0;34m=\u001b[0m\u001b[0;32mNone\u001b[0m\u001b[0;34m)\u001b[0m\u001b[0;34m:\u001b[0m\u001b[0;34m\u001b[0m\u001b[0;34m\u001b[0m\u001b[0m\n\u001b[1;32m    207\u001b[0m         \u001b[0;34m\"\"\"Schedule a func to be run\"\"\"\u001b[0m\u001b[0;34m\u001b[0m\u001b[0;34m\u001b[0m\u001b[0m\n\u001b[0;32m--> 208\u001b[0;31m         \u001b[0mresult\u001b[0m \u001b[0;34m=\u001b[0m \u001b[0mImmediateResult\u001b[0m\u001b[0;34m(\u001b[0m\u001b[0mfunc\u001b[0m\u001b[0;34m)\u001b[0m\u001b[0;34m\u001b[0m\u001b[0;34m\u001b[0m\u001b[0m\n\u001b[0m\u001b[1;32m    209\u001b[0m         \u001b[0;32mif\u001b[0m \u001b[0mcallback\u001b[0m\u001b[0;34m:\u001b[0m\u001b[0;34m\u001b[0m\u001b[0;34m\u001b[0m\u001b[0m\n\u001b[1;32m    210\u001b[0m             \u001b[0mcallback\u001b[0m\u001b[0;34m(\u001b[0m\u001b[0mresult\u001b[0m\u001b[0;34m)\u001b[0m\u001b[0;34m\u001b[0m\u001b[0;34m\u001b[0m\u001b[0m\n",
            "\u001b[0;32m/usr/local/lib/python3.7/dist-packages/joblib/_parallel_backends.py\u001b[0m in \u001b[0;36m__init__\u001b[0;34m(self, batch)\u001b[0m\n\u001b[1;32m    570\u001b[0m         \u001b[0;31m# Don't delay the application, to avoid keeping the input\u001b[0m\u001b[0;34m\u001b[0m\u001b[0;34m\u001b[0m\u001b[0;34m\u001b[0m\u001b[0m\n\u001b[1;32m    571\u001b[0m         \u001b[0;31m# arguments in memory\u001b[0m\u001b[0;34m\u001b[0m\u001b[0;34m\u001b[0m\u001b[0;34m\u001b[0m\u001b[0m\n\u001b[0;32m--> 572\u001b[0;31m         \u001b[0mself\u001b[0m\u001b[0;34m.\u001b[0m\u001b[0mresults\u001b[0m \u001b[0;34m=\u001b[0m \u001b[0mbatch\u001b[0m\u001b[0;34m(\u001b[0m\u001b[0;34m)\u001b[0m\u001b[0;34m\u001b[0m\u001b[0;34m\u001b[0m\u001b[0m\n\u001b[0m\u001b[1;32m    573\u001b[0m \u001b[0;34m\u001b[0m\u001b[0m\n\u001b[1;32m    574\u001b[0m     \u001b[0;32mdef\u001b[0m \u001b[0mget\u001b[0m\u001b[0;34m(\u001b[0m\u001b[0mself\u001b[0m\u001b[0;34m)\u001b[0m\u001b[0;34m:\u001b[0m\u001b[0;34m\u001b[0m\u001b[0;34m\u001b[0m\u001b[0m\n",
            "\u001b[0;32m/usr/local/lib/python3.7/dist-packages/joblib/parallel.py\u001b[0m in \u001b[0;36m__call__\u001b[0;34m(self)\u001b[0m\n\u001b[1;32m    261\u001b[0m         \u001b[0;32mwith\u001b[0m \u001b[0mparallel_backend\u001b[0m\u001b[0;34m(\u001b[0m\u001b[0mself\u001b[0m\u001b[0;34m.\u001b[0m\u001b[0m_backend\u001b[0m\u001b[0;34m,\u001b[0m \u001b[0mn_jobs\u001b[0m\u001b[0;34m=\u001b[0m\u001b[0mself\u001b[0m\u001b[0;34m.\u001b[0m\u001b[0m_n_jobs\u001b[0m\u001b[0;34m)\u001b[0m\u001b[0;34m:\u001b[0m\u001b[0;34m\u001b[0m\u001b[0;34m\u001b[0m\u001b[0m\n\u001b[1;32m    262\u001b[0m             return [func(*args, **kwargs)\n\u001b[0;32m--> 263\u001b[0;31m                     for func, args, kwargs in self.items]\n\u001b[0m\u001b[1;32m    264\u001b[0m \u001b[0;34m\u001b[0m\u001b[0m\n\u001b[1;32m    265\u001b[0m     \u001b[0;32mdef\u001b[0m \u001b[0m__reduce__\u001b[0m\u001b[0;34m(\u001b[0m\u001b[0mself\u001b[0m\u001b[0;34m)\u001b[0m\u001b[0;34m:\u001b[0m\u001b[0;34m\u001b[0m\u001b[0;34m\u001b[0m\u001b[0m\n",
            "\u001b[0;32m/usr/local/lib/python3.7/dist-packages/joblib/parallel.py\u001b[0m in \u001b[0;36m<listcomp>\u001b[0;34m(.0)\u001b[0m\n\u001b[1;32m    261\u001b[0m         \u001b[0;32mwith\u001b[0m \u001b[0mparallel_backend\u001b[0m\u001b[0;34m(\u001b[0m\u001b[0mself\u001b[0m\u001b[0;34m.\u001b[0m\u001b[0m_backend\u001b[0m\u001b[0;34m,\u001b[0m \u001b[0mn_jobs\u001b[0m\u001b[0;34m=\u001b[0m\u001b[0mself\u001b[0m\u001b[0;34m.\u001b[0m\u001b[0m_n_jobs\u001b[0m\u001b[0;34m)\u001b[0m\u001b[0;34m:\u001b[0m\u001b[0;34m\u001b[0m\u001b[0;34m\u001b[0m\u001b[0m\n\u001b[1;32m    262\u001b[0m             return [func(*args, **kwargs)\n\u001b[0;32m--> 263\u001b[0;31m                     for func, args, kwargs in self.items]\n\u001b[0m\u001b[1;32m    264\u001b[0m \u001b[0;34m\u001b[0m\u001b[0m\n\u001b[1;32m    265\u001b[0m     \u001b[0;32mdef\u001b[0m \u001b[0m__reduce__\u001b[0m\u001b[0;34m(\u001b[0m\u001b[0mself\u001b[0m\u001b[0;34m)\u001b[0m\u001b[0;34m:\u001b[0m\u001b[0;34m\u001b[0m\u001b[0;34m\u001b[0m\u001b[0m\n",
            "\u001b[0;32m/usr/local/lib/python3.7/dist-packages/sklearn/utils/fixes.py\u001b[0m in \u001b[0;36m__call__\u001b[0;34m(self, *args, **kwargs)\u001b[0m\n\u001b[1;32m    214\u001b[0m     \u001b[0;32mdef\u001b[0m \u001b[0m__call__\u001b[0m\u001b[0;34m(\u001b[0m\u001b[0mself\u001b[0m\u001b[0;34m,\u001b[0m \u001b[0;34m*\u001b[0m\u001b[0margs\u001b[0m\u001b[0;34m,\u001b[0m \u001b[0;34m**\u001b[0m\u001b[0mkwargs\u001b[0m\u001b[0;34m)\u001b[0m\u001b[0;34m:\u001b[0m\u001b[0;34m\u001b[0m\u001b[0;34m\u001b[0m\u001b[0m\n\u001b[1;32m    215\u001b[0m         \u001b[0;32mwith\u001b[0m \u001b[0mconfig_context\u001b[0m\u001b[0;34m(\u001b[0m\u001b[0;34m**\u001b[0m\u001b[0mself\u001b[0m\u001b[0;34m.\u001b[0m\u001b[0mconfig\u001b[0m\u001b[0;34m)\u001b[0m\u001b[0;34m:\u001b[0m\u001b[0;34m\u001b[0m\u001b[0;34m\u001b[0m\u001b[0m\n\u001b[0;32m--> 216\u001b[0;31m             \u001b[0;32mreturn\u001b[0m \u001b[0mself\u001b[0m\u001b[0;34m.\u001b[0m\u001b[0mfunction\u001b[0m\u001b[0;34m(\u001b[0m\u001b[0;34m*\u001b[0m\u001b[0margs\u001b[0m\u001b[0;34m,\u001b[0m \u001b[0;34m**\u001b[0m\u001b[0mkwargs\u001b[0m\u001b[0;34m)\u001b[0m\u001b[0;34m\u001b[0m\u001b[0;34m\u001b[0m\u001b[0m\n\u001b[0m\u001b[1;32m    217\u001b[0m \u001b[0;34m\u001b[0m\u001b[0m\n\u001b[1;32m    218\u001b[0m \u001b[0;34m\u001b[0m\u001b[0m\n",
            "\u001b[0;32m/usr/local/lib/python3.7/dist-packages/sklearn/calibration.py\u001b[0m in \u001b[0;36m_fit_classifier_calibrator_pair\u001b[0;34m(estimator, X, y, train, test, supports_sw, method, classes, sample_weight)\u001b[0m\n\u001b[1;32m    513\u001b[0m     \u001b[0mn_classes\u001b[0m \u001b[0;34m=\u001b[0m \u001b[0mlen\u001b[0m\u001b[0;34m(\u001b[0m\u001b[0mclasses\u001b[0m\u001b[0;34m)\u001b[0m\u001b[0;34m\u001b[0m\u001b[0;34m\u001b[0m\u001b[0m\n\u001b[1;32m    514\u001b[0m     \u001b[0mpred_method\u001b[0m\u001b[0;34m,\u001b[0m \u001b[0mmethod_name\u001b[0m \u001b[0;34m=\u001b[0m \u001b[0m_get_prediction_method\u001b[0m\u001b[0;34m(\u001b[0m\u001b[0mestimator\u001b[0m\u001b[0;34m)\u001b[0m\u001b[0;34m\u001b[0m\u001b[0;34m\u001b[0m\u001b[0m\n\u001b[0;32m--> 515\u001b[0;31m     \u001b[0mpredictions\u001b[0m \u001b[0;34m=\u001b[0m \u001b[0m_compute_predictions\u001b[0m\u001b[0;34m(\u001b[0m\u001b[0mpred_method\u001b[0m\u001b[0;34m,\u001b[0m \u001b[0mmethod_name\u001b[0m\u001b[0;34m,\u001b[0m \u001b[0mX_test\u001b[0m\u001b[0;34m,\u001b[0m \u001b[0mn_classes\u001b[0m\u001b[0;34m)\u001b[0m\u001b[0;34m\u001b[0m\u001b[0;34m\u001b[0m\u001b[0m\n\u001b[0m\u001b[1;32m    516\u001b[0m \u001b[0;34m\u001b[0m\u001b[0m\n\u001b[1;32m    517\u001b[0m     calibrated_classifier = _fit_calibrator(\n",
            "\u001b[0;32m/usr/local/lib/python3.7/dist-packages/sklearn/calibration.py\u001b[0m in \u001b[0;36m_compute_predictions\u001b[0;34m(pred_method, method_name, X, n_classes)\u001b[0m\n\u001b[1;32m    575\u001b[0m         \u001b[0;34m(\u001b[0m\u001b[0mX\u001b[0m\u001b[0;34m.\u001b[0m\u001b[0mshape\u001b[0m\u001b[0;34m[\u001b[0m\u001b[0;36m0\u001b[0m\u001b[0;34m]\u001b[0m\u001b[0;34m,\u001b[0m \u001b[0;36m1\u001b[0m\u001b[0;34m)\u001b[0m\u001b[0;34m.\u001b[0m\u001b[0;34m\u001b[0m\u001b[0;34m\u001b[0m\u001b[0m\n\u001b[1;32m    576\u001b[0m     \"\"\"\n\u001b[0;32m--> 577\u001b[0;31m     \u001b[0mpredictions\u001b[0m \u001b[0;34m=\u001b[0m \u001b[0mpred_method\u001b[0m\u001b[0;34m(\u001b[0m\u001b[0mX\u001b[0m\u001b[0;34m=\u001b[0m\u001b[0mX\u001b[0m\u001b[0;34m)\u001b[0m\u001b[0;34m\u001b[0m\u001b[0;34m\u001b[0m\u001b[0m\n\u001b[0m\u001b[1;32m    578\u001b[0m \u001b[0;34m\u001b[0m\u001b[0m\n\u001b[1;32m    579\u001b[0m     \u001b[0;32mif\u001b[0m \u001b[0mmethod_name\u001b[0m \u001b[0;34m==\u001b[0m \u001b[0;34m\"decision_function\"\u001b[0m\u001b[0;34m:\u001b[0m\u001b[0;34m\u001b[0m\u001b[0;34m\u001b[0m\u001b[0m\n",
            "\u001b[0;31mTypeError\u001b[0m: predict_proba() got an unexpected keyword argument 'X'"
          ]
        }
      ]
    },
    {
      "cell_type": "code",
      "source": [
        "from xgboost import plot_importance\n",
        "import matplotlib.pyplot as plt\n",
        "\n",
        "fig, ax = plt.subplots(1,1,figsize=(10,8))\n",
        "plot_importance(clf_xgbrf, ax=ax, max_num_features=20, height=0.4)\n",
        "plt.show()"
      ],
      "metadata": {
        "colab": {
          "base_uri": "https://localhost:8080/",
          "height": 513
        },
        "id": "HtyvIdJYUZWz",
        "outputId": "7799436b-3072-4703-ccff-273d7351c9fd"
      },
      "execution_count": null,
      "outputs": [
        {
          "output_type": "display_data",
          "data": {
            "text/plain": [
              "<Figure size 720x576 with 1 Axes>"
            ],
            "image/png": "[encoded data removed]"
          },
          "metadata": {
            "needs_background": "light"
          }
        }
      ]
    },
    {
      "cell_type": "markdown",
      "source": [
        "## XGB 분류기"
      ],
      "metadata": {
        "id": "sDBzyh2kyWGL"
      }
    },
    {
      "cell_type": "code",
      "source": [
        "from sklearn.calibration import CalibratedClassifierCV\n",
        "from xgboost import XGBClassifier\n",
        "clf_xgb = XGBClassifier(missing=np.nan, max_depth=6,\n",
        "n_estimators=350, learning_rate=0.025, nthread=4, subsample=0.95,\n",
        "colsample_bytree=0.85, seed=4242)\n",
        "clf_xgb.fit(X_train,y_train)\n",
        "# xgb_mdl = CalibratedClassifierCV(clf_xgb, method='isotonic', cv=10)\n",
        "# xgb_mdl.fit(X_train,y_train)\n",
        "\n",
        "y_train_pred = xgb_mdl.predict_proba(X_train)[:,1]\n",
        "train_fpr, train_tpr, tr_thresholds = roc_curve(y_train, y_train_pred)\n",
        "\n",
        "plt.plot(train_fpr, train_tpr, label='train AUC = '+str(auc(train_fpr, train_tpr)))\n",
        "plt.legend()\n",
        "plt.xlabel('False Positive Rate')\n",
        "plt.ylabel('True Positive Rate')\n",
        "plt.title(\"Error plots\")\n",
        "plt.grid(True)\n",
        "plt.show()"
      ],
      "metadata": {
        "colab": {
          "base_uri": "https://localhost:8080/",
          "height": 432
        },
        "id": "hi5StpfntA87",
        "outputId": "f301f981-8437-430f-d54c-614351fd44a9"
      },
      "execution_count": null,
      "outputs": [
        {
          "output_type": "stream",
          "name": "stderr",
          "text": [
            "/usr/local/lib/python3.7/dist-packages/sklearn/calibration.py:422: RuntimeWarning: invalid value encountered in true_divide\n",
            "  mean_proba /= len(self.calibrated_classifiers_)\n"
          ]
        },
        {
          "output_type": "error",
          "ename": "ValueError",
          "evalue": "ignored",
          "traceback": [
            "\u001b[0;31m---------------------------------------------------------------------------\u001b[0m",
            "\u001b[0;31mValueError\u001b[0m                                Traceback (most recent call last)",
            "\u001b[0;32m<ipython-input-228-0d41b6dbf09b>\u001b[0m in \u001b[0;36m<module>\u001b[0;34m()\u001b[0m\n\u001b[1;32m      9\u001b[0m \u001b[0;34m\u001b[0m\u001b[0m\n\u001b[1;32m     10\u001b[0m \u001b[0my_train_pred\u001b[0m \u001b[0;34m=\u001b[0m \u001b[0mxgb_mdl\u001b[0m\u001b[0;34m.\u001b[0m\u001b[0mpredict_proba\u001b[0m\u001b[0;34m(\u001b[0m\u001b[0mX_train\u001b[0m\u001b[0;34m)\u001b[0m\u001b[0;34m[\u001b[0m\u001b[0;34m:\u001b[0m\u001b[0;34m,\u001b[0m\u001b[0;36m1\u001b[0m\u001b[0;34m]\u001b[0m\u001b[0;34m\u001b[0m\u001b[0;34m\u001b[0m\u001b[0m\n\u001b[0;32m---> 11\u001b[0;31m \u001b[0mtrain_fpr\u001b[0m\u001b[0;34m,\u001b[0m \u001b[0mtrain_tpr\u001b[0m\u001b[0;34m,\u001b[0m \u001b[0mtr_thresholds\u001b[0m \u001b[0;34m=\u001b[0m \u001b[0mroc_curve\u001b[0m\u001b[0;34m(\u001b[0m\u001b[0my_train\u001b[0m\u001b[0;34m,\u001b[0m \u001b[0my_train_pred\u001b[0m\u001b[0;34m)\u001b[0m\u001b[0;34m\u001b[0m\u001b[0;34m\u001b[0m\u001b[0m\n\u001b[0m\u001b[1;32m     12\u001b[0m \u001b[0;34m\u001b[0m\u001b[0m\n\u001b[1;32m     13\u001b[0m \u001b[0mplt\u001b[0m\u001b[0;34m.\u001b[0m\u001b[0mplot\u001b[0m\u001b[0;34m(\u001b[0m\u001b[0mtrain_fpr\u001b[0m\u001b[0;34m,\u001b[0m \u001b[0mtrain_tpr\u001b[0m\u001b[0;34m,\u001b[0m \u001b[0mlabel\u001b[0m\u001b[0;34m=\u001b[0m\u001b[0;34m'train AUC = '\u001b[0m\u001b[0;34m+\u001b[0m\u001b[0mstr\u001b[0m\u001b[0;34m(\u001b[0m\u001b[0mauc\u001b[0m\u001b[0;34m(\u001b[0m\u001b[0mtrain_fpr\u001b[0m\u001b[0;34m,\u001b[0m \u001b[0mtrain_tpr\u001b[0m\u001b[0;34m)\u001b[0m\u001b[0;34m)\u001b[0m\u001b[0;34m)\u001b[0m\u001b[0;34m\u001b[0m\u001b[0;34m\u001b[0m\u001b[0m\n",
            "\u001b[0;32m/usr/local/lib/python3.7/dist-packages/sklearn/metrics/_ranking.py\u001b[0m in \u001b[0;36mroc_curve\u001b[0;34m(y_true, y_score, pos_label, sample_weight, drop_intermediate)\u001b[0m\n\u001b[1;32m    961\u001b[0m     \"\"\"\n\u001b[1;32m    962\u001b[0m     fps, tps, thresholds = _binary_clf_curve(\n\u001b[0;32m--> 963\u001b[0;31m         \u001b[0my_true\u001b[0m\u001b[0;34m,\u001b[0m \u001b[0my_score\u001b[0m\u001b[0;34m,\u001b[0m \u001b[0mpos_label\u001b[0m\u001b[0;34m=\u001b[0m\u001b[0mpos_label\u001b[0m\u001b[0;34m,\u001b[0m \u001b[0msample_weight\u001b[0m\u001b[0;34m=\u001b[0m\u001b[0msample_weight\u001b[0m\u001b[0;34m\u001b[0m\u001b[0;34m\u001b[0m\u001b[0m\n\u001b[0m\u001b[1;32m    964\u001b[0m     )\n\u001b[1;32m    965\u001b[0m \u001b[0;34m\u001b[0m\u001b[0m\n",
            "\u001b[0;32m/usr/local/lib/python3.7/dist-packages/sklearn/metrics/_ranking.py\u001b[0m in \u001b[0;36m_binary_clf_curve\u001b[0;34m(y_true, y_score, pos_label, sample_weight)\u001b[0m\n\u001b[1;32m    735\u001b[0m     \u001b[0my_score\u001b[0m \u001b[0;34m=\u001b[0m \u001b[0mcolumn_or_1d\u001b[0m\u001b[0;34m(\u001b[0m\u001b[0my_score\u001b[0m\u001b[0;34m)\u001b[0m\u001b[0;34m\u001b[0m\u001b[0;34m\u001b[0m\u001b[0m\n\u001b[1;32m    736\u001b[0m     \u001b[0massert_all_finite\u001b[0m\u001b[0;34m(\u001b[0m\u001b[0my_true\u001b[0m\u001b[0;34m)\u001b[0m\u001b[0;34m\u001b[0m\u001b[0;34m\u001b[0m\u001b[0m\n\u001b[0;32m--> 737\u001b[0;31m     \u001b[0massert_all_finite\u001b[0m\u001b[0;34m(\u001b[0m\u001b[0my_score\u001b[0m\u001b[0;34m)\u001b[0m\u001b[0;34m\u001b[0m\u001b[0;34m\u001b[0m\u001b[0m\n\u001b[0m\u001b[1;32m    738\u001b[0m \u001b[0;34m\u001b[0m\u001b[0m\n\u001b[1;32m    739\u001b[0m     \u001b[0;31m# Filter out zero-weighted samples, as they should not impact the result\u001b[0m\u001b[0;34m\u001b[0m\u001b[0;34m\u001b[0m\u001b[0;34m\u001b[0m\u001b[0m\n",
            "\u001b[0;32m/usr/local/lib/python3.7/dist-packages/sklearn/utils/validation.py\u001b[0m in \u001b[0;36massert_all_finite\u001b[0;34m(X, allow_nan)\u001b[0m\n\u001b[1;32m    132\u001b[0m     \u001b[0mallow_nan\u001b[0m \u001b[0;34m:\u001b[0m \u001b[0mbool\u001b[0m\u001b[0;34m,\u001b[0m \u001b[0mdefault\u001b[0m\u001b[0;34m=\u001b[0m\u001b[0;32mFalse\u001b[0m\u001b[0;34m\u001b[0m\u001b[0;34m\u001b[0m\u001b[0m\n\u001b[1;32m    133\u001b[0m     \"\"\"\n\u001b[0;32m--> 134\u001b[0;31m     \u001b[0m_assert_all_finite\u001b[0m\u001b[0;34m(\u001b[0m\u001b[0mX\u001b[0m\u001b[0;34m.\u001b[0m\u001b[0mdata\u001b[0m \u001b[0;32mif\u001b[0m \u001b[0msp\u001b[0m\u001b[0;34m.\u001b[0m\u001b[0missparse\u001b[0m\u001b[0;34m(\u001b[0m\u001b[0mX\u001b[0m\u001b[0;34m)\u001b[0m \u001b[0;32melse\u001b[0m \u001b[0mX\u001b[0m\u001b[0;34m,\u001b[0m \u001b[0mallow_nan\u001b[0m\u001b[0;34m)\u001b[0m\u001b[0;34m\u001b[0m\u001b[0;34m\u001b[0m\u001b[0m\n\u001b[0m\u001b[1;32m    135\u001b[0m \u001b[0;34m\u001b[0m\u001b[0m\n\u001b[1;32m    136\u001b[0m \u001b[0;34m\u001b[0m\u001b[0m\n",
            "\u001b[0;32m/usr/local/lib/python3.7/dist-packages/sklearn/utils/validation.py\u001b[0m in \u001b[0;36m_assert_all_finite\u001b[0;34m(X, allow_nan, msg_dtype)\u001b[0m\n\u001b[1;32m    114\u001b[0m             raise ValueError(\n\u001b[1;32m    115\u001b[0m                 msg_err.format(\n\u001b[0;32m--> 116\u001b[0;31m                     \u001b[0mtype_err\u001b[0m\u001b[0;34m,\u001b[0m \u001b[0mmsg_dtype\u001b[0m \u001b[0;32mif\u001b[0m \u001b[0mmsg_dtype\u001b[0m \u001b[0;32mis\u001b[0m \u001b[0;32mnot\u001b[0m \u001b[0;32mNone\u001b[0m \u001b[0;32melse\u001b[0m \u001b[0mX\u001b[0m\u001b[0;34m.\u001b[0m\u001b[0mdtype\u001b[0m\u001b[0;34m\u001b[0m\u001b[0;34m\u001b[0m\u001b[0m\n\u001b[0m\u001b[1;32m    117\u001b[0m                 )\n\u001b[1;32m    118\u001b[0m             )\n",
            "\u001b[0;31mValueError\u001b[0m: Input contains NaN, infinity or a value too large for dtype('float64')."
          ]
        }
      ]
    },
    {
      "cell_type": "code",
      "source": [
        "from sklearn.calibration import CalibratedClassifierCV\n",
        "from xgboost import XGBClassifier\n",
        "clf_xgb = XGBClassifier(missing=np.nan, max_depth=6,\n",
        "n_estimators=350, learning_rate=0.025, nthread=4, subsample=0.95,\n",
        "colsample_bytree=0.85, seed=4242)\n",
        "clf_xgb.fit(X_train,y_train)\n",
        "# xgb_mdl = CalibratedClassifierCV(clf_xgb, method='isotonic', cv=10)\n",
        "# xgb_mdl.fit(X_train,y_train)\n",
        "y_pred = xgb_mdl.predict(test)"
      ],
      "metadata": {
        "colab": {
          "base_uri": "https://localhost:8080/",
          "height": 397
        },
        "id": "1i2Wsfa2qG7A",
        "outputId": "7f4cb4b8-11a3-4939-8c25-46cb0d7fe009"
      },
      "execution_count": null,
      "outputs": [
        {
          "output_type": "error",
          "ename": "KeyboardInterrupt",
          "evalue": "ignored",
          "traceback": [
            "\u001b[0;31m---------------------------------------------------------------------------\u001b[0m",
            "\u001b[0;31mKeyboardInterrupt\u001b[0m                         Traceback (most recent call last)",
            "\u001b[0;32m<ipython-input-227-d3cb14ef094e>\u001b[0m in \u001b[0;36m<module>\u001b[0;34m()\u001b[0m\n\u001b[1;32m      4\u001b[0m \u001b[0mn_estimators\u001b[0m\u001b[0;34m=\u001b[0m\u001b[0;36m350\u001b[0m\u001b[0;34m,\u001b[0m \u001b[0mlearning_rate\u001b[0m\u001b[0;34m=\u001b[0m\u001b[0;36m0.025\u001b[0m\u001b[0;34m,\u001b[0m \u001b[0mnthread\u001b[0m\u001b[0;34m=\u001b[0m\u001b[0;36m4\u001b[0m\u001b[0;34m,\u001b[0m \u001b[0msubsample\u001b[0m\u001b[0;34m=\u001b[0m\u001b[0;36m0.95\u001b[0m\u001b[0;34m,\u001b[0m\u001b[0;34m\u001b[0m\u001b[0;34m\u001b[0m\u001b[0m\n\u001b[1;32m      5\u001b[0m colsample_bytree=0.85, seed=4242)\n\u001b[0;32m----> 6\u001b[0;31m \u001b[0mclf_xgb\u001b[0m\u001b[0;34m.\u001b[0m\u001b[0mfit\u001b[0m\u001b[0;34m(\u001b[0m\u001b[0mX_train\u001b[0m\u001b[0;34m,\u001b[0m\u001b[0my_train\u001b[0m\u001b[0;34m)\u001b[0m\u001b[0;34m\u001b[0m\u001b[0;34m\u001b[0m\u001b[0m\n\u001b[0m\u001b[1;32m      7\u001b[0m \u001b[0;31m# xgb_mdl = CalibratedClassifierCV(clf_xgb, method='isotonic', cv=10)\u001b[0m\u001b[0;34m\u001b[0m\u001b[0;34m\u001b[0m\u001b[0;34m\u001b[0m\u001b[0m\n\u001b[1;32m      8\u001b[0m \u001b[0;31m# xgb_mdl.fit(X_train,y_train)\u001b[0m\u001b[0;34m\u001b[0m\u001b[0;34m\u001b[0m\u001b[0;34m\u001b[0m\u001b[0m\n",
            "\u001b[0;32m/usr/local/lib/python3.7/dist-packages/xgboost/sklearn.py\u001b[0m in \u001b[0;36mfit\u001b[0;34m(self, X, y, sample_weight, eval_set, eval_metric, early_stopping_rounds, verbose, xgb_model, sample_weight_eval_set, callbacks)\u001b[0m\n\u001b[1;32m    730\u001b[0m     \u001b[0msave_model\u001b[0m\u001b[0;34m.\u001b[0m\u001b[0m__doc__\u001b[0m \u001b[0;34m=\u001b[0m \u001b[0;34mf\"\"\"{Booster.save_model.__doc__}\"\"\"\u001b[0m\u001b[0;34m\u001b[0m\u001b[0;34m\u001b[0m\u001b[0m\n\u001b[1;32m    731\u001b[0m \u001b[0;34m\u001b[0m\u001b[0m\n\u001b[0;32m--> 732\u001b[0;31m     \u001b[0;32mdef\u001b[0m \u001b[0mload_model\u001b[0m\u001b[0;34m(\u001b[0m\u001b[0mself\u001b[0m\u001b[0;34m,\u001b[0m \u001b[0mfname\u001b[0m\u001b[0;34m:\u001b[0m \u001b[0mUnion\u001b[0m\u001b[0;34m[\u001b[0m\u001b[0mstr\u001b[0m\u001b[0;34m,\u001b[0m \u001b[0mbytearray\u001b[0m\u001b[0;34m,\u001b[0m \u001b[0mos\u001b[0m\u001b[0;34m.\u001b[0m\u001b[0mPathLike\u001b[0m\u001b[0;34m]\u001b[0m\u001b[0;34m)\u001b[0m \u001b[0;34m->\u001b[0m \u001b[0;32mNone\u001b[0m\u001b[0;34m:\u001b[0m\u001b[0;34m\u001b[0m\u001b[0;34m\u001b[0m\u001b[0m\n\u001b[0m\u001b[1;32m    733\u001b[0m         \u001b[0;31m# pylint: disable=attribute-defined-outside-init\u001b[0m\u001b[0;34m\u001b[0m\u001b[0;34m\u001b[0m\u001b[0;34m\u001b[0m\u001b[0m\n\u001b[1;32m    734\u001b[0m         \u001b[0;32mif\u001b[0m \u001b[0;32mnot\u001b[0m \u001b[0mhasattr\u001b[0m\u001b[0;34m(\u001b[0m\u001b[0mself\u001b[0m\u001b[0;34m,\u001b[0m \u001b[0;34m'_Booster'\u001b[0m\u001b[0;34m)\u001b[0m\u001b[0;34m:\u001b[0m\u001b[0;34m\u001b[0m\u001b[0;34m\u001b[0m\u001b[0m\n",
            "\u001b[0;32m/usr/local/lib/python3.7/dist-packages/xgboost/training.py\u001b[0m in \u001b[0;36mtrain\u001b[0;34m(params, dtrain, num_boost_round, evals, obj, feval, maximize, early_stopping_rounds, evals_result, verbose_eval, xgb_model, callbacks, learning_rates)\u001b[0m\n\u001b[1;32m    214\u001b[0m         \u001b[0;34m\"\"\"\"Evaluate the CVPack for one iteration.\"\"\"\u001b[0m\u001b[0;34m\u001b[0m\u001b[0;34m\u001b[0m\u001b[0m\n\u001b[1;32m    215\u001b[0m         \u001b[0;32mreturn\u001b[0m \u001b[0mself\u001b[0m\u001b[0;34m.\u001b[0m\u001b[0mbst\u001b[0m\u001b[0;34m.\u001b[0m\u001b[0meval_set\u001b[0m\u001b[0;34m(\u001b[0m\u001b[0mself\u001b[0m\u001b[0;34m.\u001b[0m\u001b[0mwatchlist\u001b[0m\u001b[0;34m,\u001b[0m \u001b[0miteration\u001b[0m\u001b[0;34m,\u001b[0m \u001b[0mfeval\u001b[0m\u001b[0;34m,\u001b[0m \u001b[0moutput_margin\u001b[0m\u001b[0;34m)\u001b[0m\u001b[0;34m\u001b[0m\u001b[0;34m\u001b[0m\u001b[0m\n\u001b[0;32m--> 216\u001b[0;31m \u001b[0;34m\u001b[0m\u001b[0m\n\u001b[0m\u001b[1;32m    217\u001b[0m \u001b[0;34m\u001b[0m\u001b[0m\n\u001b[1;32m    218\u001b[0m \u001b[0;32mclass\u001b[0m \u001b[0m_PackedBooster\u001b[0m\u001b[0;34m:\u001b[0m\u001b[0;34m\u001b[0m\u001b[0;34m\u001b[0m\u001b[0m\n",
            "\u001b[0;32m/usr/local/lib/python3.7/dist-packages/xgboost/training.py\u001b[0m in \u001b[0;36m_train_internal\u001b[0;34m(params, dtrain, num_boost_round, evals, obj, feval, xgb_model, callbacks)\u001b[0m\n\u001b[1;32m     72\u001b[0m         \u001b[0mData\u001b[0m \u001b[0mto\u001b[0m \u001b[0mbe\u001b[0m \u001b[0mtrained\u001b[0m\u001b[0;34m.\u001b[0m\u001b[0;34m\u001b[0m\u001b[0;34m\u001b[0m\u001b[0m\n\u001b[1;32m     73\u001b[0m     \u001b[0mnum_boost_round\u001b[0m \u001b[0;34m:\u001b[0m\u001b[0;34m\u001b[0m\u001b[0;34m\u001b[0m\u001b[0m\n\u001b[0;32m---> 74\u001b[0;31m         \u001b[0mNumber\u001b[0m \u001b[0mof\u001b[0m \u001b[0mboosting\u001b[0m \u001b[0miterations\u001b[0m\u001b[0;34m.\u001b[0m\u001b[0;34m\u001b[0m\u001b[0;34m\u001b[0m\u001b[0m\n\u001b[0m\u001b[1;32m     75\u001b[0m     \u001b[0mevals\u001b[0m \u001b[0;34m:\u001b[0m\u001b[0;34m\u001b[0m\u001b[0;34m\u001b[0m\u001b[0m\n\u001b[1;32m     76\u001b[0m         \u001b[0mList\u001b[0m \u001b[0mof\u001b[0m \u001b[0mvalidation\u001b[0m \u001b[0msets\u001b[0m \u001b[0;32mfor\u001b[0m \u001b[0mwhich\u001b[0m \u001b[0mmetrics\u001b[0m \u001b[0mwill\u001b[0m \u001b[0mevaluated\u001b[0m \u001b[0mduring\u001b[0m \u001b[0mtraining\u001b[0m\u001b[0;34m.\u001b[0m\u001b[0;34m\u001b[0m\u001b[0;34m\u001b[0m\u001b[0m\n",
            "\u001b[0;32m/usr/local/lib/python3.7/dist-packages/xgboost/core.py\u001b[0m in \u001b[0;36mupdate\u001b[0;34m(self, dtrain, iteration, fobj)\u001b[0m\n\u001b[1;32m   1107\u001b[0m                     \u001b[0mfeature_types\u001b[0m \u001b[0;34m=\u001b[0m \u001b[0;34m[\u001b[0m\u001b[0mfeature_types\u001b[0m\u001b[0;34m]\u001b[0m\u001b[0;34m\u001b[0m\u001b[0;34m\u001b[0m\u001b[0m\n\u001b[1;32m   1108\u001b[0m             \u001b[0;32mexcept\u001b[0m \u001b[0mTypeError\u001b[0m\u001b[0;34m:\u001b[0m\u001b[0;34m\u001b[0m\u001b[0;34m\u001b[0m\u001b[0m\n\u001b[0;32m-> 1109\u001b[0;31m                 \u001b[0mfeature_types\u001b[0m \u001b[0;34m=\u001b[0m \u001b[0;34m[\u001b[0m\u001b[0mfeature_types\u001b[0m\u001b[0;34m]\u001b[0m\u001b[0;34m\u001b[0m\u001b[0;34m\u001b[0m\u001b[0m\n\u001b[0m\u001b[1;32m   1110\u001b[0m             feature_types_bytes = [bytes(f, encoding='utf-8')\n\u001b[1;32m   1111\u001b[0m                                for f in feature_types]\n",
            "\u001b[0;31mKeyboardInterrupt\u001b[0m: "
          ]
        }
      ]
    },
    {
      "cell_type": "code",
      "source": [
        "from xgboost import plot_importance\n",
        "import matplotlib.pyplot as plt\n",
        "\n",
        "fig, ax = plt.subplots(1,1,figsize=(10,8))\n",
        "plot_importance(clf_xgb, ax=ax, max_num_features=20, height=0.4)\n",
        "plt.show()"
      ],
      "metadata": {
        "colab": {
          "base_uri": "https://localhost:8080/",
          "height": 513
        },
        "id": "8JR_0jThT9Dc",
        "outputId": "4659fdcc-39fa-4d4a-9b47-fcbf69306024"
      },
      "execution_count": null,
      "outputs": [
        {
          "output_type": "display_data",
          "data": {
            "text/plain": [
              "<Figure size 720x576 with 1 Axes>"
            ],
            "image/png": "[encoded data removed]"
          },
          "metadata": {
            "needs_background": "light"
          }
        }
      ]
    },
    {
      "cell_type": "markdown",
      "source": [
        "## LGBM 분류기"
      ],
      "metadata": {
        "id": "iT9v7FB_zHef"
      }
    },
    {
      "cell_type": "code",
      "source": [
        "from sklearn.utils import class_weight\n",
        "from sklearn.calibration import CalibratedClassifierCV\n",
        "from xgboost import XGBRFClassifier\n",
        "\n",
        "clf_lgbm = XGBRFClassifier(max_depth=10,\n",
        "n_estimators=200,class_weight=None, learning_rate=0.1, nthread=4, subsample=0.6)\n",
        "# clf_lgbm.fit(X_train,y_train)\n",
        "\n",
        "xgb_mdl = CalibratedClassifierCV(clf_lgbm, method='isotonic', cv=10)\n",
        "xgb_mdl.fit(X_train,y_train)\n",
        "\n",
        "y_train_pred = xgb_mdl.predict_proba(X_train)[:,1]\n",
        "train_fpr, train_tpr, tr_thresholds = roc_curve(y_train, y_train_pred)\n",
        "\n",
        "plt.plot(train_fpr, train_tpr, label='train AUC = '+str(auc(train_fpr, train_tpr)))\n",
        "plt.legend()\n",
        "plt.xlabel('False Positive Rate')\n",
        "plt.ylabel('True Positive Rate')\n",
        "plt.title(\"Error plots\")\n",
        "plt.grid(True)\n",
        "plt.show()"
      ],
      "metadata": {
        "colab": {
          "base_uri": "https://localhost:8080/",
          "height": 295
        },
        "id": "EdjzkqsJzL3r",
        "outputId": "9f68d83d-5113-4fd5-c02b-6740f122af38"
      },
      "execution_count": null,
      "outputs": [
        {
          "output_type": "display_data",
          "data": {
            "text/plain": [
              "<Figure size 432x288 with 1 Axes>"
            ],
            "image/png": "[encoded data removed]"
          },
          "metadata": {
            "needs_background": "light"
          }
        }
      ]
    },
    {
      "cell_type": "markdown",
      "source": [
        "## AdaBoost 분류기"
      ],
      "metadata": {
        "id": "qm5hPYwe0TGZ"
      }
    },
    {
      "cell_type": "code",
      "source": [
        "from sklearn.ensemble import AdaBoostClassifier\n",
        "\n",
        "clf_adb = AdaBoostClassifier(n_estimators= 350, learning_rate=1)\n",
        "# clf_adb.fit(X_train,y_train)\n",
        "\n",
        "xgb_mdl = CalibratedClassifierCV(clf_adb, method='isotonic', cv=10)\n",
        "xgb_mdl.fit(X_train,y_train)\n",
        "\n",
        "y_train_pred = xgb_mdl.predict_proba(X_train)[:,1]\n",
        "train_fpr, train_tpr, tr_thresholds = roc_curve(y_train, y_train_pred)\n",
        "\n",
        "\n",
        "plt.plot(train_fpr, train_tpr, label='train AUC = '+str(auc(train_fpr, train_tpr)))\n",
        "plt.legend()\n",
        "plt.xlabel('False Positive Rate')\n",
        "plt.ylabel('True Positive Rate')\n",
        "plt.title(\"Error plots\")\n",
        "plt.grid(True)\n",
        "plt.show()"
      ],
      "metadata": {
        "colab": {
          "base_uri": "https://localhost:8080/",
          "height": 295
        },
        "id": "Fc6mM1iz0VFZ",
        "outputId": "a509c3c4-2b48-4b9d-b1b7-14e0b9be782d"
      },
      "execution_count": null,
      "outputs": [
        {
          "output_type": "display_data",
          "data": {
            "text/plain": [
              "<Figure size 432x288 with 1 Axes>"
            ],
            "image/png": "[encoded data removed]"
          },
          "metadata": {
            "needs_background": "light"
          }
        }
      ]
    },
    {
      "cell_type": "code",
      "source": [
        "from sklearn.ensemble import AdaBoostClassifier\n",
        "\n",
        "clf_adb = AdaBoostClassifier(n_estimators= 350, learning_rate=1)\n",
        "clf_adb.fit(X_train,y_train)\n",
        "\n",
        "# xgb_mdl = CalibratedClassifierCV(clf_xgb, method='isotonic', cv=10)\n",
        "# xgb_mdl.fit(X_train,y_train)\n",
        "\n",
        "y_train_pred = clf_adb.predict(X_train)"
      ],
      "metadata": {
        "id": "0bp8JHap3zdD"
      },
      "execution_count": null,
      "outputs": []
    },
    {
      "cell_type": "markdown",
      "source": [
        "# 교차검증"
      ],
      "metadata": {
        "id": "GMtvfFyqPmuz"
      }
    },
    {
      "cell_type": "code",
      "source": [
        "from sklearn.model_selection import cross_val_score, StratifiedKFold\n",
        "\n",
        "skf = StratifiedKFold(n_splits=5)\n",
        "svm_scores = cross_val_score(clf_adb, X_train, y_train, cv=skf)\n",
        "svm_scores.mean()"
      ],
      "metadata": {
        "colab": {
          "base_uri": "https://localhost:8080/"
        },
        "id": "83LG0oLePoVc",
        "outputId": "e19ea4e9-e222-4736-87fb-11118678af49"
      },
      "execution_count": null,
      "outputs": [
        {
          "output_type": "execute_result",
          "data": {
            "text/plain": [
              "0.9601984538507725"
            ]
          },
          "metadata": {},
          "execution_count": 62
        }
      ]
    },
    {
      "cell_type": "markdown",
      "source": [
        "## 캐글로 Export"
      ],
      "metadata": {
        "id": "c--42Fqz1yA1"
      }
    },
    {
      "cell_type": "code",
      "source": [
        "submission = pd.read_csv(\"/content/drive/MyDrive/DATA/sample_submission.csv\")"
      ],
      "metadata": {
        "id": "NYO7GJpQ1w_M"
      },
      "execution_count": null,
      "outputs": []
    },
    {
      "cell_type": "code",
      "source": [
        "submission.info()"
      ],
      "metadata": {
        "colab": {
          "base_uri": "https://localhost:8080/"
        },
        "id": "UOfoXwPh2Dov",
        "outputId": "034db8a1-c97b-4258-cfb3-5b461cc997a8"
      },
      "execution_count": null,
      "outputs": [
        {
          "output_type": "stream",
          "name": "stdout",
          "text": [
            "<class 'pandas.core.frame.DataFrame'>\n",
            "RangeIndex: 75818 entries, 0 to 75817\n",
            "Data columns (total 2 columns):\n",
            " #   Column  Non-Null Count  Dtype\n",
            "---  ------  --------------  -----\n",
            " 0   ID      75818 non-null  int64\n",
            " 1   TARGET  75818 non-null  int64\n",
            "dtypes: int64(2)\n",
            "memory usage: 1.2 MB\n"
          ]
        }
      ]
    },
    {
      "cell_type": "code",
      "source": [
        "y_pred #데이터 프레임으로  컬럼명을 'TARGET'"
      ],
      "metadata": {
        "colab": {
          "base_uri": "https://localhost:8080/"
        },
        "id": "zL81Qme32dQO",
        "outputId": "a36e810f-c4eb-4c93-b51d-0d2f57a251b0"
      },
      "execution_count": null,
      "outputs": [
        {
          "output_type": "execute_result",
          "data": {
            "text/plain": [
              "array([0, 0, 0, ..., 0, 0, 0])"
            ]
          },
          "metadata": {},
          "execution_count": 119
        }
      ]
    },
    {
      "cell_type": "code",
      "source": [
        "df = pd.DataFrame(data=y_pred, columns=['TARGET'])"
      ],
      "metadata": {
        "id": "7k0ZBfj_swdP"
      },
      "execution_count": null,
      "outputs": []
    },
    {
      "cell_type": "code",
      "source": [
        "test['ID'].shape, df.shape"
      ],
      "metadata": {
        "colab": {
          "base_uri": "https://localhost:8080/"
        },
        "id": "y3Qrc2auQRxb",
        "outputId": "5a80e5ac-8506-4bc4-e0d8-cda69fa54010"
      },
      "execution_count": null,
      "outputs": [
        {
          "output_type": "execute_result",
          "data": {
            "text/plain": [
              "((75818,), (75818, 1))"
            ]
          },
          "metadata": {},
          "execution_count": 212
        }
      ]
    },
    {
      "cell_type": "code",
      "source": [
        "sample = pd.concat([test['ID'],df],axis=1)\n",
        "# X_train = pd.concat([X_train,X_test],axis=0)"
      ],
      "metadata": {
        "id": "8fv5-Rtwl2ae"
      },
      "execution_count": null,
      "outputs": []
    },
    {
      "cell_type": "code",
      "source": [
        "sample['TARGET'].value_counts()"
      ],
      "metadata": {
        "colab": {
          "base_uri": "https://localhost:8080/"
        },
        "id": "W_X8sCDc6cC_",
        "outputId": "27d96b52-12d0-4507-db43-b16fc1a0c6d1"
      },
      "execution_count": null,
      "outputs": [
        {
          "output_type": "execute_result",
          "data": {
            "text/plain": [
              "0    75808\n",
              "1       10\n",
              "Name: TARGET, dtype: int64"
            ]
          },
          "metadata": {},
          "execution_count": 214
        }
      ]
    },
    {
      "cell_type": "code",
      "source": [
        "train['TARGET'].value_counts()"
      ],
      "metadata": {
        "colab": {
          "base_uri": "https://localhost:8080/"
        },
        "id": "3JsXgca0ggAC",
        "outputId": "0d0694ed-1870-4fa8-d6f9-bd342aac0685"
      },
      "execution_count": null,
      "outputs": [
        {
          "output_type": "execute_result",
          "data": {
            "text/plain": [
              "0    73012\n",
              "1     3008\n",
              "Name: TARGET, dtype: int64"
            ]
          },
          "metadata": {},
          "execution_count": 215
        }
      ]
    },
    {
      "cell_type": "code",
      "source": [
        "sample = sample.astype({'TARGET':'float'})"
      ],
      "metadata": {
        "id": "p-lX634J8702"
      },
      "execution_count": null,
      "outputs": []
    },
    {
      "cell_type": "code",
      "source": [
        "sample"
      ],
      "metadata": {
        "colab": {
          "base_uri": "https://localhost:8080/",
          "height": 423
        },
        "id": "i4YGcFAF9HX0",
        "outputId": "1e2bd231-0dab-4ae0-8f65-91aad054bed8"
      },
      "execution_count": null,
      "outputs": [
        {
          "output_type": "execute_result",
          "data": {
            "text/plain": [
              "           ID  TARGET\n",
              "0           2     0.0\n",
              "1           5     0.0\n",
              "2           6     0.0\n",
              "3           7     0.0\n",
              "4           9     0.0\n",
              "...       ...     ...\n",
              "75813  151831     0.0\n",
              "75814  151832     0.0\n",
              "75815  151833     0.0\n",
              "75816  151834     0.0\n",
              "75817  151837     0.0\n",
              "\n",
              "[75818 rows x 2 columns]"
            ],
            "text/html": [
              "\n",
              "  <div id=\"df-39502664-a820-446d-9792-f3fdb7d52b13\">\n",
              "    <div class=\"colab-df-container\">\n",
              "      <div>\n",
              "<style scoped>\n",
              "    .dataframe tbody tr th:only-of-type {\n",
              "        vertical-align: middle;\n",
              "    }\n",
              "\n",
              "    .dataframe tbody tr th {\n",
              "        vertical-align: top;\n",
              "    }\n",
              "\n",
              "    .dataframe thead th {\n",
              "        text-align: right;\n",
              "    }\n",
              "</style>\n",
              "<table border=\"1\" class=\"dataframe\">\n",
              "  <thead>\n",
              "    <tr style=\"text-align: right;\">\n",
              "      <th></th>\n",
              "      <th>ID</th>\n",
              "      <th>TARGET</th>\n",
              "    </tr>\n",
              "  </thead>\n",
              "  <tbody>\n",
              "    <tr>\n",
              "      <th>0</th>\n",
              "      <td>2</td>\n",
              "      <td>0.0</td>\n",
              "    </tr>\n",
              "    <tr>\n",
              "      <th>1</th>\n",
              "      <td>5</td>\n",
              "      <td>0.0</td>\n",
              "    </tr>\n",
              "    <tr>\n",
              "      <th>2</th>\n",
              "      <td>6</td>\n",
              "      <td>0.0</td>\n",
              "    </tr>\n",
              "    <tr>\n",
              "      <th>3</th>\n",
              "      <td>7</td>\n",
              "      <td>0.0</td>\n",
              "    </tr>\n",
              "    <tr>\n",
              "      <th>4</th>\n",
              "      <td>9</td>\n",
              "      <td>0.0</td>\n",
              "    </tr>\n",
              "    <tr>\n",
              "      <th>...</th>\n",
              "      <td>...</td>\n",
              "      <td>...</td>\n",
              "    </tr>\n",
              "    <tr>\n",
              "      <th>75813</th>\n",
              "      <td>151831</td>\n",
              "      <td>0.0</td>\n",
              "    </tr>\n",
              "    <tr>\n",
              "      <th>75814</th>\n",
              "      <td>151832</td>\n",
              "      <td>0.0</td>\n",
              "    </tr>\n",
              "    <tr>\n",
              "      <th>75815</th>\n",
              "      <td>151833</td>\n",
              "      <td>0.0</td>\n",
              "    </tr>\n",
              "    <tr>\n",
              "      <th>75816</th>\n",
              "      <td>151834</td>\n",
              "      <td>0.0</td>\n",
              "    </tr>\n",
              "    <tr>\n",
              "      <th>75817</th>\n",
              "      <td>151837</td>\n",
              "      <td>0.0</td>\n",
              "    </tr>\n",
              "  </tbody>\n",
              "</table>\n",
              "<p>75818 rows × 2 columns</p>\n",
              "</div>\n",
              "      <button class=\"colab-df-convert\" onclick=\"convertToInteractive('df-39502664-a820-446d-9792-f3fdb7d52b13')\"\n",
              "              title=\"Convert this dataframe to an interactive table.\"\n",
              "              style=\"display:none;\">\n",
              "        \n",
              "  <svg xmlns=\"http://www.w3.org/2000/svg\" height=\"24px\"viewBox=\"0 0 24 24\"\n",
              "       width=\"24px\">\n",
              "    <path d=\"M0 0h24v24H0V0z\" fill=\"none\"/>\n",
              "    <path d=\"M18.56 5.44l.94 2.06.94-2.06 2.06-.94-2.06-.94-.94-2.06-.94 2.06-2.06.94zm-11 1L8.5 8.5l.94-2.06 2.06-.94-2.06-.94L8.5 2.5l-.94 2.06-2.06.94zm10 10l.94 2.06.94-2.06 2.06-.94-2.06-.94-.94-2.06-.94 2.06-2.06.94z\"/><path d=\"M17.41 7.96l-1.37-1.37c-.4-.4-.92-.59-1.43-.59-.52 0-1.04.2-1.43.59L10.3 9.45l-7.72 7.72c-.78.78-.78 2.05 0 2.83L4 21.41c.39.39.9.59 1.41.59.51 0 1.02-.2 1.41-.59l7.78-7.78 2.81-2.81c.8-.78.8-2.07 0-2.86zM5.41 20L4 18.59l7.72-7.72 1.47 1.35L5.41 20z\"/>\n",
              "  </svg>\n",
              "      </button>\n",
              "      \n",
              "  <style>\n",
              "    .colab-df-container {\n",
              "      display:flex;\n",
              "      flex-wrap:wrap;\n",
              "      gap: 12px;\n",
              "    }\n",
              "\n",
              "    .colab-df-convert {\n",
              "      background-color: #E8F0FE;\n",
              "      border: none;\n",
              "      border-radius: 50%;\n",
              "      cursor: pointer;\n",
              "      display: none;\n",
              "      fill: #1967D2;\n",
              "      height: 32px;\n",
              "      padding: 0 0 0 0;\n",
              "      width: 32px;\n",
              "    }\n",
              "\n",
              "    .colab-df-convert:hover {\n",
              "      background-color: #E2EBFA;\n",
              "      box-shadow: 0px 1px 2px rgba(60, 64, 67, 0.3), 0px 1px 3px 1px rgba(60, 64, 67, 0.15);\n",
              "      fill: #174EA6;\n",
              "    }\n",
              "\n",
              "    [theme=dark] .colab-df-convert {\n",
              "      background-color: #3B4455;\n",
              "      fill: #D2E3FC;\n",
              "    }\n",
              "\n",
              "    [theme=dark] .colab-df-convert:hover {\n",
              "      background-color: #434B5C;\n",
              "      box-shadow: 0px 1px 3px 1px rgba(0, 0, 0, 0.15);\n",
              "      filter: drop-shadow(0px 1px 2px rgba(0, 0, 0, 0.3));\n",
              "      fill: #FFFFFF;\n",
              "    }\n",
              "  </style>\n",
              "\n",
              "      <script>\n",
              "        const buttonEl =\n",
              "          document.querySelector('#df-39502664-a820-446d-9792-f3fdb7d52b13 button.colab-df-convert');\n",
              "        buttonEl.style.display =\n",
              "          google.colab.kernel.accessAllowed ? 'block' : 'none';\n",
              "\n",
              "        async function convertToInteractive(key) {\n",
              "          const element = document.querySelector('#df-39502664-a820-446d-9792-f3fdb7d52b13');\n",
              "          const dataTable =\n",
              "            await google.colab.kernel.invokeFunction('convertToInteractive',\n",
              "                                                     [key], {});\n",
              "          if (!dataTable) return;\n",
              "\n",
              "          const docLinkHtml = 'Like what you see? Visit the ' +\n",
              "            '<a target=\"_blank\" href=https://colab.research.google.com/notebooks/data_table.ipynb>data table notebook</a>'\n",
              "            + ' to learn more about interactive tables.';\n",
              "          element.innerHTML = '';\n",
              "          dataTable['output_type'] = 'display_data';\n",
              "          await google.colab.output.renderOutput(dataTable, element);\n",
              "          const docLink = document.createElement('div');\n",
              "          docLink.innerHTML = docLinkHtml;\n",
              "          element.appendChild(docLink);\n",
              "        }\n",
              "      </script>\n",
              "    </div>\n",
              "  </div>\n",
              "  "
            ]
          },
          "metadata": {},
          "execution_count": 384
        }
      ]
    },
    {
      "cell_type": "code",
      "source": [
        "sample.to_csv('Submisson1.csv', index=False)"
      ],
      "metadata": {
        "id": "QtlgBFDFy4Cp"
      },
      "execution_count": null,
      "outputs": []
    },
    {
      "cell_type": "code",
      "source": [
        "X_train.shape, X_test.shape"
      ],
      "metadata": {
        "colab": {
          "base_uri": "https://localhost:8080/"
        },
        "id": "n3BBnB8LVVzd",
        "outputId": "5100494a-51ae-46da-a75a-8681e6c0ce99"
      },
      "execution_count": 69,
      "outputs": [
        {
          "output_type": "execute_result",
          "data": {
            "text/plain": [
              "((76020, 183), (75818, 183))"
            ]
          },
          "metadata": {},
          "execution_count": 69
        }
      ]
    },
    {
      "cell_type": "code",
      "source": [
        "train_id= train_df['ID']\n",
        "test_id= test_df['ID']"
      ],
      "metadata": {
        "id": "zvhVfG53VuuP"
      },
      "execution_count": null,
      "outputs": []
    },
    {
      "cell_type": "code",
      "source": [
        "test_rok = pd.concat([X_test,test_id], axis=1)"
      ],
      "metadata": {
        "id": "6c9finps7ESx"
      },
      "execution_count": 71,
      "outputs": []
    },
    {
      "cell_type": "code",
      "source": [
        "test_rok.to_csv('test_rok.csv')"
      ],
      "metadata": {
        "id": "LQkhgsyC8mL4"
      },
      "execution_count": 73,
      "outputs": []
    },
    {
      "cell_type": "code",
      "source": [
        "X_train_rok = pd.concat([X_train,train_id,y_train], axis=1)"
      ],
      "metadata": {
        "id": "4Qos4daG6XYc"
      },
      "execution_count": 76,
      "outputs": []
    },
    {
      "cell_type": "code",
      "source": [
        "X_train_rok"
      ],
      "metadata": {
        "colab": {
          "base_uri": "https://localhost:8080/",
          "height": 487
        },
        "id": "KfNmpMQfWDfo",
        "outputId": "1b951fcb-fae3-4121-df44-4787db992627"
      },
      "execution_count": 75,
      "outputs": [
        {
          "output_type": "execute_result",
          "data": {
            "text/plain": [
              "       var3  var15  imp_ent_var16_ult1  imp_op_var39_comer_ult1  \\\n",
              "0         2     23                 0.0                      0.0   \n",
              "1         2     34                 0.0                      0.0   \n",
              "2         2     23                 0.0                      0.0   \n",
              "3         2     37                 0.0                    195.0   \n",
              "4         2     39                 0.0                      0.0   \n",
              "...     ...    ...                 ...                      ...   \n",
              "76015     2     48                 0.0                      0.0   \n",
              "76016     2     39                 0.0                      0.0   \n",
              "76017     2     23                 0.0                      0.0   \n",
              "76018     2     25                 0.0                      0.0   \n",
              "76019     2     46                 0.0                      0.0   \n",
              "\n",
              "       imp_op_var39_comer_ult3  imp_op_var40_comer_ult1  \\\n",
              "0                          0.0                      0.0   \n",
              "1                          0.0                      0.0   \n",
              "2                          0.0                      0.0   \n",
              "3                        195.0                      0.0   \n",
              "4                          0.0                      0.0   \n",
              "...                        ...                      ...   \n",
              "76015                      0.0                      0.0   \n",
              "76016                      0.0                      0.0   \n",
              "76017                      0.0                      0.0   \n",
              "76018                      0.0                      0.0   \n",
              "76019                      0.0                      0.0   \n",
              "\n",
              "       imp_op_var40_comer_ult3  imp_op_var40_efect_ult3  imp_op_var40_ult1  \\\n",
              "0                          0.0                      0.0                0.0   \n",
              "1                          0.0                      0.0                0.0   \n",
              "2                          0.0                      0.0                0.0   \n",
              "3                          0.0                      0.0                0.0   \n",
              "4                          0.0                      0.0                0.0   \n",
              "...                        ...                      ...                ...   \n",
              "76015                      0.0                      0.0                0.0   \n",
              "76016                      0.0                      0.0                0.0   \n",
              "76017                      0.0                      0.0                0.0   \n",
              "76018                      0.0                      0.0                0.0   \n",
              "76019                      0.0                      0.0                0.0   \n",
              "\n",
              "       imp_op_var41_comer_ult1  ...  saldo_medio_var13_largo_hace2  \\\n",
              "0                          0.0  ...                            0.0   \n",
              "1                          0.0  ...                            0.0   \n",
              "2                          0.0  ...                            0.0   \n",
              "3                        195.0  ...                            0.0   \n",
              "4                          0.0  ...                            0.0   \n",
              "...                        ...  ...                            ...   \n",
              "76015                      0.0  ...                            0.0   \n",
              "76016                      0.0  ...                            0.0   \n",
              "76017                      0.0  ...                            0.0   \n",
              "76018                      0.0  ...                            0.0   \n",
              "76019                      0.0  ...                            0.0   \n",
              "\n",
              "       saldo_medio_var13_largo_hace3  saldo_medio_var13_largo_ult1  \\\n",
              "0                                0.0                           0.0   \n",
              "1                                0.0                           0.0   \n",
              "2                                0.0                           0.0   \n",
              "3                                0.0                           0.0   \n",
              "4                                0.0                           0.0   \n",
              "...                              ...                           ...   \n",
              "76015                            0.0                           0.0   \n",
              "76016                            0.0                           0.0   \n",
              "76017                            0.0                           0.0   \n",
              "76018                            0.0                           0.0   \n",
              "76019                            0.0                           0.0   \n",
              "\n",
              "       saldo_medio_var33_hace2  saldo_medio_var44_hace2  \\\n",
              "0                          0.0                      0.0   \n",
              "1                          0.0                      0.0   \n",
              "2                          0.0                      0.0   \n",
              "3                          0.0                      0.0   \n",
              "4                          0.0                      0.0   \n",
              "...                        ...                      ...   \n",
              "76015                      0.0                      0.0   \n",
              "76016                      0.0                      0.0   \n",
              "76017                      0.0                      0.0   \n",
              "76018                      0.0                      0.0   \n",
              "76019                      0.0                      0.0   \n",
              "\n",
              "       saldo_medio_var44_ult1  saldo_medio_var44_ult3          var38      ID  \\\n",
              "0                         0.0                     0.0   39205.170000       1   \n",
              "1                         0.0                     0.0   49278.030000       3   \n",
              "2                         0.0                     0.0   67333.770000       4   \n",
              "3                         0.0                     0.0   64007.970000       8   \n",
              "4                         0.0                     0.0  117310.979016      10   \n",
              "...                       ...                     ...            ...     ...   \n",
              "76015                     0.0                     0.0   60926.490000  151829   \n",
              "76016                     0.0                     0.0  118634.520000  151830   \n",
              "76017                     0.0                     0.0   74028.150000  151835   \n",
              "76018                     0.0                     0.0   84278.160000  151836   \n",
              "76019                     0.0                     0.0  117310.979016  151838   \n",
              "\n",
              "       TARGET  \n",
              "0           0  \n",
              "1           0  \n",
              "2           0  \n",
              "3           0  \n",
              "4           0  \n",
              "...       ...  \n",
              "76015       0  \n",
              "76016       0  \n",
              "76017       0  \n",
              "76018       0  \n",
              "76019       0  \n",
              "\n",
              "[76020 rows x 185 columns]"
            ],
            "text/html": [
              "\n",
              "  <div id=\"df-3cc578a6-6ed2-43b9-bffa-80586ed845e3\">\n",
              "    <div class=\"colab-df-container\">\n",
              "      <div>\n",
              "<style scoped>\n",
              "    .dataframe tbody tr th:only-of-type {\n",
              "        vertical-align: middle;\n",
              "    }\n",
              "\n",
              "    .dataframe tbody tr th {\n",
              "        vertical-align: top;\n",
              "    }\n",
              "\n",
              "    .dataframe thead th {\n",
              "        text-align: right;\n",
              "    }\n",
              "</style>\n",
              "<table border=\"1\" class=\"dataframe\">\n",
              "  <thead>\n",
              "    <tr style=\"text-align: right;\">\n",
              "      <th></th>\n",
              "      <th>var3</th>\n",
              "      <th>var15</th>\n",
              "      <th>imp_ent_var16_ult1</th>\n",
              "      <th>imp_op_var39_comer_ult1</th>\n",
              "      <th>imp_op_var39_comer_ult3</th>\n",
              "      <th>imp_op_var40_comer_ult1</th>\n",
              "      <th>imp_op_var40_comer_ult3</th>\n",
              "      <th>imp_op_var40_efect_ult3</th>\n",
              "      <th>imp_op_var40_ult1</th>\n",
              "      <th>imp_op_var41_comer_ult1</th>\n",
              "      <th>...</th>\n",
              "      <th>saldo_medio_var13_largo_hace2</th>\n",
              "      <th>saldo_medio_var13_largo_hace3</th>\n",
              "      <th>saldo_medio_var13_largo_ult1</th>\n",
              "      <th>saldo_medio_var33_hace2</th>\n",
              "      <th>saldo_medio_var44_hace2</th>\n",
              "      <th>saldo_medio_var44_ult1</th>\n",
              "      <th>saldo_medio_var44_ult3</th>\n",
              "      <th>var38</th>\n",
              "      <th>ID</th>\n",
              "      <th>TARGET</th>\n",
              "    </tr>\n",
              "  </thead>\n",
              "  <tbody>\n",
              "    <tr>\n",
              "      <th>0</th>\n",
              "      <td>2</td>\n",
              "      <td>23</td>\n",
              "      <td>0.0</td>\n",
              "      <td>0.0</td>\n",
              "      <td>0.0</td>\n",
              "      <td>0.0</td>\n",
              "      <td>0.0</td>\n",
              "      <td>0.0</td>\n",
              "      <td>0.0</td>\n",
              "      <td>0.0</td>\n",
              "      <td>...</td>\n",
              "      <td>0.0</td>\n",
              "      <td>0.0</td>\n",
              "      <td>0.0</td>\n",
              "      <td>0.0</td>\n",
              "      <td>0.0</td>\n",
              "      <td>0.0</td>\n",
              "      <td>0.0</td>\n",
              "      <td>39205.170000</td>\n",
              "      <td>1</td>\n",
              "      <td>0</td>\n",
              "    </tr>\n",
              "    <tr>\n",
              "      <th>1</th>\n",
              "      <td>2</td>\n",
              "      <td>34</td>\n",
              "      <td>0.0</td>\n",
              "      <td>0.0</td>\n",
              "      <td>0.0</td>\n",
              "      <td>0.0</td>\n",
              "      <td>0.0</td>\n",
              "      <td>0.0</td>\n",
              "      <td>0.0</td>\n",
              "      <td>0.0</td>\n",
              "      <td>...</td>\n",
              "      <td>0.0</td>\n",
              "      <td>0.0</td>\n",
              "      <td>0.0</td>\n",
              "      <td>0.0</td>\n",
              "      <td>0.0</td>\n",
              "      <td>0.0</td>\n",
              "      <td>0.0</td>\n",
              "      <td>49278.030000</td>\n",
              "      <td>3</td>\n",
              "      <td>0</td>\n",
              "    </tr>\n",
              "    <tr>\n",
              "      <th>2</th>\n",
              "      <td>2</td>\n",
              "      <td>23</td>\n",
              "      <td>0.0</td>\n",
              "      <td>0.0</td>\n",
              "      <td>0.0</td>\n",
              "      <td>0.0</td>\n",
              "      <td>0.0</td>\n",
              "      <td>0.0</td>\n",
              "      <td>0.0</td>\n",
              "      <td>0.0</td>\n",
              "      <td>...</td>\n",
              "      <td>0.0</td>\n",
              "      <td>0.0</td>\n",
              "      <td>0.0</td>\n",
              "      <td>0.0</td>\n",
              "      <td>0.0</td>\n",
              "      <td>0.0</td>\n",
              "      <td>0.0</td>\n",
              "      <td>67333.770000</td>\n",
              "      <td>4</td>\n",
              "      <td>0</td>\n",
              "    </tr>\n",
              "    <tr>\n",
              "      <th>3</th>\n",
              "      <td>2</td>\n",
              "      <td>37</td>\n",
              "      <td>0.0</td>\n",
              "      <td>195.0</td>\n",
              "      <td>195.0</td>\n",
              "      <td>0.0</td>\n",
              "      <td>0.0</td>\n",
              "      <td>0.0</td>\n",
              "      <td>0.0</td>\n",
              "      <td>195.0</td>\n",
              "      <td>...</td>\n",
              "      <td>0.0</td>\n",
              "      <td>0.0</td>\n",
              "      <td>0.0</td>\n",
              "      <td>0.0</td>\n",
              "      <td>0.0</td>\n",
              "      <td>0.0</td>\n",
              "      <td>0.0</td>\n",
              "      <td>64007.970000</td>\n",
              "      <td>8</td>\n",
              "      <td>0</td>\n",
              "    </tr>\n",
              "    <tr>\n",
              "      <th>4</th>\n",
              "      <td>2</td>\n",
              "      <td>39</td>\n",
              "      <td>0.0</td>\n",
              "      <td>0.0</td>\n",
              "      <td>0.0</td>\n",
              "      <td>0.0</td>\n",
              "      <td>0.0</td>\n",
              "      <td>0.0</td>\n",
              "      <td>0.0</td>\n",
              "      <td>0.0</td>\n",
              "      <td>...</td>\n",
              "      <td>0.0</td>\n",
              "      <td>0.0</td>\n",
              "      <td>0.0</td>\n",
              "      <td>0.0</td>\n",
              "      <td>0.0</td>\n",
              "      <td>0.0</td>\n",
              "      <td>0.0</td>\n",
              "      <td>117310.979016</td>\n",
              "      <td>10</td>\n",
              "      <td>0</td>\n",
              "    </tr>\n",
              "    <tr>\n",
              "      <th>...</th>\n",
              "      <td>...</td>\n",
              "      <td>...</td>\n",
              "      <td>...</td>\n",
              "      <td>...</td>\n",
              "      <td>...</td>\n",
              "      <td>...</td>\n",
              "      <td>...</td>\n",
              "      <td>...</td>\n",
              "      <td>...</td>\n",
              "      <td>...</td>\n",
              "      <td>...</td>\n",
              "      <td>...</td>\n",
              "      <td>...</td>\n",
              "      <td>...</td>\n",
              "      <td>...</td>\n",
              "      <td>...</td>\n",
              "      <td>...</td>\n",
              "      <td>...</td>\n",
              "      <td>...</td>\n",
              "      <td>...</td>\n",
              "      <td>...</td>\n",
              "    </tr>\n",
              "    <tr>\n",
              "      <th>76015</th>\n",
              "      <td>2</td>\n",
              "      <td>48</td>\n",
              "      <td>0.0</td>\n",
              "      <td>0.0</td>\n",
              "      <td>0.0</td>\n",
              "      <td>0.0</td>\n",
              "      <td>0.0</td>\n",
              "      <td>0.0</td>\n",
              "      <td>0.0</td>\n",
              "      <td>0.0</td>\n",
              "      <td>...</td>\n",
              "      <td>0.0</td>\n",
              "      <td>0.0</td>\n",
              "      <td>0.0</td>\n",
              "      <td>0.0</td>\n",
              "      <td>0.0</td>\n",
              "      <td>0.0</td>\n",
              "      <td>0.0</td>\n",
              "      <td>60926.490000</td>\n",
              "      <td>151829</td>\n",
              "      <td>0</td>\n",
              "    </tr>\n",
              "    <tr>\n",
              "      <th>76016</th>\n",
              "      <td>2</td>\n",
              "      <td>39</td>\n",
              "      <td>0.0</td>\n",
              "      <td>0.0</td>\n",
              "      <td>0.0</td>\n",
              "      <td>0.0</td>\n",
              "      <td>0.0</td>\n",
              "      <td>0.0</td>\n",
              "      <td>0.0</td>\n",
              "      <td>0.0</td>\n",
              "      <td>...</td>\n",
              "      <td>0.0</td>\n",
              "      <td>0.0</td>\n",
              "      <td>0.0</td>\n",
              "      <td>0.0</td>\n",
              "      <td>0.0</td>\n",
              "      <td>0.0</td>\n",
              "      <td>0.0</td>\n",
              "      <td>118634.520000</td>\n",
              "      <td>151830</td>\n",
              "      <td>0</td>\n",
              "    </tr>\n",
              "    <tr>\n",
              "      <th>76017</th>\n",
              "      <td>2</td>\n",
              "      <td>23</td>\n",
              "      <td>0.0</td>\n",
              "      <td>0.0</td>\n",
              "      <td>0.0</td>\n",
              "      <td>0.0</td>\n",
              "      <td>0.0</td>\n",
              "      <td>0.0</td>\n",
              "      <td>0.0</td>\n",
              "      <td>0.0</td>\n",
              "      <td>...</td>\n",
              "      <td>0.0</td>\n",
              "      <td>0.0</td>\n",
              "      <td>0.0</td>\n",
              "      <td>0.0</td>\n",
              "      <td>0.0</td>\n",
              "      <td>0.0</td>\n",
              "      <td>0.0</td>\n",
              "      <td>74028.150000</td>\n",
              "      <td>151835</td>\n",
              "      <td>0</td>\n",
              "    </tr>\n",
              "    <tr>\n",
              "      <th>76018</th>\n",
              "      <td>2</td>\n",
              "      <td>25</td>\n",
              "      <td>0.0</td>\n",
              "      <td>0.0</td>\n",
              "      <td>0.0</td>\n",
              "      <td>0.0</td>\n",
              "      <td>0.0</td>\n",
              "      <td>0.0</td>\n",
              "      <td>0.0</td>\n",
              "      <td>0.0</td>\n",
              "      <td>...</td>\n",
              "      <td>0.0</td>\n",
              "      <td>0.0</td>\n",
              "      <td>0.0</td>\n",
              "      <td>0.0</td>\n",
              "      <td>0.0</td>\n",
              "      <td>0.0</td>\n",
              "      <td>0.0</td>\n",
              "      <td>84278.160000</td>\n",
              "      <td>151836</td>\n",
              "      <td>0</td>\n",
              "    </tr>\n",
              "    <tr>\n",
              "      <th>76019</th>\n",
              "      <td>2</td>\n",
              "      <td>46</td>\n",
              "      <td>0.0</td>\n",
              "      <td>0.0</td>\n",
              "      <td>0.0</td>\n",
              "      <td>0.0</td>\n",
              "      <td>0.0</td>\n",
              "      <td>0.0</td>\n",
              "      <td>0.0</td>\n",
              "      <td>0.0</td>\n",
              "      <td>...</td>\n",
              "      <td>0.0</td>\n",
              "      <td>0.0</td>\n",
              "      <td>0.0</td>\n",
              "      <td>0.0</td>\n",
              "      <td>0.0</td>\n",
              "      <td>0.0</td>\n",
              "      <td>0.0</td>\n",
              "      <td>117310.979016</td>\n",
              "      <td>151838</td>\n",
              "      <td>0</td>\n",
              "    </tr>\n",
              "  </tbody>\n",
              "</table>\n",
              "<p>76020 rows × 185 columns</p>\n",
              "</div>\n",
              "      <button class=\"colab-df-convert\" onclick=\"convertToInteractive('df-3cc578a6-6ed2-43b9-bffa-80586ed845e3')\"\n",
              "              title=\"Convert this dataframe to an interactive table.\"\n",
              "              style=\"display:none;\">\n",
              "        \n",
              "  <svg xmlns=\"http://www.w3.org/2000/svg\" height=\"24px\"viewBox=\"0 0 24 24\"\n",
              "       width=\"24px\">\n",
              "    <path d=\"M0 0h24v24H0V0z\" fill=\"none\"/>\n",
              "    <path d=\"M18.56 5.44l.94 2.06.94-2.06 2.06-.94-2.06-.94-.94-2.06-.94 2.06-2.06.94zm-11 1L8.5 8.5l.94-2.06 2.06-.94-2.06-.94L8.5 2.5l-.94 2.06-2.06.94zm10 10l.94 2.06.94-2.06 2.06-.94-2.06-.94-.94-2.06-.94 2.06-2.06.94z\"/><path d=\"M17.41 7.96l-1.37-1.37c-.4-.4-.92-.59-1.43-.59-.52 0-1.04.2-1.43.59L10.3 9.45l-7.72 7.72c-.78.78-.78 2.05 0 2.83L4 21.41c.39.39.9.59 1.41.59.51 0 1.02-.2 1.41-.59l7.78-7.78 2.81-2.81c.8-.78.8-2.07 0-2.86zM5.41 20L4 18.59l7.72-7.72 1.47 1.35L5.41 20z\"/>\n",
              "  </svg>\n",
              "      </button>\n",
              "      \n",
              "  <style>\n",
              "    .colab-df-container {\n",
              "      display:flex;\n",
              "      flex-wrap:wrap;\n",
              "      gap: 12px;\n",
              "    }\n",
              "\n",
              "    .colab-df-convert {\n",
              "      background-color: #E8F0FE;\n",
              "      border: none;\n",
              "      border-radius: 50%;\n",
              "      cursor: pointer;\n",
              "      display: none;\n",
              "      fill: #1967D2;\n",
              "      height: 32px;\n",
              "      padding: 0 0 0 0;\n",
              "      width: 32px;\n",
              "    }\n",
              "\n",
              "    .colab-df-convert:hover {\n",
              "      background-color: #E2EBFA;\n",
              "      box-shadow: 0px 1px 2px rgba(60, 64, 67, 0.3), 0px 1px 3px 1px rgba(60, 64, 67, 0.15);\n",
              "      fill: #174EA6;\n",
              "    }\n",
              "\n",
              "    [theme=dark] .colab-df-convert {\n",
              "      background-color: #3B4455;\n",
              "      fill: #D2E3FC;\n",
              "    }\n",
              "\n",
              "    [theme=dark] .colab-df-convert:hover {\n",
              "      background-color: #434B5C;\n",
              "      box-shadow: 0px 1px 3px 1px rgba(0, 0, 0, 0.15);\n",
              "      filter: drop-shadow(0px 1px 2px rgba(0, 0, 0, 0.3));\n",
              "      fill: #FFFFFF;\n",
              "    }\n",
              "  </style>\n",
              "\n",
              "      <script>\n",
              "        const buttonEl =\n",
              "          document.querySelector('#df-3cc578a6-6ed2-43b9-bffa-80586ed845e3 button.colab-df-convert');\n",
              "        buttonEl.style.display =\n",
              "          google.colab.kernel.accessAllowed ? 'block' : 'none';\n",
              "\n",
              "        async function convertToInteractive(key) {\n",
              "          const element = document.querySelector('#df-3cc578a6-6ed2-43b9-bffa-80586ed845e3');\n",
              "          const dataTable =\n",
              "            await google.colab.kernel.invokeFunction('convertToInteractive',\n",
              "                                                     [key], {});\n",
              "          if (!dataTable) return;\n",
              "\n",
              "          const docLinkHtml = 'Like what you see? Visit the ' +\n",
              "            '<a target=\"_blank\" href=https://colab.research.google.com/notebooks/data_table.ipynb>data table notebook</a>'\n",
              "            + ' to learn more about interactive tables.';\n",
              "          element.innerHTML = '';\n",
              "          dataTable['output_type'] = 'display_data';\n",
              "          await google.colab.output.renderOutput(dataTable, element);\n",
              "          const docLink = document.createElement('div');\n",
              "          docLink.innerHTML = docLinkHtml;\n",
              "          element.appendChild(docLink);\n",
              "        }\n",
              "      </script>\n",
              "    </div>\n",
              "  </div>\n",
              "  "
            ]
          },
          "metadata": {},
          "execution_count": 75
        }
      ]
    },
    {
      "cell_type": "code",
      "source": [
        "X_train_rok.to_csv('X_train_rok.csv')"
      ],
      "metadata": {
        "id": "9II8_DFq5DyE"
      },
      "execution_count": 77,
      "outputs": []
    },
    {
      "cell_type": "markdown",
      "source": [
        "---------"
      ],
      "metadata": {
        "id": "FpzGUhoTgrI_"
      }
    },
    {
      "cell_type": "code",
      "source": [
        "sample.dropna(subset=[\"TARGET\"], axis=0, inplace=True)"
      ],
      "metadata": {
        "id": "29-w3k9h4V8U"
      },
      "execution_count": null,
      "outputs": []
    },
    {
      "cell_type": "code",
      "source": [
        "sample = sample.astype({'TARGET':'int'})"
      ],
      "metadata": {
        "id": "9atR8ybI6T1a"
      },
      "execution_count": null,
      "outputs": []
    },
    {
      "cell_type": "code",
      "source": [
        "sample[\"TARGET\"].fillna(0, inplace=True)"
      ],
      "metadata": {
        "id": "f7Xok52L4NMl"
      },
      "execution_count": null,
      "outputs": []
    }
  ]
}